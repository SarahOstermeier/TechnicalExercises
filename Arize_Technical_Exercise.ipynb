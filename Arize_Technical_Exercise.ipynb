{
  "nbformat": 4,
  "nbformat_minor": 0,
  "metadata": {
    "colab": {
      "provenance": [],
      "mount_file_id": "1MpN1JW0Z43T02M-qgZNGAZG8CPrqMhNa",
      "authorship_tag": "ABX9TyMZI5U/oInwyUlK2YHWFUky",
      "include_colab_link": true
    },
    "kernelspec": {
      "name": "python3",
      "display_name": "Python 3"
    },
    "language_info": {
      "name": "python"
    }
  },
  "cells": [
    {
      "cell_type": "markdown",
      "metadata": {
        "id": "view-in-github",
        "colab_type": "text"
      },
      "source": [
        "<a href=\"https://colab.research.google.com/github/SarahOstermeier/TechnicalExercises/blob/main/Arize_Technical_Exercise.ipynb\" target=\"_parent\"><img src=\"https://colab.research.google.com/assets/colab-badge.svg\" alt=\"Open In Colab\"/></a>"
      ]
    },
    {
      "cell_type": "markdown",
      "source": [
        "# Planning\n",
        "\n",
        "**Objective:**  Build a RAG application\n",
        "\n",
        "## Approach\n",
        "\n",
        "**Format:** Jupyter Notebook (Google Colab)  \n",
        "**Stretch Goal:** Optimize performance (primary), Build UX (secondary)  \n",
        "**Framework:** Langchain or DSPy  \n",
        "**LLM Provider:** Huggingface or Mistral  \n",
        "**Dataset:** [OpenStax](https://openstax.org/subjects)\n",
        "\n",
        "****\n",
        "\n",
        "## Requirements\n",
        "\n",
        "**A working RAG app with some interface for Q&A**  \n",
        "* ~75-80% of the time, 2-3 hours <br>\n",
        "\n",
        "\n",
        "**Thorough documentation**  \n",
        "\n",
        "* Clear setup instructions - make it so anyone can follow in your footsteps\n",
        "* Tell us why you picked your tools\n",
        "* Share what worked, what didn't, and how you dealt with it\n",
        "* What would you do next if you had more time?\n",
        "* ~20-25% of your time, 1 hour\n",
        "\n",
        "****\n",
        "\n",
        "## Tips\n",
        "\n",
        "* Use those quickstart tools - no need to reinvent the wheel\n",
        "* Document as you go - future you will thank you\n",
        "* LLMs are your friend here, don’t be afraid to use them to help, just be sure you take the time to really understand what they tell you.\n",
        "* Hit a wall? Don't spin your wheels - reach out!\n",
        "* Keep it focused - better to nail the basics than half-finish three extra features"
      ],
      "metadata": {
        "id": "rnvVjlbV2yqp"
      }
    },
    {
      "cell_type": "markdown",
      "source": [
        "# How to run this notebook"
      ],
      "metadata": {
        "id": "i8JPcqF0NNeC"
      }
    },
    {
      "cell_type": "markdown",
      "source": [
        "# My process\n",
        "\n",
        "## Planning\n",
        "\n",
        "### Appraoch and Tools\n",
        "* I decided to work in Google Colab since it is a tool I am familiar with and will allow me to get started quickly without much setup.\n",
        "* As my RAG framework I chose DSPy, as I'm interested interested in trying out DSPy Optimizers and thought this would be a good opportunity to do so.  \n",
        "* Related to the above, my stretch goal is to optimize performance.\n",
        "* I'll be using Mistral as my LLM provider, as I already have an account set up and can access it easily.\n",
        "\n",
        "### Use Case and Dataset Selection\n",
        "I started a project on Claude and provided the exercise instructions and the Jupyter Notebook I started as project content. I used Claude to brainstorm project ideas and related datasets and eventually decided to build a RAG tool to query textbooks, using documents from [OpenStax](https://openstax.org/subjects) as my dataset.\n",
        "\n",
        "\n"
      ],
      "metadata": {
        "id": "6y57z-iJJnGR"
      }
    },
    {
      "cell_type": "markdown",
      "source": [
        "# Environment set up"
      ],
      "metadata": {
        "id": "C3Xx0TJmNVba"
      }
    },
    {
      "cell_type": "markdown",
      "source": [
        "## Install and import relevant libraries\n",
        "\n",
        "[**DSPy:**](https://dspy.ai/) Framework for RAG application\n",
        "\n",
        "**PyDF2:** Extract text from PDFs\n",
        "\n",
        "**Langchain:** Use the RecursiveCharacterTextSplitter for document chunking\n",
        "\n",
        "**chromadb:** vector database\n",
        "\n"
      ],
      "metadata": {
        "id": "6ctR71kIIQ-M"
      }
    },
    {
      "cell_type": "code",
      "source": [
        "!pip install PyPDF2\n",
        "!pip install dspy\n",
        "!pip install langchain\n",
        "!pip install chromadb"
      ],
      "metadata": {
        "colab": {
          "base_uri": "https://localhost:8080/"
        },
        "id": "qCeCZQaDUF57",
        "outputId": "74e53460-deb2-4a3a-9c03-07c2df7d998e"
      },
      "execution_count": 1,
      "outputs": [
        {
          "output_type": "stream",
          "name": "stdout",
          "text": [
            "Requirement already satisfied: PyPDF2 in /usr/local/lib/python3.11/dist-packages (3.0.1)\n",
            "Requirement already satisfied: dspy in /usr/local/lib/python3.11/dist-packages (2.6.10)\n",
            "Requirement already satisfied: backoff in /usr/local/lib/python3.11/dist-packages (from dspy) (2.2.1)\n",
            "Requirement already satisfied: joblib~=1.3 in /usr/local/lib/python3.11/dist-packages (from dspy) (1.4.2)\n",
            "Requirement already satisfied: openai in /usr/local/lib/python3.11/dist-packages (from dspy) (1.61.1)\n",
            "Requirement already satisfied: pandas in /usr/local/lib/python3.11/dist-packages (from dspy) (2.2.2)\n",
            "Requirement already satisfied: regex in /usr/local/lib/python3.11/dist-packages (from dspy) (2024.11.6)\n",
            "Requirement already satisfied: ujson in /usr/local/lib/python3.11/dist-packages (from dspy) (5.10.0)\n",
            "Requirement already satisfied: tqdm in /usr/local/lib/python3.11/dist-packages (from dspy) (4.67.1)\n",
            "Requirement already satisfied: datasets<3.0.0,>=2.14.6 in /usr/local/lib/python3.11/dist-packages (from dspy) (2.21.0)\n",
            "Requirement already satisfied: requests in /usr/local/lib/python3.11/dist-packages (from dspy) (2.32.3)\n",
            "Requirement already satisfied: optuna in /usr/local/lib/python3.11/dist-packages (from dspy) (4.2.1)\n",
            "Requirement already satisfied: pydantic~=2.0 in /usr/local/lib/python3.11/dist-packages (from dspy) (2.10.6)\n",
            "Requirement already satisfied: jinja2 in /usr/local/lib/python3.11/dist-packages (from dspy) (3.1.5)\n",
            "Requirement already satisfied: magicattr~=0.1.6 in /usr/local/lib/python3.11/dist-packages (from dspy) (0.1.6)\n",
            "Requirement already satisfied: litellm<2.0.0,>=1.59.8 in /usr/local/lib/python3.11/dist-packages (from dspy) (1.62.1)\n",
            "Requirement already satisfied: diskcache in /usr/local/lib/python3.11/dist-packages (from dspy) (5.6.3)\n",
            "Requirement already satisfied: json-repair in /usr/local/lib/python3.11/dist-packages (from dspy) (0.39.1)\n",
            "Requirement already satisfied: tenacity>=8.2.3 in /usr/local/lib/python3.11/dist-packages (from dspy) (9.0.0)\n",
            "Requirement already satisfied: anyio in /usr/local/lib/python3.11/dist-packages (from dspy) (3.7.1)\n",
            "Requirement already satisfied: asyncer==0.0.8 in /usr/local/lib/python3.11/dist-packages (from dspy) (0.0.8)\n",
            "Requirement already satisfied: cachetools in /usr/local/lib/python3.11/dist-packages (from dspy) (5.5.2)\n",
            "Requirement already satisfied: cloudpickle in /usr/local/lib/python3.11/dist-packages (from dspy) (3.1.1)\n",
            "Requirement already satisfied: idna>=2.8 in /usr/local/lib/python3.11/dist-packages (from anyio->dspy) (3.10)\n",
            "Requirement already satisfied: sniffio>=1.1 in /usr/local/lib/python3.11/dist-packages (from anyio->dspy) (1.3.1)\n",
            "Requirement already satisfied: filelock in /usr/local/lib/python3.11/dist-packages (from datasets<3.0.0,>=2.14.6->dspy) (3.17.0)\n",
            "Requirement already satisfied: numpy>=1.17 in /usr/local/lib/python3.11/dist-packages (from datasets<3.0.0,>=2.14.6->dspy) (1.26.4)\n",
            "Requirement already satisfied: pyarrow>=15.0.0 in /usr/local/lib/python3.11/dist-packages (from datasets<3.0.0,>=2.14.6->dspy) (18.1.0)\n",
            "Requirement already satisfied: dill<0.3.9,>=0.3.0 in /usr/local/lib/python3.11/dist-packages (from datasets<3.0.0,>=2.14.6->dspy) (0.3.8)\n",
            "Requirement already satisfied: xxhash in /usr/local/lib/python3.11/dist-packages (from datasets<3.0.0,>=2.14.6->dspy) (3.5.0)\n",
            "Requirement already satisfied: multiprocess in /usr/local/lib/python3.11/dist-packages (from datasets<3.0.0,>=2.14.6->dspy) (0.70.16)\n",
            "Requirement already satisfied: fsspec<=2024.6.1,>=2023.1.0 in /usr/local/lib/python3.11/dist-packages (from fsspec[http]<=2024.6.1,>=2023.1.0->datasets<3.0.0,>=2.14.6->dspy) (2024.6.1)\n",
            "Requirement already satisfied: aiohttp in /usr/local/lib/python3.11/dist-packages (from datasets<3.0.0,>=2.14.6->dspy) (3.11.13)\n",
            "Requirement already satisfied: huggingface-hub>=0.21.2 in /usr/local/lib/python3.11/dist-packages (from datasets<3.0.0,>=2.14.6->dspy) (0.28.1)\n",
            "Requirement already satisfied: packaging in /usr/local/lib/python3.11/dist-packages (from datasets<3.0.0,>=2.14.6->dspy) (24.2)\n",
            "Requirement already satisfied: pyyaml>=5.1 in /usr/local/lib/python3.11/dist-packages (from datasets<3.0.0,>=2.14.6->dspy) (6.0.2)\n",
            "Requirement already satisfied: click in /usr/local/lib/python3.11/dist-packages (from litellm<2.0.0,>=1.59.8->dspy) (8.1.8)\n",
            "Requirement already satisfied: httpx>=0.23.0 in /usr/local/lib/python3.11/dist-packages (from litellm<2.0.0,>=1.59.8->dspy) (0.28.1)\n",
            "Requirement already satisfied: importlib-metadata>=6.8.0 in /usr/local/lib/python3.11/dist-packages (from litellm<2.0.0,>=1.59.8->dspy) (8.5.0)\n",
            "Requirement already satisfied: jsonschema<5.0.0,>=4.22.0 in /usr/local/lib/python3.11/dist-packages (from litellm<2.0.0,>=1.59.8->dspy) (4.23.0)\n",
            "Requirement already satisfied: python-dotenv>=0.2.0 in /usr/local/lib/python3.11/dist-packages (from litellm<2.0.0,>=1.59.8->dspy) (1.0.1)\n",
            "Requirement already satisfied: tiktoken>=0.7.0 in /usr/local/lib/python3.11/dist-packages (from litellm<2.0.0,>=1.59.8->dspy) (0.9.0)\n",
            "Requirement already satisfied: tokenizers in /usr/local/lib/python3.11/dist-packages (from litellm<2.0.0,>=1.59.8->dspy) (0.21.0)\n",
            "Requirement already satisfied: MarkupSafe>=2.0 in /usr/local/lib/python3.11/dist-packages (from jinja2->dspy) (3.0.2)\n",
            "Requirement already satisfied: distro<2,>=1.7.0 in /usr/local/lib/python3.11/dist-packages (from openai->dspy) (1.9.0)\n",
            "Requirement already satisfied: jiter<1,>=0.4.0 in /usr/local/lib/python3.11/dist-packages (from openai->dspy) (0.8.2)\n",
            "Requirement already satisfied: typing-extensions<5,>=4.11 in /usr/local/lib/python3.11/dist-packages (from openai->dspy) (4.12.2)\n",
            "Requirement already satisfied: annotated-types>=0.6.0 in /usr/local/lib/python3.11/dist-packages (from pydantic~=2.0->dspy) (0.7.0)\n",
            "Requirement already satisfied: pydantic-core==2.27.2 in /usr/local/lib/python3.11/dist-packages (from pydantic~=2.0->dspy) (2.27.2)\n",
            "Requirement already satisfied: charset-normalizer<4,>=2 in /usr/local/lib/python3.11/dist-packages (from requests->dspy) (3.4.1)\n",
            "Requirement already satisfied: urllib3<3,>=1.21.1 in /usr/local/lib/python3.11/dist-packages (from requests->dspy) (2.3.0)\n",
            "Requirement already satisfied: certifi>=2017.4.17 in /usr/local/lib/python3.11/dist-packages (from requests->dspy) (2025.1.31)\n",
            "Requirement already satisfied: alembic>=1.5.0 in /usr/local/lib/python3.11/dist-packages (from optuna->dspy) (1.15.1)\n",
            "Requirement already satisfied: colorlog in /usr/local/lib/python3.11/dist-packages (from optuna->dspy) (6.9.0)\n",
            "Requirement already satisfied: sqlalchemy>=1.4.2 in /usr/local/lib/python3.11/dist-packages (from optuna->dspy) (2.0.38)\n",
            "Requirement already satisfied: python-dateutil>=2.8.2 in /usr/local/lib/python3.11/dist-packages (from pandas->dspy) (2.8.2)\n",
            "Requirement already satisfied: pytz>=2020.1 in /usr/local/lib/python3.11/dist-packages (from pandas->dspy) (2025.1)\n",
            "Requirement already satisfied: tzdata>=2022.7 in /usr/local/lib/python3.11/dist-packages (from pandas->dspy) (2025.1)\n",
            "Requirement already satisfied: Mako in /usr/local/lib/python3.11/dist-packages (from alembic>=1.5.0->optuna->dspy) (1.3.9)\n",
            "Requirement already satisfied: aiohappyeyeballs>=2.3.0 in /usr/local/lib/python3.11/dist-packages (from aiohttp->datasets<3.0.0,>=2.14.6->dspy) (2.4.6)\n",
            "Requirement already satisfied: aiosignal>=1.1.2 in /usr/local/lib/python3.11/dist-packages (from aiohttp->datasets<3.0.0,>=2.14.6->dspy) (1.3.2)\n",
            "Requirement already satisfied: attrs>=17.3.0 in /usr/local/lib/python3.11/dist-packages (from aiohttp->datasets<3.0.0,>=2.14.6->dspy) (25.1.0)\n",
            "Requirement already satisfied: frozenlist>=1.1.1 in /usr/local/lib/python3.11/dist-packages (from aiohttp->datasets<3.0.0,>=2.14.6->dspy) (1.5.0)\n",
            "Requirement already satisfied: multidict<7.0,>=4.5 in /usr/local/lib/python3.11/dist-packages (from aiohttp->datasets<3.0.0,>=2.14.6->dspy) (6.1.0)\n",
            "Requirement already satisfied: propcache>=0.2.0 in /usr/local/lib/python3.11/dist-packages (from aiohttp->datasets<3.0.0,>=2.14.6->dspy) (0.3.0)\n",
            "Requirement already satisfied: yarl<2.0,>=1.17.0 in /usr/local/lib/python3.11/dist-packages (from aiohttp->datasets<3.0.0,>=2.14.6->dspy) (1.18.3)\n",
            "Requirement already satisfied: httpcore==1.* in /usr/local/lib/python3.11/dist-packages (from httpx>=0.23.0->litellm<2.0.0,>=1.59.8->dspy) (1.0.7)\n",
            "Requirement already satisfied: h11<0.15,>=0.13 in /usr/local/lib/python3.11/dist-packages (from httpcore==1.*->httpx>=0.23.0->litellm<2.0.0,>=1.59.8->dspy) (0.14.0)\n",
            "Requirement already satisfied: zipp>=3.20 in /usr/local/lib/python3.11/dist-packages (from importlib-metadata>=6.8.0->litellm<2.0.0,>=1.59.8->dspy) (3.21.0)\n",
            "Requirement already satisfied: jsonschema-specifications>=2023.03.6 in /usr/local/lib/python3.11/dist-packages (from jsonschema<5.0.0,>=4.22.0->litellm<2.0.0,>=1.59.8->dspy) (2024.10.1)\n",
            "Requirement already satisfied: referencing>=0.28.4 in /usr/local/lib/python3.11/dist-packages (from jsonschema<5.0.0,>=4.22.0->litellm<2.0.0,>=1.59.8->dspy) (0.36.2)\n",
            "Requirement already satisfied: rpds-py>=0.7.1 in /usr/local/lib/python3.11/dist-packages (from jsonschema<5.0.0,>=4.22.0->litellm<2.0.0,>=1.59.8->dspy) (0.23.1)\n",
            "Requirement already satisfied: six>=1.5 in /usr/local/lib/python3.11/dist-packages (from python-dateutil>=2.8.2->pandas->dspy) (1.17.0)\n",
            "Requirement already satisfied: greenlet!=0.4.17 in /usr/local/lib/python3.11/dist-packages (from sqlalchemy>=1.4.2->optuna->dspy) (3.1.1)\n",
            "Requirement already satisfied: langchain in /usr/local/lib/python3.11/dist-packages (0.3.19)\n",
            "Requirement already satisfied: langchain-core<1.0.0,>=0.3.35 in /usr/local/lib/python3.11/dist-packages (from langchain) (0.3.40)\n",
            "Requirement already satisfied: langchain-text-splitters<1.0.0,>=0.3.6 in /usr/local/lib/python3.11/dist-packages (from langchain) (0.3.6)\n",
            "Requirement already satisfied: langsmith<0.4,>=0.1.17 in /usr/local/lib/python3.11/dist-packages (from langchain) (0.3.11)\n",
            "Requirement already satisfied: pydantic<3.0.0,>=2.7.4 in /usr/local/lib/python3.11/dist-packages (from langchain) (2.10.6)\n",
            "Requirement already satisfied: SQLAlchemy<3,>=1.4 in /usr/local/lib/python3.11/dist-packages (from langchain) (2.0.38)\n",
            "Requirement already satisfied: requests<3,>=2 in /usr/local/lib/python3.11/dist-packages (from langchain) (2.32.3)\n",
            "Requirement already satisfied: PyYAML>=5.3 in /usr/local/lib/python3.11/dist-packages (from langchain) (6.0.2)\n",
            "Requirement already satisfied: aiohttp<4.0.0,>=3.8.3 in /usr/local/lib/python3.11/dist-packages (from langchain) (3.11.13)\n",
            "Requirement already satisfied: tenacity!=8.4.0,<10,>=8.1.0 in /usr/local/lib/python3.11/dist-packages (from langchain) (9.0.0)\n",
            "Requirement already satisfied: numpy<2,>=1.26.4 in /usr/local/lib/python3.11/dist-packages (from langchain) (1.26.4)\n",
            "Requirement already satisfied: aiohappyeyeballs>=2.3.0 in /usr/local/lib/python3.11/dist-packages (from aiohttp<4.0.0,>=3.8.3->langchain) (2.4.6)\n",
            "Requirement already satisfied: aiosignal>=1.1.2 in /usr/local/lib/python3.11/dist-packages (from aiohttp<4.0.0,>=3.8.3->langchain) (1.3.2)\n",
            "Requirement already satisfied: attrs>=17.3.0 in /usr/local/lib/python3.11/dist-packages (from aiohttp<4.0.0,>=3.8.3->langchain) (25.1.0)\n",
            "Requirement already satisfied: frozenlist>=1.1.1 in /usr/local/lib/python3.11/dist-packages (from aiohttp<4.0.0,>=3.8.3->langchain) (1.5.0)\n",
            "Requirement already satisfied: multidict<7.0,>=4.5 in /usr/local/lib/python3.11/dist-packages (from aiohttp<4.0.0,>=3.8.3->langchain) (6.1.0)\n",
            "Requirement already satisfied: propcache>=0.2.0 in /usr/local/lib/python3.11/dist-packages (from aiohttp<4.0.0,>=3.8.3->langchain) (0.3.0)\n",
            "Requirement already satisfied: yarl<2.0,>=1.17.0 in /usr/local/lib/python3.11/dist-packages (from aiohttp<4.0.0,>=3.8.3->langchain) (1.18.3)\n",
            "Requirement already satisfied: jsonpatch<2.0,>=1.33 in /usr/local/lib/python3.11/dist-packages (from langchain-core<1.0.0,>=0.3.35->langchain) (1.33)\n",
            "Requirement already satisfied: packaging<25,>=23.2 in /usr/local/lib/python3.11/dist-packages (from langchain-core<1.0.0,>=0.3.35->langchain) (24.2)\n",
            "Requirement already satisfied: typing-extensions>=4.7 in /usr/local/lib/python3.11/dist-packages (from langchain-core<1.0.0,>=0.3.35->langchain) (4.12.2)\n",
            "Requirement already satisfied: httpx<1,>=0.23.0 in /usr/local/lib/python3.11/dist-packages (from langsmith<0.4,>=0.1.17->langchain) (0.28.1)\n",
            "Requirement already satisfied: orjson<4.0.0,>=3.9.14 in /usr/local/lib/python3.11/dist-packages (from langsmith<0.4,>=0.1.17->langchain) (3.10.15)\n",
            "Requirement already satisfied: requests-toolbelt<2.0.0,>=1.0.0 in /usr/local/lib/python3.11/dist-packages (from langsmith<0.4,>=0.1.17->langchain) (1.0.0)\n",
            "Requirement already satisfied: zstandard<0.24.0,>=0.23.0 in /usr/local/lib/python3.11/dist-packages (from langsmith<0.4,>=0.1.17->langchain) (0.23.0)\n",
            "Requirement already satisfied: annotated-types>=0.6.0 in /usr/local/lib/python3.11/dist-packages (from pydantic<3.0.0,>=2.7.4->langchain) (0.7.0)\n",
            "Requirement already satisfied: pydantic-core==2.27.2 in /usr/local/lib/python3.11/dist-packages (from pydantic<3.0.0,>=2.7.4->langchain) (2.27.2)\n",
            "Requirement already satisfied: charset-normalizer<4,>=2 in /usr/local/lib/python3.11/dist-packages (from requests<3,>=2->langchain) (3.4.1)\n",
            "Requirement already satisfied: idna<4,>=2.5 in /usr/local/lib/python3.11/dist-packages (from requests<3,>=2->langchain) (3.10)\n",
            "Requirement already satisfied: urllib3<3,>=1.21.1 in /usr/local/lib/python3.11/dist-packages (from requests<3,>=2->langchain) (2.3.0)\n",
            "Requirement already satisfied: certifi>=2017.4.17 in /usr/local/lib/python3.11/dist-packages (from requests<3,>=2->langchain) (2025.1.31)\n",
            "Requirement already satisfied: greenlet!=0.4.17 in /usr/local/lib/python3.11/dist-packages (from SQLAlchemy<3,>=1.4->langchain) (3.1.1)\n",
            "Requirement already satisfied: anyio in /usr/local/lib/python3.11/dist-packages (from httpx<1,>=0.23.0->langsmith<0.4,>=0.1.17->langchain) (3.7.1)\n",
            "Requirement already satisfied: httpcore==1.* in /usr/local/lib/python3.11/dist-packages (from httpx<1,>=0.23.0->langsmith<0.4,>=0.1.17->langchain) (1.0.7)\n",
            "Requirement already satisfied: h11<0.15,>=0.13 in /usr/local/lib/python3.11/dist-packages (from httpcore==1.*->httpx<1,>=0.23.0->langsmith<0.4,>=0.1.17->langchain) (0.14.0)\n",
            "Requirement already satisfied: jsonpointer>=1.9 in /usr/local/lib/python3.11/dist-packages (from jsonpatch<2.0,>=1.33->langchain-core<1.0.0,>=0.3.35->langchain) (3.0.0)\n",
            "Requirement already satisfied: sniffio>=1.1 in /usr/local/lib/python3.11/dist-packages (from anyio->httpx<1,>=0.23.0->langsmith<0.4,>=0.1.17->langchain) (1.3.1)\n",
            "Requirement already satisfied: chromadb in /usr/local/lib/python3.11/dist-packages (0.6.3)\n",
            "Requirement already satisfied: build>=1.0.3 in /usr/local/lib/python3.11/dist-packages (from chromadb) (1.2.2.post1)\n",
            "Requirement already satisfied: pydantic>=1.9 in /usr/local/lib/python3.11/dist-packages (from chromadb) (2.10.6)\n",
            "Requirement already satisfied: chroma-hnswlib==0.7.6 in /usr/local/lib/python3.11/dist-packages (from chromadb) (0.7.6)\n",
            "Requirement already satisfied: fastapi>=0.95.2 in /usr/local/lib/python3.11/dist-packages (from chromadb) (0.115.11)\n",
            "Requirement already satisfied: uvicorn>=0.18.3 in /usr/local/lib/python3.11/dist-packages (from uvicorn[standard]>=0.18.3->chromadb) (0.34.0)\n",
            "Requirement already satisfied: numpy>=1.22.5 in /usr/local/lib/python3.11/dist-packages (from chromadb) (1.26.4)\n",
            "Requirement already satisfied: posthog>=2.4.0 in /usr/local/lib/python3.11/dist-packages (from chromadb) (3.18.1)\n",
            "Requirement already satisfied: typing_extensions>=4.5.0 in /usr/local/lib/python3.11/dist-packages (from chromadb) (4.12.2)\n",
            "Requirement already satisfied: onnxruntime>=1.14.1 in /usr/local/lib/python3.11/dist-packages (from chromadb) (1.20.1)\n",
            "Requirement already satisfied: opentelemetry-api>=1.2.0 in /usr/local/lib/python3.11/dist-packages (from chromadb) (1.30.0)\n",
            "Requirement already satisfied: opentelemetry-exporter-otlp-proto-grpc>=1.2.0 in /usr/local/lib/python3.11/dist-packages (from chromadb) (1.30.0)\n",
            "Requirement already satisfied: opentelemetry-instrumentation-fastapi>=0.41b0 in /usr/local/lib/python3.11/dist-packages (from chromadb) (0.51b0)\n",
            "Requirement already satisfied: opentelemetry-sdk>=1.2.0 in /usr/local/lib/python3.11/dist-packages (from chromadb) (1.30.0)\n",
            "Requirement already satisfied: tokenizers>=0.13.2 in /usr/local/lib/python3.11/dist-packages (from chromadb) (0.21.0)\n",
            "Requirement already satisfied: pypika>=0.48.9 in /usr/local/lib/python3.11/dist-packages (from chromadb) (0.48.9)\n",
            "Requirement already satisfied: tqdm>=4.65.0 in /usr/local/lib/python3.11/dist-packages (from chromadb) (4.67.1)\n",
            "Requirement already satisfied: overrides>=7.3.1 in /usr/local/lib/python3.11/dist-packages (from chromadb) (7.7.0)\n",
            "Requirement already satisfied: importlib-resources in /usr/local/lib/python3.11/dist-packages (from chromadb) (6.5.2)\n",
            "Requirement already satisfied: grpcio>=1.58.0 in /usr/local/lib/python3.11/dist-packages (from chromadb) (1.70.0)\n",
            "Requirement already satisfied: bcrypt>=4.0.1 in /usr/local/lib/python3.11/dist-packages (from chromadb) (4.3.0)\n",
            "Requirement already satisfied: typer>=0.9.0 in /usr/local/lib/python3.11/dist-packages (from chromadb) (0.15.1)\n",
            "Requirement already satisfied: kubernetes>=28.1.0 in /usr/local/lib/python3.11/dist-packages (from chromadb) (32.0.1)\n",
            "Requirement already satisfied: tenacity>=8.2.3 in /usr/local/lib/python3.11/dist-packages (from chromadb) (9.0.0)\n",
            "Requirement already satisfied: PyYAML>=6.0.0 in /usr/local/lib/python3.11/dist-packages (from chromadb) (6.0.2)\n",
            "Requirement already satisfied: mmh3>=4.0.1 in /usr/local/lib/python3.11/dist-packages (from chromadb) (5.1.0)\n",
            "Requirement already satisfied: orjson>=3.9.12 in /usr/local/lib/python3.11/dist-packages (from chromadb) (3.10.15)\n",
            "Requirement already satisfied: httpx>=0.27.0 in /usr/local/lib/python3.11/dist-packages (from chromadb) (0.28.1)\n",
            "Requirement already satisfied: rich>=10.11.0 in /usr/local/lib/python3.11/dist-packages (from chromadb) (13.9.4)\n",
            "Requirement already satisfied: packaging>=19.1 in /usr/local/lib/python3.11/dist-packages (from build>=1.0.3->chromadb) (24.2)\n",
            "Requirement already satisfied: pyproject_hooks in /usr/local/lib/python3.11/dist-packages (from build>=1.0.3->chromadb) (1.2.0)\n",
            "Requirement already satisfied: starlette<0.47.0,>=0.40.0 in /usr/local/lib/python3.11/dist-packages (from fastapi>=0.95.2->chromadb) (0.46.0)\n",
            "Requirement already satisfied: anyio in /usr/local/lib/python3.11/dist-packages (from httpx>=0.27.0->chromadb) (3.7.1)\n",
            "Requirement already satisfied: certifi in /usr/local/lib/python3.11/dist-packages (from httpx>=0.27.0->chromadb) (2025.1.31)\n",
            "Requirement already satisfied: httpcore==1.* in /usr/local/lib/python3.11/dist-packages (from httpx>=0.27.0->chromadb) (1.0.7)\n",
            "Requirement already satisfied: idna in /usr/local/lib/python3.11/dist-packages (from httpx>=0.27.0->chromadb) (3.10)\n",
            "Requirement already satisfied: h11<0.15,>=0.13 in /usr/local/lib/python3.11/dist-packages (from httpcore==1.*->httpx>=0.27.0->chromadb) (0.14.0)\n",
            "Requirement already satisfied: six>=1.9.0 in /usr/local/lib/python3.11/dist-packages (from kubernetes>=28.1.0->chromadb) (1.17.0)\n",
            "Requirement already satisfied: python-dateutil>=2.5.3 in /usr/local/lib/python3.11/dist-packages (from kubernetes>=28.1.0->chromadb) (2.8.2)\n",
            "Requirement already satisfied: google-auth>=1.0.1 in /usr/local/lib/python3.11/dist-packages (from kubernetes>=28.1.0->chromadb) (2.38.0)\n",
            "Requirement already satisfied: websocket-client!=0.40.0,!=0.41.*,!=0.42.*,>=0.32.0 in /usr/local/lib/python3.11/dist-packages (from kubernetes>=28.1.0->chromadb) (1.8.0)\n",
            "Requirement already satisfied: requests in /usr/local/lib/python3.11/dist-packages (from kubernetes>=28.1.0->chromadb) (2.32.3)\n",
            "Requirement already satisfied: requests-oauthlib in /usr/local/lib/python3.11/dist-packages (from kubernetes>=28.1.0->chromadb) (2.0.0)\n",
            "Requirement already satisfied: oauthlib>=3.2.2 in /usr/local/lib/python3.11/dist-packages (from kubernetes>=28.1.0->chromadb) (3.2.2)\n",
            "Requirement already satisfied: urllib3>=1.24.2 in /usr/local/lib/python3.11/dist-packages (from kubernetes>=28.1.0->chromadb) (2.3.0)\n",
            "Requirement already satisfied: durationpy>=0.7 in /usr/local/lib/python3.11/dist-packages (from kubernetes>=28.1.0->chromadb) (0.9)\n",
            "Requirement already satisfied: coloredlogs in /usr/local/lib/python3.11/dist-packages (from onnxruntime>=1.14.1->chromadb) (15.0.1)\n",
            "Requirement already satisfied: flatbuffers in /usr/local/lib/python3.11/dist-packages (from onnxruntime>=1.14.1->chromadb) (25.2.10)\n",
            "Requirement already satisfied: protobuf in /usr/local/lib/python3.11/dist-packages (from onnxruntime>=1.14.1->chromadb) (5.29.3)\n",
            "Requirement already satisfied: sympy in /usr/local/lib/python3.11/dist-packages (from onnxruntime>=1.14.1->chromadb) (1.13.1)\n",
            "Requirement already satisfied: deprecated>=1.2.6 in /usr/local/lib/python3.11/dist-packages (from opentelemetry-api>=1.2.0->chromadb) (1.2.18)\n",
            "Requirement already satisfied: importlib-metadata<=8.5.0,>=6.0 in /usr/local/lib/python3.11/dist-packages (from opentelemetry-api>=1.2.0->chromadb) (8.5.0)\n",
            "Requirement already satisfied: googleapis-common-protos~=1.52 in /usr/local/lib/python3.11/dist-packages (from opentelemetry-exporter-otlp-proto-grpc>=1.2.0->chromadb) (1.68.0)\n",
            "Requirement already satisfied: opentelemetry-exporter-otlp-proto-common==1.30.0 in /usr/local/lib/python3.11/dist-packages (from opentelemetry-exporter-otlp-proto-grpc>=1.2.0->chromadb) (1.30.0)\n",
            "Requirement already satisfied: opentelemetry-proto==1.30.0 in /usr/local/lib/python3.11/dist-packages (from opentelemetry-exporter-otlp-proto-grpc>=1.2.0->chromadb) (1.30.0)\n",
            "Requirement already satisfied: opentelemetry-instrumentation-asgi==0.51b0 in /usr/local/lib/python3.11/dist-packages (from opentelemetry-instrumentation-fastapi>=0.41b0->chromadb) (0.51b0)\n",
            "Requirement already satisfied: opentelemetry-instrumentation==0.51b0 in /usr/local/lib/python3.11/dist-packages (from opentelemetry-instrumentation-fastapi>=0.41b0->chromadb) (0.51b0)\n",
            "Requirement already satisfied: opentelemetry-semantic-conventions==0.51b0 in /usr/local/lib/python3.11/dist-packages (from opentelemetry-instrumentation-fastapi>=0.41b0->chromadb) (0.51b0)\n",
            "Requirement already satisfied: opentelemetry-util-http==0.51b0 in /usr/local/lib/python3.11/dist-packages (from opentelemetry-instrumentation-fastapi>=0.41b0->chromadb) (0.51b0)\n",
            "Requirement already satisfied: wrapt<2.0.0,>=1.0.0 in /usr/local/lib/python3.11/dist-packages (from opentelemetry-instrumentation==0.51b0->opentelemetry-instrumentation-fastapi>=0.41b0->chromadb) (1.17.2)\n",
            "Requirement already satisfied: asgiref~=3.0 in /usr/local/lib/python3.11/dist-packages (from opentelemetry-instrumentation-asgi==0.51b0->opentelemetry-instrumentation-fastapi>=0.41b0->chromadb) (3.8.1)\n",
            "Requirement already satisfied: monotonic>=1.5 in /usr/local/lib/python3.11/dist-packages (from posthog>=2.4.0->chromadb) (1.6)\n",
            "Requirement already satisfied: backoff>=1.10.0 in /usr/local/lib/python3.11/dist-packages (from posthog>=2.4.0->chromadb) (2.2.1)\n",
            "Requirement already satisfied: distro>=1.5.0 in /usr/local/lib/python3.11/dist-packages (from posthog>=2.4.0->chromadb) (1.9.0)\n",
            "Requirement already satisfied: annotated-types>=0.6.0 in /usr/local/lib/python3.11/dist-packages (from pydantic>=1.9->chromadb) (0.7.0)\n",
            "Requirement already satisfied: pydantic-core==2.27.2 in /usr/local/lib/python3.11/dist-packages (from pydantic>=1.9->chromadb) (2.27.2)\n",
            "Requirement already satisfied: markdown-it-py>=2.2.0 in /usr/local/lib/python3.11/dist-packages (from rich>=10.11.0->chromadb) (3.0.0)\n",
            "Requirement already satisfied: pygments<3.0.0,>=2.13.0 in /usr/local/lib/python3.11/dist-packages (from rich>=10.11.0->chromadb) (2.18.0)\n",
            "Requirement already satisfied: huggingface-hub<1.0,>=0.16.4 in /usr/local/lib/python3.11/dist-packages (from tokenizers>=0.13.2->chromadb) (0.28.1)\n",
            "Requirement already satisfied: click>=8.0.0 in /usr/local/lib/python3.11/dist-packages (from typer>=0.9.0->chromadb) (8.1.8)\n",
            "Requirement already satisfied: shellingham>=1.3.0 in /usr/local/lib/python3.11/dist-packages (from typer>=0.9.0->chromadb) (1.5.4)\n",
            "Requirement already satisfied: httptools>=0.6.3 in /usr/local/lib/python3.11/dist-packages (from uvicorn[standard]>=0.18.3->chromadb) (0.6.4)\n",
            "Requirement already satisfied: python-dotenv>=0.13 in /usr/local/lib/python3.11/dist-packages (from uvicorn[standard]>=0.18.3->chromadb) (1.0.1)\n",
            "Requirement already satisfied: uvloop!=0.15.0,!=0.15.1,>=0.14.0 in /usr/local/lib/python3.11/dist-packages (from uvicorn[standard]>=0.18.3->chromadb) (0.21.0)\n",
            "Requirement already satisfied: watchfiles>=0.13 in /usr/local/lib/python3.11/dist-packages (from uvicorn[standard]>=0.18.3->chromadb) (1.0.4)\n",
            "Requirement already satisfied: websockets>=10.4 in /usr/local/lib/python3.11/dist-packages (from uvicorn[standard]>=0.18.3->chromadb) (14.2)\n",
            "Requirement already satisfied: cachetools<6.0,>=2.0.0 in /usr/local/lib/python3.11/dist-packages (from google-auth>=1.0.1->kubernetes>=28.1.0->chromadb) (5.5.2)\n",
            "Requirement already satisfied: pyasn1-modules>=0.2.1 in /usr/local/lib/python3.11/dist-packages (from google-auth>=1.0.1->kubernetes>=28.1.0->chromadb) (0.4.1)\n",
            "Requirement already satisfied: rsa<5,>=3.1.4 in /usr/local/lib/python3.11/dist-packages (from google-auth>=1.0.1->kubernetes>=28.1.0->chromadb) (4.9)\n",
            "Requirement already satisfied: filelock in /usr/local/lib/python3.11/dist-packages (from huggingface-hub<1.0,>=0.16.4->tokenizers>=0.13.2->chromadb) (3.17.0)\n",
            "Requirement already satisfied: fsspec>=2023.5.0 in /usr/local/lib/python3.11/dist-packages (from huggingface-hub<1.0,>=0.16.4->tokenizers>=0.13.2->chromadb) (2024.6.1)\n",
            "Requirement already satisfied: zipp>=3.20 in /usr/local/lib/python3.11/dist-packages (from importlib-metadata<=8.5.0,>=6.0->opentelemetry-api>=1.2.0->chromadb) (3.21.0)\n",
            "Requirement already satisfied: mdurl~=0.1 in /usr/local/lib/python3.11/dist-packages (from markdown-it-py>=2.2.0->rich>=10.11.0->chromadb) (0.1.2)\n",
            "Requirement already satisfied: charset-normalizer<4,>=2 in /usr/local/lib/python3.11/dist-packages (from requests->kubernetes>=28.1.0->chromadb) (3.4.1)\n",
            "Requirement already satisfied: sniffio>=1.1 in /usr/local/lib/python3.11/dist-packages (from anyio->httpx>=0.27.0->chromadb) (1.3.1)\n",
            "Requirement already satisfied: humanfriendly>=9.1 in /usr/local/lib/python3.11/dist-packages (from coloredlogs->onnxruntime>=1.14.1->chromadb) (10.0)\n",
            "Requirement already satisfied: mpmath<1.4,>=1.1.0 in /usr/local/lib/python3.11/dist-packages (from sympy->onnxruntime>=1.14.1->chromadb) (1.3.0)\n",
            "Requirement already satisfied: pyasn1<0.7.0,>=0.4.6 in /usr/local/lib/python3.11/dist-packages (from pyasn1-modules>=0.2.1->google-auth>=1.0.1->kubernetes>=28.1.0->chromadb) (0.6.1)\n"
          ]
        }
      ]
    },
    {
      "cell_type": "code",
      "source": [
        "# General imports\n",
        "import os\n",
        "import json\n",
        "\n",
        "import uuid\n",
        "\n",
        "# Data processing\n",
        "import PyPDF2\n",
        "import pandas as pd\n",
        "import numpy as np\n",
        "\n",
        "# LLM application tools\n",
        "import langchain\n",
        "import dspy\n",
        "import chromadb"
      ],
      "metadata": {
        "id": "lTJAiGhMJlu_"
      },
      "execution_count": 2,
      "outputs": []
    },
    {
      "cell_type": "markdown",
      "source": [
        "## LLM set up\n"
      ],
      "metadata": {
        "id": "oKbOyMZv6xRE"
      }
    },
    {
      "cell_type": "markdown",
      "source": [
        "Set Model provider API keys as environment variables."
      ],
      "metadata": {
        "id": "u7DV1JoRyFOe"
      }
    },
    {
      "cell_type": "code",
      "source": [
        "# Comment out if API keys are not saved in your google colab userdata\n",
        "from google.colab import userdata\n",
        "\n",
        "os.environ[\"MISTRAL_API_KEY\"] = userdata.get('MISTRAL_API_KEY')\n",
        "# os.environ[\"HUGGINGFACE_API_KEY\"] = userdata.get('HUGGINGFACE_API_KEY')\n",
        "\n",
        "## Uncomment and add API keys here if they are not saved in your google colab userdata\n",
        "# os.environ[\"MISTRAL_API_KEY\"] = 'YOUR_MISTRAL_API_KEY'\n",
        "# os.environ[\"HUGGINGFACE_API_KEY\"] = 'YOUR_HUGGINGFACE_API_KEY"
      ],
      "metadata": {
        "id": "4kcTkbYOyCR9"
      },
      "execution_count": 87,
      "outputs": []
    },
    {
      "cell_type": "markdown",
      "source": [
        "Access the LLM endpoint with with DSPy."
      ],
      "metadata": {
        "id": "Vx78m6CH5W1T"
      }
    },
    {
      "cell_type": "code",
      "source": [
        "lm = dspy.LM('mistral/mistral-small-latest')\n",
        "dspy.configure(lm=lm)"
      ],
      "metadata": {
        "id": "s4zfgXMJ29W7"
      },
      "execution_count": 4,
      "outputs": []
    },
    {
      "cell_type": "markdown",
      "source": [
        "Test the endpoint.\n"
      ],
      "metadata": {
        "id": "BNvZE-3J3dvW"
      }
    },
    {
      "cell_type": "code",
      "source": [
        "lm(messages=[{\"role\": \"user\", \"content\": \"Say this is a test!\"}])"
      ],
      "metadata": {
        "colab": {
          "base_uri": "https://localhost:8080/"
        },
        "id": "XiyaMttr3iqZ",
        "outputId": "efb5edae-bacc-47cf-f48a-66fcea900f14"
      },
      "execution_count": 5,
      "outputs": [
        {
          "output_type": "execute_result",
          "data": {
            "text/plain": [
              "[\"This is a test! How can I assist you further? Let's test something if you'd like. How about I say something and you respond with the first word that comes to your mind? I'll start:\\n\\nCat\\n\\n(What word does that make you think of?)\"]"
            ]
          },
          "metadata": {},
          "execution_count": 5
        }
      ]
    },
    {
      "cell_type": "markdown",
      "source": [
        "# Set up project directory\n",
        "\n"
      ],
      "metadata": {
        "id": "26zFfJiNLnc_"
      }
    },
    {
      "cell_type": "code",
      "source": [
        "project_dir_path = \"/content/drive/MyDrive/Colab Notebooks/Arize_RAG_Exercise\"\n",
        "\n",
        "pdf_data_dir = \"Data/PDF_Data\"\n",
        "vector_db_dir = \"Data/Vector_DB\"\n",
        "eval_data_dir = \"Data/Vector_DB\""
      ],
      "metadata": {
        "id": "FptX4Xc_L2VH"
      },
      "execution_count": null,
      "outputs": []
    },
    {
      "cell_type": "markdown",
      "source": [
        "# Implementation"
      ],
      "metadata": {
        "id": "oFWlcKaFOCkZ"
      }
    },
    {
      "cell_type": "markdown",
      "source": [
        "## Data Collection and Processing\n",
        "\n",
        "Started by downloading a couple of textbook and access them directly from google drive. Will add web scraping later if there's time\n"
      ],
      "metadata": {
        "id": "k-NRMdl7OH_v"
      }
    },
    {
      "cell_type": "markdown",
      "source": [
        "### Process the PDFs\n",
        "\n",
        "**Approach:** I used Claude to generate the initial data processing functions. I wanted to save metadata such as page number and source title for each text chunk to allow for citations in the LLM responses.\n",
        "I used used LangChain's RecursiveCharacterTextSplitter function for text chunking and started with the following parameters:\n",
        "\n",
        "  chunk_size: 1000  \n",
        "  chunk_overlap: 200\n",
        "\n",
        "Later, I modified the function\n",
        "\n",
        "**Problems:**  \n",
        "Initially I did this by first split the documents by page and then chunked the text within each page. However, I ran into some compatibility issues with the data structures the Claude-generated functions produced (Claude does not have access to recent libarary updates). After reviewing more recent LangChain and DSPy documentation, I updated my approach to take advantage of some simplified new functions and modified my data processing functions to do page splitting and chunking in one step to improve efficiency.\n",
        "\n",
        "\n",
        "**Possible future improvement:** The current approach does not preserve chapter/section structure in the textbook or content such as images and structured tables. In a more sophisticated implemenation it might be worth doing some more structured data splitting and including more details such as chapter and section in the metadata."
      ],
      "metadata": {
        "id": "y5iMLQMebYyY"
      }
    },
    {
      "cell_type": "code",
      "source": [
        "from chromadb.utils import embedding_functions\n",
        "\n",
        "def process_documents_for_chroma(pdf_directory, text_splitter):\n",
        "    \"\"\"\n",
        "    Process PDF documents and prepare them for ChromaDB ingestion\n",
        "    \"\"\"\n",
        "    documents = []\n",
        "    metadatas = []\n",
        "    ids = []\n",
        "\n",
        "    for filename in os.listdir(pdf_directory):\n",
        "        if filename.endswith('.pdf'):\n",
        "            file_path = os.path.join(pdf_directory, filename)\n",
        "            try:\n",
        "                # Extract text with metadata\n",
        "                doc_chunks = extract_and_chunk_pdf(file_path, text_splitter)\n",
        "\n",
        "                # Process each chunk\n",
        "                for chunk in doc_chunks:\n",
        "                    documents.append(chunk['content'])\n",
        "                    metadatas.append(chunk['metadata'])\n",
        "                    ids.append(str(uuid.uuid4()))\n",
        "\n",
        "                print(f\"Processed {filename}: {len(doc_chunks)} chunks extracted\")\n",
        "            except Exception as e:\n",
        "                print(f\"Error processing {filename}: {e}\")\n",
        "\n",
        "    return documents, metadatas, ids\n",
        "\n",
        "def extract_and_chunk_pdf(pdf_path, text_splitter):\n",
        "    \"\"\"Extract text from a PDF file, split into chunks, and maintain metadata.\"\"\"\n",
        "    chunked_documents = []\n",
        "\n",
        "    with open(pdf_path, 'rb') as file:\n",
        "        pdf_reader = PyPDF2.PdfReader(file)\n",
        "\n",
        "        # Get basic information\n",
        "        title = os.path.basename(pdf_path).replace('.pdf', '')\n",
        "        total_pages = len(pdf_reader.pages)\n",
        "\n",
        "        # Process each page\n",
        "        for page_num in range(total_pages):\n",
        "            # Extract text from the page\n",
        "            page = pdf_reader.pages[page_num]\n",
        "            text = page.extract_text()\n",
        "\n",
        "            # Skip empty pages\n",
        "            if not text or len(text.strip()) < 50:  # Skip pages with little or no text\n",
        "                continue\n",
        "\n",
        "            # Create metadata for this page\n",
        "            metadata = {\n",
        "                'source': title,\n",
        "                'page': page_num + 1,\n",
        "                'total_pages': total_pages\n",
        "            }\n",
        "\n",
        "            # Split this page's text into chunks\n",
        "            page_chunks = text_splitter.split_text(text)\n",
        "\n",
        "            # Create a document for each chunk with proper metadata\n",
        "            for chunk_idx, chunk in enumerate(page_chunks):\n",
        "                chunked_documents.append({\n",
        "                    'content': chunk,\n",
        "                    'metadata': {\n",
        "                        **metadata,\n",
        "                        'chunk_id': f\"{page_num}-{chunk_idx}\"\n",
        "                    }\n",
        "                })\n",
        "\n",
        "    return chunked_documents\n"
      ],
      "metadata": {
        "id": "-CV6oeYCr306"
      },
      "execution_count": 6,
      "outputs": []
    },
    {
      "cell_type": "code",
      "source": [
        "project_drive_dir = \"/content/drive/MyDrive/Colab Notebooks/Arize RAG Exercise\"\n",
        "project_data_folder = \"Data\""
      ],
      "metadata": {
        "id": "izgiUAooS3BI"
      },
      "execution_count": 7,
      "outputs": []
    },
    {
      "cell_type": "code",
      "source": [
        "from langchain.text_splitter import RecursiveCharacterTextSplitter\n",
        "\n",
        "# Set up the text splitter\n",
        "text_splitter = RecursiveCharacterTextSplitter(\n",
        "    chunk_size=1000,\n",
        "    chunk_overlap=200,\n",
        "    length_function=len,\n",
        "    is_separator_regex=False\n",
        ")\n",
        "\n",
        "documents, metadatas, ids = process_documents_for_chroma(os.path.join(project_drive_dir, project_data_folder), text_splitter)"
      ],
      "metadata": {
        "colab": {
          "base_uri": "https://localhost:8080/"
        },
        "id": "kGEktwoHp9wy",
        "outputId": "cb800567-ecd6-4107-b93d-d9c14778b3c7"
      },
      "execution_count": 8,
      "outputs": [
        {
          "output_type": "stream",
          "name": "stdout",
          "text": [
            "Processed Introduction_to_Behavioral_Neuroscience-WEB.pdf: 3495 chunks extracted\n",
            "Processed ConceptsofBiology-WEB.pdf: 2319 chunks extracted\n"
          ]
        }
      ]
    },
    {
      "cell_type": "code",
      "source": [
        "# Initialize ChromaDB\n",
        "persist_dir = \"/content/drive/MyDrive/Colab Notebooks/Arize RAG Exercise/Vector_DB\"\n",
        "\n",
        "chroma_client = chromadb.PersistentClient(path=persist_dir)"
      ],
      "metadata": {
        "id": "v2gsAyIzGTU5"
      },
      "execution_count": 11,
      "outputs": []
    },
    {
      "cell_type": "code",
      "source": [
        "# Create a new collection (or get existing one)\n",
        "# You can choose the embedding function based on your needs\n",
        "embedding_function = embedding_functions.DefaultEmbeddingFunction()\n",
        "collection_name = \"textbook_data\"\n",
        "collection = chroma_client.create_collection(\n",
        "    name=collection_name,\n",
        "    embedding_function=embedding_function\n",
        ")"
      ],
      "metadata": {
        "id": "0rDcuaxsGh0w"
      },
      "execution_count": 13,
      "outputs": []
    },
    {
      "cell_type": "code",
      "source": [
        "# Add documents to the collection\n",
        "collection.add(\n",
        "    documents=documents,\n",
        "    metadatas=metadatas,\n",
        "    ids=ids\n",
        ")\n"
      ],
      "metadata": {
        "id": "jGND6updrjzF"
      },
      "execution_count": 14,
      "outputs": []
    },
    {
      "cell_type": "code",
      "source": [
        "collection.peek()"
      ],
      "metadata": {
        "colab": {
          "base_uri": "https://localhost:8080/"
        },
        "id": "kOAiQS--wyH7",
        "outputId": "89ba12ff-1fb0-45b2-bb01-4603cde364e5"
      },
      "execution_count": 15,
      "outputs": [
        {
          "output_type": "execute_result",
          "data": {
            "text/plain": [
              "{'ids': ['2d3cea33-afa6-4296-b38d-d9e33a54ed4c',\n",
              "  'd5e2f742-e09d-4a92-a481-2f89ee102fc9',\n",
              "  '003b82b7-b2e1-4564-8c49-b01e76495f48',\n",
              "  '10c3fd8f-6569-4c10-a32c-482d58f2beac',\n",
              "  'deb02e67-dab6-40b8-bd04-3e2d4de99ab4',\n",
              "  '2b704352-0c87-4311-9220-ea71afcf6ae9',\n",
              "  '4d494576-e93f-4bce-af80-4dbf147825d7',\n",
              "  '442a6fd5-8eca-433f-9d72-61d1bc8713ac',\n",
              "  'dad398a8-c891-4b16-8fa2-9d8c9381bd33',\n",
              "  'afb8f992-488d-423f-9e4c-ff76441ff8a1'],\n",
              " 'embeddings': array([[ 0.03137285, -0.04941513,  0.06488694, ...,  0.11583801,\n",
              "         -0.06308822, -0.0459537 ],\n",
              "        [-0.02433298, -0.0303662 , -0.03966172, ..., -0.02128791,\n",
              "          0.0138738 ,  0.01283469],\n",
              "        [-0.03150415, -0.01637185, -0.07035826, ..., -0.01801896,\n",
              "          0.01942443,  0.01046865],\n",
              "        ...,\n",
              "        [ 0.01859296, -0.05630921, -0.02378133, ...,  0.07191464,\n",
              "         -0.0512832 ,  0.0735969 ],\n",
              "        [-0.11047661, -0.0109393 ,  0.00610211, ..., -0.01831879,\n",
              "          0.08802343, -0.03965753],\n",
              "        [-0.04994785, -0.00550003, -0.03510802, ...,  0.02082111,\n",
              "          0.13871101,  0.04775451]]),\n",
              " 'documents': ['Introduction to Behavioral Neuroscience          SENIOR CONTRIBUTING AUTHORS ELIZABETH D. KIRBY, THE OHIO STATE UNIVERSITY MELISSA J. GLENN, COLBY COLLEGE NOAH J. SANDSTROM, WILLIAMS COLLEGE CHRISTINA L. WILLIAMS, DUKE UNIVERSITY',\n",
              "  'OpenStax Rice University 6100 Main Street MS-375 Houston, Texas 77005  To learn more about OpenStax, visit https://openstax.org. Individual print copies and bulk orders can be purchased through our website.  ©2024 Rice University. Textbook content produced by OpenStax is licensed under a Creative Commons Attribution Non-Commercial ShareAlike 4.0 International License (CC BY-NC-SA 4.0). Under this license, any user of this textbook or the textbook contents herein can share, remix, and build upon the content for noncommercial purposes only. Any adaptations must be shared under the same type of license. In any case of sharing the original or adapted material, whether in whole or in part, the user must provide proper attribution as follows:  - If you noncommercially redistribute this textbook in a digital format (including but not limited to PDF and HTML), then you must retain on every page the following attribution:  “Access for free at openstax.org.” - If you noncommercially',\n",
              "  'textbook in a digital format (including but not limited to PDF and HTML), then you must retain on every page the following attribution:  “Access for free at openstax.org.” - If you noncommercially redistribute this textbook in a print format, then you must include on every physical page the following attribution: “Access for free at openstax.org.” - If you noncommercially redistribute part of this textbook, then you must retain in every digital format page view (including but not limited to PDF and HTML) and on every physical printed page the following attribution:  “Access for free at openstax.org.” - If you use this textbook as a bibliographic reference, please include https://openstax.org/details/books/introduction-behavioral-neuroscience in your citation.  For questions regarding this licensing, please contact support@openstax.org.  Trademarks The OpenStax name, OpenStax logo, OpenStax book covers, OpenStax CNX name, OpenStax CNX logo, OpenStax Tutor name, Openstax Tutor logo,',\n",
              "  'licensing, please contact support@openstax.org.  Trademarks The OpenStax name, OpenStax logo, OpenStax book covers, OpenStax CNX name, OpenStax CNX logo, OpenStax Tutor name, Openstax Tutor logo, Connexions name, Connexions logo, Rice University name, and Rice University logo are not subject to the license and may not be reproduced without the prior and express written consent of Rice University.  Kendall Hunt and the Kendall Hunt Logo are trademarks of Kendall Hunt. The Kendall Hunt mark is registered in the United States, Canada, and the European Union. These trademarks may not be used without the prior and express written consent of Kendall Hunt.   COLOR PAPERBACK BOOK ISBN-13 979-8-3851-6183-6 B&W PAPERBACK BOOK ISBN-13 979-8-3851-6184-3 DIGITAL VERSION ISBN-13 978-1-961584-57-0 ORIGINAL PUBLICATION YEAR 2024 1 2 3 4 5 6 7 8 9 10 RS 24',\n",
              "  'OPENSTAX  OpenStax provides free, peer-reviewed, openly licensed textbooks for introductory college and Advanced Placement® courses and low-cost, personalized courseware that helps students learn. A nonprofit ed tech initiative based at Rice University, we’re committed to helping students access the tools they need to complete their courses and meet their educational goals.  RICE UNIVERSITY  OpenStax is an initiative of Rice University. As a leading research university with a distinctive commitment to undergraduate education, Rice University aspires to path-breaking research, unsurpassed teaching, and contributions to the betterment of our world. It seeks to fulfill this mission by cultivating a diverse community of learning and discovery that produces leaders across the spectrum of human endeavor.    PHILANTHROPIC SUPPORT  OpenStax is grateful for the generous philanthropic partners who advance our mission to improve educational access and learning for everyone. To see the impact of',\n",
              "  'endeavor.    PHILANTHROPIC SUPPORT  OpenStax is grateful for the generous philanthropic partners who advance our mission to improve educational access and learning for everyone. To see the impact of our supporter community and our most updated list of partners, please visit openstax.org/foundation.  Arnold Ventures Chan Zuckerberg Initiative Chegg, Inc. Arthur and Carlyse Ciocca Charitable Foundation Digital Promise Ann and John Doerr Bill & Melinda Gates Foundation Girard Foundation Google Inc. The William and Flora Hewlett Foundation The Hewlett-Packard Company Intel Inc. Rusty and John Jaggers The Calvin K. Kazanjian Economics Foundation Charles Koch Foundation Leon Lowenstein Foundation, Inc. The Maxfield Foundation Burt and Deedee McMurtry Michelson 20MM Foundation National Science Foundation The Open Society Foundations Jumee Yhu and David E. Park III Brian D. Patterson USA-International Foundation The Bill and Stephanie Sick Fund Steven L. Smith & Diana T. Go Stand Together',\n",
              "  'Foundation The Open Society Foundations Jumee Yhu and David E. Park III Brian D. Patterson USA-International Foundation The Bill and Stephanie Sick Fund Steven L. Smith & Diana T. Go Stand Together Robin and Sandy Stuart Foundation The Stuart Family Foundation Tammy and Guillermo Treviño Valhalla Charitable Foundation White Star Education Foundation Schmidt Futures William Marsh Rice University',\n",
              "  'Study where you want, what \\nyou want, when you want. \\nAccess. The future of education.\\nopenstax.org          When you access your book in our web view, you can use our new online\\nhighlighting and note-taking features to create your own study guides.\\nOur books are free and flexible, forever. \\nGet started at openstax.org/details/books/neuroscience',\n",
              "  'Cont ents\\nPrefac e 1\\nCHAP TER 1\\nStructur e and F unction o f the Ner vous Sy stem: Cel ls and\\nAna tomy 9\\nIntroduction 9\\n1.1Building a Ner vous Sy stem 10\\n1.2Organization o f the Ner vous Sy stem 21\\n1.3The Centr al Ner vous Sy stem: CNS 30\\n1.4The Br ain: Structur e and F unction 36\\n1.5The P eripher al Ner vous Sy stem: PNS 46\\nSection Summar y 52\\nKey Terms 52\\nReferences 53\\nMultiple Choic e 55\\nFill in the Blank 58\\nCHAP TER 2\\nNeur ophysiolog y 59\\nIntroduction 59\\n2.1Neur al Communication 60\\n2.2Neur al Cir cuits 69\\n2.3Principles o f Bioelectricity 75\\n2.4Mechanisms o f Neur al Signaling 90\\n2.5Our Deep but Stil l Inc omplet e Unders tanding o f Neur al Signaling 107\\nSection Summar y 116\\nKey Terms 117\\nReferences 117\\nMultiple Choic e 119\\nFill in the Blank 122\\nCHAP TER 3\\nBasic Neur ochemis try 123\\nIntroduction 123\\n3.1Gener al Neur ochemis try Principles 126\\n3.2Neur otransmit ters Made fr om Amino Acids 130\\n3.3Neur otransmit ters Made fr om F ats 148\\nSection Summar y 156\\nKey Terms 156',\n",
              "  'Introduction 123\\n3.1Gener al Neur ochemis try Principles 126\\n3.2Neur otransmit ters Made fr om Amino Acids 130\\n3.3Neur otransmit ters Made fr om F ats 148\\nSection Summar y 156\\nKey Terms 156\\nReferences 156\\nMultiple Choic e 158\\nFill in the Blank 161'],\n",
              " 'uris': None,\n",
              " 'data': None,\n",
              " 'metadatas': [{'chunk_id': '1-0',\n",
              "   'page': 2,\n",
              "   'source': 'Introduction_to_Behavioral_Neuroscience-WEB',\n",
              "   'total_pages': 913},\n",
              "  {'chunk_id': '2-0',\n",
              "   'page': 3,\n",
              "   'source': 'Introduction_to_Behavioral_Neuroscience-WEB',\n",
              "   'total_pages': 913},\n",
              "  {'chunk_id': '2-1',\n",
              "   'page': 3,\n",
              "   'source': 'Introduction_to_Behavioral_Neuroscience-WEB',\n",
              "   'total_pages': 913},\n",
              "  {'chunk_id': '2-2',\n",
              "   'page': 3,\n",
              "   'source': 'Introduction_to_Behavioral_Neuroscience-WEB',\n",
              "   'total_pages': 913},\n",
              "  {'chunk_id': '3-0',\n",
              "   'page': 4,\n",
              "   'source': 'Introduction_to_Behavioral_Neuroscience-WEB',\n",
              "   'total_pages': 913},\n",
              "  {'chunk_id': '3-1',\n",
              "   'page': 4,\n",
              "   'source': 'Introduction_to_Behavioral_Neuroscience-WEB',\n",
              "   'total_pages': 913},\n",
              "  {'chunk_id': '3-2',\n",
              "   'page': 4,\n",
              "   'source': 'Introduction_to_Behavioral_Neuroscience-WEB',\n",
              "   'total_pages': 913},\n",
              "  {'chunk_id': '4-0',\n",
              "   'page': 5,\n",
              "   'source': 'Introduction_to_Behavioral_Neuroscience-WEB',\n",
              "   'total_pages': 913},\n",
              "  {'chunk_id': '5-0',\n",
              "   'page': 6,\n",
              "   'source': 'Introduction_to_Behavioral_Neuroscience-WEB',\n",
              "   'total_pages': 913},\n",
              "  {'chunk_id': '5-1',\n",
              "   'page': 6,\n",
              "   'source': 'Introduction_to_Behavioral_Neuroscience-WEB',\n",
              "   'total_pages': 913}],\n",
              " 'included': [<IncludeEnum.embeddings: 'embeddings'>,\n",
              "  <IncludeEnum.documents: 'documents'>,\n",
              "  <IncludeEnum.metadatas: 'metadatas'>]}"
            ]
          },
          "metadata": {},
          "execution_count": 15
        }
      ]
    },
    {
      "cell_type": "markdown",
      "source": [
        "## DSPy Setup for RAG\n",
        "\n",
        "**Approach:** I configured the embedder and retriever in DSPY, using the mistral-embed model, retrieving 5 documents per query.\n",
        "\n",
        "**Problems:**\n",
        "* Claude is pretty out of date with DSPy's current capabilities, so I was not able to rely heavily on generated code for this part.\n",
        "* I had to set a pretty small batch size for the Embedder to accomodate Mistral's token limit, since I didn't want to reduce the chunk size quite yet.\n",
        "\n",
        "**Possible future improvement:** Experiment with different embedding models to optimize for performance, optimize chunk size"
      ],
      "metadata": {
        "id": "dzJGctgKOlqI"
      }
    },
    {
      "cell_type": "code",
      "source": [
        "# Define the RAG application\n",
        "class EducationalQuery(dspy.Signature):\n",
        "    \"\"\"Query an educational assistant about textbook content.\"\"\"\n",
        "    question = dspy.InputField()\n",
        "    context = dspy.InputField(desc=\"Retrieved passages from textbooks\")\n",
        "    answer = dspy.OutputField(desc=\"Comprehensive answer based on the retrieved information\")\n",
        "    sources = dspy.OutputField(desc=\"The sources used to answer the question\")\n",
        "\n",
        "class EducationalAssistant(dspy.Module):\n",
        "    def __init__(self, retriever):\n",
        "        super().__init__()\n",
        "        self.retriever = retriever\n",
        "        self.generate = dspy.ChainOfThought(EducationalQuery)\n",
        "\n",
        "    def forward(self, question):\n",
        "        # Get passages and metadata using a single query\n",
        "        retrieved = self.retriever(question)\n",
        "\n",
        "        # Create context from passages\n",
        "        context = \"\\n\\n\".join(retrieved.passages)\n",
        "\n",
        "        # Extract metadata for citations\n",
        "        citation_strings = []\n",
        "        for metadata in retrieved.metadatas:\n",
        "            if isinstance(metadata, dict) and 'source' in metadata and 'page' in metadata:\n",
        "                source = metadata['source'].replace('_', ' ').replace('-WEB', '')\n",
        "                page = metadata['page']\n",
        "                citation = f\"{source} (Page {page})\"\n",
        "                if citation not in citation_strings:\n",
        "                    citation_strings.append(citation)\n",
        "\n",
        "        # Generate answer\n",
        "        response = self.generate(\n",
        "            question=question,\n",
        "            context=context\n",
        "        )\n",
        "\n",
        "        # Format the citations as a bullet list\n",
        "        citations_formatted = \"\\n\".join([f\"• {citation}\" for citation in citation_strings])\n",
        "\n",
        "        return dspy.Prediction(\n",
        "            response=response.answer,\n",
        "            citations=citations_formatted,\n",
        "            context=context\n",
        "            )"
      ],
      "metadata": {
        "id": "P-cW5CJbsIwJ"
      },
      "execution_count": 45,
      "outputs": []
    },
    {
      "cell_type": "code",
      "source": [
        "class MetadataRetriever:\n",
        "    def __init__(self, collection_name, persist_dir, k=5):\n",
        "        self.collection_name = collection_name\n",
        "        self.persist_dir = persist_dir\n",
        "        self.k = k\n",
        "        self.client = chromadb.PersistentClient(path=persist_dir)\n",
        "        self.collection = self.client.get_collection(collection_name)\n",
        "\n",
        "    def __call__(self, query):\n",
        "        # Query ChromaDB once to get both passages and metadata\n",
        "        results = self.collection.query(\n",
        "            query_texts=[query],\n",
        "            n_results=self.k\n",
        "        )\n",
        "\n",
        "        # Create dspy-compatible result object\n",
        "        retrieved_results = type('RetrievedPassages', (), {})()\n",
        "        retrieved_results.passages = results['documents'][0]\n",
        "        retrieved_results.metadatas = results['metadatas'][0]\n",
        "\n",
        "        return retrieved_results"
      ],
      "metadata": {
        "id": "qp9YzMy1s7qv"
      },
      "execution_count": 46,
      "outputs": []
    },
    {
      "cell_type": "code",
      "source": [
        "# Set up the retriever\n",
        "retriever = MetadataRetriever(\n",
        "    collection_name=collection_name,\n",
        "    persist_dir=persist_dir,\n",
        "    k=3\n",
        ")\n",
        "\n",
        "# Initialize the assistant with the retriever\n",
        "assistant = EducationalAssistant(retriever)\n",
        "\n",
        "# Configure DSPy to use the LLM (but not the retriever)\n",
        "dspy.settings.configure(lm=lm)\n",
        "\n",
        "# Test the assistant\n",
        "response = assistant(\"What is cellular respiration?\")\n",
        "print(response.response)\n",
        "print(response.citations)\n",
        "print(response.context)"
      ],
      "metadata": {
        "colab": {
          "base_uri": "https://localhost:8080/"
        },
        "id": "uhCoz3_7Mbsh",
        "outputId": "f9648338-45dc-4a8c-c956-7e18e70ad391"
      },
      "execution_count": 49,
      "outputs": [
        {
          "output_type": "stream",
          "name": "stdout",
          "text": [
            "Cellular respiration is the process by which cells convert energy from nutrients into adenosine triphosphate (ATP), the primary energy currency of the cell. It involves several stages, including glycolysis, which is the initial pathway for breaking down glucose to extract energy. During cellular respiration, cells take in oxygen and release carbon dioxide, which is facilitated by the respiratory system. This process ensures that cells have the energy they need to function properly.\n",
            "• Introduction to Behavioral Neuroscience (Page 727)\n",
            "• ConceptsofBiology (Page 125)\n",
            "• ConceptsofBiology (Page 453)\n",
            "cells that mak e up muscles thr oughout the body under v oluntar y contr ol, greatly incr ease their activity during\n",
            "exercise and ther efore greatly incr ease their need f or oxygen fr om the bloods tream. A t the same time , the y release\n",
            "mor e carbon dio xide , which the bloods tream cir culat es to the lungs t o exhale .\n",
            "To ensur e an op timal amount o f oxygen and s wift r emo val of carbon dio xide , homeos tatic mechanisms det ect\n",
            "chang es in the le vels o f these g ases in the bloods tream and r espond b y modulating r espir atory rate. Incr easing the\n",
            "respir atory rate incr eases the diffusion o f oxygen fr om the air int o the lungs and, in turn, the r emo val of carbon\n",
            "dioxide fr om the lungs t o the air . In par allel, these homeos tatic mechanisms also modulat e hear t rate to incr ease or\n",
            "decr ease the flo w of oxygenat ed blood t o cells thr oughout the body .\n",
            "Homeos tatic r egulation o f respir atory rate\n",
            "\n",
            "induc ed-fit model . Enzyme action is r egulated to\n",
            "conser ve resour ces and r espond op timal ly to the\n",
            "environment.\n",
            "4.2Glycolysis\n",
            "ATP functions as the ener gy curr ency f or cells. It al lows\n",
            "cells to store ener gy briefl y and tr anspor t it within itself\n",
            "to suppor t ender gonic chemical r eactions . The\n",
            "structur e of ATP is that o f an RNA nucleotide with thr ee\n",
            "phosphat e groups at tached. As A TP is used f or ener gy,\n",
            "a phosphat e group is detached, and ADP is pr oduc ed.\n",
            "Ener gy deriv ed fr om gluc ose catabolism is used t o\n",
            "rechar ge ADP int o ATP.\n",
            "Glycolysis is the firs t path way used in the br eakdown o f\n",
            "gluc ose t o extract ener gy. Because it is used b y nearl y\n",
            "all organisms on ear th, it mus t have evolved earl y in the\n",
            "history of life. Glycolysis c onsis ts of two par ts: The firs t\n",
            "part prepar es the six -carbon ring o f gluc ose f or\n",
            "separ ation int o tw o thr ee-carbon sug ars. Ener gy from\n",
            "ATP is in vested int o the molecule during this s tep to\n",
            "\n",
            "requir ed for cellular function but cannot be pr oduc ed\n",
            "by the animal body . These include vitamins , miner als,\n",
            "some fat ty acids , and some amino acids . Food intak e in\n",
            "mor e than nec essary amounts is s tored as gl ycogen in\n",
            "the liv er and muscle c ells, and in adipose tis sue.\n",
            "Excess adipose s torage can lead t o obesity and serious\n",
            "heal th pr oblems .\n",
            "16.3 Circulat ory and R espir atory Systems\n",
            "Animal r espir atory systems ar e designed t o facilitat e\n",
            "gas e xchang e. In mammals , air is w armed and\n",
            "humidified in the nasal ca vity. Air then tr avels do wn the\n",
            "phar ynx and lar ynx, thr ough the tr achea , and int o the\n",
            "lungs . In the lungs , air pas ses thr ough the br anching\n",
            "bronchi, r eaching the r espir atory bronchioles . The\n",
            "respir atory bronchioles open up int o the al veolar ducts ,\n",
            "alveolar sacs , and al veoli. Because ther e are so man y\n",
            "alveoli and al veolar sacs in the lung , the sur face area\n",
            "for gas e xchang e is v ery lar ge.\n"
          ]
        }
      ]
    },
    {
      "cell_type": "markdown",
      "source": [
        "#### Critical Thinking Version"
      ],
      "metadata": {
        "id": "URVVfXD2O7EW"
      }
    },
    {
      "cell_type": "code",
      "source": [
        "class GuidedEducationalQuery(dspy.Signature):\n",
        "    \"\"\"Guide students through a critical thinking process to discover answers about textbook content.\"\"\"\n",
        "    question = dspy.InputField()\n",
        "    context = dspy.InputField(desc=\"Retrieved passages from textbooks\")\n",
        "    guided_answer = dspy.OutputField(desc=\"\"\"\n",
        "        Formulate a response that guides the student's thinking rather than simply providing facts.\n",
        "        Follow this structure:\n",
        "        1. Acknowledge the question and its importance\n",
        "        2. Offer a partial insight or starting point based on the context\n",
        "        3. Pose 1-2 guiding questions that help the student think through the concept\n",
        "        4. Provide connections to related concepts they might already understand\n",
        "        5. Conclude with a concise summary of the key points while encouraging further exploration\n",
        "\n",
        "        The goal is to prompt critical thinking rather than delivering a complete answer.\n",
        "        Use a warm, encouraging tone appropriate for education.\n",
        "    \"\"\")\n",
        "    sources = dspy.OutputField(desc=\"The sources used to answer the question\")\n",
        "\n",
        "class GuidedEducationalAssistant(EducationalAssistant):\n",
        "    def __init__(self, retriever):\n",
        "        super().__init__(retriever)\n",
        "        # Use ChainOfThought with the new GuidedEducationalQuery signature\n",
        "        self.generate = dspy.ChainOfThought(GuidedEducationalQuery)\n",
        "\n",
        "    def forward(self, question):\n",
        "        # Get passages and metadata using a single query\n",
        "        retrieved = self.retriever(question)\n",
        "\n",
        "        # Create context from passages\n",
        "        context = \"\\n\\n\".join(retrieved.passages)\n",
        "\n",
        "        # Extract metadata for citations\n",
        "        citation_strings = []\n",
        "        for metadata in retrieved.metadatas:\n",
        "            if isinstance(metadata, dict) and 'source' in metadata and 'page' in metadata:\n",
        "                source = metadata['source'].replace('_', ' ').replace('-WEB', '')\n",
        "                page = metadata['page']\n",
        "                citation = f\"{source} (Page {page})\"\n",
        "                if citation not in citation_strings:\n",
        "                    citation_strings.append(citation)\n",
        "\n",
        "        # Generate guided response\n",
        "        response = self.generate(\n",
        "            question=question,\n",
        "            context=context\n",
        "        )\n",
        "\n",
        "        # Format the citations as a bullet list\n",
        "        citations_formatted = \"\\n\".join([f\"• {citation}\" for citation in citation_strings])\n",
        "\n",
        "        return dspy.Prediction(\n",
        "            response=response.guided_answer,\n",
        "            citations=citations_formatted,\n",
        "            context=context\n",
        "            )"
      ],
      "metadata": {
        "id": "4qfO4w-3Y0Vm"
      },
      "execution_count": 62,
      "outputs": []
    },
    {
      "cell_type": "code",
      "source": [
        "# Set up the guided assistant with the same retriever\n",
        "guided_assistant = GuidedEducationalAssistant(retriever)\n",
        "\n",
        "# Test the guided assistant\n",
        "question = \"What is cellular respiration?\"\n",
        "response = guided_assistant(question)\n",
        "\n",
        "print(response.response)\n",
        "print(response.citations)\n",
        "print(response.context)"
      ],
      "metadata": {
        "colab": {
          "base_uri": "https://localhost:8080/"
        },
        "id": "kSRkd4_Ta6AB",
        "outputId": "e60a497f-f684-42ce-c585-49ac7dffa769"
      },
      "execution_count": 68,
      "outputs": [
        {
          "output_type": "stream",
          "name": "stdout",
          "text": [
            "Your question about cellular respiration is a great one! It's a fundamental process that helps us understand how our bodies produce energy.\n",
            "\n",
            "First, let's start with what we know from the context. We see that muscles need more oxygen during exercise, and they release more carbon dioxide. This exchange of gases is crucial for cellular respiration. Cellular respiration is the process by which cells convert the energy from food into a usable form, called ATP. This process involves the exchange of gases—oxygen is taken in, and carbon dioxide is released.\n",
            "\n",
            "To think through this concept, consider the following questions:\n",
            "1. How might the increased need for oxygen during exercise relate to the process of cellular respiration?\n",
            "2. If cellular respiration produces energy in the form of ATP, how might this energy be used by the muscles during exercise?\n",
            "\n",
            "You might also think about how this process is similar to how a car engine uses fuel to produce energy. Just as a car needs oxygen to burn fuel efficiently, your cells need oxygen to break down glucose and produce ATP.\n",
            "\n",
            "In summary, cellular respiration is the process by which cells produce energy by breaking down glucose and using oxygen. This process is crucial for all the activities your body performs, from thinking to running. Keep exploring how different parts of your body work together to support this essential process!\n",
            "• Introduction to Behavioral Neuroscience (Page 727)\n",
            "• ConceptsofBiology (Page 125)\n",
            "• ConceptsofBiology (Page 453)\n",
            "cells that mak e up muscles thr oughout the body under v oluntar y contr ol, greatly incr ease their activity during\n",
            "exercise and ther efore greatly incr ease their need f or oxygen fr om the bloods tream. A t the same time , the y release\n",
            "mor e carbon dio xide , which the bloods tream cir culat es to the lungs t o exhale .\n",
            "To ensur e an op timal amount o f oxygen and s wift r emo val of carbon dio xide , homeos tatic mechanisms det ect\n",
            "chang es in the le vels o f these g ases in the bloods tream and r espond b y modulating r espir atory rate. Incr easing the\n",
            "respir atory rate incr eases the diffusion o f oxygen fr om the air int o the lungs and, in turn, the r emo val of carbon\n",
            "dioxide fr om the lungs t o the air . In par allel, these homeos tatic mechanisms also modulat e hear t rate to incr ease or\n",
            "decr ease the flo w of oxygenat ed blood t o cells thr oughout the body .\n",
            "Homeos tatic r egulation o f respir atory rate\n",
            "\n",
            "induc ed-fit model . Enzyme action is r egulated to\n",
            "conser ve resour ces and r espond op timal ly to the\n",
            "environment.\n",
            "4.2Glycolysis\n",
            "ATP functions as the ener gy curr ency f or cells. It al lows\n",
            "cells to store ener gy briefl y and tr anspor t it within itself\n",
            "to suppor t ender gonic chemical r eactions . The\n",
            "structur e of ATP is that o f an RNA nucleotide with thr ee\n",
            "phosphat e groups at tached. As A TP is used f or ener gy,\n",
            "a phosphat e group is detached, and ADP is pr oduc ed.\n",
            "Ener gy deriv ed fr om gluc ose catabolism is used t o\n",
            "rechar ge ADP int o ATP.\n",
            "Glycolysis is the firs t path way used in the br eakdown o f\n",
            "gluc ose t o extract ener gy. Because it is used b y nearl y\n",
            "all organisms on ear th, it mus t have evolved earl y in the\n",
            "history of life. Glycolysis c onsis ts of two par ts: The firs t\n",
            "part prepar es the six -carbon ring o f gluc ose f or\n",
            "separ ation int o tw o thr ee-carbon sug ars. Ener gy from\n",
            "ATP is in vested int o the molecule during this s tep to\n",
            "\n",
            "requir ed for cellular function but cannot be pr oduc ed\n",
            "by the animal body . These include vitamins , miner als,\n",
            "some fat ty acids , and some amino acids . Food intak e in\n",
            "mor e than nec essary amounts is s tored as gl ycogen in\n",
            "the liv er and muscle c ells, and in adipose tis sue.\n",
            "Excess adipose s torage can lead t o obesity and serious\n",
            "heal th pr oblems .\n",
            "16.3 Circulat ory and R espir atory Systems\n",
            "Animal r espir atory systems ar e designed t o facilitat e\n",
            "gas e xchang e. In mammals , air is w armed and\n",
            "humidified in the nasal ca vity. Air then tr avels do wn the\n",
            "phar ynx and lar ynx, thr ough the tr achea , and int o the\n",
            "lungs . In the lungs , air pas ses thr ough the br anching\n",
            "bronchi, r eaching the r espir atory bronchioles . The\n",
            "respir atory bronchioles open up int o the al veolar ducts ,\n",
            "alveolar sacs , and al veoli. Because ther e are so man y\n",
            "alveoli and al veolar sacs in the lung , the sur face area\n",
            "for gas e xchang e is v ery lar ge.\n"
          ]
        }
      ]
    },
    {
      "cell_type": "markdown",
      "source": [
        "# Evaluation"
      ],
      "metadata": {
        "id": "cu84moLDu-Pt"
      }
    },
    {
      "cell_type": "code",
      "source": [
        "eval_data_dir = os.path.join(project_drive_dir, \"Eval Datasets\")\n",
        "\n",
        "with open(os.path.join(eval_data_dir,'eval_data.json'), 'r') as f:\n",
        "    eval_dataset = json.load(f)"
      ],
      "metadata": {
        "id": "MFNzDU2cvBRh"
      },
      "execution_count": 65,
      "outputs": []
    },
    {
      "cell_type": "code",
      "source": [
        "eval_data_examples = [dspy.Example(**d).with_inputs('question') for d in eval_dataset]\n",
        "\n",
        "# Let's pick an `example` here from the data.\n",
        "example = eval_data_examples[2]\n",
        "example"
      ],
      "metadata": {
        "colab": {
          "base_uri": "https://localhost:8080/"
        },
        "id": "o3kXieZlvHit",
        "outputId": "cafcf248-0201-43d3-9eff-e0602d37b758"
      },
      "execution_count": 66,
      "outputs": [
        {
          "output_type": "execute_result",
          "data": {
            "text/plain": [
              "Example({'question': 'What is the difference between mitosis and meiosis?', 'response': \"You've asked about two fundamental cell division processes! Mitosis and meiosis differ in several key ways. Mitosis produces two genetically identical daughter cells with the same chromosome number as the parent cell, occurring in somatic cells for growth and repair. Meiosis, conversely, produces four genetically unique cells with half the original chromosome number, occurring only in germ cells for sexual reproduction. Have you considered why organisms need these different division processes? What would happen if egg and sperm cells were produced through mitosis instead? Think about how these processes relate to concepts like genetic diversity and evolutionary adaptation. How might errors in either process affect an organism? In summary, while both involve DNA replication and cell division, they serve distinct purposes—mitosis for growth and asexual reproduction, meiosis for creating genetic diversity through sexual reproduction—highlighting nature's elegant solutions to different biological challenges.\", 'document_id': '6g7h8i9j-0k1l-2m3n-4o5p-6q7r8s9t0u'}) (input_keys={'question'})"
            ]
          },
          "metadata": {},
          "execution_count": 66
        }
      ]
    },
    {
      "cell_type": "code",
      "source": [
        "import random\n",
        "\n",
        "random.Random(0).shuffle(eval_data_examples)\n",
        "trainset, devset = eval_data_examples[:20], eval_data_examples[20:40]"
      ],
      "metadata": {
        "id": "ndtc4_4B8DIA"
      },
      "execution_count": 67,
      "outputs": []
    },
    {
      "cell_type": "code",
      "source": [
        "from dspy.evaluate import SemanticF1\n",
        "\n",
        "# Instantiate the metric.\n",
        "metric = SemanticF1(decompositional=True)\n",
        "\n",
        "# Produce a prediction from our `cot` module, using the `example` above as input.\n",
        "pred_guided = guided_assistant(**example.inputs())\n",
        "pred_regular = assistant(**example.inputs())\n",
        "\n",
        "# Compute the metric score for the prediction.\n",
        "score_guided = metric(example, pred_guided)\n",
        "score_regular = metric(example, pred_regular)\n",
        "\n",
        "print(f\"Question: \\t {example.question}\\n\")\n",
        "print(f\"Gold Response: \\t {example.response}\\n\")\n",
        "print(f\"Guided Assistant Response: \\t {pred_guided.response}\\n\")\n",
        "print(f\"Guided Assistant Semantic F1 Score: {score_guided:.2f}\\n\")\n",
        "print(f\"Regular Assistant Response: \\t {pred_regular.response}\\n\\n\")\n",
        "print(f\"Guided Assistant Semantic F1 Score: {score_guided:.2f}\\n\")\n",
        "print(f\"Regular Assistant Semantic F1 Score: {score_regular:.2f}\")"
      ],
      "metadata": {
        "colab": {
          "base_uri": "https://localhost:8080/"
        },
        "id": "Jfo9lWF_DfuC",
        "outputId": "9d8f096a-690f-4542-b0ae-68fd5df274c9"
      },
      "execution_count": 71,
      "outputs": [
        {
          "output_type": "stream",
          "name": "stdout",
          "text": [
            "Question: \t What is the difference between mitosis and meiosis?\n",
            "\n",
            "Gold Response: \t You've asked about two fundamental cell division processes! Mitosis and meiosis differ in several key ways. Mitosis produces two genetically identical daughter cells with the same chromosome number as the parent cell, occurring in somatic cells for growth and repair. Meiosis, conversely, produces four genetically unique cells with half the original chromosome number, occurring only in germ cells for sexual reproduction. Have you considered why organisms need these different division processes? What would happen if egg and sperm cells were produced through mitosis instead? Think about how these processes relate to concepts like genetic diversity and evolutionary adaptation. How might errors in either process affect an organism? In summary, while both involve DNA replication and cell division, they serve distinct purposes—mitosis for growth and asexual reproduction, meiosis for creating genetic diversity through sexual reproduction—highlighting nature's elegant solutions to different biological challenges.\n",
            "\n",
            "Guided Assistant Response: \t Your question about the difference between mitosis and meiosis is very important for understanding how cells divide and reproduce. Let's start by acknowledging that both processes are crucial for life, but they serve different purposes.\n",
            "\n",
            "From the context, we can see that mitosis produces daughter cells that are genetically identical to the parent cell, maintaining the same number of chromosome sets. This is essential for growth and repair in the body. On the other hand, meiosis reduces the number of chromosome sets by half, producing genetically different daughter cells. This is vital for sexual reproduction, as it ensures that the offspring receive half their chromosomes from each parent.\n",
            "\n",
            "To deepen your understanding, consider these questions:\n",
            "1. Why is it important for mitosis to produce genetically identical daughter cells, and in what situations does this occur in the body?\n",
            "2. How does the reduction in chromosome number during meiosis contribute to genetic diversity in offspring?\n",
            "\n",
            "You might already understand that cells need to divide to grow and repair tissues. Think about how mitosis and meiosis relate to these processes. Mitosis is like making copies of a book (identical daughter cells), while meiosis is like shuffling and dealing a new set of cards (genetically different daughter cells).\n",
            "\n",
            "In summary, mitosis and meiosis are both essential for life, but they have distinct roles. Mitosis is about growth and repair, producing identical cells, while meiosis is about reproduction, producing genetically diverse cells. Explore further to understand the specific stages and mechanisms of each process.\n",
            "\n",
            "Guided Assistant Semantic F1 Score: 0.83\n",
            "\n",
            "Regular Assistant Response: \t Mitosis and meiosis are both types of cell division, but they have distinct differences:\n",
            "\n",
            "1. **Purpose and Outcome**:\n",
            "   - **Mitosis**: Results in identical daughter nuclei that are genetically identical to the original parent nucleus. The daughter cells have the same number of chromosome sets as the parent cell (diploid).\n",
            "   - **Meiosis**: Results in four daughter nuclei that are genetically different from the original parent nucleus and from each other. The daughter cells have half the number of chromosome sets as the parent cell (haploid).\n",
            "\n",
            "2. **Number of Divisions**:\n",
            "   - **Mitosis**: Involves one round of nuclear division.\n",
            "   - **Meiosis**: Involves two rounds of nuclear division (meiosis I and meiosis II).\n",
            "\n",
            "3. **Ploidy Level**:\n",
            "   - **Mitosis**: Maintains the same ploidy level (diploid to diploid).\n",
            "   - **Meiosis**: Reduces the ploidy level from diploid to haploid.\n",
            "\n",
            "4. **Genetic Variability**:\n",
            "   - **Mitosis**: Produces genetically identical daughter cells.\n",
            "   - **Meiosis**: Produces genetically different daughter cells due to the separation of homologous chromosomes and genetic recombination.\n",
            "\n",
            "\n",
            "Guided Assistant Semantic F1 Score: 0.83\n",
            "\n",
            "Regular Assistant Semantic F1 Score: 0.78\n"
          ]
        }
      ]
    },
    {
      "cell_type": "code",
      "source": [
        "from dspy.evaluate import SemanticF1\n",
        "\n",
        "# Instantiate the metric.\n",
        "metric = SemanticF1(decompositional=True)\n",
        "\n",
        "# Define an evaluator that we can re-use.\n",
        "evaluate = dspy.Evaluate(devset=devset, metric=metric, num_threads=24,\n",
        "                         display_progress=True, display_table=2)\n",
        "\n",
        "# Evaluate the guided learning assistant\n",
        "evaluate(guided_assistant)"
      ],
      "metadata": {
        "colab": {
          "base_uri": "https://localhost:8080/",
          "height": 364
        },
        "id": "-TFc1V981xRN",
        "outputId": "781d5907-6148-4805-ab00-3321e94dadcc"
      },
      "execution_count": 72,
      "outputs": [
        {
          "output_type": "stream",
          "name": "stdout",
          "text": [
            "Average Metric: 12.69 / 20 (63.4%): 100%|██████████| 20/20 [00:14<00:00,  1.37it/s]"
          ]
        },
        {
          "output_type": "stream",
          "name": "stderr",
          "text": [
            "2025/03/06 06:11:13 INFO dspy.evaluate.evaluate: Average Metric: 12.687609959190278 / 20 (63.4%)\n"
          ]
        },
        {
          "output_type": "stream",
          "name": "stdout",
          "text": [
            "\n"
          ]
        },
        {
          "output_type": "display_data",
          "data": {
            "text/plain": [
              "                                 question  \\\n",
              "0                How do we perceive pain?   \n",
              "1  What is the process of photosynthesis?   \n",
              "\n",
              "                                                        example_response  \\\n",
              "0  You've inquired about a complex and crucial sensory experience! Pa...   \n",
              "1  Excellent question about one of life's most fundamental processes!...   \n",
              "\n",
              "                          document_id  \\\n",
              "0  5g6h7i8j-9k0l-1m2n-3o4p-5q6r7s8t9u   \n",
              "1  4i5j6k7l-8m9n-0o1p-2q3r-4s5t6u7v8w   \n",
              "\n",
              "                                                           pred_response  \\\n",
              "0  Your question about how we perceive pain is very important, as und...   \n",
              "1  Your question about the process of photosynthesis is a great one! ...   \n",
              "\n",
              "                                                               citations  \\\n",
              "0  • Introduction to Behavioral Neuroscience (Page 416)\\n• Introducti...   \n",
              "1  • ConceptsofBiology (Page 143)\\n• ConceptsofBiology (Page 132)\\n• ...   \n",
              "\n",
              "                                                                 context  \\\n",
              "0  with actual or pot ential tis sue damag e (Raja et al ., 2020). ” ...   \n",
              "1  frequencies o f radiation granum a stack o f thylak oids locat ed ...   \n",
              "\n",
              "   SemanticF1  \n",
              "0  ✔️ [0.533]  \n",
              "1  ✔️ [0.723]  "
            ],
            "text/html": [
              "\n",
              "  <div id=\"df-b45d2641-c249-41f4-b3be-c0b079042692\" class=\"colab-df-container\">\n",
              "    <div>\n",
              "<style scoped>\n",
              "    .dataframe tbody tr th:only-of-type {\n",
              "        vertical-align: middle;\n",
              "    }\n",
              "\n",
              "    .dataframe tbody tr th {\n",
              "        vertical-align: top;\n",
              "    }\n",
              "\n",
              "    .dataframe thead th {\n",
              "        text-align: right;\n",
              "    }\n",
              "</style>\n",
              "<table border=\"1\" class=\"dataframe\">\n",
              "  <thead>\n",
              "    <tr style=\"text-align: right;\">\n",
              "      <th></th>\n",
              "      <th>question</th>\n",
              "      <th>example_response</th>\n",
              "      <th>document_id</th>\n",
              "      <th>pred_response</th>\n",
              "      <th>citations</th>\n",
              "      <th>context</th>\n",
              "      <th>SemanticF1</th>\n",
              "    </tr>\n",
              "  </thead>\n",
              "  <tbody>\n",
              "    <tr>\n",
              "      <th>0</th>\n",
              "      <td>How do we perceive pain?</td>\n",
              "      <td>You've inquired about a complex and crucial sensory experience! Pa...</td>\n",
              "      <td>5g6h7i8j-9k0l-1m2n-3o4p-5q6r7s8t9u</td>\n",
              "      <td>Your question about how we perceive pain is very important, as und...</td>\n",
              "      <td>• Introduction to Behavioral Neuroscience (Page 416)\\n• Introducti...</td>\n",
              "      <td>with actual or pot ential tis sue damag e (Raja et al ., 2020). ” ...</td>\n",
              "      <td>✔️ [0.533]</td>\n",
              "    </tr>\n",
              "    <tr>\n",
              "      <th>1</th>\n",
              "      <td>What is the process of photosynthesis?</td>\n",
              "      <td>Excellent question about one of life's most fundamental processes!...</td>\n",
              "      <td>4i5j6k7l-8m9n-0o1p-2q3r-4s5t6u7v8w</td>\n",
              "      <td>Your question about the process of photosynthesis is a great one! ...</td>\n",
              "      <td>• ConceptsofBiology (Page 143)\\n• ConceptsofBiology (Page 132)\\n• ...</td>\n",
              "      <td>frequencies o f radiation granum a stack o f thylak oids locat ed ...</td>\n",
              "      <td>✔️ [0.723]</td>\n",
              "    </tr>\n",
              "  </tbody>\n",
              "</table>\n",
              "</div>\n",
              "    <div class=\"colab-df-buttons\">\n",
              "\n",
              "  <div class=\"colab-df-container\">\n",
              "    <button class=\"colab-df-convert\" onclick=\"convertToInteractive('df-b45d2641-c249-41f4-b3be-c0b079042692')\"\n",
              "            title=\"Convert this dataframe to an interactive table.\"\n",
              "            style=\"display:none;\">\n",
              "\n",
              "  <svg xmlns=\"http://www.w3.org/2000/svg\" height=\"24px\" viewBox=\"0 -960 960 960\">\n",
              "    <path d=\"M120-120v-720h720v720H120Zm60-500h600v-160H180v160Zm220 220h160v-160H400v160Zm0 220h160v-160H400v160ZM180-400h160v-160H180v160Zm440 0h160v-160H620v160ZM180-180h160v-160H180v160Zm440 0h160v-160H620v160Z\"/>\n",
              "  </svg>\n",
              "    </button>\n",
              "\n",
              "  <style>\n",
              "    .colab-df-container {\n",
              "      display:flex;\n",
              "      gap: 12px;\n",
              "    }\n",
              "\n",
              "    .colab-df-convert {\n",
              "      background-color: #E8F0FE;\n",
              "      border: none;\n",
              "      border-radius: 50%;\n",
              "      cursor: pointer;\n",
              "      display: none;\n",
              "      fill: #1967D2;\n",
              "      height: 32px;\n",
              "      padding: 0 0 0 0;\n",
              "      width: 32px;\n",
              "    }\n",
              "\n",
              "    .colab-df-convert:hover {\n",
              "      background-color: #E2EBFA;\n",
              "      box-shadow: 0px 1px 2px rgba(60, 64, 67, 0.3), 0px 1px 3px 1px rgba(60, 64, 67, 0.15);\n",
              "      fill: #174EA6;\n",
              "    }\n",
              "\n",
              "    .colab-df-buttons div {\n",
              "      margin-bottom: 4px;\n",
              "    }\n",
              "\n",
              "    [theme=dark] .colab-df-convert {\n",
              "      background-color: #3B4455;\n",
              "      fill: #D2E3FC;\n",
              "    }\n",
              "\n",
              "    [theme=dark] .colab-df-convert:hover {\n",
              "      background-color: #434B5C;\n",
              "      box-shadow: 0px 1px 3px 1px rgba(0, 0, 0, 0.15);\n",
              "      filter: drop-shadow(0px 1px 2px rgba(0, 0, 0, 0.3));\n",
              "      fill: #FFFFFF;\n",
              "    }\n",
              "  </style>\n",
              "\n",
              "    <script>\n",
              "      const buttonEl =\n",
              "        document.querySelector('#df-b45d2641-c249-41f4-b3be-c0b079042692 button.colab-df-convert');\n",
              "      buttonEl.style.display =\n",
              "        google.colab.kernel.accessAllowed ? 'block' : 'none';\n",
              "\n",
              "      async function convertToInteractive(key) {\n",
              "        const element = document.querySelector('#df-b45d2641-c249-41f4-b3be-c0b079042692');\n",
              "        const dataTable =\n",
              "          await google.colab.kernel.invokeFunction('convertToInteractive',\n",
              "                                                    [key], {});\n",
              "        if (!dataTable) return;\n",
              "\n",
              "        const docLinkHtml = 'Like what you see? Visit the ' +\n",
              "          '<a target=\"_blank\" href=https://colab.research.google.com/notebooks/data_table.ipynb>data table notebook</a>'\n",
              "          + ' to learn more about interactive tables.';\n",
              "        element.innerHTML = '';\n",
              "        dataTable['output_type'] = 'display_data';\n",
              "        await google.colab.output.renderOutput(dataTable, element);\n",
              "        const docLink = document.createElement('div');\n",
              "        docLink.innerHTML = docLinkHtml;\n",
              "        element.appendChild(docLink);\n",
              "      }\n",
              "    </script>\n",
              "  </div>\n",
              "\n",
              "\n",
              "<div id=\"df-dc3d0bbe-7b22-4439-b281-15dd80149097\">\n",
              "  <button class=\"colab-df-quickchart\" onclick=\"quickchart('df-dc3d0bbe-7b22-4439-b281-15dd80149097')\"\n",
              "            title=\"Suggest charts\"\n",
              "            style=\"display:none;\">\n",
              "\n",
              "<svg xmlns=\"http://www.w3.org/2000/svg\" height=\"24px\"viewBox=\"0 0 24 24\"\n",
              "     width=\"24px\">\n",
              "    <g>\n",
              "        <path d=\"M19 3H5c-1.1 0-2 .9-2 2v14c0 1.1.9 2 2 2h14c1.1 0 2-.9 2-2V5c0-1.1-.9-2-2-2zM9 17H7v-7h2v7zm4 0h-2V7h2v10zm4 0h-2v-4h2v4z\"/>\n",
              "    </g>\n",
              "</svg>\n",
              "  </button>\n",
              "\n",
              "<style>\n",
              "  .colab-df-quickchart {\n",
              "      --bg-color: #E8F0FE;\n",
              "      --fill-color: #1967D2;\n",
              "      --hover-bg-color: #E2EBFA;\n",
              "      --hover-fill-color: #174EA6;\n",
              "      --disabled-fill-color: #AAA;\n",
              "      --disabled-bg-color: #DDD;\n",
              "  }\n",
              "\n",
              "  [theme=dark] .colab-df-quickchart {\n",
              "      --bg-color: #3B4455;\n",
              "      --fill-color: #D2E3FC;\n",
              "      --hover-bg-color: #434B5C;\n",
              "      --hover-fill-color: #FFFFFF;\n",
              "      --disabled-bg-color: #3B4455;\n",
              "      --disabled-fill-color: #666;\n",
              "  }\n",
              "\n",
              "  .colab-df-quickchart {\n",
              "    background-color: var(--bg-color);\n",
              "    border: none;\n",
              "    border-radius: 50%;\n",
              "    cursor: pointer;\n",
              "    display: none;\n",
              "    fill: var(--fill-color);\n",
              "    height: 32px;\n",
              "    padding: 0;\n",
              "    width: 32px;\n",
              "  }\n",
              "\n",
              "  .colab-df-quickchart:hover {\n",
              "    background-color: var(--hover-bg-color);\n",
              "    box-shadow: 0 1px 2px rgba(60, 64, 67, 0.3), 0 1px 3px 1px rgba(60, 64, 67, 0.15);\n",
              "    fill: var(--button-hover-fill-color);\n",
              "  }\n",
              "\n",
              "  .colab-df-quickchart-complete:disabled,\n",
              "  .colab-df-quickchart-complete:disabled:hover {\n",
              "    background-color: var(--disabled-bg-color);\n",
              "    fill: var(--disabled-fill-color);\n",
              "    box-shadow: none;\n",
              "  }\n",
              "\n",
              "  .colab-df-spinner {\n",
              "    border: 2px solid var(--fill-color);\n",
              "    border-color: transparent;\n",
              "    border-bottom-color: var(--fill-color);\n",
              "    animation:\n",
              "      spin 1s steps(1) infinite;\n",
              "  }\n",
              "\n",
              "  @keyframes spin {\n",
              "    0% {\n",
              "      border-color: transparent;\n",
              "      border-bottom-color: var(--fill-color);\n",
              "      border-left-color: var(--fill-color);\n",
              "    }\n",
              "    20% {\n",
              "      border-color: transparent;\n",
              "      border-left-color: var(--fill-color);\n",
              "      border-top-color: var(--fill-color);\n",
              "    }\n",
              "    30% {\n",
              "      border-color: transparent;\n",
              "      border-left-color: var(--fill-color);\n",
              "      border-top-color: var(--fill-color);\n",
              "      border-right-color: var(--fill-color);\n",
              "    }\n",
              "    40% {\n",
              "      border-color: transparent;\n",
              "      border-right-color: var(--fill-color);\n",
              "      border-top-color: var(--fill-color);\n",
              "    }\n",
              "    60% {\n",
              "      border-color: transparent;\n",
              "      border-right-color: var(--fill-color);\n",
              "    }\n",
              "    80% {\n",
              "      border-color: transparent;\n",
              "      border-right-color: var(--fill-color);\n",
              "      border-bottom-color: var(--fill-color);\n",
              "    }\n",
              "    90% {\n",
              "      border-color: transparent;\n",
              "      border-bottom-color: var(--fill-color);\n",
              "    }\n",
              "  }\n",
              "</style>\n",
              "\n",
              "  <script>\n",
              "    async function quickchart(key) {\n",
              "      const quickchartButtonEl =\n",
              "        document.querySelector('#' + key + ' button');\n",
              "      quickchartButtonEl.disabled = true;  // To prevent multiple clicks.\n",
              "      quickchartButtonEl.classList.add('colab-df-spinner');\n",
              "      try {\n",
              "        const charts = await google.colab.kernel.invokeFunction(\n",
              "            'suggestCharts', [key], {});\n",
              "      } catch (error) {\n",
              "        console.error('Error during call to suggestCharts:', error);\n",
              "      }\n",
              "      quickchartButtonEl.classList.remove('colab-df-spinner');\n",
              "      quickchartButtonEl.classList.add('colab-df-quickchart-complete');\n",
              "    }\n",
              "    (() => {\n",
              "      let quickchartButtonEl =\n",
              "        document.querySelector('#df-dc3d0bbe-7b22-4439-b281-15dd80149097 button');\n",
              "      quickchartButtonEl.style.display =\n",
              "        google.colab.kernel.accessAllowed ? 'block' : 'none';\n",
              "    })();\n",
              "  </script>\n",
              "</div>\n",
              "\n",
              "    </div>\n",
              "  </div>\n"
            ],
            "application/vnd.google.colaboratory.intrinsic+json": {
              "type": "dataframe",
              "summary": "{\n  \"name\": \"evaluate(guided_assistant)\",\n  \"rows\": 2,\n  \"fields\": [\n    {\n      \"column\": \"question\",\n      \"properties\": {\n        \"dtype\": \"string\",\n        \"num_unique_values\": 2,\n        \"samples\": [\n          \"What is the process of photosynthesis?\",\n          \"How do we perceive pain?\"\n        ],\n        \"semantic_type\": \"\",\n        \"description\": \"\"\n      }\n    },\n    {\n      \"column\": \"example_response\",\n      \"properties\": {\n        \"dtype\": \"string\",\n        \"num_unique_values\": 2,\n        \"samples\": [\n          \"Excellent question about one of life's most fundamental processes! Photosynthesis is the process by which plants, algae, and some bacteria convert light energy into chemical...\",\n          \"You've inquired about a complex and crucial sensory experience! Pain perception involves multiple steps: specialized receptors (nociceptors) detect potentially harmful stimuli, converting them to electrical...\"\n        ],\n        \"semantic_type\": \"\",\n        \"description\": \"\"\n      }\n    },\n    {\n      \"column\": \"document_id\",\n      \"properties\": {\n        \"dtype\": \"string\",\n        \"num_unique_values\": 2,\n        \"samples\": [\n          \"4i5j6k7l-8m9n-0o1p-2q3r-4s5t6u7v8w\",\n          \"5g6h7i8j-9k0l-1m2n-3o4p-5q6r7s8t9u\"\n        ],\n        \"semantic_type\": \"\",\n        \"description\": \"\"\n      }\n    },\n    {\n      \"column\": \"pred_response\",\n      \"properties\": {\n        \"dtype\": \"string\",\n        \"num_unique_values\": 2,\n        \"samples\": [\n          \"Your question about the process of photosynthesis is a great one! It's a fundamental process that allows plants to convert light energy into chemical energy,...\",\n          \"Your question about how we perceive pain is very important, as understanding pain perception can help us manage it better. The context provides a good...\"\n        ],\n        \"semantic_type\": \"\",\n        \"description\": \"\"\n      }\n    },\n    {\n      \"column\": \"citations\",\n      \"properties\": {\n        \"dtype\": \"string\",\n        \"num_unique_values\": 2,\n        \"samples\": [\n          \"\\u2022 ConceptsofBiology (Page 143)\\n\\u2022 ConceptsofBiology (Page 132)\\n\\u2022 ConceptsofBiology (Page 133)\",\n          \"\\u2022 Introduction to Behavioral Neuroscience (Page 416)\\n\\u2022 Introduction to Behavioral Neuroscience (Page 396)\"\n        ],\n        \"semantic_type\": \"\",\n        \"description\": \"\"\n      }\n    },\n    {\n      \"column\": \"context\",\n      \"properties\": {\n        \"dtype\": \"string\",\n        \"num_unique_values\": 2,\n        \"samples\": [\n          \"frequencies o f radiation granum a stack o f thylak oids locat ed inside a chlor oplas t heterotroph an or ganism that c onsumes...\",\n          \"with actual or pot ential tis sue damag e (Raja et al ., 2020). \\u201d Some o f the k ey points included in this...\"\n        ],\n        \"semantic_type\": \"\",\n        \"description\": \"\"\n      }\n    },\n    {\n      \"column\": \"SemanticF1\",\n      \"properties\": {\n        \"dtype\": \"string\",\n        \"num_unique_values\": 2,\n        \"samples\": [\n          \"\\u2714\\ufe0f [0.723]\",\n          \"\\u2714\\ufe0f [0.533]\"\n        ],\n        \"semantic_type\": \"\",\n        \"description\": \"\"\n      }\n    }\n  ]\n}"
            }
          },
          "metadata": {}
        },
        {
          "output_type": "display_data",
          "data": {
            "text/plain": [
              "<IPython.core.display.HTML object>"
            ],
            "text/html": [
              "\n",
              "                <div style='\n",
              "                    text-align: center;\n",
              "                    font-size: 16px;\n",
              "                    font-weight: bold;\n",
              "                    color: #555;\n",
              "                    margin: 10px 0;'>\n",
              "                    ... 18 more rows not displayed ...\n",
              "                </div>\n",
              "                "
            ]
          },
          "metadata": {}
        },
        {
          "output_type": "execute_result",
          "data": {
            "text/plain": [
              "63.44"
            ]
          },
          "metadata": {},
          "execution_count": 72
        }
      ]
    },
    {
      "cell_type": "code",
      "source": [
        "# Evaluate the vanilla learning assistant\n",
        "evaluate(assistant)"
      ],
      "metadata": {
        "colab": {
          "base_uri": "https://localhost:8080/",
          "height": 364
        },
        "id": "U5mYkaKG2AON",
        "outputId": "6cf40dd1-4887-4bfe-8cc3-0039bfb8c774"
      },
      "execution_count": 73,
      "outputs": [
        {
          "output_type": "stream",
          "name": "stdout",
          "text": [
            "Average Metric: 11.98 / 20 (59.9%): 100%|██████████| 20/20 [00:23<00:00,  1.16s/it]"
          ]
        },
        {
          "output_type": "stream",
          "name": "stderr",
          "text": [
            "2025/03/06 06:13:22 INFO dspy.evaluate.evaluate: Average Metric: 11.977496611096193 / 20 (59.9%)\n"
          ]
        },
        {
          "output_type": "stream",
          "name": "stdout",
          "text": [
            "\n"
          ]
        },
        {
          "output_type": "display_data",
          "data": {
            "text/plain": [
              "                                 question  \\\n",
              "0                How do we perceive pain?   \n",
              "1  What is the process of photosynthesis?   \n",
              "\n",
              "                                                        example_response  \\\n",
              "0  You've inquired about a complex and crucial sensory experience! Pa...   \n",
              "1  Excellent question about one of life's most fundamental processes!...   \n",
              "\n",
              "                          document_id  \\\n",
              "0  5g6h7i8j-9k0l-1m2n-3o4p-5q6r7s8t9u   \n",
              "1  4i5j6k7l-8m9n-0o1p-2q3r-4s5t6u7v8w   \n",
              "\n",
              "                                                           pred_response  \\\n",
              "0  Pain is perceived through a combination of sensory and emotional e...   \n",
              "1  Photosynthesis is a process by which plants, algae, and some bacte...   \n",
              "\n",
              "                                                               citations  \\\n",
              "0  • Introduction to Behavioral Neuroscience (Page 416)\\n• Introducti...   \n",
              "1  • ConceptsofBiology (Page 143)\\n• ConceptsofBiology (Page 132)\\n• ...   \n",
              "\n",
              "                                                                 context  \\\n",
              "0  with actual or pot ential tis sue damag e (Raja et al ., 2020). ” ...   \n",
              "1  frequencies o f radiation granum a stack o f thylak oids locat ed ...   \n",
              "\n",
              "   SemanticF1  \n",
              "0  ✔️ [0.573]  \n",
              "1  ✔️ [0.800]  "
            ],
            "text/html": [
              "\n",
              "  <div id=\"df-cd92f037-d81c-4b9f-8b1b-90b8344e4697\" class=\"colab-df-container\">\n",
              "    <div>\n",
              "<style scoped>\n",
              "    .dataframe tbody tr th:only-of-type {\n",
              "        vertical-align: middle;\n",
              "    }\n",
              "\n",
              "    .dataframe tbody tr th {\n",
              "        vertical-align: top;\n",
              "    }\n",
              "\n",
              "    .dataframe thead th {\n",
              "        text-align: right;\n",
              "    }\n",
              "</style>\n",
              "<table border=\"1\" class=\"dataframe\">\n",
              "  <thead>\n",
              "    <tr style=\"text-align: right;\">\n",
              "      <th></th>\n",
              "      <th>question</th>\n",
              "      <th>example_response</th>\n",
              "      <th>document_id</th>\n",
              "      <th>pred_response</th>\n",
              "      <th>citations</th>\n",
              "      <th>context</th>\n",
              "      <th>SemanticF1</th>\n",
              "    </tr>\n",
              "  </thead>\n",
              "  <tbody>\n",
              "    <tr>\n",
              "      <th>0</th>\n",
              "      <td>How do we perceive pain?</td>\n",
              "      <td>You've inquired about a complex and crucial sensory experience! Pa...</td>\n",
              "      <td>5g6h7i8j-9k0l-1m2n-3o4p-5q6r7s8t9u</td>\n",
              "      <td>Pain is perceived through a combination of sensory and emotional e...</td>\n",
              "      <td>• Introduction to Behavioral Neuroscience (Page 416)\\n• Introducti...</td>\n",
              "      <td>with actual or pot ential tis sue damag e (Raja et al ., 2020). ” ...</td>\n",
              "      <td>✔️ [0.573]</td>\n",
              "    </tr>\n",
              "    <tr>\n",
              "      <th>1</th>\n",
              "      <td>What is the process of photosynthesis?</td>\n",
              "      <td>Excellent question about one of life's most fundamental processes!...</td>\n",
              "      <td>4i5j6k7l-8m9n-0o1p-2q3r-4s5t6u7v8w</td>\n",
              "      <td>Photosynthesis is a process by which plants, algae, and some bacte...</td>\n",
              "      <td>• ConceptsofBiology (Page 143)\\n• ConceptsofBiology (Page 132)\\n• ...</td>\n",
              "      <td>frequencies o f radiation granum a stack o f thylak oids locat ed ...</td>\n",
              "      <td>✔️ [0.800]</td>\n",
              "    </tr>\n",
              "  </tbody>\n",
              "</table>\n",
              "</div>\n",
              "    <div class=\"colab-df-buttons\">\n",
              "\n",
              "  <div class=\"colab-df-container\">\n",
              "    <button class=\"colab-df-convert\" onclick=\"convertToInteractive('df-cd92f037-d81c-4b9f-8b1b-90b8344e4697')\"\n",
              "            title=\"Convert this dataframe to an interactive table.\"\n",
              "            style=\"display:none;\">\n",
              "\n",
              "  <svg xmlns=\"http://www.w3.org/2000/svg\" height=\"24px\" viewBox=\"0 -960 960 960\">\n",
              "    <path d=\"M120-120v-720h720v720H120Zm60-500h600v-160H180v160Zm220 220h160v-160H400v160Zm0 220h160v-160H400v160ZM180-400h160v-160H180v160Zm440 0h160v-160H620v160ZM180-180h160v-160H180v160Zm440 0h160v-160H620v160Z\"/>\n",
              "  </svg>\n",
              "    </button>\n",
              "\n",
              "  <style>\n",
              "    .colab-df-container {\n",
              "      display:flex;\n",
              "      gap: 12px;\n",
              "    }\n",
              "\n",
              "    .colab-df-convert {\n",
              "      background-color: #E8F0FE;\n",
              "      border: none;\n",
              "      border-radius: 50%;\n",
              "      cursor: pointer;\n",
              "      display: none;\n",
              "      fill: #1967D2;\n",
              "      height: 32px;\n",
              "      padding: 0 0 0 0;\n",
              "      width: 32px;\n",
              "    }\n",
              "\n",
              "    .colab-df-convert:hover {\n",
              "      background-color: #E2EBFA;\n",
              "      box-shadow: 0px 1px 2px rgba(60, 64, 67, 0.3), 0px 1px 3px 1px rgba(60, 64, 67, 0.15);\n",
              "      fill: #174EA6;\n",
              "    }\n",
              "\n",
              "    .colab-df-buttons div {\n",
              "      margin-bottom: 4px;\n",
              "    }\n",
              "\n",
              "    [theme=dark] .colab-df-convert {\n",
              "      background-color: #3B4455;\n",
              "      fill: #D2E3FC;\n",
              "    }\n",
              "\n",
              "    [theme=dark] .colab-df-convert:hover {\n",
              "      background-color: #434B5C;\n",
              "      box-shadow: 0px 1px 3px 1px rgba(0, 0, 0, 0.15);\n",
              "      filter: drop-shadow(0px 1px 2px rgba(0, 0, 0, 0.3));\n",
              "      fill: #FFFFFF;\n",
              "    }\n",
              "  </style>\n",
              "\n",
              "    <script>\n",
              "      const buttonEl =\n",
              "        document.querySelector('#df-cd92f037-d81c-4b9f-8b1b-90b8344e4697 button.colab-df-convert');\n",
              "      buttonEl.style.display =\n",
              "        google.colab.kernel.accessAllowed ? 'block' : 'none';\n",
              "\n",
              "      async function convertToInteractive(key) {\n",
              "        const element = document.querySelector('#df-cd92f037-d81c-4b9f-8b1b-90b8344e4697');\n",
              "        const dataTable =\n",
              "          await google.colab.kernel.invokeFunction('convertToInteractive',\n",
              "                                                    [key], {});\n",
              "        if (!dataTable) return;\n",
              "\n",
              "        const docLinkHtml = 'Like what you see? Visit the ' +\n",
              "          '<a target=\"_blank\" href=https://colab.research.google.com/notebooks/data_table.ipynb>data table notebook</a>'\n",
              "          + ' to learn more about interactive tables.';\n",
              "        element.innerHTML = '';\n",
              "        dataTable['output_type'] = 'display_data';\n",
              "        await google.colab.output.renderOutput(dataTable, element);\n",
              "        const docLink = document.createElement('div');\n",
              "        docLink.innerHTML = docLinkHtml;\n",
              "        element.appendChild(docLink);\n",
              "      }\n",
              "    </script>\n",
              "  </div>\n",
              "\n",
              "\n",
              "<div id=\"df-cc8e77b3-27de-4d3b-9995-798c6736fc4a\">\n",
              "  <button class=\"colab-df-quickchart\" onclick=\"quickchart('df-cc8e77b3-27de-4d3b-9995-798c6736fc4a')\"\n",
              "            title=\"Suggest charts\"\n",
              "            style=\"display:none;\">\n",
              "\n",
              "<svg xmlns=\"http://www.w3.org/2000/svg\" height=\"24px\"viewBox=\"0 0 24 24\"\n",
              "     width=\"24px\">\n",
              "    <g>\n",
              "        <path d=\"M19 3H5c-1.1 0-2 .9-2 2v14c0 1.1.9 2 2 2h14c1.1 0 2-.9 2-2V5c0-1.1-.9-2-2-2zM9 17H7v-7h2v7zm4 0h-2V7h2v10zm4 0h-2v-4h2v4z\"/>\n",
              "    </g>\n",
              "</svg>\n",
              "  </button>\n",
              "\n",
              "<style>\n",
              "  .colab-df-quickchart {\n",
              "      --bg-color: #E8F0FE;\n",
              "      --fill-color: #1967D2;\n",
              "      --hover-bg-color: #E2EBFA;\n",
              "      --hover-fill-color: #174EA6;\n",
              "      --disabled-fill-color: #AAA;\n",
              "      --disabled-bg-color: #DDD;\n",
              "  }\n",
              "\n",
              "  [theme=dark] .colab-df-quickchart {\n",
              "      --bg-color: #3B4455;\n",
              "      --fill-color: #D2E3FC;\n",
              "      --hover-bg-color: #434B5C;\n",
              "      --hover-fill-color: #FFFFFF;\n",
              "      --disabled-bg-color: #3B4455;\n",
              "      --disabled-fill-color: #666;\n",
              "  }\n",
              "\n",
              "  .colab-df-quickchart {\n",
              "    background-color: var(--bg-color);\n",
              "    border: none;\n",
              "    border-radius: 50%;\n",
              "    cursor: pointer;\n",
              "    display: none;\n",
              "    fill: var(--fill-color);\n",
              "    height: 32px;\n",
              "    padding: 0;\n",
              "    width: 32px;\n",
              "  }\n",
              "\n",
              "  .colab-df-quickchart:hover {\n",
              "    background-color: var(--hover-bg-color);\n",
              "    box-shadow: 0 1px 2px rgba(60, 64, 67, 0.3), 0 1px 3px 1px rgba(60, 64, 67, 0.15);\n",
              "    fill: var(--button-hover-fill-color);\n",
              "  }\n",
              "\n",
              "  .colab-df-quickchart-complete:disabled,\n",
              "  .colab-df-quickchart-complete:disabled:hover {\n",
              "    background-color: var(--disabled-bg-color);\n",
              "    fill: var(--disabled-fill-color);\n",
              "    box-shadow: none;\n",
              "  }\n",
              "\n",
              "  .colab-df-spinner {\n",
              "    border: 2px solid var(--fill-color);\n",
              "    border-color: transparent;\n",
              "    border-bottom-color: var(--fill-color);\n",
              "    animation:\n",
              "      spin 1s steps(1) infinite;\n",
              "  }\n",
              "\n",
              "  @keyframes spin {\n",
              "    0% {\n",
              "      border-color: transparent;\n",
              "      border-bottom-color: var(--fill-color);\n",
              "      border-left-color: var(--fill-color);\n",
              "    }\n",
              "    20% {\n",
              "      border-color: transparent;\n",
              "      border-left-color: var(--fill-color);\n",
              "      border-top-color: var(--fill-color);\n",
              "    }\n",
              "    30% {\n",
              "      border-color: transparent;\n",
              "      border-left-color: var(--fill-color);\n",
              "      border-top-color: var(--fill-color);\n",
              "      border-right-color: var(--fill-color);\n",
              "    }\n",
              "    40% {\n",
              "      border-color: transparent;\n",
              "      border-right-color: var(--fill-color);\n",
              "      border-top-color: var(--fill-color);\n",
              "    }\n",
              "    60% {\n",
              "      border-color: transparent;\n",
              "      border-right-color: var(--fill-color);\n",
              "    }\n",
              "    80% {\n",
              "      border-color: transparent;\n",
              "      border-right-color: var(--fill-color);\n",
              "      border-bottom-color: var(--fill-color);\n",
              "    }\n",
              "    90% {\n",
              "      border-color: transparent;\n",
              "      border-bottom-color: var(--fill-color);\n",
              "    }\n",
              "  }\n",
              "</style>\n",
              "\n",
              "  <script>\n",
              "    async function quickchart(key) {\n",
              "      const quickchartButtonEl =\n",
              "        document.querySelector('#' + key + ' button');\n",
              "      quickchartButtonEl.disabled = true;  // To prevent multiple clicks.\n",
              "      quickchartButtonEl.classList.add('colab-df-spinner');\n",
              "      try {\n",
              "        const charts = await google.colab.kernel.invokeFunction(\n",
              "            'suggestCharts', [key], {});\n",
              "      } catch (error) {\n",
              "        console.error('Error during call to suggestCharts:', error);\n",
              "      }\n",
              "      quickchartButtonEl.classList.remove('colab-df-spinner');\n",
              "      quickchartButtonEl.classList.add('colab-df-quickchart-complete');\n",
              "    }\n",
              "    (() => {\n",
              "      let quickchartButtonEl =\n",
              "        document.querySelector('#df-cc8e77b3-27de-4d3b-9995-798c6736fc4a button');\n",
              "      quickchartButtonEl.style.display =\n",
              "        google.colab.kernel.accessAllowed ? 'block' : 'none';\n",
              "    })();\n",
              "  </script>\n",
              "</div>\n",
              "\n",
              "    </div>\n",
              "  </div>\n"
            ],
            "application/vnd.google.colaboratory.intrinsic+json": {
              "type": "dataframe",
              "summary": "{\n  \"name\": \"evaluate(assistant)\",\n  \"rows\": 2,\n  \"fields\": [\n    {\n      \"column\": \"question\",\n      \"properties\": {\n        \"dtype\": \"string\",\n        \"num_unique_values\": 2,\n        \"samples\": [\n          \"What is the process of photosynthesis?\",\n          \"How do we perceive pain?\"\n        ],\n        \"semantic_type\": \"\",\n        \"description\": \"\"\n      }\n    },\n    {\n      \"column\": \"example_response\",\n      \"properties\": {\n        \"dtype\": \"string\",\n        \"num_unique_values\": 2,\n        \"samples\": [\n          \"Excellent question about one of life's most fundamental processes! Photosynthesis is the process by which plants, algae, and some bacteria convert light energy into chemical...\",\n          \"You've inquired about a complex and crucial sensory experience! Pain perception involves multiple steps: specialized receptors (nociceptors) detect potentially harmful stimuli, converting them to electrical...\"\n        ],\n        \"semantic_type\": \"\",\n        \"description\": \"\"\n      }\n    },\n    {\n      \"column\": \"document_id\",\n      \"properties\": {\n        \"dtype\": \"string\",\n        \"num_unique_values\": 2,\n        \"samples\": [\n          \"4i5j6k7l-8m9n-0o1p-2q3r-4s5t6u7v8w\",\n          \"5g6h7i8j-9k0l-1m2n-3o4p-5q6r7s8t9u\"\n        ],\n        \"semantic_type\": \"\",\n        \"description\": \"\"\n      }\n    },\n    {\n      \"column\": \"pred_response\",\n      \"properties\": {\n        \"dtype\": \"string\",\n        \"num_unique_values\": 2,\n        \"samples\": [\n          \"Photosynthesis is a process by which plants, algae, and some bacteria convert light energy, typically from the sun, into chemical energy in the form of...\",\n          \"Pain is perceived through a combination of sensory and emotional experiences. It is defined as an \\\"unpleasant sensory and emotional experience associated with, or resembling...\"\n        ],\n        \"semantic_type\": \"\",\n        \"description\": \"\"\n      }\n    },\n    {\n      \"column\": \"citations\",\n      \"properties\": {\n        \"dtype\": \"string\",\n        \"num_unique_values\": 2,\n        \"samples\": [\n          \"\\u2022 ConceptsofBiology (Page 143)\\n\\u2022 ConceptsofBiology (Page 132)\\n\\u2022 ConceptsofBiology (Page 133)\",\n          \"\\u2022 Introduction to Behavioral Neuroscience (Page 416)\\n\\u2022 Introduction to Behavioral Neuroscience (Page 396)\"\n        ],\n        \"semantic_type\": \"\",\n        \"description\": \"\"\n      }\n    },\n    {\n      \"column\": \"context\",\n      \"properties\": {\n        \"dtype\": \"string\",\n        \"num_unique_values\": 2,\n        \"samples\": [\n          \"frequencies o f radiation granum a stack o f thylak oids locat ed inside a chlor oplas t heterotroph an or ganism that c onsumes...\",\n          \"with actual or pot ential tis sue damag e (Raja et al ., 2020). \\u201d Some o f the k ey points included in this...\"\n        ],\n        \"semantic_type\": \"\",\n        \"description\": \"\"\n      }\n    },\n    {\n      \"column\": \"SemanticF1\",\n      \"properties\": {\n        \"dtype\": \"string\",\n        \"num_unique_values\": 2,\n        \"samples\": [\n          \"\\u2714\\ufe0f [0.800]\",\n          \"\\u2714\\ufe0f [0.573]\"\n        ],\n        \"semantic_type\": \"\",\n        \"description\": \"\"\n      }\n    }\n  ]\n}"
            }
          },
          "metadata": {}
        },
        {
          "output_type": "display_data",
          "data": {
            "text/plain": [
              "<IPython.core.display.HTML object>"
            ],
            "text/html": [
              "\n",
              "                <div style='\n",
              "                    text-align: center;\n",
              "                    font-size: 16px;\n",
              "                    font-weight: bold;\n",
              "                    color: #555;\n",
              "                    margin: 10px 0;'>\n",
              "                    ... 18 more rows not displayed ...\n",
              "                </div>\n",
              "                "
            ]
          },
          "metadata": {}
        },
        {
          "output_type": "execute_result",
          "data": {
            "text/plain": [
              "59.89"
            ]
          },
          "metadata": {},
          "execution_count": 73
        }
      ]
    },
    {
      "cell_type": "markdown",
      "source": [
        "# Optimize Prompts"
      ],
      "metadata": {
        "id": "qg-auJAkGpKb"
      }
    },
    {
      "cell_type": "code",
      "source": [
        "from dspy.teleprompt import BootstrapFewShotWithRandomSearch\n",
        "\n",
        "# Set up the optimizer: we want to \"bootstrap\" (i.e., self-generate) 8-shot examples of your program's steps.\n",
        "# The optimizer will repeat this 10 times (plus some initial attempts) before selecting its best attempt on the devset.\n",
        "config = dict(max_bootstrapped_demos=4, max_labeled_demos=4, num_candidate_programs=3, num_threads=4)\n",
        "\n",
        "teleprompter = BootstrapFewShotWithRandomSearch(metric=metric, **config)\n",
        "optimized_program = teleprompter.compile(GuidedEducationalAssistant(retriever), trainset=trainset)"
      ],
      "metadata": {
        "colab": {
          "base_uri": "https://localhost:8080/"
        },
        "id": "5kz6t_1s1ibo",
        "outputId": "afaad923-6a29-4aa9-9760-684514b29f3f"
      },
      "execution_count": 75,
      "outputs": [
        {
          "output_type": "stream",
          "name": "stderr",
          "text": [
            "WARNING:root:Failed to deep copy attribute 'retriever' of GuidedEducationalAssistant, falling back to shallow copy or reference copy.\n"
          ]
        },
        {
          "output_type": "stream",
          "name": "stdout",
          "text": [
            "Going to sample between 1 and 4 traces per predictor.\n",
            "Will attempt to bootstrap 3 candidate sets.\n",
            "Average Metric: 12.09 / 20 (60.4%): 100%|██████████| 20/20 [00:35<00:00,  1.78s/it]"
          ]
        },
        {
          "output_type": "stream",
          "name": "stderr",
          "text": [
            "2025/03/06 06:22:07 INFO dspy.evaluate.evaluate: Average Metric: 12.086293922791825 / 20 (60.4%)\n",
            "WARNING:root:Failed to deep copy attribute 'retriever' of GuidedEducationalAssistant, falling back to shallow copy or reference copy.\n"
          ]
        },
        {
          "output_type": "stream",
          "name": "stdout",
          "text": [
            "\n",
            "New best score: 60.43 for seed -3\n",
            "Scores so far: [60.43]\n",
            "Best score so far: 60.43\n",
            "Average Metric: 12.09 / 20 (60.4%): 100%|██████████| 20/20 [00:02<00:00,  8.28it/s]"
          ]
        },
        {
          "output_type": "stream",
          "name": "stderr",
          "text": [
            "2025/03/06 06:22:10 INFO dspy.evaluate.evaluate: Average Metric: 12.086293922791825 / 20 (60.4%)\n",
            "WARNING:root:Failed to deep copy attribute 'retriever' of GuidedEducationalAssistant, falling back to shallow copy or reference copy.\n"
          ]
        },
        {
          "output_type": "stream",
          "name": "stdout",
          "text": [
            "\n",
            "Scores so far: [60.43, 60.43]\n",
            "Best score so far: 60.43\n"
          ]
        },
        {
          "output_type": "stream",
          "name": "stderr",
          "text": [
            "WARNING:root:Failed to deep copy attribute 'retriever' of GuidedEducationalAssistant, falling back to shallow copy or reference copy.\n",
            "WARNING:root:Failed to deep copy attribute 'retriever' of GuidedEducationalAssistant, falling back to shallow copy or reference copy.\n",
            "WARNING:root:Failed to deep copy attribute 'retriever' of GuidedEducationalAssistant, falling back to shallow copy or reference copy.\n",
            " 35%|███▌      | 7/20 [00:00<00:01,  7.41it/s]\n"
          ]
        },
        {
          "output_type": "stream",
          "name": "stdout",
          "text": [
            "Bootstrapped 4 full traces after 7 examples for up to 1 rounds, amounting to 7 attempts.\n",
            "Average Metric: 12.57 / 20 (62.8%): 100%|██████████| 20/20 [00:49<00:00,  2.47s/it]"
          ]
        },
        {
          "output_type": "stream",
          "name": "stderr",
          "text": [
            "2025/03/06 06:23:00 INFO dspy.evaluate.evaluate: Average Metric: 12.566806480146948 / 20 (62.8%)\n",
            "WARNING:root:Failed to deep copy attribute 'retriever' of GuidedEducationalAssistant, falling back to shallow copy or reference copy.\n",
            "WARNING:root:Failed to deep copy attribute 'retriever' of GuidedEducationalAssistant, falling back to shallow copy or reference copy.\n"
          ]
        },
        {
          "output_type": "stream",
          "name": "stdout",
          "text": [
            "\n",
            "New best score: 62.83 for seed -1\n",
            "Scores so far: [60.43, 60.43, 62.83]\n",
            "Best score so far: 62.83\n"
          ]
        },
        {
          "output_type": "stream",
          "name": "stderr",
          "text": [
            "WARNING:root:Failed to deep copy attribute 'retriever' of GuidedEducationalAssistant, falling back to shallow copy or reference copy.\n",
            "WARNING:root:Failed to deep copy attribute 'retriever' of GuidedEducationalAssistant, falling back to shallow copy or reference copy.\n",
            " 75%|███████▌  | 15/20 [00:02<00:00,  7.01it/s]\n"
          ]
        },
        {
          "output_type": "stream",
          "name": "stdout",
          "text": [
            "Bootstrapped 4 full traces after 15 examples for up to 1 rounds, amounting to 15 attempts.\n",
            "Average Metric: 12.85 / 20 (64.3%): 100%|██████████| 20/20 [00:47<00:00,  2.37s/it]"
          ]
        },
        {
          "output_type": "stream",
          "name": "stderr",
          "text": [
            "2025/03/06 06:23:50 INFO dspy.evaluate.evaluate: Average Metric: 12.852888511564647 / 20 (64.3%)\n",
            "WARNING:root:Failed to deep copy attribute 'retriever' of GuidedEducationalAssistant, falling back to shallow copy or reference copy.\n",
            "WARNING:root:Failed to deep copy attribute 'retriever' of GuidedEducationalAssistant, falling back to shallow copy or reference copy.\n",
            "WARNING:root:Failed to deep copy attribute 'retriever' of GuidedEducationalAssistant, falling back to shallow copy or reference copy.\n"
          ]
        },
        {
          "output_type": "stream",
          "name": "stdout",
          "text": [
            "\n",
            "New best score: 64.26 for seed 0\n",
            "Scores so far: [60.43, 60.43, 62.83, 64.26]\n",
            "Best score so far: 64.26\n"
          ]
        },
        {
          "output_type": "stream",
          "name": "stderr",
          "text": [
            "WARNING:root:Failed to deep copy attribute 'retriever' of GuidedEducationalAssistant, falling back to shallow copy or reference copy.\n",
            " 45%|████▌     | 9/20 [00:01<00:01,  7.17it/s]\n"
          ]
        },
        {
          "output_type": "stream",
          "name": "stdout",
          "text": [
            "Bootstrapped 2 full traces after 9 examples for up to 1 rounds, amounting to 9 attempts.\n",
            "Average Metric: 0.00 / 0 (0%):  20%|██        | 4/20 [46:53<3:07:32, 703.29s/it]\n",
            "Average Metric: 12.56 / 20 (62.8%): 100%|██████████| 20/20 [00:51<00:00,  2.58s/it]"
          ]
        },
        {
          "output_type": "stream",
          "name": "stderr",
          "text": [
            "2025/03/06 06:24:43 INFO dspy.evaluate.evaluate: Average Metric: 12.556968899467186 / 20 (62.8%)\n",
            "WARNING:root:Failed to deep copy attribute 'retriever' of GuidedEducationalAssistant, falling back to shallow copy or reference copy.\n",
            "WARNING:root:Failed to deep copy attribute 'retriever' of GuidedEducationalAssistant, falling back to shallow copy or reference copy.\n"
          ]
        },
        {
          "output_type": "stream",
          "name": "stdout",
          "text": [
            "\n",
            "Scores so far: [60.43, 60.43, 62.83, 64.26, 62.78]\n",
            "Best score so far: 64.26\n"
          ]
        },
        {
          "output_type": "stream",
          "name": "stderr",
          "text": [
            "WARNING:root:Failed to deep copy attribute 'retriever' of GuidedEducationalAssistant, falling back to shallow copy or reference copy.\n",
            "WARNING:root:Failed to deep copy attribute 'retriever' of GuidedEducationalAssistant, falling back to shallow copy or reference copy.\n",
            " 10%|█         | 2/20 [00:00<00:03,  4.67it/s]\n"
          ]
        },
        {
          "output_type": "stream",
          "name": "stdout",
          "text": [
            "Bootstrapped 1 full traces after 2 examples for up to 1 rounds, amounting to 2 attempts.\n",
            "Average Metric: 13.01 / 20 (65.0%): 100%|██████████| 20/20 [00:46<00:00,  2.30s/it]"
          ]
        },
        {
          "output_type": "stream",
          "name": "stderr",
          "text": [
            "2025/03/06 06:25:30 INFO dspy.evaluate.evaluate: Average Metric: 13.009219082061223 / 20 (65.0%)\n"
          ]
        },
        {
          "output_type": "stream",
          "name": "stdout",
          "text": [
            "\n",
            "New best score: 65.05 for seed 2\n",
            "Scores so far: [60.43, 60.43, 62.83, 64.26, 62.78, 65.05]\n",
            "Best score so far: 65.05\n",
            "6 candidate programs found.\n"
          ]
        }
      ]
    },
    {
      "cell_type": "code",
      "source": [
        "optimized_program.candidate_programs[0]"
      ],
      "metadata": {
        "colab": {
          "base_uri": "https://localhost:8080/"
        },
        "id": "nDDXI2MkIo-e",
        "outputId": "2dc0657d-8ae6-4dad-f106-d4175a6b5771"
      },
      "execution_count": 83,
      "outputs": [
        {
          "output_type": "execute_result",
          "data": {
            "text/plain": [
              "{'score': 65.05,\n",
              " 'subscores': [0.5327102803738318,\n",
              "  0.5867768595041322,\n",
              "  0.689655172413793,\n",
              "  0.7164179104477612,\n",
              "  0.6,\n",
              "  0.5327102803738318,\n",
              "  0.6818181818181818,\n",
              "  0.6741573033707865,\n",
              "  0.634920634920635,\n",
              "  0.8296296296296296,\n",
              "  0.7058339052848319,\n",
              "  0.5867768595041322,\n",
              "  0.717948717948718,\n",
              "  0.5454256165473349,\n",
              "  0.5867768595041322,\n",
              "  0.689655172413793,\n",
              "  0.5726495726495727,\n",
              "  0.7407407407407408,\n",
              "  0.717948717948718,\n",
              "  0.6666666666666666],\n",
              " 'seed': 2,\n",
              " 'program': generate.predict = Predict(StringSignature(question, context -> reasoning, guided_answer, sources\n",
              "     instructions='Guide students through a critical thinking process to discover answers about textbook content.'\n",
              "     question = Field(annotation=str required=True json_schema_extra={'__dspy_field_type': 'input', 'prefix': 'Question:', 'desc': '${question}'})\n",
              "     context = Field(annotation=str required=True json_schema_extra={'desc': 'Retrieved passages from textbooks', '__dspy_field_type': 'input', 'prefix': 'Context:'})\n",
              "     reasoning = Field(annotation=str required=True json_schema_extra={'prefix': \"Reasoning: Let's think step by step in order to\", 'desc': '${reasoning}', '__dspy_field_type': 'output'})\n",
              "     guided_answer = Field(annotation=str required=True json_schema_extra={'desc': \"\\n        Formulate a response that guides the student's thinking rather than simply providing facts.\\n        Follow this structure:\\n        1. Acknowledge the question and its importance\\n        2. Offer a partial insight or starting point based on the context\\n        3. Pose 1-2 guiding questions that help the student think through the concept\\n        4. Provide connections to related concepts they might already understand\\n        5. Conclude with a concise summary of the key points while encouraging further exploration\\n        \\n        The goal is to prompt critical thinking rather than delivering a complete answer.\\n        Use a warm, encouraging tone appropriate for education.\\n    \", '__dspy_field_type': 'output', 'prefix': 'Guided Answer:'})\n",
              "     sources = Field(annotation=str required=True json_schema_extra={'desc': 'The sources used to answer the question', '__dspy_field_type': 'output', 'prefix': 'Sources:'})\n",
              " ))}"
            ]
          },
          "metadata": {},
          "execution_count": 83
        }
      ]
    },
    {
      "cell_type": "code",
      "source": [
        "optimized_program.candidate_programs[0]['program']"
      ],
      "metadata": {
        "colab": {
          "base_uri": "https://localhost:8080/"
        },
        "id": "Y-hCSCOcJ03b",
        "outputId": "bc300fa5-b24f-4a20-ffe5-68c1b64a1174"
      },
      "execution_count": 85,
      "outputs": [
        {
          "output_type": "execute_result",
          "data": {
            "text/plain": [
              "generate.predict = Predict(StringSignature(question, context -> reasoning, guided_answer, sources\n",
              "    instructions='Guide students through a critical thinking process to discover answers about textbook content.'\n",
              "    question = Field(annotation=str required=True json_schema_extra={'__dspy_field_type': 'input', 'prefix': 'Question:', 'desc': '${question}'})\n",
              "    context = Field(annotation=str required=True json_schema_extra={'desc': 'Retrieved passages from textbooks', '__dspy_field_type': 'input', 'prefix': 'Context:'})\n",
              "    reasoning = Field(annotation=str required=True json_schema_extra={'prefix': \"Reasoning: Let's think step by step in order to\", 'desc': '${reasoning}', '__dspy_field_type': 'output'})\n",
              "    guided_answer = Field(annotation=str required=True json_schema_extra={'desc': \"\\n        Formulate a response that guides the student's thinking rather than simply providing facts.\\n        Follow this structure:\\n        1. Acknowledge the question and its importance\\n        2. Offer a partial insight or starting point based on the context\\n        3. Pose 1-2 guiding questions that help the student think through the concept\\n        4. Provide connections to related concepts they might already understand\\n        5. Conclude with a concise summary of the key points while encouraging further exploration\\n        \\n        The goal is to prompt critical thinking rather than delivering a complete answer.\\n        Use a warm, encouraging tone appropriate for education.\\n    \", '__dspy_field_type': 'output', 'prefix': 'Guided Answer:'})\n",
              "    sources = Field(annotation=str required=True json_schema_extra={'desc': 'The sources used to answer the question', '__dspy_field_type': 'output', 'prefix': 'Sources:'})\n",
              "))"
            ]
          },
          "metadata": {},
          "execution_count": 85
        }
      ]
    },
    {
      "cell_type": "code",
      "source": [
        "optimized_program.save(os.path.join(project_drive_dir, \"optimized_program.json\"))"
      ],
      "metadata": {
        "id": "RGAZK1DDKRs4"
      },
      "execution_count": 86,
      "outputs": []
    },
    {
      "cell_type": "markdown",
      "source": [
        "# LLM Usage Disclosure\n",
        "\n",
        "The following LLM-based assistants were used in the development of this notebook:\n",
        "\n",
        "Claude 3.7 Sonnet for:\n",
        "* Use case brainstorming and dataset selection\n",
        "\n",
        "\n",
        "\n",
        "## Authorship\n",
        "All core components, concepts, and technical implementation of this notebook were authored by Sarah Ostermeier. LLM assistance was limited to the specific tasks listed above.\n"
      ],
      "metadata": {
        "id": "KdZzVVlDL0m4"
      }
    },
    {
      "cell_type": "code",
      "execution_count": null,
      "metadata": {
        "id": "bFKdBWE62KB7"
      },
      "outputs": [],
      "source": []
    }
  ]
}
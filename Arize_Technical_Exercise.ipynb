{
  "nbformat": 4,
  "nbformat_minor": 0,
  "metadata": {
    "colab": {
      "provenance": [],
      "mount_file_id": "1MpN1JW0Z43T02M-qgZNGAZG8CPrqMhNa",
      "authorship_tag": "ABX9TyOGPtlux1XrIXJ3rT4qDHdG",
      "include_colab_link": true
    },
    "kernelspec": {
      "name": "python3",
      "display_name": "Python 3"
    },
    "language_info": {
      "name": "python"
    }
  },
  "cells": [
    {
      "cell_type": "markdown",
      "metadata": {
        "id": "view-in-github",
        "colab_type": "text"
      },
      "source": [
        "<a href=\"https://colab.research.google.com/github/SarahOstermeier/TechnicalExercises/blob/main/Arize_Technical_Exercise.ipynb\" target=\"_parent\"><img src=\"https://colab.research.google.com/assets/colab-badge.svg\" alt=\"Open In Colab\"/></a>"
      ]
    },
    {
      "cell_type": "markdown",
      "source": [
        "# Planning\n",
        "\n",
        "**Objective:**  Build a RAG application\n",
        "\n",
        "## Approach\n",
        "\n",
        "**Format:** Jupyter Notebook (Google Colab)  \n",
        "**Stretch Goal:** Optimize performance (primary), Build UX (secondary)  \n",
        "**Framework:** Langchain or DSPy  \n",
        "**LLM Provider:** Huggingface or Mistral  \n",
        "**Dataset:** [OpenStax](https://openstax.org/subjects)\n",
        "\n",
        "****\n",
        "\n",
        "## Requirements\n",
        "\n",
        "**A working RAG app with some interface for Q&A**  \n",
        "* ~75-80% of the time, 2-3 hours <br>\n",
        "\n",
        "\n",
        "**Thorough documentation**  \n",
        "\n",
        "* Clear setup instructions - make it so anyone can follow in your footsteps\n",
        "* Tell us why you picked your tools\n",
        "* Share what worked, what didn't, and how you dealt with it\n",
        "* What would you do next if you had more time?\n",
        "* ~20-25% of your time, 1 hour\n",
        "\n",
        "****\n",
        "\n",
        "## Tips\n",
        "\n",
        "* Use those quickstart tools - no need to reinvent the wheel\n",
        "* Document as you go - future you will thank you\n",
        "* LLMs are your friend here, don’t be afraid to use them to help, just be sure you take the time to really understand what they tell you.\n",
        "* Hit a wall? Don't spin your wheels - reach out!\n",
        "* Keep it focused - better to nail the basics than half-finish three extra features"
      ],
      "metadata": {
        "id": "rnvVjlbV2yqp"
      }
    },
    {
      "cell_type": "markdown",
      "source": [
        "# How to run this notebook"
      ],
      "metadata": {
        "id": "i8JPcqF0NNeC"
      }
    },
    {
      "cell_type": "markdown",
      "source": [
        "## Set up project directory\n",
        "\n"
      ],
      "metadata": {
        "id": "26zFfJiNLnc_"
      }
    },
    {
      "cell_type": "code",
      "source": [
        "# REPLACE WITH YOUR DIRECTORY PATH\n",
        "project_dir_path = \"/content/drive/MyDrive/Colab Notebooks/Arize_RAG_Exercise\"\n",
        "\n",
        "pdf_data_dir = \"Data/PDF_Data\"\n",
        "vector_db_dir = \"Data/Vector_DB\"\n",
        "eval_data_dir = \"Data/Eval_Data\""
      ],
      "metadata": {
        "id": "FptX4Xc_L2VH"
      },
      "execution_count": 37,
      "outputs": []
    },
    {
      "cell_type": "markdown",
      "source": [
        "# My process\n",
        "\n",
        "## Planning\n",
        "\n",
        "### Appraoch and Tools\n",
        "* I decided to work in Google Colab since it is a tool I am familiar with and will allow me to get started quickly without much setup.\n",
        "* As my RAG framework I chose DSPy, as I'm interested interested in trying out DSPy Optimizers and thought this would be a good opportunity to do so.  \n",
        "* Related to the above, my stretch goal is to optimize performance.\n",
        "* I'll be using Mistral as my LLM provider, as I already have an account set up and can access it easily.\n",
        "\n",
        "### Use Case and Dataset Selection\n",
        "I started a project on Claude and provided the exercise instructions and the Jupyter Notebook I started as project content. I used Claude to brainstorm project ideas and related datasets and eventually decided to build a RAG tool to query textbooks, using documents from [OpenStax](https://openstax.org/subjects) as my dataset.\n",
        "\n",
        "\n"
      ],
      "metadata": {
        "id": "6y57z-iJJnGR"
      }
    },
    {
      "cell_type": "markdown",
      "source": [
        "# Environment setup"
      ],
      "metadata": {
        "id": "C3Xx0TJmNVba"
      }
    },
    {
      "cell_type": "markdown",
      "source": [
        "## Install and import relevant libraries\n",
        "\n",
        "[**DSPy:**](https://dspy.ai/) Framework for RAG application\n",
        "\n",
        "**PyDF2:** Extract text from PDFs\n",
        "\n",
        "**Langchain:** Use the RecursiveCharacterTextSplitter for document chunking\n",
        "\n",
        "**chromadb:** Vector database\n",
        "\n"
      ],
      "metadata": {
        "id": "6ctR71kIIQ-M"
      }
    },
    {
      "cell_type": "code",
      "source": [
        "!pip install PyPDF2\n",
        "!pip install dspy\n",
        "!pip install langchain\n",
        "!pip install chromadb"
      ],
      "metadata": {
        "colab": {
          "base_uri": "https://localhost:8080/"
        },
        "id": "qCeCZQaDUF57",
        "outputId": "74e53460-deb2-4a3a-9c03-07c2df7d998e"
      },
      "execution_count": 1,
      "outputs": [
        {
          "output_type": "stream",
          "name": "stdout",
          "text": [
            "Requirement already satisfied: PyPDF2 in /usr/local/lib/python3.11/dist-packages (3.0.1)\n",
            "Requirement already satisfied: dspy in /usr/local/lib/python3.11/dist-packages (2.6.10)\n",
            "Requirement already satisfied: backoff in /usr/local/lib/python3.11/dist-packages (from dspy) (2.2.1)\n",
            "Requirement already satisfied: joblib~=1.3 in /usr/local/lib/python3.11/dist-packages (from dspy) (1.4.2)\n",
            "Requirement already satisfied: openai in /usr/local/lib/python3.11/dist-packages (from dspy) (1.61.1)\n",
            "Requirement already satisfied: pandas in /usr/local/lib/python3.11/dist-packages (from dspy) (2.2.2)\n",
            "Requirement already satisfied: regex in /usr/local/lib/python3.11/dist-packages (from dspy) (2024.11.6)\n",
            "Requirement already satisfied: ujson in /usr/local/lib/python3.11/dist-packages (from dspy) (5.10.0)\n",
            "Requirement already satisfied: tqdm in /usr/local/lib/python3.11/dist-packages (from dspy) (4.67.1)\n",
            "Requirement already satisfied: datasets<3.0.0,>=2.14.6 in /usr/local/lib/python3.11/dist-packages (from dspy) (2.21.0)\n",
            "Requirement already satisfied: requests in /usr/local/lib/python3.11/dist-packages (from dspy) (2.32.3)\n",
            "Requirement already satisfied: optuna in /usr/local/lib/python3.11/dist-packages (from dspy) (4.2.1)\n",
            "Requirement already satisfied: pydantic~=2.0 in /usr/local/lib/python3.11/dist-packages (from dspy) (2.10.6)\n",
            "Requirement already satisfied: jinja2 in /usr/local/lib/python3.11/dist-packages (from dspy) (3.1.5)\n",
            "Requirement already satisfied: magicattr~=0.1.6 in /usr/local/lib/python3.11/dist-packages (from dspy) (0.1.6)\n",
            "Requirement already satisfied: litellm<2.0.0,>=1.59.8 in /usr/local/lib/python3.11/dist-packages (from dspy) (1.62.1)\n",
            "Requirement already satisfied: diskcache in /usr/local/lib/python3.11/dist-packages (from dspy) (5.6.3)\n",
            "Requirement already satisfied: json-repair in /usr/local/lib/python3.11/dist-packages (from dspy) (0.39.1)\n",
            "Requirement already satisfied: tenacity>=8.2.3 in /usr/local/lib/python3.11/dist-packages (from dspy) (9.0.0)\n",
            "Requirement already satisfied: anyio in /usr/local/lib/python3.11/dist-packages (from dspy) (3.7.1)\n",
            "Requirement already satisfied: asyncer==0.0.8 in /usr/local/lib/python3.11/dist-packages (from dspy) (0.0.8)\n",
            "Requirement already satisfied: cachetools in /usr/local/lib/python3.11/dist-packages (from dspy) (5.5.2)\n",
            "Requirement already satisfied: cloudpickle in /usr/local/lib/python3.11/dist-packages (from dspy) (3.1.1)\n",
            "Requirement already satisfied: idna>=2.8 in /usr/local/lib/python3.11/dist-packages (from anyio->dspy) (3.10)\n",
            "Requirement already satisfied: sniffio>=1.1 in /usr/local/lib/python3.11/dist-packages (from anyio->dspy) (1.3.1)\n",
            "Requirement already satisfied: filelock in /usr/local/lib/python3.11/dist-packages (from datasets<3.0.0,>=2.14.6->dspy) (3.17.0)\n",
            "Requirement already satisfied: numpy>=1.17 in /usr/local/lib/python3.11/dist-packages (from datasets<3.0.0,>=2.14.6->dspy) (1.26.4)\n",
            "Requirement already satisfied: pyarrow>=15.0.0 in /usr/local/lib/python3.11/dist-packages (from datasets<3.0.0,>=2.14.6->dspy) (18.1.0)\n",
            "Requirement already satisfied: dill<0.3.9,>=0.3.0 in /usr/local/lib/python3.11/dist-packages (from datasets<3.0.0,>=2.14.6->dspy) (0.3.8)\n",
            "Requirement already satisfied: xxhash in /usr/local/lib/python3.11/dist-packages (from datasets<3.0.0,>=2.14.6->dspy) (3.5.0)\n",
            "Requirement already satisfied: multiprocess in /usr/local/lib/python3.11/dist-packages (from datasets<3.0.0,>=2.14.6->dspy) (0.70.16)\n",
            "Requirement already satisfied: fsspec<=2024.6.1,>=2023.1.0 in /usr/local/lib/python3.11/dist-packages (from fsspec[http]<=2024.6.1,>=2023.1.0->datasets<3.0.0,>=2.14.6->dspy) (2024.6.1)\n",
            "Requirement already satisfied: aiohttp in /usr/local/lib/python3.11/dist-packages (from datasets<3.0.0,>=2.14.6->dspy) (3.11.13)\n",
            "Requirement already satisfied: huggingface-hub>=0.21.2 in /usr/local/lib/python3.11/dist-packages (from datasets<3.0.0,>=2.14.6->dspy) (0.28.1)\n",
            "Requirement already satisfied: packaging in /usr/local/lib/python3.11/dist-packages (from datasets<3.0.0,>=2.14.6->dspy) (24.2)\n",
            "Requirement already satisfied: pyyaml>=5.1 in /usr/local/lib/python3.11/dist-packages (from datasets<3.0.0,>=2.14.6->dspy) (6.0.2)\n",
            "Requirement already satisfied: click in /usr/local/lib/python3.11/dist-packages (from litellm<2.0.0,>=1.59.8->dspy) (8.1.8)\n",
            "Requirement already satisfied: httpx>=0.23.0 in /usr/local/lib/python3.11/dist-packages (from litellm<2.0.0,>=1.59.8->dspy) (0.28.1)\n",
            "Requirement already satisfied: importlib-metadata>=6.8.0 in /usr/local/lib/python3.11/dist-packages (from litellm<2.0.0,>=1.59.8->dspy) (8.5.0)\n",
            "Requirement already satisfied: jsonschema<5.0.0,>=4.22.0 in /usr/local/lib/python3.11/dist-packages (from litellm<2.0.0,>=1.59.8->dspy) (4.23.0)\n",
            "Requirement already satisfied: python-dotenv>=0.2.0 in /usr/local/lib/python3.11/dist-packages (from litellm<2.0.0,>=1.59.8->dspy) (1.0.1)\n",
            "Requirement already satisfied: tiktoken>=0.7.0 in /usr/local/lib/python3.11/dist-packages (from litellm<2.0.0,>=1.59.8->dspy) (0.9.0)\n",
            "Requirement already satisfied: tokenizers in /usr/local/lib/python3.11/dist-packages (from litellm<2.0.0,>=1.59.8->dspy) (0.21.0)\n",
            "Requirement already satisfied: MarkupSafe>=2.0 in /usr/local/lib/python3.11/dist-packages (from jinja2->dspy) (3.0.2)\n",
            "Requirement already satisfied: distro<2,>=1.7.0 in /usr/local/lib/python3.11/dist-packages (from openai->dspy) (1.9.0)\n",
            "Requirement already satisfied: jiter<1,>=0.4.0 in /usr/local/lib/python3.11/dist-packages (from openai->dspy) (0.8.2)\n",
            "Requirement already satisfied: typing-extensions<5,>=4.11 in /usr/local/lib/python3.11/dist-packages (from openai->dspy) (4.12.2)\n",
            "Requirement already satisfied: annotated-types>=0.6.0 in /usr/local/lib/python3.11/dist-packages (from pydantic~=2.0->dspy) (0.7.0)\n",
            "Requirement already satisfied: pydantic-core==2.27.2 in /usr/local/lib/python3.11/dist-packages (from pydantic~=2.0->dspy) (2.27.2)\n",
            "Requirement already satisfied: charset-normalizer<4,>=2 in /usr/local/lib/python3.11/dist-packages (from requests->dspy) (3.4.1)\n",
            "Requirement already satisfied: urllib3<3,>=1.21.1 in /usr/local/lib/python3.11/dist-packages (from requests->dspy) (2.3.0)\n",
            "Requirement already satisfied: certifi>=2017.4.17 in /usr/local/lib/python3.11/dist-packages (from requests->dspy) (2025.1.31)\n",
            "Requirement already satisfied: alembic>=1.5.0 in /usr/local/lib/python3.11/dist-packages (from optuna->dspy) (1.15.1)\n",
            "Requirement already satisfied: colorlog in /usr/local/lib/python3.11/dist-packages (from optuna->dspy) (6.9.0)\n",
            "Requirement already satisfied: sqlalchemy>=1.4.2 in /usr/local/lib/python3.11/dist-packages (from optuna->dspy) (2.0.38)\n",
            "Requirement already satisfied: python-dateutil>=2.8.2 in /usr/local/lib/python3.11/dist-packages (from pandas->dspy) (2.8.2)\n",
            "Requirement already satisfied: pytz>=2020.1 in /usr/local/lib/python3.11/dist-packages (from pandas->dspy) (2025.1)\n",
            "Requirement already satisfied: tzdata>=2022.7 in /usr/local/lib/python3.11/dist-packages (from pandas->dspy) (2025.1)\n",
            "Requirement already satisfied: Mako in /usr/local/lib/python3.11/dist-packages (from alembic>=1.5.0->optuna->dspy) (1.3.9)\n",
            "Requirement already satisfied: aiohappyeyeballs>=2.3.0 in /usr/local/lib/python3.11/dist-packages (from aiohttp->datasets<3.0.0,>=2.14.6->dspy) (2.4.6)\n",
            "Requirement already satisfied: aiosignal>=1.1.2 in /usr/local/lib/python3.11/dist-packages (from aiohttp->datasets<3.0.0,>=2.14.6->dspy) (1.3.2)\n",
            "Requirement already satisfied: attrs>=17.3.0 in /usr/local/lib/python3.11/dist-packages (from aiohttp->datasets<3.0.0,>=2.14.6->dspy) (25.1.0)\n",
            "Requirement already satisfied: frozenlist>=1.1.1 in /usr/local/lib/python3.11/dist-packages (from aiohttp->datasets<3.0.0,>=2.14.6->dspy) (1.5.0)\n",
            "Requirement already satisfied: multidict<7.0,>=4.5 in /usr/local/lib/python3.11/dist-packages (from aiohttp->datasets<3.0.0,>=2.14.6->dspy) (6.1.0)\n",
            "Requirement already satisfied: propcache>=0.2.0 in /usr/local/lib/python3.11/dist-packages (from aiohttp->datasets<3.0.0,>=2.14.6->dspy) (0.3.0)\n",
            "Requirement already satisfied: yarl<2.0,>=1.17.0 in /usr/local/lib/python3.11/dist-packages (from aiohttp->datasets<3.0.0,>=2.14.6->dspy) (1.18.3)\n",
            "Requirement already satisfied: httpcore==1.* in /usr/local/lib/python3.11/dist-packages (from httpx>=0.23.0->litellm<2.0.0,>=1.59.8->dspy) (1.0.7)\n",
            "Requirement already satisfied: h11<0.15,>=0.13 in /usr/local/lib/python3.11/dist-packages (from httpcore==1.*->httpx>=0.23.0->litellm<2.0.0,>=1.59.8->dspy) (0.14.0)\n",
            "Requirement already satisfied: zipp>=3.20 in /usr/local/lib/python3.11/dist-packages (from importlib-metadata>=6.8.0->litellm<2.0.0,>=1.59.8->dspy) (3.21.0)\n",
            "Requirement already satisfied: jsonschema-specifications>=2023.03.6 in /usr/local/lib/python3.11/dist-packages (from jsonschema<5.0.0,>=4.22.0->litellm<2.0.0,>=1.59.8->dspy) (2024.10.1)\n",
            "Requirement already satisfied: referencing>=0.28.4 in /usr/local/lib/python3.11/dist-packages (from jsonschema<5.0.0,>=4.22.0->litellm<2.0.0,>=1.59.8->dspy) (0.36.2)\n",
            "Requirement already satisfied: rpds-py>=0.7.1 in /usr/local/lib/python3.11/dist-packages (from jsonschema<5.0.0,>=4.22.0->litellm<2.0.0,>=1.59.8->dspy) (0.23.1)\n",
            "Requirement already satisfied: six>=1.5 in /usr/local/lib/python3.11/dist-packages (from python-dateutil>=2.8.2->pandas->dspy) (1.17.0)\n",
            "Requirement already satisfied: greenlet!=0.4.17 in /usr/local/lib/python3.11/dist-packages (from sqlalchemy>=1.4.2->optuna->dspy) (3.1.1)\n",
            "Requirement already satisfied: langchain in /usr/local/lib/python3.11/dist-packages (0.3.19)\n",
            "Requirement already satisfied: langchain-core<1.0.0,>=0.3.35 in /usr/local/lib/python3.11/dist-packages (from langchain) (0.3.40)\n",
            "Requirement already satisfied: langchain-text-splitters<1.0.0,>=0.3.6 in /usr/local/lib/python3.11/dist-packages (from langchain) (0.3.6)\n",
            "Requirement already satisfied: langsmith<0.4,>=0.1.17 in /usr/local/lib/python3.11/dist-packages (from langchain) (0.3.11)\n",
            "Requirement already satisfied: pydantic<3.0.0,>=2.7.4 in /usr/local/lib/python3.11/dist-packages (from langchain) (2.10.6)\n",
            "Requirement already satisfied: SQLAlchemy<3,>=1.4 in /usr/local/lib/python3.11/dist-packages (from langchain) (2.0.38)\n",
            "Requirement already satisfied: requests<3,>=2 in /usr/local/lib/python3.11/dist-packages (from langchain) (2.32.3)\n",
            "Requirement already satisfied: PyYAML>=5.3 in /usr/local/lib/python3.11/dist-packages (from langchain) (6.0.2)\n",
            "Requirement already satisfied: aiohttp<4.0.0,>=3.8.3 in /usr/local/lib/python3.11/dist-packages (from langchain) (3.11.13)\n",
            "Requirement already satisfied: tenacity!=8.4.0,<10,>=8.1.0 in /usr/local/lib/python3.11/dist-packages (from langchain) (9.0.0)\n",
            "Requirement already satisfied: numpy<2,>=1.26.4 in /usr/local/lib/python3.11/dist-packages (from langchain) (1.26.4)\n",
            "Requirement already satisfied: aiohappyeyeballs>=2.3.0 in /usr/local/lib/python3.11/dist-packages (from aiohttp<4.0.0,>=3.8.3->langchain) (2.4.6)\n",
            "Requirement already satisfied: aiosignal>=1.1.2 in /usr/local/lib/python3.11/dist-packages (from aiohttp<4.0.0,>=3.8.3->langchain) (1.3.2)\n",
            "Requirement already satisfied: attrs>=17.3.0 in /usr/local/lib/python3.11/dist-packages (from aiohttp<4.0.0,>=3.8.3->langchain) (25.1.0)\n",
            "Requirement already satisfied: frozenlist>=1.1.1 in /usr/local/lib/python3.11/dist-packages (from aiohttp<4.0.0,>=3.8.3->langchain) (1.5.0)\n",
            "Requirement already satisfied: multidict<7.0,>=4.5 in /usr/local/lib/python3.11/dist-packages (from aiohttp<4.0.0,>=3.8.3->langchain) (6.1.0)\n",
            "Requirement already satisfied: propcache>=0.2.0 in /usr/local/lib/python3.11/dist-packages (from aiohttp<4.0.0,>=3.8.3->langchain) (0.3.0)\n",
            "Requirement already satisfied: yarl<2.0,>=1.17.0 in /usr/local/lib/python3.11/dist-packages (from aiohttp<4.0.0,>=3.8.3->langchain) (1.18.3)\n",
            "Requirement already satisfied: jsonpatch<2.0,>=1.33 in /usr/local/lib/python3.11/dist-packages (from langchain-core<1.0.0,>=0.3.35->langchain) (1.33)\n",
            "Requirement already satisfied: packaging<25,>=23.2 in /usr/local/lib/python3.11/dist-packages (from langchain-core<1.0.0,>=0.3.35->langchain) (24.2)\n",
            "Requirement already satisfied: typing-extensions>=4.7 in /usr/local/lib/python3.11/dist-packages (from langchain-core<1.0.0,>=0.3.35->langchain) (4.12.2)\n",
            "Requirement already satisfied: httpx<1,>=0.23.0 in /usr/local/lib/python3.11/dist-packages (from langsmith<0.4,>=0.1.17->langchain) (0.28.1)\n",
            "Requirement already satisfied: orjson<4.0.0,>=3.9.14 in /usr/local/lib/python3.11/dist-packages (from langsmith<0.4,>=0.1.17->langchain) (3.10.15)\n",
            "Requirement already satisfied: requests-toolbelt<2.0.0,>=1.0.0 in /usr/local/lib/python3.11/dist-packages (from langsmith<0.4,>=0.1.17->langchain) (1.0.0)\n",
            "Requirement already satisfied: zstandard<0.24.0,>=0.23.0 in /usr/local/lib/python3.11/dist-packages (from langsmith<0.4,>=0.1.17->langchain) (0.23.0)\n",
            "Requirement already satisfied: annotated-types>=0.6.0 in /usr/local/lib/python3.11/dist-packages (from pydantic<3.0.0,>=2.7.4->langchain) (0.7.0)\n",
            "Requirement already satisfied: pydantic-core==2.27.2 in /usr/local/lib/python3.11/dist-packages (from pydantic<3.0.0,>=2.7.4->langchain) (2.27.2)\n",
            "Requirement already satisfied: charset-normalizer<4,>=2 in /usr/local/lib/python3.11/dist-packages (from requests<3,>=2->langchain) (3.4.1)\n",
            "Requirement already satisfied: idna<4,>=2.5 in /usr/local/lib/python3.11/dist-packages (from requests<3,>=2->langchain) (3.10)\n",
            "Requirement already satisfied: urllib3<3,>=1.21.1 in /usr/local/lib/python3.11/dist-packages (from requests<3,>=2->langchain) (2.3.0)\n",
            "Requirement already satisfied: certifi>=2017.4.17 in /usr/local/lib/python3.11/dist-packages (from requests<3,>=2->langchain) (2025.1.31)\n",
            "Requirement already satisfied: greenlet!=0.4.17 in /usr/local/lib/python3.11/dist-packages (from SQLAlchemy<3,>=1.4->langchain) (3.1.1)\n",
            "Requirement already satisfied: anyio in /usr/local/lib/python3.11/dist-packages (from httpx<1,>=0.23.0->langsmith<0.4,>=0.1.17->langchain) (3.7.1)\n",
            "Requirement already satisfied: httpcore==1.* in /usr/local/lib/python3.11/dist-packages (from httpx<1,>=0.23.0->langsmith<0.4,>=0.1.17->langchain) (1.0.7)\n",
            "Requirement already satisfied: h11<0.15,>=0.13 in /usr/local/lib/python3.11/dist-packages (from httpcore==1.*->httpx<1,>=0.23.0->langsmith<0.4,>=0.1.17->langchain) (0.14.0)\n",
            "Requirement already satisfied: jsonpointer>=1.9 in /usr/local/lib/python3.11/dist-packages (from jsonpatch<2.0,>=1.33->langchain-core<1.0.0,>=0.3.35->langchain) (3.0.0)\n",
            "Requirement already satisfied: sniffio>=1.1 in /usr/local/lib/python3.11/dist-packages (from anyio->httpx<1,>=0.23.0->langsmith<0.4,>=0.1.17->langchain) (1.3.1)\n",
            "Requirement already satisfied: chromadb in /usr/local/lib/python3.11/dist-packages (0.6.3)\n",
            "Requirement already satisfied: build>=1.0.3 in /usr/local/lib/python3.11/dist-packages (from chromadb) (1.2.2.post1)\n",
            "Requirement already satisfied: pydantic>=1.9 in /usr/local/lib/python3.11/dist-packages (from chromadb) (2.10.6)\n",
            "Requirement already satisfied: chroma-hnswlib==0.7.6 in /usr/local/lib/python3.11/dist-packages (from chromadb) (0.7.6)\n",
            "Requirement already satisfied: fastapi>=0.95.2 in /usr/local/lib/python3.11/dist-packages (from chromadb) (0.115.11)\n",
            "Requirement already satisfied: uvicorn>=0.18.3 in /usr/local/lib/python3.11/dist-packages (from uvicorn[standard]>=0.18.3->chromadb) (0.34.0)\n",
            "Requirement already satisfied: numpy>=1.22.5 in /usr/local/lib/python3.11/dist-packages (from chromadb) (1.26.4)\n",
            "Requirement already satisfied: posthog>=2.4.0 in /usr/local/lib/python3.11/dist-packages (from chromadb) (3.18.1)\n",
            "Requirement already satisfied: typing_extensions>=4.5.0 in /usr/local/lib/python3.11/dist-packages (from chromadb) (4.12.2)\n",
            "Requirement already satisfied: onnxruntime>=1.14.1 in /usr/local/lib/python3.11/dist-packages (from chromadb) (1.20.1)\n",
            "Requirement already satisfied: opentelemetry-api>=1.2.0 in /usr/local/lib/python3.11/dist-packages (from chromadb) (1.30.0)\n",
            "Requirement already satisfied: opentelemetry-exporter-otlp-proto-grpc>=1.2.0 in /usr/local/lib/python3.11/dist-packages (from chromadb) (1.30.0)\n",
            "Requirement already satisfied: opentelemetry-instrumentation-fastapi>=0.41b0 in /usr/local/lib/python3.11/dist-packages (from chromadb) (0.51b0)\n",
            "Requirement already satisfied: opentelemetry-sdk>=1.2.0 in /usr/local/lib/python3.11/dist-packages (from chromadb) (1.30.0)\n",
            "Requirement already satisfied: tokenizers>=0.13.2 in /usr/local/lib/python3.11/dist-packages (from chromadb) (0.21.0)\n",
            "Requirement already satisfied: pypika>=0.48.9 in /usr/local/lib/python3.11/dist-packages (from chromadb) (0.48.9)\n",
            "Requirement already satisfied: tqdm>=4.65.0 in /usr/local/lib/python3.11/dist-packages (from chromadb) (4.67.1)\n",
            "Requirement already satisfied: overrides>=7.3.1 in /usr/local/lib/python3.11/dist-packages (from chromadb) (7.7.0)\n",
            "Requirement already satisfied: importlib-resources in /usr/local/lib/python3.11/dist-packages (from chromadb) (6.5.2)\n",
            "Requirement already satisfied: grpcio>=1.58.0 in /usr/local/lib/python3.11/dist-packages (from chromadb) (1.70.0)\n",
            "Requirement already satisfied: bcrypt>=4.0.1 in /usr/local/lib/python3.11/dist-packages (from chromadb) (4.3.0)\n",
            "Requirement already satisfied: typer>=0.9.0 in /usr/local/lib/python3.11/dist-packages (from chromadb) (0.15.1)\n",
            "Requirement already satisfied: kubernetes>=28.1.0 in /usr/local/lib/python3.11/dist-packages (from chromadb) (32.0.1)\n",
            "Requirement already satisfied: tenacity>=8.2.3 in /usr/local/lib/python3.11/dist-packages (from chromadb) (9.0.0)\n",
            "Requirement already satisfied: PyYAML>=6.0.0 in /usr/local/lib/python3.11/dist-packages (from chromadb) (6.0.2)\n",
            "Requirement already satisfied: mmh3>=4.0.1 in /usr/local/lib/python3.11/dist-packages (from chromadb) (5.1.0)\n",
            "Requirement already satisfied: orjson>=3.9.12 in /usr/local/lib/python3.11/dist-packages (from chromadb) (3.10.15)\n",
            "Requirement already satisfied: httpx>=0.27.0 in /usr/local/lib/python3.11/dist-packages (from chromadb) (0.28.1)\n",
            "Requirement already satisfied: rich>=10.11.0 in /usr/local/lib/python3.11/dist-packages (from chromadb) (13.9.4)\n",
            "Requirement already satisfied: packaging>=19.1 in /usr/local/lib/python3.11/dist-packages (from build>=1.0.3->chromadb) (24.2)\n",
            "Requirement already satisfied: pyproject_hooks in /usr/local/lib/python3.11/dist-packages (from build>=1.0.3->chromadb) (1.2.0)\n",
            "Requirement already satisfied: starlette<0.47.0,>=0.40.0 in /usr/local/lib/python3.11/dist-packages (from fastapi>=0.95.2->chromadb) (0.46.0)\n",
            "Requirement already satisfied: anyio in /usr/local/lib/python3.11/dist-packages (from httpx>=0.27.0->chromadb) (3.7.1)\n",
            "Requirement already satisfied: certifi in /usr/local/lib/python3.11/dist-packages (from httpx>=0.27.0->chromadb) (2025.1.31)\n",
            "Requirement already satisfied: httpcore==1.* in /usr/local/lib/python3.11/dist-packages (from httpx>=0.27.0->chromadb) (1.0.7)\n",
            "Requirement already satisfied: idna in /usr/local/lib/python3.11/dist-packages (from httpx>=0.27.0->chromadb) (3.10)\n",
            "Requirement already satisfied: h11<0.15,>=0.13 in /usr/local/lib/python3.11/dist-packages (from httpcore==1.*->httpx>=0.27.0->chromadb) (0.14.0)\n",
            "Requirement already satisfied: six>=1.9.0 in /usr/local/lib/python3.11/dist-packages (from kubernetes>=28.1.0->chromadb) (1.17.0)\n",
            "Requirement already satisfied: python-dateutil>=2.5.3 in /usr/local/lib/python3.11/dist-packages (from kubernetes>=28.1.0->chromadb) (2.8.2)\n",
            "Requirement already satisfied: google-auth>=1.0.1 in /usr/local/lib/python3.11/dist-packages (from kubernetes>=28.1.0->chromadb) (2.38.0)\n",
            "Requirement already satisfied: websocket-client!=0.40.0,!=0.41.*,!=0.42.*,>=0.32.0 in /usr/local/lib/python3.11/dist-packages (from kubernetes>=28.1.0->chromadb) (1.8.0)\n",
            "Requirement already satisfied: requests in /usr/local/lib/python3.11/dist-packages (from kubernetes>=28.1.0->chromadb) (2.32.3)\n",
            "Requirement already satisfied: requests-oauthlib in /usr/local/lib/python3.11/dist-packages (from kubernetes>=28.1.0->chromadb) (2.0.0)\n",
            "Requirement already satisfied: oauthlib>=3.2.2 in /usr/local/lib/python3.11/dist-packages (from kubernetes>=28.1.0->chromadb) (3.2.2)\n",
            "Requirement already satisfied: urllib3>=1.24.2 in /usr/local/lib/python3.11/dist-packages (from kubernetes>=28.1.0->chromadb) (2.3.0)\n",
            "Requirement already satisfied: durationpy>=0.7 in /usr/local/lib/python3.11/dist-packages (from kubernetes>=28.1.0->chromadb) (0.9)\n",
            "Requirement already satisfied: coloredlogs in /usr/local/lib/python3.11/dist-packages (from onnxruntime>=1.14.1->chromadb) (15.0.1)\n",
            "Requirement already satisfied: flatbuffers in /usr/local/lib/python3.11/dist-packages (from onnxruntime>=1.14.1->chromadb) (25.2.10)\n",
            "Requirement already satisfied: protobuf in /usr/local/lib/python3.11/dist-packages (from onnxruntime>=1.14.1->chromadb) (5.29.3)\n",
            "Requirement already satisfied: sympy in /usr/local/lib/python3.11/dist-packages (from onnxruntime>=1.14.1->chromadb) (1.13.1)\n",
            "Requirement already satisfied: deprecated>=1.2.6 in /usr/local/lib/python3.11/dist-packages (from opentelemetry-api>=1.2.0->chromadb) (1.2.18)\n",
            "Requirement already satisfied: importlib-metadata<=8.5.0,>=6.0 in /usr/local/lib/python3.11/dist-packages (from opentelemetry-api>=1.2.0->chromadb) (8.5.0)\n",
            "Requirement already satisfied: googleapis-common-protos~=1.52 in /usr/local/lib/python3.11/dist-packages (from opentelemetry-exporter-otlp-proto-grpc>=1.2.0->chromadb) (1.68.0)\n",
            "Requirement already satisfied: opentelemetry-exporter-otlp-proto-common==1.30.0 in /usr/local/lib/python3.11/dist-packages (from opentelemetry-exporter-otlp-proto-grpc>=1.2.0->chromadb) (1.30.0)\n",
            "Requirement already satisfied: opentelemetry-proto==1.30.0 in /usr/local/lib/python3.11/dist-packages (from opentelemetry-exporter-otlp-proto-grpc>=1.2.0->chromadb) (1.30.0)\n",
            "Requirement already satisfied: opentelemetry-instrumentation-asgi==0.51b0 in /usr/local/lib/python3.11/dist-packages (from opentelemetry-instrumentation-fastapi>=0.41b0->chromadb) (0.51b0)\n",
            "Requirement already satisfied: opentelemetry-instrumentation==0.51b0 in /usr/local/lib/python3.11/dist-packages (from opentelemetry-instrumentation-fastapi>=0.41b0->chromadb) (0.51b0)\n",
            "Requirement already satisfied: opentelemetry-semantic-conventions==0.51b0 in /usr/local/lib/python3.11/dist-packages (from opentelemetry-instrumentation-fastapi>=0.41b0->chromadb) (0.51b0)\n",
            "Requirement already satisfied: opentelemetry-util-http==0.51b0 in /usr/local/lib/python3.11/dist-packages (from opentelemetry-instrumentation-fastapi>=0.41b0->chromadb) (0.51b0)\n",
            "Requirement already satisfied: wrapt<2.0.0,>=1.0.0 in /usr/local/lib/python3.11/dist-packages (from opentelemetry-instrumentation==0.51b0->opentelemetry-instrumentation-fastapi>=0.41b0->chromadb) (1.17.2)\n",
            "Requirement already satisfied: asgiref~=3.0 in /usr/local/lib/python3.11/dist-packages (from opentelemetry-instrumentation-asgi==0.51b0->opentelemetry-instrumentation-fastapi>=0.41b0->chromadb) (3.8.1)\n",
            "Requirement already satisfied: monotonic>=1.5 in /usr/local/lib/python3.11/dist-packages (from posthog>=2.4.0->chromadb) (1.6)\n",
            "Requirement already satisfied: backoff>=1.10.0 in /usr/local/lib/python3.11/dist-packages (from posthog>=2.4.0->chromadb) (2.2.1)\n",
            "Requirement already satisfied: distro>=1.5.0 in /usr/local/lib/python3.11/dist-packages (from posthog>=2.4.0->chromadb) (1.9.0)\n",
            "Requirement already satisfied: annotated-types>=0.6.0 in /usr/local/lib/python3.11/dist-packages (from pydantic>=1.9->chromadb) (0.7.0)\n",
            "Requirement already satisfied: pydantic-core==2.27.2 in /usr/local/lib/python3.11/dist-packages (from pydantic>=1.9->chromadb) (2.27.2)\n",
            "Requirement already satisfied: markdown-it-py>=2.2.0 in /usr/local/lib/python3.11/dist-packages (from rich>=10.11.0->chromadb) (3.0.0)\n",
            "Requirement already satisfied: pygments<3.0.0,>=2.13.0 in /usr/local/lib/python3.11/dist-packages (from rich>=10.11.0->chromadb) (2.18.0)\n",
            "Requirement already satisfied: huggingface-hub<1.0,>=0.16.4 in /usr/local/lib/python3.11/dist-packages (from tokenizers>=0.13.2->chromadb) (0.28.1)\n",
            "Requirement already satisfied: click>=8.0.0 in /usr/local/lib/python3.11/dist-packages (from typer>=0.9.0->chromadb) (8.1.8)\n",
            "Requirement already satisfied: shellingham>=1.3.0 in /usr/local/lib/python3.11/dist-packages (from typer>=0.9.0->chromadb) (1.5.4)\n",
            "Requirement already satisfied: httptools>=0.6.3 in /usr/local/lib/python3.11/dist-packages (from uvicorn[standard]>=0.18.3->chromadb) (0.6.4)\n",
            "Requirement already satisfied: python-dotenv>=0.13 in /usr/local/lib/python3.11/dist-packages (from uvicorn[standard]>=0.18.3->chromadb) (1.0.1)\n",
            "Requirement already satisfied: uvloop!=0.15.0,!=0.15.1,>=0.14.0 in /usr/local/lib/python3.11/dist-packages (from uvicorn[standard]>=0.18.3->chromadb) (0.21.0)\n",
            "Requirement already satisfied: watchfiles>=0.13 in /usr/local/lib/python3.11/dist-packages (from uvicorn[standard]>=0.18.3->chromadb) (1.0.4)\n",
            "Requirement already satisfied: websockets>=10.4 in /usr/local/lib/python3.11/dist-packages (from uvicorn[standard]>=0.18.3->chromadb) (14.2)\n",
            "Requirement already satisfied: cachetools<6.0,>=2.0.0 in /usr/local/lib/python3.11/dist-packages (from google-auth>=1.0.1->kubernetes>=28.1.0->chromadb) (5.5.2)\n",
            "Requirement already satisfied: pyasn1-modules>=0.2.1 in /usr/local/lib/python3.11/dist-packages (from google-auth>=1.0.1->kubernetes>=28.1.0->chromadb) (0.4.1)\n",
            "Requirement already satisfied: rsa<5,>=3.1.4 in /usr/local/lib/python3.11/dist-packages (from google-auth>=1.0.1->kubernetes>=28.1.0->chromadb) (4.9)\n",
            "Requirement already satisfied: filelock in /usr/local/lib/python3.11/dist-packages (from huggingface-hub<1.0,>=0.16.4->tokenizers>=0.13.2->chromadb) (3.17.0)\n",
            "Requirement already satisfied: fsspec>=2023.5.0 in /usr/local/lib/python3.11/dist-packages (from huggingface-hub<1.0,>=0.16.4->tokenizers>=0.13.2->chromadb) (2024.6.1)\n",
            "Requirement already satisfied: zipp>=3.20 in /usr/local/lib/python3.11/dist-packages (from importlib-metadata<=8.5.0,>=6.0->opentelemetry-api>=1.2.0->chromadb) (3.21.0)\n",
            "Requirement already satisfied: mdurl~=0.1 in /usr/local/lib/python3.11/dist-packages (from markdown-it-py>=2.2.0->rich>=10.11.0->chromadb) (0.1.2)\n",
            "Requirement already satisfied: charset-normalizer<4,>=2 in /usr/local/lib/python3.11/dist-packages (from requests->kubernetes>=28.1.0->chromadb) (3.4.1)\n",
            "Requirement already satisfied: sniffio>=1.1 in /usr/local/lib/python3.11/dist-packages (from anyio->httpx>=0.27.0->chromadb) (1.3.1)\n",
            "Requirement already satisfied: humanfriendly>=9.1 in /usr/local/lib/python3.11/dist-packages (from coloredlogs->onnxruntime>=1.14.1->chromadb) (10.0)\n",
            "Requirement already satisfied: mpmath<1.4,>=1.1.0 in /usr/local/lib/python3.11/dist-packages (from sympy->onnxruntime>=1.14.1->chromadb) (1.3.0)\n",
            "Requirement already satisfied: pyasn1<0.7.0,>=0.4.6 in /usr/local/lib/python3.11/dist-packages (from pyasn1-modules>=0.2.1->google-auth>=1.0.1->kubernetes>=28.1.0->chromadb) (0.6.1)\n"
          ]
        }
      ]
    },
    {
      "cell_type": "code",
      "source": [
        "# General imports\n",
        "import os\n",
        "import json\n",
        "import random\n",
        "import uuid\n",
        "\n",
        "# Data processing\n",
        "import PyPDF2\n",
        "import pandas as pd\n",
        "import numpy as np\n",
        "\n",
        "# LLM application tools\n",
        "import langchain\n",
        "import dspy\n",
        "import chromadb"
      ],
      "metadata": {
        "id": "lTJAiGhMJlu_"
      },
      "execution_count": 41,
      "outputs": []
    },
    {
      "cell_type": "markdown",
      "source": [
        "## LLM setup\n"
      ],
      "metadata": {
        "id": "oKbOyMZv6xRE"
      }
    },
    {
      "cell_type": "markdown",
      "source": [
        "Set Model provider API keys as environment variables."
      ],
      "metadata": {
        "id": "u7DV1JoRyFOe"
      }
    },
    {
      "cell_type": "code",
      "source": [
        "# Comment out if API keys are not saved in your google colab userdata\n",
        "from google.colab import userdata\n",
        "\n",
        "os.environ[\"MISTRAL_API_KEY\"] = userdata.get('MISTRAL_API_KEY')\n",
        "# os.environ[\"HUGGINGFACE_API_KEY\"] = userdata.get('HUGGINGFACE_API_KEY')\n",
        "\n",
        "## Uncomment and add API keys here if they are not saved in your google colab userdata\n",
        "# os.environ[\"MISTRAL_API_KEY\"] = 'YOUR_MISTRAL_API_KEY'\n",
        "# os.environ[\"HUGGINGFACE_API_KEY\"] = 'YOUR_HUGGINGFACE_API_KEY"
      ],
      "metadata": {
        "id": "4kcTkbYOyCR9"
      },
      "execution_count": 9,
      "outputs": []
    },
    {
      "cell_type": "markdown",
      "source": [
        "Access the LLM endpoint with with DSPy."
      ],
      "metadata": {
        "id": "Vx78m6CH5W1T"
      }
    },
    {
      "cell_type": "code",
      "source": [
        "lm = dspy.LM('mistral/mistral-small-latest')\n",
        "dspy.configure(lm=lm)"
      ],
      "metadata": {
        "id": "s4zfgXMJ29W7"
      },
      "execution_count": 10,
      "outputs": []
    },
    {
      "cell_type": "markdown",
      "source": [
        "Test the endpoint.\n"
      ],
      "metadata": {
        "id": "BNvZE-3J3dvW"
      }
    },
    {
      "cell_type": "code",
      "source": [
        "lm(messages=[{\"role\": \"user\", \"content\": \"Say this is a test!\"}])"
      ],
      "metadata": {
        "colab": {
          "base_uri": "https://localhost:8080/"
        },
        "id": "XiyaMttr3iqZ",
        "outputId": "5bdc4501-cd3b-4138-f179-08c54cd2c50b"
      },
      "execution_count": 11,
      "outputs": [
        {
          "output_type": "execute_result",
          "data": {
            "text/plain": [
              "[\"This is a test! How can I assist you further? Let's test something if you'd like. How about I say something and you respond with the first word that comes to your mind? I'll start:\\n\\nCat\\n\\n(What word does that make you think of?)\"]"
            ]
          },
          "metadata": {},
          "execution_count": 11
        }
      ]
    },
    {
      "cell_type": "markdown",
      "source": [
        "# Implementation"
      ],
      "metadata": {
        "id": "oFWlcKaFOCkZ"
      }
    },
    {
      "cell_type": "markdown",
      "source": [
        "## Data Collection and Processing\n",
        "\n",
        "\n"
      ],
      "metadata": {
        "id": "k-NRMdl7OH_v"
      }
    },
    {
      "cell_type": "markdown",
      "source": [
        "### Data Collection\n",
        "\n",
        "**Approach:** I manually downloaded two textbooks and saved them in a google drive folder, where I access them directly from my Colab notebook. Since this was already a fairly large dataset (textbooks are long!), I did not bother to automate data collection for the purposes of this exercise\n",
        "\n",
        "**Possible future improvement:** Implement webscraping for an automated data collection process.\n"
      ],
      "metadata": {
        "id": "_N8OPn4bPMFL"
      }
    },
    {
      "cell_type": "markdown",
      "source": [
        "### Initalize ChromaDB vector database to store embeddings\n",
        "\n",
        "**Approach:** I was initially storing embeddings in a simple list of dictionaries, but added the vector database later to make application development easier. The database is hosted in the project folder. I used the default embedding function from Chroma.\n"
      ],
      "metadata": {
        "id": "iYJtFSBSQC9G"
      }
    },
    {
      "cell_type": "code",
      "source": [
        "# Initialize ChromaDB\n",
        "persist_dir = os.path.join(project_dir_path, vector_db_dir)\n",
        "\n",
        "chroma_client = chromadb.PersistentClient(path=persist_dir)"
      ],
      "metadata": {
        "id": "v2gsAyIzGTU5"
      },
      "execution_count": 12,
      "outputs": []
    },
    {
      "cell_type": "code",
      "source": [
        "from chromadb.utils import embedding_functions\n",
        "\n",
        "# Using the default embedding function for now\n",
        "embedding_function = embedding_functions.DefaultEmbeddingFunction()\n",
        "\n",
        "\n",
        "# Create a new collection (or load the one that already exists in the project directory)\n",
        "collection_name = \"textbooks\" # if you want to start from scratch, change the collection_name\n",
        "\n",
        "if collection_name not in chroma_client.list_collections():\n",
        "    collection = chroma_client.create_collection(\n",
        "        name=collection_name,\n",
        "        embedding_function=embedding_function\n",
        "    )\n",
        "else:\n",
        "    collection = chroma_client.get_collection(name=collection_name)\n"
      ],
      "metadata": {
        "id": "0rDcuaxsGh0w"
      },
      "execution_count": 18,
      "outputs": []
    },
    {
      "cell_type": "markdown",
      "source": [
        "### Process the PDFs\n",
        "\n",
        "**Approach:** I used Claude to generate the initial data processing functions. I wanted to save metadata such as page number and source title for each text chunk to allow for citations in the LLM responses.\n",
        "I used used LangChain's RecursiveCharacterTextSplitter function for text chunking and started with the following parameters:\n",
        "\n",
        "  chunk_size: 1000  \n",
        "  chunk_overlap: 200\n",
        "\n",
        "Later, I modified the function slightly when I added the ChromaDB vector database.\n",
        "\n",
        "**Problems:**  \n",
        "Initially I did this by first split the documents by page and then chunked the text within each page. However, I ran into some compatibility issues with the data structures the Claude-generated functions produced (Claude does not have access to recent libarary updates). After reviewing more recent LangChain and DSPy documentation, I updated my approach to take advantage of some simplified new functions and modified my data processing functions to do page splitting and chunking in one step to improve efficiency.\n",
        "\n",
        "\n",
        "**Possible future improvement:** The current approach does not preserve chapter/section structure in the textbook or content such as images and structured tables. In a more sophisticated implemenation it might be worth doing some more structured data splitting and including more details such as chapter and section in the metadata."
      ],
      "metadata": {
        "id": "y5iMLQMebYyY"
      }
    },
    {
      "cell_type": "code",
      "source": [
        "def process_documents_for_chroma(pdf_directory, text_splitter):\n",
        "    \"\"\"\n",
        "    Process PDF documents and prepare them for ChromaDB ingestion\n",
        "    \"\"\"\n",
        "    documents = []\n",
        "    metadatas = []\n",
        "    ids = []\n",
        "\n",
        "    for filename in os.listdir(pdf_directory):\n",
        "        if filename.endswith('.pdf'):\n",
        "            file_path = os.path.join(pdf_directory, filename)\n",
        "            try:\n",
        "                # Extract text with metadata\n",
        "                doc_chunks = extract_and_chunk_pdf(file_path, text_splitter)\n",
        "\n",
        "                # Process each chunk\n",
        "                for chunk in doc_chunks:\n",
        "                    documents.append(chunk['content'])\n",
        "                    metadatas.append(chunk['metadata'])\n",
        "                    ids.append(str(uuid.uuid4()))\n",
        "\n",
        "                print(f\"Processed {filename}: {len(doc_chunks)} chunks extracted\")\n",
        "            except Exception as e:\n",
        "                print(f\"Error processing {filename}: {e}\")\n",
        "\n",
        "    return documents, metadatas, ids\n",
        "\n",
        "def extract_and_chunk_pdf(pdf_path, text_splitter):\n",
        "    \"\"\"Extract text from a PDF file, split into chunks, and maintain metadata.\"\"\"\n",
        "    chunked_documents = []\n",
        "\n",
        "    with open(pdf_path, 'rb') as file:\n",
        "        pdf_reader = PyPDF2.PdfReader(file)\n",
        "\n",
        "        # Get basic information\n",
        "        title = os.path.basename(pdf_path).replace('.pdf', '')\n",
        "        total_pages = len(pdf_reader.pages)\n",
        "\n",
        "        # Process each page\n",
        "        for page_num in range(total_pages):\n",
        "            # Extract text from the page\n",
        "            page = pdf_reader.pages[page_num]\n",
        "            text = page.extract_text()\n",
        "\n",
        "            # Skip empty pages\n",
        "            if not text or len(text.strip()) < 50:  # Skip pages with little or no text\n",
        "                continue\n",
        "\n",
        "            # Create metadata for this page\n",
        "            metadata = {\n",
        "                'source': title,\n",
        "                'page': page_num + 1,\n",
        "                'total_pages': total_pages\n",
        "            }\n",
        "\n",
        "            # Split this page's text into chunks\n",
        "            page_chunks = text_splitter.split_text(text)\n",
        "\n",
        "            # Create a document for each chunk with proper metadata\n",
        "            for chunk_idx, chunk in enumerate(page_chunks):\n",
        "                chunked_documents.append({\n",
        "                    'content': chunk,\n",
        "                    'metadata': {\n",
        "                        **metadata,\n",
        "                        'chunk_id': f\"{page_num}-{chunk_idx}\"\n",
        "                    }\n",
        "                })\n",
        "\n",
        "    return chunked_documents\n"
      ],
      "metadata": {
        "id": "-CV6oeYCr306"
      },
      "execution_count": 20,
      "outputs": []
    },
    {
      "cell_type": "code",
      "source": [
        "# NOTE: Can skip this step if you loaded the existing collection from the projec\n",
        "\n",
        "from langchain.text_splitter import RecursiveCharacterTextSplitter\n",
        "\n",
        "# Set up the text splitter\n",
        "text_splitter = RecursiveCharacterTextSplitter(\n",
        "    chunk_size=1000,\n",
        "    chunk_overlap=200,\n",
        "    length_function=len,\n",
        "    is_separator_regex=False\n",
        ")\n",
        "\n",
        "documents, metadatas, ids = process_documents_for_chroma(os.path.join(project_dir_path, pdf_data_dir), text_splitter)"
      ],
      "metadata": {
        "colab": {
          "base_uri": "https://localhost:8080/"
        },
        "id": "kGEktwoHp9wy",
        "outputId": "a12f450b-c14c-4f0c-cb5e-f99370719ba7"
      },
      "execution_count": 21,
      "outputs": [
        {
          "output_type": "stream",
          "name": "stdout",
          "text": [
            "Processed Introduction_to_Behavioral_Neuroscience-WEB.pdf: 3495 chunks extracted\n",
            "Processed ConceptsofBiology-WEB.pdf: 2319 chunks extracted\n"
          ]
        }
      ]
    },
    {
      "cell_type": "code",
      "source": [
        "# NOTE: Can skip this step if you loaded the existing collection from the project.  It takes a while to run\n",
        "\n",
        "# Add documents to the collection\n",
        "collection.add(\n",
        "    documents=documents,\n",
        "    metadatas=metadatas,\n",
        "    ids=ids\n",
        ")\n"
      ],
      "metadata": {
        "id": "jGND6updrjzF"
      },
      "execution_count": 22,
      "outputs": []
    },
    {
      "cell_type": "code",
      "source": [
        "collection.peek()"
      ],
      "metadata": {
        "colab": {
          "base_uri": "https://localhost:8080/"
        },
        "id": "kOAiQS--wyH7",
        "outputId": "dd3bb189-fdef-4279-971f-b1cbe806dd23"
      },
      "execution_count": 24,
      "outputs": [
        {
          "output_type": "execute_result",
          "data": {
            "text/plain": [
              "{'ids': ['a3934cc1-36f4-41db-ae4a-9e54739549e2',\n",
              "  '6257623d-1030-4725-98cb-80d69232d9d0',\n",
              "  '18d02787-b6d7-4e2f-bffb-6bbfb2fcb334',\n",
              "  '77507be1-c89f-428c-979b-02175c2487b1',\n",
              "  'e9ae9325-1301-457c-b574-7bbcf6b055ed',\n",
              "  '6c2dc307-a80d-4fac-8ffb-dfa66e8517ca',\n",
              "  '79cea9f6-c4ff-474a-916d-a8e48ccb4119',\n",
              "  'aba14d07-16a0-428c-b976-87a23646e637',\n",
              "  '22c28e93-7fbf-4f24-b86f-a10bc8c4f3d3',\n",
              "  'b543d50f-fb5f-4739-afee-8f92f3b06520'],\n",
              " 'embeddings': array([[ 0.03137285, -0.04941513,  0.06488694, ...,  0.11583801,\n",
              "         -0.06308822, -0.0459537 ],\n",
              "        [-0.02433298, -0.0303662 , -0.03966172, ..., -0.02128791,\n",
              "          0.0138738 ,  0.01283469],\n",
              "        [-0.03150415, -0.01637185, -0.07035826, ..., -0.01801896,\n",
              "          0.01942443,  0.01046865],\n",
              "        ...,\n",
              "        [ 0.01859296, -0.05630921, -0.02378133, ...,  0.07191464,\n",
              "         -0.0512832 ,  0.0735969 ],\n",
              "        [-0.11047661, -0.0109393 ,  0.00610211, ..., -0.01831879,\n",
              "          0.08802343, -0.03965753],\n",
              "        [-0.04994785, -0.00550003, -0.03510802, ...,  0.02082111,\n",
              "          0.13871101,  0.04775451]]),\n",
              " 'documents': ['Introduction to Behavioral Neuroscience          SENIOR CONTRIBUTING AUTHORS ELIZABETH D. KIRBY, THE OHIO STATE UNIVERSITY MELISSA J. GLENN, COLBY COLLEGE NOAH J. SANDSTROM, WILLIAMS COLLEGE CHRISTINA L. WILLIAMS, DUKE UNIVERSITY',\n",
              "  'OpenStax Rice University 6100 Main Street MS-375 Houston, Texas 77005  To learn more about OpenStax, visit https://openstax.org. Individual print copies and bulk orders can be purchased through our website.  ©2024 Rice University. Textbook content produced by OpenStax is licensed under a Creative Commons Attribution Non-Commercial ShareAlike 4.0 International License (CC BY-NC-SA 4.0). Under this license, any user of this textbook or the textbook contents herein can share, remix, and build upon the content for noncommercial purposes only. Any adaptations must be shared under the same type of license. In any case of sharing the original or adapted material, whether in whole or in part, the user must provide proper attribution as follows:  - If you noncommercially redistribute this textbook in a digital format (including but not limited to PDF and HTML), then you must retain on every page the following attribution:  “Access for free at openstax.org.” - If you noncommercially',\n",
              "  'textbook in a digital format (including but not limited to PDF and HTML), then you must retain on every page the following attribution:  “Access for free at openstax.org.” - If you noncommercially redistribute this textbook in a print format, then you must include on every physical page the following attribution: “Access for free at openstax.org.” - If you noncommercially redistribute part of this textbook, then you must retain in every digital format page view (including but not limited to PDF and HTML) and on every physical printed page the following attribution:  “Access for free at openstax.org.” - If you use this textbook as a bibliographic reference, please include https://openstax.org/details/books/introduction-behavioral-neuroscience in your citation.  For questions regarding this licensing, please contact support@openstax.org.  Trademarks The OpenStax name, OpenStax logo, OpenStax book covers, OpenStax CNX name, OpenStax CNX logo, OpenStax Tutor name, Openstax Tutor logo,',\n",
              "  'licensing, please contact support@openstax.org.  Trademarks The OpenStax name, OpenStax logo, OpenStax book covers, OpenStax CNX name, OpenStax CNX logo, OpenStax Tutor name, Openstax Tutor logo, Connexions name, Connexions logo, Rice University name, and Rice University logo are not subject to the license and may not be reproduced without the prior and express written consent of Rice University.  Kendall Hunt and the Kendall Hunt Logo are trademarks of Kendall Hunt. The Kendall Hunt mark is registered in the United States, Canada, and the European Union. These trademarks may not be used without the prior and express written consent of Kendall Hunt.   COLOR PAPERBACK BOOK ISBN-13 979-8-3851-6183-6 B&W PAPERBACK BOOK ISBN-13 979-8-3851-6184-3 DIGITAL VERSION ISBN-13 978-1-961584-57-0 ORIGINAL PUBLICATION YEAR 2024 1 2 3 4 5 6 7 8 9 10 RS 24',\n",
              "  'OPENSTAX  OpenStax provides free, peer-reviewed, openly licensed textbooks for introductory college and Advanced Placement® courses and low-cost, personalized courseware that helps students learn. A nonprofit ed tech initiative based at Rice University, we’re committed to helping students access the tools they need to complete their courses and meet their educational goals.  RICE UNIVERSITY  OpenStax is an initiative of Rice University. As a leading research university with a distinctive commitment to undergraduate education, Rice University aspires to path-breaking research, unsurpassed teaching, and contributions to the betterment of our world. It seeks to fulfill this mission by cultivating a diverse community of learning and discovery that produces leaders across the spectrum of human endeavor.    PHILANTHROPIC SUPPORT  OpenStax is grateful for the generous philanthropic partners who advance our mission to improve educational access and learning for everyone. To see the impact of',\n",
              "  'endeavor.    PHILANTHROPIC SUPPORT  OpenStax is grateful for the generous philanthropic partners who advance our mission to improve educational access and learning for everyone. To see the impact of our supporter community and our most updated list of partners, please visit openstax.org/foundation.  Arnold Ventures Chan Zuckerberg Initiative Chegg, Inc. Arthur and Carlyse Ciocca Charitable Foundation Digital Promise Ann and John Doerr Bill & Melinda Gates Foundation Girard Foundation Google Inc. The William and Flora Hewlett Foundation The Hewlett-Packard Company Intel Inc. Rusty and John Jaggers The Calvin K. Kazanjian Economics Foundation Charles Koch Foundation Leon Lowenstein Foundation, Inc. The Maxfield Foundation Burt and Deedee McMurtry Michelson 20MM Foundation National Science Foundation The Open Society Foundations Jumee Yhu and David E. Park III Brian D. Patterson USA-International Foundation The Bill and Stephanie Sick Fund Steven L. Smith & Diana T. Go Stand Together',\n",
              "  'Foundation The Open Society Foundations Jumee Yhu and David E. Park III Brian D. Patterson USA-International Foundation The Bill and Stephanie Sick Fund Steven L. Smith & Diana T. Go Stand Together Robin and Sandy Stuart Foundation The Stuart Family Foundation Tammy and Guillermo Treviño Valhalla Charitable Foundation White Star Education Foundation Schmidt Futures William Marsh Rice University',\n",
              "  'Study where you want, what \\nyou want, when you want. \\nAccess. The future of education.\\nopenstax.org          When you access your book in our web view, you can use our new online\\nhighlighting and note-taking features to create your own study guides.\\nOur books are free and flexible, forever. \\nGet started at openstax.org/details/books/neuroscience',\n",
              "  'Cont ents\\nPrefac e 1\\nCHAP TER 1\\nStructur e and F unction o f the Ner vous Sy stem: Cel ls and\\nAna tomy 9\\nIntroduction 9\\n1.1Building a Ner vous Sy stem 10\\n1.2Organization o f the Ner vous Sy stem 21\\n1.3The Centr al Ner vous Sy stem: CNS 30\\n1.4The Br ain: Structur e and F unction 36\\n1.5The P eripher al Ner vous Sy stem: PNS 46\\nSection Summar y 52\\nKey Terms 52\\nReferences 53\\nMultiple Choic e 55\\nFill in the Blank 58\\nCHAP TER 2\\nNeur ophysiolog y 59\\nIntroduction 59\\n2.1Neur al Communication 60\\n2.2Neur al Cir cuits 69\\n2.3Principles o f Bioelectricity 75\\n2.4Mechanisms o f Neur al Signaling 90\\n2.5Our Deep but Stil l Inc omplet e Unders tanding o f Neur al Signaling 107\\nSection Summar y 116\\nKey Terms 117\\nReferences 117\\nMultiple Choic e 119\\nFill in the Blank 122\\nCHAP TER 3\\nBasic Neur ochemis try 123\\nIntroduction 123\\n3.1Gener al Neur ochemis try Principles 126\\n3.2Neur otransmit ters Made fr om Amino Acids 130\\n3.3Neur otransmit ters Made fr om F ats 148\\nSection Summar y 156\\nKey Terms 156',\n",
              "  'Introduction 123\\n3.1Gener al Neur ochemis try Principles 126\\n3.2Neur otransmit ters Made fr om Amino Acids 130\\n3.3Neur otransmit ters Made fr om F ats 148\\nSection Summar y 156\\nKey Terms 156\\nReferences 156\\nMultiple Choic e 158\\nFill in the Blank 161'],\n",
              " 'uris': None,\n",
              " 'data': None,\n",
              " 'metadatas': [{'chunk_id': '1-0',\n",
              "   'page': 2,\n",
              "   'source': 'Introduction_to_Behavioral_Neuroscience-WEB',\n",
              "   'total_pages': 913},\n",
              "  {'chunk_id': '2-0',\n",
              "   'page': 3,\n",
              "   'source': 'Introduction_to_Behavioral_Neuroscience-WEB',\n",
              "   'total_pages': 913},\n",
              "  {'chunk_id': '2-1',\n",
              "   'page': 3,\n",
              "   'source': 'Introduction_to_Behavioral_Neuroscience-WEB',\n",
              "   'total_pages': 913},\n",
              "  {'chunk_id': '2-2',\n",
              "   'page': 3,\n",
              "   'source': 'Introduction_to_Behavioral_Neuroscience-WEB',\n",
              "   'total_pages': 913},\n",
              "  {'chunk_id': '3-0',\n",
              "   'page': 4,\n",
              "   'source': 'Introduction_to_Behavioral_Neuroscience-WEB',\n",
              "   'total_pages': 913},\n",
              "  {'chunk_id': '3-1',\n",
              "   'page': 4,\n",
              "   'source': 'Introduction_to_Behavioral_Neuroscience-WEB',\n",
              "   'total_pages': 913},\n",
              "  {'chunk_id': '3-2',\n",
              "   'page': 4,\n",
              "   'source': 'Introduction_to_Behavioral_Neuroscience-WEB',\n",
              "   'total_pages': 913},\n",
              "  {'chunk_id': '4-0',\n",
              "   'page': 5,\n",
              "   'source': 'Introduction_to_Behavioral_Neuroscience-WEB',\n",
              "   'total_pages': 913},\n",
              "  {'chunk_id': '5-0',\n",
              "   'page': 6,\n",
              "   'source': 'Introduction_to_Behavioral_Neuroscience-WEB',\n",
              "   'total_pages': 913},\n",
              "  {'chunk_id': '5-1',\n",
              "   'page': 6,\n",
              "   'source': 'Introduction_to_Behavioral_Neuroscience-WEB',\n",
              "   'total_pages': 913}],\n",
              " 'included': [<IncludeEnum.embeddings: 'embeddings'>,\n",
              "  <IncludeEnum.documents: 'documents'>,\n",
              "  <IncludeEnum.metadatas: 'metadatas'>]}"
            ]
          },
          "metadata": {},
          "execution_count": 24
        }
      ]
    },
    {
      "cell_type": "markdown",
      "source": [
        "## Application Design"
      ],
      "metadata": {
        "id": "us9wkg23ciJ1"
      }
    },
    {
      "cell_type": "markdown",
      "source": [
        "### DSPy Module Setup\n",
        "\n",
        "**Approach:** I designed the RAG application as an Education Assistant, to answer questions posed by students using the retrieved information from the textbooks. I also wanted the assitant to include some metadata in the form of a citation: The title of the textbook, and the pages the information was retrieved from.  \n",
        "\n",
        "**Problems:**\n",
        "* Claude is pretty out of date with DSPy's current capabilities, so I was not able to rely heavily on generated code for this part.\n",
        "* DSPy's retriever module does not provide a way to retrieve metadata along with the context, making it difficult to add the citation I wanted to my assistant's response. Eventually I had to implement a custom \"MetadataRetriever\" class (with some help from Claude) to bypass DSPy's retriever alltogether and pass the retriever directly to my EducationalAssistant class when it is initialized.\n",
        "\n",
        "**Possible future improvement:** Improve output formatting"
      ],
      "metadata": {
        "id": "dzJGctgKOlqI"
      }
    },
    {
      "cell_type": "code",
      "source": [
        "# Define the RAG application\n",
        "class EducationalQuery(dspy.Signature):\n",
        "    \"\"\"Query an educational assistant about textbook content.\"\"\"\n",
        "    question = dspy.InputField()\n",
        "    context = dspy.InputField(desc=\"Retrieved passages from textbooks\")\n",
        "    answer = dspy.OutputField(desc=\"Comprehensive answer based on the retrieved information\")\n",
        "    sources = dspy.OutputField(desc=\"The sources used to answer the question\")\n",
        "\n",
        "class EducationalAssistant(dspy.Module):\n",
        "    def __init__(self, retriever):\n",
        "        super().__init__()\n",
        "        self.retriever = retriever\n",
        "        self.generate = dspy.ChainOfThought(EducationalQuery)\n",
        "\n",
        "    def forward(self, question):\n",
        "        # Get passages and metadata using a single query\n",
        "        retrieved = self.retriever(question)\n",
        "\n",
        "        # Create context from passages\n",
        "        context = \"\\n\\n\".join(retrieved.passages)\n",
        "\n",
        "        # Extract metadata for citations\n",
        "        citation_strings = []\n",
        "        for metadata in retrieved.metadatas:\n",
        "            if isinstance(metadata, dict) and 'source' in metadata and 'page' in metadata:\n",
        "                source = metadata['source'].replace('_', ' ').replace('-WEB', '')\n",
        "                page = metadata['page']\n",
        "                citation = f\"{source} (Page {page})\"\n",
        "                if citation not in citation_strings:\n",
        "                    citation_strings.append(citation)\n",
        "\n",
        "        # Generate answer\n",
        "        response = self.generate(\n",
        "            question=question,\n",
        "            context=context\n",
        "        )\n",
        "\n",
        "        # Format the citations as a bullet list\n",
        "        citations_formatted = \"\\n\".join([f\"• {citation}\" for citation in citation_strings])\n",
        "\n",
        "        return dspy.Prediction(\n",
        "            response=response.answer,\n",
        "            citations=citations_formatted,\n",
        "            context=context\n",
        "            )"
      ],
      "metadata": {
        "id": "P-cW5CJbsIwJ"
      },
      "execution_count": 25,
      "outputs": []
    },
    {
      "cell_type": "code",
      "source": [
        "class MetadataRetriever:\n",
        "    def __init__(self, collection_name, persist_dir, k=5):\n",
        "        self.collection_name = collection_name\n",
        "        self.persist_dir = persist_dir\n",
        "        self.k = k\n",
        "        self.client = chromadb.PersistentClient(path=persist_dir)\n",
        "        self.collection = self.client.get_collection(collection_name)\n",
        "\n",
        "    def __call__(self, query):\n",
        "        # Query ChromaDB once to get both passages and metadata\n",
        "        results = self.collection.query(\n",
        "            query_texts=[query],\n",
        "            n_results=self.k\n",
        "        )\n",
        "\n",
        "        # Create dspy-compatible result object\n",
        "        retrieved_results = type('RetrievedPassages', (), {})()\n",
        "        retrieved_results.passages = results['documents'][0]\n",
        "        retrieved_results.metadatas = results['metadatas'][0]\n",
        "\n",
        "        return retrieved_results"
      ],
      "metadata": {
        "id": "qp9YzMy1s7qv"
      },
      "execution_count": 23,
      "outputs": []
    },
    {
      "cell_type": "markdown",
      "source": [
        "### DSPy Configuration\n",
        "\n",
        "**Approach:** Initially I configured the embedder and retriever in DSPY, using the mistral-embed model, but I later switched to ChromaDB's default embedding model.\n",
        "\n",
        "**Problems:**\n",
        "* DSPy's documentation isn't very comprehensive and I was having issues with the mistral embedding model, leading to the switch to ChromaDB to simplify handling embeddings.  This also made it wasier to set up the custom retriever.\n",
        "\n",
        "**Possible future improvement:** Experiment with different embedding models to optimize for performance, optimize chunk size, experiment with different base LLMs"
      ],
      "metadata": {
        "id": "t7wqR-ovX9Df"
      }
    },
    {
      "cell_type": "code",
      "source": [
        "# Set up the retriever\n",
        "retriever = MetadataRetriever(\n",
        "    collection_name=collection_name,\n",
        "    persist_dir=persist_dir,\n",
        "    k=3\n",
        ")\n",
        "\n",
        "# Initialize the assistant with the retriever\n",
        "assistant = EducationalAssistant(retriever)\n",
        "\n",
        "# Configure DSPy to use the LLM (but not the retriever)\n",
        "dspy.settings.configure(lm=lm)"
      ],
      "metadata": {
        "id": "uhCoz3_7Mbsh"
      },
      "execution_count": 28,
      "outputs": []
    },
    {
      "cell_type": "markdown",
      "source": [
        "### Test the assistant"
      ],
      "metadata": {
        "id": "7uzu--ehcJ3w"
      }
    },
    {
      "cell_type": "code",
      "source": [
        "response = assistant(\"What is cellular respiration?\")\n",
        "print(response.response)\n",
        "print(response.citations)\n",
        "print(response.context)"
      ],
      "metadata": {
        "colab": {
          "base_uri": "https://localhost:8080/"
        },
        "id": "8UHm8tbVcFmK",
        "outputId": "2386a2d9-f30c-4804-b560-c95a6d76a52c"
      },
      "execution_count": 29,
      "outputs": [
        {
          "output_type": "stream",
          "name": "stdout",
          "text": [
            "Cellular respiration is the process by which cells convert energy from nutrients into adenosine triphosphate (ATP), the primary energy currency of the cell. It involves several stages, including glycolysis, which is the initial pathway for breaking down glucose to extract energy. During cellular respiration, cells take in oxygen and release carbon dioxide, which is facilitated by the respiratory system. This process ensures that cells have the energy they need to function properly.\n",
            "• Introduction to Behavioral Neuroscience (Page 727)\n",
            "• ConceptsofBiology (Page 125)\n",
            "• ConceptsofBiology (Page 453)\n",
            "cells that mak e up muscles thr oughout the body under v oluntar y contr ol, greatly incr ease their activity during\n",
            "exercise and ther efore greatly incr ease their need f or oxygen fr om the bloods tream. A t the same time , the y release\n",
            "mor e carbon dio xide , which the bloods tream cir culat es to the lungs t o exhale .\n",
            "To ensur e an op timal amount o f oxygen and s wift r emo val of carbon dio xide , homeos tatic mechanisms det ect\n",
            "chang es in the le vels o f these g ases in the bloods tream and r espond b y modulating r espir atory rate. Incr easing the\n",
            "respir atory rate incr eases the diffusion o f oxygen fr om the air int o the lungs and, in turn, the r emo val of carbon\n",
            "dioxide fr om the lungs t o the air . In par allel, these homeos tatic mechanisms also modulat e hear t rate to incr ease or\n",
            "decr ease the flo w of oxygenat ed blood t o cells thr oughout the body .\n",
            "Homeos tatic r egulation o f respir atory rate\n",
            "\n",
            "induc ed-fit model . Enzyme action is r egulated to\n",
            "conser ve resour ces and r espond op timal ly to the\n",
            "environment.\n",
            "4.2Glycolysis\n",
            "ATP functions as the ener gy curr ency f or cells. It al lows\n",
            "cells to store ener gy briefl y and tr anspor t it within itself\n",
            "to suppor t ender gonic chemical r eactions . The\n",
            "structur e of ATP is that o f an RNA nucleotide with thr ee\n",
            "phosphat e groups at tached. As A TP is used f or ener gy,\n",
            "a phosphat e group is detached, and ADP is pr oduc ed.\n",
            "Ener gy deriv ed fr om gluc ose catabolism is used t o\n",
            "rechar ge ADP int o ATP.\n",
            "Glycolysis is the firs t path way used in the br eakdown o f\n",
            "gluc ose t o extract ener gy. Because it is used b y nearl y\n",
            "all organisms on ear th, it mus t have evolved earl y in the\n",
            "history of life. Glycolysis c onsis ts of two par ts: The firs t\n",
            "part prepar es the six -carbon ring o f gluc ose f or\n",
            "separ ation int o tw o thr ee-carbon sug ars. Ener gy from\n",
            "ATP is in vested int o the molecule during this s tep to\n",
            "\n",
            "requir ed for cellular function but cannot be pr oduc ed\n",
            "by the animal body . These include vitamins , miner als,\n",
            "some fat ty acids , and some amino acids . Food intak e in\n",
            "mor e than nec essary amounts is s tored as gl ycogen in\n",
            "the liv er and muscle c ells, and in adipose tis sue.\n",
            "Excess adipose s torage can lead t o obesity and serious\n",
            "heal th pr oblems .\n",
            "16.3 Circulat ory and R espir atory Systems\n",
            "Animal r espir atory systems ar e designed t o facilitat e\n",
            "gas e xchang e. In mammals , air is w armed and\n",
            "humidified in the nasal ca vity. Air then tr avels do wn the\n",
            "phar ynx and lar ynx, thr ough the tr achea , and int o the\n",
            "lungs . In the lungs , air pas ses thr ough the br anching\n",
            "bronchi, r eaching the r espir atory bronchioles . The\n",
            "respir atory bronchioles open up int o the al veolar ducts ,\n",
            "alveolar sacs , and al veoli. Because ther e are so man y\n",
            "alveoli and al veolar sacs in the lung , the sur face area\n",
            "for gas e xchang e is v ery lar ge.\n"
          ]
        }
      ]
    },
    {
      "cell_type": "markdown",
      "source": [
        "### Application refinement\n",
        "\n",
        "Ideally I wanted this assistant to help students apply critical thinking and develop excitement for science.  It should nudge students towards thinking for themselves rather than just providing an answere to a question.\n",
        "\n",
        "To that end I created a new  GuidedEducationalAssistant module with an updated prompt to promote more engagement from the student."
      ],
      "metadata": {
        "id": "URVVfXD2O7EW"
      }
    },
    {
      "cell_type": "code",
      "source": [
        "class GuidedEducationalQuery(dspy.Signature):\n",
        "    \"\"\"Guide students through a critical thinking process to discover answers about textbook content.\"\"\"\n",
        "    question = dspy.InputField()\n",
        "    context = dspy.InputField(desc=\"Retrieved passages from textbooks\")\n",
        "    guided_answer = dspy.OutputField(desc=\"\"\"\n",
        "        Formulate a response that guides the student's thinking rather than simply providing facts.\n",
        "        Follow this structure:\n",
        "        1. Acknowledge the question and its importance\n",
        "        2. Offer a partial insight or starting point based on the context\n",
        "        3. Pose 1-2 guiding questions that help the student think through the concept\n",
        "        4. Provide connections to related concepts they might already understand\n",
        "        5. Conclude with a concise summary of the key points while encouraging further exploration\n",
        "\n",
        "        The goal is to prompt critical thinking rather than delivering a complete answer.\n",
        "        Use a warm, encouraging tone appropriate for education.\n",
        "    \"\"\")\n",
        "    sources = dspy.OutputField(desc=\"The sources used to answer the question\")\n",
        "\n",
        "class GuidedEducationalAssistant(EducationalAssistant):\n",
        "    def __init__(self, retriever):\n",
        "        super().__init__(retriever)\n",
        "        # Use ChainOfThought with the new GuidedEducationalQuery signature\n",
        "        self.generate = dspy.ChainOfThought(GuidedEducationalQuery)\n",
        "\n",
        "    def forward(self, question):\n",
        "        # Get passages and metadata using a single query\n",
        "        retrieved = self.retriever(question)\n",
        "\n",
        "        # Create context from passages\n",
        "        context = \"\\n\\n\".join(retrieved.passages)\n",
        "\n",
        "        # Extract metadata for citations\n",
        "        citation_strings = []\n",
        "        for metadata in retrieved.metadatas:\n",
        "            if isinstance(metadata, dict) and 'source' in metadata and 'page' in metadata:\n",
        "                source = metadata['source'].replace('_', ' ').replace('-WEB', '')\n",
        "                page = metadata['page']\n",
        "                citation = f\"{source} (Page {page})\"\n",
        "                if citation not in citation_strings:\n",
        "                    citation_strings.append(citation)\n",
        "\n",
        "        # Generate guided response\n",
        "        response = self.generate(\n",
        "            question=question,\n",
        "            context=context\n",
        "        )\n",
        "\n",
        "        # Format the citations as a bullet list\n",
        "        citations_formatted = \"\\n\".join([f\"• {citation}\" for citation in citation_strings])\n",
        "\n",
        "        return dspy.Prediction(\n",
        "            response=response.guided_answer,\n",
        "            citations=citations_formatted,\n",
        "            context=context\n",
        "            )"
      ],
      "metadata": {
        "id": "4qfO4w-3Y0Vm"
      },
      "execution_count": 30,
      "outputs": []
    },
    {
      "cell_type": "code",
      "source": [
        "# Set up the guided assistant with the same retriever\n",
        "guided_assistant = GuidedEducationalAssistant(retriever)\n",
        "\n",
        "# Test the guided assistant\n",
        "question = \"What is cellular respiration?\"\n",
        "response = guided_assistant(question)\n",
        "\n",
        "print(response.response)\n",
        "print(response.citations)\n"
      ],
      "metadata": {
        "colab": {
          "base_uri": "https://localhost:8080/"
        },
        "id": "kSRkd4_Ta6AB",
        "outputId": "78c2974e-b52c-4e80-89db-bfcc53b67ae4"
      },
      "execution_count": 32,
      "outputs": [
        {
          "output_type": "stream",
          "name": "stdout",
          "text": [
            "Your question about cellular respiration is a great one! It's a fundamental process that helps us understand how our bodies produce energy.\n",
            "\n",
            "First, let's start with what we know from the context. We see that muscles need more oxygen during exercise, and they release more carbon dioxide. This exchange of gases is crucial for cellular respiration. Cellular respiration is the process by which cells convert the energy from food into a usable form, called ATP. This process involves the exchange of gases—oxygen is taken in, and carbon dioxide is released.\n",
            "\n",
            "To think through this concept, consider the following questions:\n",
            "1. How might the increased need for oxygen during exercise relate to the process of cellular respiration?\n",
            "2. If cellular respiration produces energy in the form of ATP, how might this energy be used by the muscles during exercise?\n",
            "\n",
            "You might also think about how this process is similar to how a car engine uses fuel to produce energy. Just as a car needs oxygen to burn fuel efficiently, your cells need oxygen to break down glucose and produce ATP.\n",
            "\n",
            "In summary, cellular respiration is the process by which cells produce energy by breaking down glucose and using oxygen. This process is crucial for all the activities your body performs, from thinking to running. Keep exploring how different parts of your body work together to support this essential process!\n",
            "• Introduction to Behavioral Neuroscience (Page 727)\n",
            "• ConceptsofBiology (Page 125)\n",
            "• ConceptsofBiology (Page 453)\n"
          ]
        }
      ]
    },
    {
      "cell_type": "markdown",
      "source": [
        "# Evaluation\n",
        "\n",
        "**Approach:** To create a \"golden\" evaluation dataset I prompted Claude to generate 60 question and response pairs based on some sections of the textbooks, along with some response guidelines. I used the SemanticF1 metric to compare the golden responses to the actual responses.  \n",
        "\n",
        "**Problems:**\n",
        "* I had to keep the evaluation dataset small to save time/compute\n",
        "* The \"golden\" dataset isn't really golden - it was LLM generated and not reviewed by human experts, but it works for the purposes of the exvercise\n",
        "\n",
        "**Possible future improvement:**  \n",
        "* Develop a more robust evaluation dataset\n",
        "  * larger dataset\n",
        "  * reviewed by human experts\n",
        "  * include train, validation, and test splits\n",
        "* Develop use-case specicific evaluation metrics, for example checking if citations are correct or testing whether the assistant asks the student thought-provoking questions, etc."
      ],
      "metadata": {
        "id": "cu84moLDu-Pt"
      }
    },
    {
      "cell_type": "code",
      "source": [
        "# Load the evaluation dataset\n",
        "eval_data_dir = os.path.join(project_dir_path, eval_data_dir)\n",
        "with open(os.path.join(eval_data_dir,'eval_data.json'), 'r') as f:\n",
        "    eval_data = json.load(f)"
      ],
      "metadata": {
        "id": "MFNzDU2cvBRh"
      },
      "execution_count": 38,
      "outputs": []
    },
    {
      "cell_type": "code",
      "source": [
        "eval_data_examples = [dspy.Example(**d).with_inputs('question') for d in eval_data]\n",
        "\n",
        "# Load an example from the data\n",
        "example = eval_data_examples[13]\n",
        "example"
      ],
      "metadata": {
        "colab": {
          "base_uri": "https://localhost:8080/"
        },
        "id": "o3kXieZlvHit",
        "outputId": "1057f2c7-6f52-4eb0-a9bc-72d603bf5ccb"
      },
      "execution_count": 47,
      "outputs": [
        {
          "output_type": "execute_result",
          "data": {
            "text/plain": [
              "Example({'question': 'What is the function of the cerebral cortex?', 'response': \"You've asked about the brain's most evolutionarily advanced region! The cerebral cortex—the wrinkled outer layer of the cerebrum—is responsible for our highest cognitive functions including conscious thought, sensory perception, voluntary movement, language, reasoning, planning, and personality. It's organized into specialized regions (lobes) that handle different functions, though with considerable integration between areas. Have you thought about why the cortex is so wrinkled in humans compared to many other mammals? How might damage to specific cortical regions affect different abilities? Consider how this specialized yet integrated organization resembles other complex systems—like departments in a company that have distinct functions but must coordinate. In summary, the cerebral cortex represents the neural foundation for our most distinctly human abilities, enabling the complex cognitive and behavioral repertoire that characterizes human experience—a remarkable structure that continues to reveal its secrets through ongoing neuroscience research.\", 'document_id': '2f3g4h5i-6j7k-8l9m-0n1o-2p3q4r5s6t'}) (input_keys={'question'})"
            ]
          },
          "metadata": {},
          "execution_count": 47
        }
      ]
    },
    {
      "cell_type": "markdown",
      "source": [
        "## Compare applications\n",
        "I compared the guided assistant and the 'vanilla' assistant on the SemanticF1 metric, first on an initial example, and then on the whole evaluation dataset.  The guided assistant ouperformed the other one by about 4.5 points."
      ],
      "metadata": {
        "id": "qyvEHeh8ky8E"
      }
    },
    {
      "cell_type": "code",
      "source": [
        "from dspy.evaluate import SemanticF1\n",
        "\n",
        "# Instantiate the metric.\n",
        "metric = SemanticF1(decompositional=True)\n",
        "\n",
        "# Get predictions from both the guided and the regular models\n",
        "pred_guided = guided_assistant(**example.inputs())\n",
        "pred_regular = assistant(**example.inputs())\n",
        "\n",
        "# Compute the metric score for the prediction for both models and compare results\n",
        "score_guided = metric(example, pred_guided)\n",
        "score_regular = metric(example, pred_regular)\n",
        "\n",
        "print(f\"Question: \\t {example.question}\\n\")\n",
        "print(f\"Gold Response: \\t {example.response}\\n\\n\")\n",
        "print(f\"Guided Assistant Response: \\t {pred_guided.response}\\n\")\n",
        "print(f\"Regular Assistant Response: \\t {pred_regular.response}\\n\\n\")\n",
        "print(f\"Guided Assistant Semantic F1 Score: {score_guided:.2f}\\n\")\n",
        "print(f\"Regular Assistant Semantic F1 Score: {score_regular:.2f}\")"
      ],
      "metadata": {
        "colab": {
          "base_uri": "https://localhost:8080/"
        },
        "id": "Jfo9lWF_DfuC",
        "outputId": "ff4d2d16-9d81-4f13-ce7e-78d8629b82db"
      },
      "execution_count": 48,
      "outputs": [
        {
          "output_type": "stream",
          "name": "stdout",
          "text": [
            "Question: \t What is the function of the cerebral cortex?\n",
            "\n",
            "Gold Response: \t You've asked about the brain's most evolutionarily advanced region! The cerebral cortex—the wrinkled outer layer of the cerebrum—is responsible for our highest cognitive functions including conscious thought, sensory perception, voluntary movement, language, reasoning, planning, and personality. It's organized into specialized regions (lobes) that handle different functions, though with considerable integration between areas. Have you thought about why the cortex is so wrinkled in humans compared to many other mammals? How might damage to specific cortical regions affect different abilities? Consider how this specialized yet integrated organization resembles other complex systems—like departments in a company that have distinct functions but must coordinate. In summary, the cerebral cortex represents the neural foundation for our most distinctly human abilities, enabling the complex cognitive and behavioral repertoire that characterizes human experience—a remarkable structure that continues to reveal its secrets through ongoing neuroscience research.\n",
            "\n",
            "\n",
            "Guided Assistant Response: \t Your question about the function of the cerebral cortex is very important as it helps us understand how the brain processes information and controls various functions. The context provides some insights into this. For instance, the cerebral cortex is divided into four main lobes: frontal, parietal, temporal, and occipital, each with its own specialized functions. For example, the ventral temporal cortex includes regions like the fusiform face area (FFA) and the parahippocampal place area (PPA), which are specialized for processing faces and places, respectively.\n",
            "\n",
            "To deepen your understanding, consider the following questions:\n",
            "1. How might the different lobes of the cerebral cortex work together to process complex information?\n",
            "2. Can you think of any examples from your daily life where these specialized regions of the cerebral cortex might be actively engaged?\n",
            "\n",
            "You might also relate this to concepts you already understand, such as how different parts of the brain work together to perform tasks like reading or recognizing faces. Think about how the brain integrates information from various senses and how this might be connected to the functions of the cerebral cortex.\n",
            "\n",
            "In summary, the cerebral cortex is a highly organized structure with specialized regions that process different types of information. By understanding how these regions work together, you can gain a deeper appreciation for the complexity of the brain and its functions. Keep exploring and asking questions to further your understanding!\n",
            "\n",
            "Regular Assistant Response: \t The cerebral cortex is a critical part of the mammalian brain that is divided into four functional and spatially defined lobes: frontal, parietal, temporal, and occipital. It plays a role in processing specific categories of visual input, such as faces and places, through regions like the fusiform face area (FFA) and the parahippocampal place area (PPA). Additionally, the cingulate cortex, a part of the cerebral cortex, gives conceptual meaning to physiological information, generating feelings of satisfaction or displeasure based on the assessment of behavioral and internal changes.\n",
            "\n",
            "\n",
            "Guided Assistant Semantic F1 Score: 0.56\n",
            "\n",
            "Regular Assistant Semantic F1 Score: 0.33\n"
          ]
        }
      ]
    },
    {
      "cell_type": "code",
      "source": [
        "from dspy.evaluate import SemanticF1\n",
        "\n",
        "# Instantiate the metric.\n",
        "metric = SemanticF1(decompositional=True)\n",
        "\n",
        "# Define an evaluator that we can re-use.\n",
        "evaluate = dspy.Evaluate(devset=eval_data_examples, metric=metric, num_threads=24,display_progress=True, display_table=2)\n",
        "\n",
        "# Evaluate the guided learning assistant\n",
        "evaluate(guided_assistant)"
      ],
      "metadata": {
        "colab": {
          "base_uri": "https://localhost:8080/",
          "height": 364
        },
        "id": "-TFc1V981xRN",
        "outputId": "8db5b20d-9f15-43c8-b20e-88444c6463b5"
      },
      "execution_count": 46,
      "outputs": [
        {
          "output_type": "stream",
          "name": "stdout",
          "text": [
            "Average Metric: 37.14 / 60 (61.9%): 100%|██████████| 60/60 [00:19<00:00,  3.05it/s]"
          ]
        },
        {
          "output_type": "stream",
          "name": "stderr",
          "text": [
            "2025/03/06 08:13:04 INFO dspy.evaluate.evaluate: Average Metric: 37.14088928615047 / 60 (61.9%)\n"
          ]
        },
        {
          "output_type": "stream",
          "name": "stdout",
          "text": [
            "\n"
          ]
        },
        {
          "output_type": "display_data",
          "data": {
            "text/plain": [
              "                                                      question  \\\n",
              "0  What is the role of neurotransmitters in anxiety disorders?   \n",
              "1              How does the nervous system control heart rate?   \n",
              "\n",
              "                                                        example_response  \\\n",
              "0  You've asked about an important connection between neurobiology an...   \n",
              "1  Excellent question about an essential regulatory process! Your ner...   \n",
              "\n",
              "                            document_id  \\\n",
              "0    8b9c0d1e-2f3g-4h5i-6j7k-8l9m0n1o2p   \n",
              "1  3t4u5v6w-7x8y-9z0a-1b2c-3d4e5f6g7h8i   \n",
              "\n",
              "                                                           pred_response  \\\n",
              "0  Your question about the role of neurotransmitters in anxiety disor...   \n",
              "1  Your question about how the nervous system controls heart rate is ...   \n",
              "\n",
              "                                                               citations  \\\n",
              "0  • Introduction to Behavioral Neuroscience (Page 660)\\n• Introducti...   \n",
              "1  • ConceptsofBiology (Page 448)\\n• ConceptsofBiology (Page 454)\\n• ...   \n",
              "\n",
              "                                                                 context  \\\n",
              "0  the am ygdala and bed nucleus o f the s tria t erminalis (BNS T) t...   \n",
              "1  sympathetic ner vous s ystem include an ac celerated hear t rate a...   \n",
              "\n",
              "   SemanticF1  \n",
              "0  ✔️ [0.400]  \n",
              "1  ✔️ [0.635]  "
            ],
            "text/html": [
              "\n",
              "  <div id=\"df-e9db0324-36f8-4474-9de6-481411da099b\" class=\"colab-df-container\">\n",
              "    <div>\n",
              "<style scoped>\n",
              "    .dataframe tbody tr th:only-of-type {\n",
              "        vertical-align: middle;\n",
              "    }\n",
              "\n",
              "    .dataframe tbody tr th {\n",
              "        vertical-align: top;\n",
              "    }\n",
              "\n",
              "    .dataframe thead th {\n",
              "        text-align: right;\n",
              "    }\n",
              "</style>\n",
              "<table border=\"1\" class=\"dataframe\">\n",
              "  <thead>\n",
              "    <tr style=\"text-align: right;\">\n",
              "      <th></th>\n",
              "      <th>question</th>\n",
              "      <th>example_response</th>\n",
              "      <th>document_id</th>\n",
              "      <th>pred_response</th>\n",
              "      <th>citations</th>\n",
              "      <th>context</th>\n",
              "      <th>SemanticF1</th>\n",
              "    </tr>\n",
              "  </thead>\n",
              "  <tbody>\n",
              "    <tr>\n",
              "      <th>0</th>\n",
              "      <td>What is the role of neurotransmitters in anxiety disorders?</td>\n",
              "      <td>You've asked about an important connection between neurobiology an...</td>\n",
              "      <td>8b9c0d1e-2f3g-4h5i-6j7k-8l9m0n1o2p</td>\n",
              "      <td>Your question about the role of neurotransmitters in anxiety disor...</td>\n",
              "      <td>• Introduction to Behavioral Neuroscience (Page 660)\\n• Introducti...</td>\n",
              "      <td>the am ygdala and bed nucleus o f the s tria t erminalis (BNS T) t...</td>\n",
              "      <td>✔️ [0.400]</td>\n",
              "    </tr>\n",
              "    <tr>\n",
              "      <th>1</th>\n",
              "      <td>How does the nervous system control heart rate?</td>\n",
              "      <td>Excellent question about an essential regulatory process! Your ner...</td>\n",
              "      <td>3t4u5v6w-7x8y-9z0a-1b2c-3d4e5f6g7h8i</td>\n",
              "      <td>Your question about how the nervous system controls heart rate is ...</td>\n",
              "      <td>• ConceptsofBiology (Page 448)\\n• ConceptsofBiology (Page 454)\\n• ...</td>\n",
              "      <td>sympathetic ner vous s ystem include an ac celerated hear t rate a...</td>\n",
              "      <td>✔️ [0.635]</td>\n",
              "    </tr>\n",
              "  </tbody>\n",
              "</table>\n",
              "</div>\n",
              "    <div class=\"colab-df-buttons\">\n",
              "\n",
              "  <div class=\"colab-df-container\">\n",
              "    <button class=\"colab-df-convert\" onclick=\"convertToInteractive('df-e9db0324-36f8-4474-9de6-481411da099b')\"\n",
              "            title=\"Convert this dataframe to an interactive table.\"\n",
              "            style=\"display:none;\">\n",
              "\n",
              "  <svg xmlns=\"http://www.w3.org/2000/svg\" height=\"24px\" viewBox=\"0 -960 960 960\">\n",
              "    <path d=\"M120-120v-720h720v720H120Zm60-500h600v-160H180v160Zm220 220h160v-160H400v160Zm0 220h160v-160H400v160ZM180-400h160v-160H180v160Zm440 0h160v-160H620v160ZM180-180h160v-160H180v160Zm440 0h160v-160H620v160Z\"/>\n",
              "  </svg>\n",
              "    </button>\n",
              "\n",
              "  <style>\n",
              "    .colab-df-container {\n",
              "      display:flex;\n",
              "      gap: 12px;\n",
              "    }\n",
              "\n",
              "    .colab-df-convert {\n",
              "      background-color: #E8F0FE;\n",
              "      border: none;\n",
              "      border-radius: 50%;\n",
              "      cursor: pointer;\n",
              "      display: none;\n",
              "      fill: #1967D2;\n",
              "      height: 32px;\n",
              "      padding: 0 0 0 0;\n",
              "      width: 32px;\n",
              "    }\n",
              "\n",
              "    .colab-df-convert:hover {\n",
              "      background-color: #E2EBFA;\n",
              "      box-shadow: 0px 1px 2px rgba(60, 64, 67, 0.3), 0px 1px 3px 1px rgba(60, 64, 67, 0.15);\n",
              "      fill: #174EA6;\n",
              "    }\n",
              "\n",
              "    .colab-df-buttons div {\n",
              "      margin-bottom: 4px;\n",
              "    }\n",
              "\n",
              "    [theme=dark] .colab-df-convert {\n",
              "      background-color: #3B4455;\n",
              "      fill: #D2E3FC;\n",
              "    }\n",
              "\n",
              "    [theme=dark] .colab-df-convert:hover {\n",
              "      background-color: #434B5C;\n",
              "      box-shadow: 0px 1px 3px 1px rgba(0, 0, 0, 0.15);\n",
              "      filter: drop-shadow(0px 1px 2px rgba(0, 0, 0, 0.3));\n",
              "      fill: #FFFFFF;\n",
              "    }\n",
              "  </style>\n",
              "\n",
              "    <script>\n",
              "      const buttonEl =\n",
              "        document.querySelector('#df-e9db0324-36f8-4474-9de6-481411da099b button.colab-df-convert');\n",
              "      buttonEl.style.display =\n",
              "        google.colab.kernel.accessAllowed ? 'block' : 'none';\n",
              "\n",
              "      async function convertToInteractive(key) {\n",
              "        const element = document.querySelector('#df-e9db0324-36f8-4474-9de6-481411da099b');\n",
              "        const dataTable =\n",
              "          await google.colab.kernel.invokeFunction('convertToInteractive',\n",
              "                                                    [key], {});\n",
              "        if (!dataTable) return;\n",
              "\n",
              "        const docLinkHtml = 'Like what you see? Visit the ' +\n",
              "          '<a target=\"_blank\" href=https://colab.research.google.com/notebooks/data_table.ipynb>data table notebook</a>'\n",
              "          + ' to learn more about interactive tables.';\n",
              "        element.innerHTML = '';\n",
              "        dataTable['output_type'] = 'display_data';\n",
              "        await google.colab.output.renderOutput(dataTable, element);\n",
              "        const docLink = document.createElement('div');\n",
              "        docLink.innerHTML = docLinkHtml;\n",
              "        element.appendChild(docLink);\n",
              "      }\n",
              "    </script>\n",
              "  </div>\n",
              "\n",
              "\n",
              "<div id=\"df-a3321b2e-5d98-4b67-b47d-f34a0fcd527d\">\n",
              "  <button class=\"colab-df-quickchart\" onclick=\"quickchart('df-a3321b2e-5d98-4b67-b47d-f34a0fcd527d')\"\n",
              "            title=\"Suggest charts\"\n",
              "            style=\"display:none;\">\n",
              "\n",
              "<svg xmlns=\"http://www.w3.org/2000/svg\" height=\"24px\"viewBox=\"0 0 24 24\"\n",
              "     width=\"24px\">\n",
              "    <g>\n",
              "        <path d=\"M19 3H5c-1.1 0-2 .9-2 2v14c0 1.1.9 2 2 2h14c1.1 0 2-.9 2-2V5c0-1.1-.9-2-2-2zM9 17H7v-7h2v7zm4 0h-2V7h2v10zm4 0h-2v-4h2v4z\"/>\n",
              "    </g>\n",
              "</svg>\n",
              "  </button>\n",
              "\n",
              "<style>\n",
              "  .colab-df-quickchart {\n",
              "      --bg-color: #E8F0FE;\n",
              "      --fill-color: #1967D2;\n",
              "      --hover-bg-color: #E2EBFA;\n",
              "      --hover-fill-color: #174EA6;\n",
              "      --disabled-fill-color: #AAA;\n",
              "      --disabled-bg-color: #DDD;\n",
              "  }\n",
              "\n",
              "  [theme=dark] .colab-df-quickchart {\n",
              "      --bg-color: #3B4455;\n",
              "      --fill-color: #D2E3FC;\n",
              "      --hover-bg-color: #434B5C;\n",
              "      --hover-fill-color: #FFFFFF;\n",
              "      --disabled-bg-color: #3B4455;\n",
              "      --disabled-fill-color: #666;\n",
              "  }\n",
              "\n",
              "  .colab-df-quickchart {\n",
              "    background-color: var(--bg-color);\n",
              "    border: none;\n",
              "    border-radius: 50%;\n",
              "    cursor: pointer;\n",
              "    display: none;\n",
              "    fill: var(--fill-color);\n",
              "    height: 32px;\n",
              "    padding: 0;\n",
              "    width: 32px;\n",
              "  }\n",
              "\n",
              "  .colab-df-quickchart:hover {\n",
              "    background-color: var(--hover-bg-color);\n",
              "    box-shadow: 0 1px 2px rgba(60, 64, 67, 0.3), 0 1px 3px 1px rgba(60, 64, 67, 0.15);\n",
              "    fill: var(--button-hover-fill-color);\n",
              "  }\n",
              "\n",
              "  .colab-df-quickchart-complete:disabled,\n",
              "  .colab-df-quickchart-complete:disabled:hover {\n",
              "    background-color: var(--disabled-bg-color);\n",
              "    fill: var(--disabled-fill-color);\n",
              "    box-shadow: none;\n",
              "  }\n",
              "\n",
              "  .colab-df-spinner {\n",
              "    border: 2px solid var(--fill-color);\n",
              "    border-color: transparent;\n",
              "    border-bottom-color: var(--fill-color);\n",
              "    animation:\n",
              "      spin 1s steps(1) infinite;\n",
              "  }\n",
              "\n",
              "  @keyframes spin {\n",
              "    0% {\n",
              "      border-color: transparent;\n",
              "      border-bottom-color: var(--fill-color);\n",
              "      border-left-color: var(--fill-color);\n",
              "    }\n",
              "    20% {\n",
              "      border-color: transparent;\n",
              "      border-left-color: var(--fill-color);\n",
              "      border-top-color: var(--fill-color);\n",
              "    }\n",
              "    30% {\n",
              "      border-color: transparent;\n",
              "      border-left-color: var(--fill-color);\n",
              "      border-top-color: var(--fill-color);\n",
              "      border-right-color: var(--fill-color);\n",
              "    }\n",
              "    40% {\n",
              "      border-color: transparent;\n",
              "      border-right-color: var(--fill-color);\n",
              "      border-top-color: var(--fill-color);\n",
              "    }\n",
              "    60% {\n",
              "      border-color: transparent;\n",
              "      border-right-color: var(--fill-color);\n",
              "    }\n",
              "    80% {\n",
              "      border-color: transparent;\n",
              "      border-right-color: var(--fill-color);\n",
              "      border-bottom-color: var(--fill-color);\n",
              "    }\n",
              "    90% {\n",
              "      border-color: transparent;\n",
              "      border-bottom-color: var(--fill-color);\n",
              "    }\n",
              "  }\n",
              "</style>\n",
              "\n",
              "  <script>\n",
              "    async function quickchart(key) {\n",
              "      const quickchartButtonEl =\n",
              "        document.querySelector('#' + key + ' button');\n",
              "      quickchartButtonEl.disabled = true;  // To prevent multiple clicks.\n",
              "      quickchartButtonEl.classList.add('colab-df-spinner');\n",
              "      try {\n",
              "        const charts = await google.colab.kernel.invokeFunction(\n",
              "            'suggestCharts', [key], {});\n",
              "      } catch (error) {\n",
              "        console.error('Error during call to suggestCharts:', error);\n",
              "      }\n",
              "      quickchartButtonEl.classList.remove('colab-df-spinner');\n",
              "      quickchartButtonEl.classList.add('colab-df-quickchart-complete');\n",
              "    }\n",
              "    (() => {\n",
              "      let quickchartButtonEl =\n",
              "        document.querySelector('#df-a3321b2e-5d98-4b67-b47d-f34a0fcd527d button');\n",
              "      quickchartButtonEl.style.display =\n",
              "        google.colab.kernel.accessAllowed ? 'block' : 'none';\n",
              "    })();\n",
              "  </script>\n",
              "</div>\n",
              "\n",
              "    </div>\n",
              "  </div>\n"
            ],
            "application/vnd.google.colaboratory.intrinsic+json": {
              "type": "dataframe",
              "summary": "{\n  \"name\": \"evaluate(guided_assistant)\",\n  \"rows\": 2,\n  \"fields\": [\n    {\n      \"column\": \"question\",\n      \"properties\": {\n        \"dtype\": \"string\",\n        \"num_unique_values\": 2,\n        \"samples\": [\n          \"How does the nervous system control heart rate?\",\n          \"What is the role of neurotransmitters in anxiety disorders?\"\n        ],\n        \"semantic_type\": \"\",\n        \"description\": \"\"\n      }\n    },\n    {\n      \"column\": \"example_response\",\n      \"properties\": {\n        \"dtype\": \"string\",\n        \"num_unique_values\": 2,\n        \"samples\": [\n          \"Excellent question about an essential regulatory process! Your nervous system controls heart rate primarily through the autonomic nervous system, with the sympathetic branch increasing heart...\",\n          \"You've asked about an important connection between neurobiology and mental health! Neurotransmitters play crucial roles in anxiety disorders, with imbalances in several systems implicated in...\"\n        ],\n        \"semantic_type\": \"\",\n        \"description\": \"\"\n      }\n    },\n    {\n      \"column\": \"document_id\",\n      \"properties\": {\n        \"dtype\": \"string\",\n        \"num_unique_values\": 2,\n        \"samples\": [\n          \"3t4u5v6w-7x8y-9z0a-1b2c-3d4e5f6g7h8i\",\n          \"8b9c0d1e-2f3g-4h5i-6j7k-8l9m0n1o2p\"\n        ],\n        \"semantic_type\": \"\",\n        \"description\": \"\"\n      }\n    },\n    {\n      \"column\": \"pred_response\",\n      \"properties\": {\n        \"dtype\": \"string\",\n        \"num_unique_values\": 2,\n        \"samples\": [\n          \"Your question about how the nervous system controls heart rate is a great one! It's important to understand this process because it helps us grasp...\",\n          \"Your question about the role of neurotransmitters in anxiety disorders is very insightful, as it delves into the complex interplay between brain chemistry and mental...\"\n        ],\n        \"semantic_type\": \"\",\n        \"description\": \"\"\n      }\n    },\n    {\n      \"column\": \"citations\",\n      \"properties\": {\n        \"dtype\": \"string\",\n        \"num_unique_values\": 2,\n        \"samples\": [\n          \"\\u2022 ConceptsofBiology (Page 448)\\n\\u2022 ConceptsofBiology (Page 454)\\n\\u2022 Introduction to Behavioral Neuroscience (Page 730)\",\n          \"\\u2022 Introduction to Behavioral Neuroscience (Page 660)\\n\\u2022 Introduction to Behavioral Neuroscience (Page 148)\\n\\u2022 Introduction to Behavioral Neuroscience (Page 650)\"\n        ],\n        \"semantic_type\": \"\",\n        \"description\": \"\"\n      }\n    },\n    {\n      \"column\": \"context\",\n      \"properties\": {\n        \"dtype\": \"string\",\n        \"num_unique_values\": 2,\n        \"samples\": [\n          \"sympathetic ner vous s ystem include an ac celerated hear t rate and inhibit ed dig estion. These functions help pr epar e an or...\",\n          \"the am ygdala and bed nucleus o f the s tria t erminalis (BNS T) that is highl y implicat ed in both s tress...\"\n        ],\n        \"semantic_type\": \"\",\n        \"description\": \"\"\n      }\n    },\n    {\n      \"column\": \"SemanticF1\",\n      \"properties\": {\n        \"dtype\": \"string\",\n        \"num_unique_values\": 2,\n        \"samples\": [\n          \"\\u2714\\ufe0f [0.635]\",\n          \"\\u2714\\ufe0f [0.400]\"\n        ],\n        \"semantic_type\": \"\",\n        \"description\": \"\"\n      }\n    }\n  ]\n}"
            }
          },
          "metadata": {}
        },
        {
          "output_type": "display_data",
          "data": {
            "text/plain": [
              "<IPython.core.display.HTML object>"
            ],
            "text/html": [
              "\n",
              "                <div style='\n",
              "                    text-align: center;\n",
              "                    font-size: 16px;\n",
              "                    font-weight: bold;\n",
              "                    color: #555;\n",
              "                    margin: 10px 0;'>\n",
              "                    ... 58 more rows not displayed ...\n",
              "                </div>\n",
              "                "
            ]
          },
          "metadata": {}
        },
        {
          "output_type": "execute_result",
          "data": {
            "text/plain": [
              "61.9"
            ]
          },
          "metadata": {},
          "execution_count": 46
        }
      ]
    },
    {
      "cell_type": "code",
      "source": [
        "# Evaluate the vanilla learning assistant\n",
        "evaluate(assistant)"
      ],
      "metadata": {
        "colab": {
          "base_uri": "https://localhost:8080/",
          "height": 364
        },
        "id": "U5mYkaKG2AON",
        "outputId": "7beb9491-6ef5-4edc-ea2a-67e597eca27a"
      },
      "execution_count": 49,
      "outputs": [
        {
          "output_type": "stream",
          "name": "stdout",
          "text": [
            "Average Metric: 34.42 / 60 (57.4%): 100%|██████████| 60/60 [00:21<00:00,  2.80it/s]"
          ]
        },
        {
          "output_type": "stream",
          "name": "stderr",
          "text": [
            "2025/03/06 08:14:43 INFO dspy.evaluate.evaluate: Average Metric: 34.42314100823044 / 60 (57.4%)\n"
          ]
        },
        {
          "output_type": "stream",
          "name": "stdout",
          "text": [
            "\n"
          ]
        },
        {
          "output_type": "display_data",
          "data": {
            "text/plain": [
              "                                                      question  \\\n",
              "0  What is the role of neurotransmitters in anxiety disorders?   \n",
              "1              How does the nervous system control heart rate?   \n",
              "\n",
              "                                                        example_response  \\\n",
              "0  You've asked about an important connection between neurobiology an...   \n",
              "1  Excellent question about an essential regulatory process! Your ner...   \n",
              "\n",
              "                            document_id  \\\n",
              "0    8b9c0d1e-2f3g-4h5i-6j7k-8l9m0n1o2p   \n",
              "1  3t4u5v6w-7x8y-9z0a-1b2c-3d4e5f6g7h8i   \n",
              "\n",
              "                                                           pred_response  \\\n",
              "0  Neurotransmitters play a crucial role in anxiety disorders, partic...   \n",
              "1  The nervous system controls heart rate through the sympathetic and...   \n",
              "\n",
              "                                                               citations  \\\n",
              "0  • Introduction to Behavioral Neuroscience (Page 660)\\n• Introducti...   \n",
              "1  • ConceptsofBiology (Page 448)\\n• ConceptsofBiology (Page 454)\\n• ...   \n",
              "\n",
              "                                                                 context  \\\n",
              "0  the am ygdala and bed nucleus o f the s tria t erminalis (BNS T) t...   \n",
              "1  sympathetic ner vous s ystem include an ac celerated hear t rate a...   \n",
              "\n",
              "   SemanticF1  \n",
              "0  ✔️ [0.469]  \n",
              "1  ✔️ [0.769]  "
            ],
            "text/html": [
              "\n",
              "  <div id=\"df-d278d220-058e-49ff-9a91-db84a88e6768\" class=\"colab-df-container\">\n",
              "    <div>\n",
              "<style scoped>\n",
              "    .dataframe tbody tr th:only-of-type {\n",
              "        vertical-align: middle;\n",
              "    }\n",
              "\n",
              "    .dataframe tbody tr th {\n",
              "        vertical-align: top;\n",
              "    }\n",
              "\n",
              "    .dataframe thead th {\n",
              "        text-align: right;\n",
              "    }\n",
              "</style>\n",
              "<table border=\"1\" class=\"dataframe\">\n",
              "  <thead>\n",
              "    <tr style=\"text-align: right;\">\n",
              "      <th></th>\n",
              "      <th>question</th>\n",
              "      <th>example_response</th>\n",
              "      <th>document_id</th>\n",
              "      <th>pred_response</th>\n",
              "      <th>citations</th>\n",
              "      <th>context</th>\n",
              "      <th>SemanticF1</th>\n",
              "    </tr>\n",
              "  </thead>\n",
              "  <tbody>\n",
              "    <tr>\n",
              "      <th>0</th>\n",
              "      <td>What is the role of neurotransmitters in anxiety disorders?</td>\n",
              "      <td>You've asked about an important connection between neurobiology an...</td>\n",
              "      <td>8b9c0d1e-2f3g-4h5i-6j7k-8l9m0n1o2p</td>\n",
              "      <td>Neurotransmitters play a crucial role in anxiety disorders, partic...</td>\n",
              "      <td>• Introduction to Behavioral Neuroscience (Page 660)\\n• Introducti...</td>\n",
              "      <td>the am ygdala and bed nucleus o f the s tria t erminalis (BNS T) t...</td>\n",
              "      <td>✔️ [0.469]</td>\n",
              "    </tr>\n",
              "    <tr>\n",
              "      <th>1</th>\n",
              "      <td>How does the nervous system control heart rate?</td>\n",
              "      <td>Excellent question about an essential regulatory process! Your ner...</td>\n",
              "      <td>3t4u5v6w-7x8y-9z0a-1b2c-3d4e5f6g7h8i</td>\n",
              "      <td>The nervous system controls heart rate through the sympathetic and...</td>\n",
              "      <td>• ConceptsofBiology (Page 448)\\n• ConceptsofBiology (Page 454)\\n• ...</td>\n",
              "      <td>sympathetic ner vous s ystem include an ac celerated hear t rate a...</td>\n",
              "      <td>✔️ [0.769]</td>\n",
              "    </tr>\n",
              "  </tbody>\n",
              "</table>\n",
              "</div>\n",
              "    <div class=\"colab-df-buttons\">\n",
              "\n",
              "  <div class=\"colab-df-container\">\n",
              "    <button class=\"colab-df-convert\" onclick=\"convertToInteractive('df-d278d220-058e-49ff-9a91-db84a88e6768')\"\n",
              "            title=\"Convert this dataframe to an interactive table.\"\n",
              "            style=\"display:none;\">\n",
              "\n",
              "  <svg xmlns=\"http://www.w3.org/2000/svg\" height=\"24px\" viewBox=\"0 -960 960 960\">\n",
              "    <path d=\"M120-120v-720h720v720H120Zm60-500h600v-160H180v160Zm220 220h160v-160H400v160Zm0 220h160v-160H400v160ZM180-400h160v-160H180v160Zm440 0h160v-160H620v160ZM180-180h160v-160H180v160Zm440 0h160v-160H620v160Z\"/>\n",
              "  </svg>\n",
              "    </button>\n",
              "\n",
              "  <style>\n",
              "    .colab-df-container {\n",
              "      display:flex;\n",
              "      gap: 12px;\n",
              "    }\n",
              "\n",
              "    .colab-df-convert {\n",
              "      background-color: #E8F0FE;\n",
              "      border: none;\n",
              "      border-radius: 50%;\n",
              "      cursor: pointer;\n",
              "      display: none;\n",
              "      fill: #1967D2;\n",
              "      height: 32px;\n",
              "      padding: 0 0 0 0;\n",
              "      width: 32px;\n",
              "    }\n",
              "\n",
              "    .colab-df-convert:hover {\n",
              "      background-color: #E2EBFA;\n",
              "      box-shadow: 0px 1px 2px rgba(60, 64, 67, 0.3), 0px 1px 3px 1px rgba(60, 64, 67, 0.15);\n",
              "      fill: #174EA6;\n",
              "    }\n",
              "\n",
              "    .colab-df-buttons div {\n",
              "      margin-bottom: 4px;\n",
              "    }\n",
              "\n",
              "    [theme=dark] .colab-df-convert {\n",
              "      background-color: #3B4455;\n",
              "      fill: #D2E3FC;\n",
              "    }\n",
              "\n",
              "    [theme=dark] .colab-df-convert:hover {\n",
              "      background-color: #434B5C;\n",
              "      box-shadow: 0px 1px 3px 1px rgba(0, 0, 0, 0.15);\n",
              "      filter: drop-shadow(0px 1px 2px rgba(0, 0, 0, 0.3));\n",
              "      fill: #FFFFFF;\n",
              "    }\n",
              "  </style>\n",
              "\n",
              "    <script>\n",
              "      const buttonEl =\n",
              "        document.querySelector('#df-d278d220-058e-49ff-9a91-db84a88e6768 button.colab-df-convert');\n",
              "      buttonEl.style.display =\n",
              "        google.colab.kernel.accessAllowed ? 'block' : 'none';\n",
              "\n",
              "      async function convertToInteractive(key) {\n",
              "        const element = document.querySelector('#df-d278d220-058e-49ff-9a91-db84a88e6768');\n",
              "        const dataTable =\n",
              "          await google.colab.kernel.invokeFunction('convertToInteractive',\n",
              "                                                    [key], {});\n",
              "        if (!dataTable) return;\n",
              "\n",
              "        const docLinkHtml = 'Like what you see? Visit the ' +\n",
              "          '<a target=\"_blank\" href=https://colab.research.google.com/notebooks/data_table.ipynb>data table notebook</a>'\n",
              "          + ' to learn more about interactive tables.';\n",
              "        element.innerHTML = '';\n",
              "        dataTable['output_type'] = 'display_data';\n",
              "        await google.colab.output.renderOutput(dataTable, element);\n",
              "        const docLink = document.createElement('div');\n",
              "        docLink.innerHTML = docLinkHtml;\n",
              "        element.appendChild(docLink);\n",
              "      }\n",
              "    </script>\n",
              "  </div>\n",
              "\n",
              "\n",
              "<div id=\"df-b7057d90-fd1d-459a-a255-efefda5d3ec4\">\n",
              "  <button class=\"colab-df-quickchart\" onclick=\"quickchart('df-b7057d90-fd1d-459a-a255-efefda5d3ec4')\"\n",
              "            title=\"Suggest charts\"\n",
              "            style=\"display:none;\">\n",
              "\n",
              "<svg xmlns=\"http://www.w3.org/2000/svg\" height=\"24px\"viewBox=\"0 0 24 24\"\n",
              "     width=\"24px\">\n",
              "    <g>\n",
              "        <path d=\"M19 3H5c-1.1 0-2 .9-2 2v14c0 1.1.9 2 2 2h14c1.1 0 2-.9 2-2V5c0-1.1-.9-2-2-2zM9 17H7v-7h2v7zm4 0h-2V7h2v10zm4 0h-2v-4h2v4z\"/>\n",
              "    </g>\n",
              "</svg>\n",
              "  </button>\n",
              "\n",
              "<style>\n",
              "  .colab-df-quickchart {\n",
              "      --bg-color: #E8F0FE;\n",
              "      --fill-color: #1967D2;\n",
              "      --hover-bg-color: #E2EBFA;\n",
              "      --hover-fill-color: #174EA6;\n",
              "      --disabled-fill-color: #AAA;\n",
              "      --disabled-bg-color: #DDD;\n",
              "  }\n",
              "\n",
              "  [theme=dark] .colab-df-quickchart {\n",
              "      --bg-color: #3B4455;\n",
              "      --fill-color: #D2E3FC;\n",
              "      --hover-bg-color: #434B5C;\n",
              "      --hover-fill-color: #FFFFFF;\n",
              "      --disabled-bg-color: #3B4455;\n",
              "      --disabled-fill-color: #666;\n",
              "  }\n",
              "\n",
              "  .colab-df-quickchart {\n",
              "    background-color: var(--bg-color);\n",
              "    border: none;\n",
              "    border-radius: 50%;\n",
              "    cursor: pointer;\n",
              "    display: none;\n",
              "    fill: var(--fill-color);\n",
              "    height: 32px;\n",
              "    padding: 0;\n",
              "    width: 32px;\n",
              "  }\n",
              "\n",
              "  .colab-df-quickchart:hover {\n",
              "    background-color: var(--hover-bg-color);\n",
              "    box-shadow: 0 1px 2px rgba(60, 64, 67, 0.3), 0 1px 3px 1px rgba(60, 64, 67, 0.15);\n",
              "    fill: var(--button-hover-fill-color);\n",
              "  }\n",
              "\n",
              "  .colab-df-quickchart-complete:disabled,\n",
              "  .colab-df-quickchart-complete:disabled:hover {\n",
              "    background-color: var(--disabled-bg-color);\n",
              "    fill: var(--disabled-fill-color);\n",
              "    box-shadow: none;\n",
              "  }\n",
              "\n",
              "  .colab-df-spinner {\n",
              "    border: 2px solid var(--fill-color);\n",
              "    border-color: transparent;\n",
              "    border-bottom-color: var(--fill-color);\n",
              "    animation:\n",
              "      spin 1s steps(1) infinite;\n",
              "  }\n",
              "\n",
              "  @keyframes spin {\n",
              "    0% {\n",
              "      border-color: transparent;\n",
              "      border-bottom-color: var(--fill-color);\n",
              "      border-left-color: var(--fill-color);\n",
              "    }\n",
              "    20% {\n",
              "      border-color: transparent;\n",
              "      border-left-color: var(--fill-color);\n",
              "      border-top-color: var(--fill-color);\n",
              "    }\n",
              "    30% {\n",
              "      border-color: transparent;\n",
              "      border-left-color: var(--fill-color);\n",
              "      border-top-color: var(--fill-color);\n",
              "      border-right-color: var(--fill-color);\n",
              "    }\n",
              "    40% {\n",
              "      border-color: transparent;\n",
              "      border-right-color: var(--fill-color);\n",
              "      border-top-color: var(--fill-color);\n",
              "    }\n",
              "    60% {\n",
              "      border-color: transparent;\n",
              "      border-right-color: var(--fill-color);\n",
              "    }\n",
              "    80% {\n",
              "      border-color: transparent;\n",
              "      border-right-color: var(--fill-color);\n",
              "      border-bottom-color: var(--fill-color);\n",
              "    }\n",
              "    90% {\n",
              "      border-color: transparent;\n",
              "      border-bottom-color: var(--fill-color);\n",
              "    }\n",
              "  }\n",
              "</style>\n",
              "\n",
              "  <script>\n",
              "    async function quickchart(key) {\n",
              "      const quickchartButtonEl =\n",
              "        document.querySelector('#' + key + ' button');\n",
              "      quickchartButtonEl.disabled = true;  // To prevent multiple clicks.\n",
              "      quickchartButtonEl.classList.add('colab-df-spinner');\n",
              "      try {\n",
              "        const charts = await google.colab.kernel.invokeFunction(\n",
              "            'suggestCharts', [key], {});\n",
              "      } catch (error) {\n",
              "        console.error('Error during call to suggestCharts:', error);\n",
              "      }\n",
              "      quickchartButtonEl.classList.remove('colab-df-spinner');\n",
              "      quickchartButtonEl.classList.add('colab-df-quickchart-complete');\n",
              "    }\n",
              "    (() => {\n",
              "      let quickchartButtonEl =\n",
              "        document.querySelector('#df-b7057d90-fd1d-459a-a255-efefda5d3ec4 button');\n",
              "      quickchartButtonEl.style.display =\n",
              "        google.colab.kernel.accessAllowed ? 'block' : 'none';\n",
              "    })();\n",
              "  </script>\n",
              "</div>\n",
              "\n",
              "    </div>\n",
              "  </div>\n"
            ],
            "application/vnd.google.colaboratory.intrinsic+json": {
              "type": "dataframe",
              "summary": "{\n  \"name\": \"evaluate(assistant)\",\n  \"rows\": 2,\n  \"fields\": [\n    {\n      \"column\": \"question\",\n      \"properties\": {\n        \"dtype\": \"string\",\n        \"num_unique_values\": 2,\n        \"samples\": [\n          \"How does the nervous system control heart rate?\",\n          \"What is the role of neurotransmitters in anxiety disorders?\"\n        ],\n        \"semantic_type\": \"\",\n        \"description\": \"\"\n      }\n    },\n    {\n      \"column\": \"example_response\",\n      \"properties\": {\n        \"dtype\": \"string\",\n        \"num_unique_values\": 2,\n        \"samples\": [\n          \"Excellent question about an essential regulatory process! Your nervous system controls heart rate primarily through the autonomic nervous system, with the sympathetic branch increasing heart...\",\n          \"You've asked about an important connection between neurobiology and mental health! Neurotransmitters play crucial roles in anxiety disorders, with imbalances in several systems implicated in...\"\n        ],\n        \"semantic_type\": \"\",\n        \"description\": \"\"\n      }\n    },\n    {\n      \"column\": \"document_id\",\n      \"properties\": {\n        \"dtype\": \"string\",\n        \"num_unique_values\": 2,\n        \"samples\": [\n          \"3t4u5v6w-7x8y-9z0a-1b2c-3d4e5f6g7h8i\",\n          \"8b9c0d1e-2f3g-4h5i-6j7k-8l9m0n1o2p\"\n        ],\n        \"semantic_type\": \"\",\n        \"description\": \"\"\n      }\n    },\n    {\n      \"column\": \"pred_response\",\n      \"properties\": {\n        \"dtype\": \"string\",\n        \"num_unique_values\": 2,\n        \"samples\": [\n          \"The nervous system controls heart rate through the sympathetic and parasympathetic nervous systems. The sympathetic nervous system, when activated, releases the neurotransmitter norepinephrine, which increases...\",\n          \"Neurotransmitters play a crucial role in anxiety disorders, particularly through the serotonin (5-HT) system. The 5-HT1A receptor, which is involved in regulating sleep, feeding, and...\"\n        ],\n        \"semantic_type\": \"\",\n        \"description\": \"\"\n      }\n    },\n    {\n      \"column\": \"citations\",\n      \"properties\": {\n        \"dtype\": \"string\",\n        \"num_unique_values\": 2,\n        \"samples\": [\n          \"\\u2022 ConceptsofBiology (Page 448)\\n\\u2022 ConceptsofBiology (Page 454)\\n\\u2022 Introduction to Behavioral Neuroscience (Page 730)\",\n          \"\\u2022 Introduction to Behavioral Neuroscience (Page 660)\\n\\u2022 Introduction to Behavioral Neuroscience (Page 148)\\n\\u2022 Introduction to Behavioral Neuroscience (Page 650)\"\n        ],\n        \"semantic_type\": \"\",\n        \"description\": \"\"\n      }\n    },\n    {\n      \"column\": \"context\",\n      \"properties\": {\n        \"dtype\": \"string\",\n        \"num_unique_values\": 2,\n        \"samples\": [\n          \"sympathetic ner vous s ystem include an ac celerated hear t rate and inhibit ed dig estion. These functions help pr epar e an or...\",\n          \"the am ygdala and bed nucleus o f the s tria t erminalis (BNS T) that is highl y implicat ed in both s tress...\"\n        ],\n        \"semantic_type\": \"\",\n        \"description\": \"\"\n      }\n    },\n    {\n      \"column\": \"SemanticF1\",\n      \"properties\": {\n        \"dtype\": \"string\",\n        \"num_unique_values\": 2,\n        \"samples\": [\n          \"\\u2714\\ufe0f [0.769]\",\n          \"\\u2714\\ufe0f [0.469]\"\n        ],\n        \"semantic_type\": \"\",\n        \"description\": \"\"\n      }\n    }\n  ]\n}"
            }
          },
          "metadata": {}
        },
        {
          "output_type": "display_data",
          "data": {
            "text/plain": [
              "<IPython.core.display.HTML object>"
            ],
            "text/html": [
              "\n",
              "                <div style='\n",
              "                    text-align: center;\n",
              "                    font-size: 16px;\n",
              "                    font-weight: bold;\n",
              "                    color: #555;\n",
              "                    margin: 10px 0;'>\n",
              "                    ... 58 more rows not displayed ...\n",
              "                </div>\n",
              "                "
            ]
          },
          "metadata": {}
        },
        {
          "output_type": "execute_result",
          "data": {
            "text/plain": [
              "57.37"
            ]
          },
          "metadata": {},
          "execution_count": 49
        }
      ]
    },
    {
      "cell_type": "markdown",
      "source": [
        "# Optimize Prompts\n",
        "Finially I experimented briefly with optimizing the prompt on my guided assistant.\n",
        "\n",
        "**Approach:** I used DSPy's BootstrapFewShotWithRandomSearch since it was recommended by DSPy for smaller evaluation datasets (I started with only 20 samples).  \n",
        "\n",
        "**Problems:**\n",
        "* Lot's of warnings about failure to deep copy attribute 'retriever' of GuidedEducationalAssistant, possibly because I used a custom retriever.  It didn't cause any major issues.\n",
        "\n",
        "**Possible future improvement:** There's a lot to explore here.  DSPy offers many other optimization approaches, which would be worth experimenting with.\n",
        ""
      ],
      "metadata": {
        "id": "qg-auJAkGpKb"
      }
    },
    {
      "cell_type": "code",
      "source": [
        "from dspy.teleprompt import BootstrapFewShotWithRandomSearch\n",
        "\n",
        "# generate 8-shot examples of the program's steps\n",
        "config = dict(max_bootstrapped_demos=4, max_labeled_demos=4, num_candidate_programs=3, num_threads=4)\n",
        "\n",
        "teleprompter = BootstrapFewShotWithRandomSearch(metric=metric, **config)\n",
        "optimized_program = teleprompter.compile(GuidedEducationalAssistant(retriever), trainset=eval_data_examples)"
      ],
      "metadata": {
        "colab": {
          "base_uri": "https://localhost:8080/"
        },
        "id": "5kz6t_1s1ibo",
        "outputId": "4a427cc5-086b-406b-c641-918d5125f3f0"
      },
      "execution_count": 50,
      "outputs": [
        {
          "output_type": "stream",
          "name": "stderr",
          "text": [
            "WARNING:root:Failed to deep copy attribute 'retriever' of GuidedEducationalAssistant, falling back to shallow copy or reference copy.\n"
          ]
        },
        {
          "output_type": "stream",
          "name": "stdout",
          "text": [
            "Going to sample between 1 and 4 traces per predictor.\n",
            "Will attempt to bootstrap 3 candidate sets.\n",
            "Average Metric: 37.14 / 60 (61.9%): 100%|██████████| 60/60 [00:09<00:00,  6.29it/s]"
          ]
        },
        {
          "output_type": "stream",
          "name": "stderr",
          "text": [
            "2025/03/06 08:18:53 INFO dspy.evaluate.evaluate: Average Metric: 37.14088928615047 / 60 (61.9%)\n",
            "WARNING:root:Failed to deep copy attribute 'retriever' of GuidedEducationalAssistant, falling back to shallow copy or reference copy.\n"
          ]
        },
        {
          "output_type": "stream",
          "name": "stdout",
          "text": [
            "\n",
            "New best score: 61.9 for seed -3\n",
            "Scores so far: [61.9]\n",
            "Best score so far: 61.9\n",
            "Average Metric: 37.14 / 60 (61.9%): 100%|██████████| 60/60 [00:07<00:00,  8.36it/s]"
          ]
        },
        {
          "output_type": "stream",
          "name": "stderr",
          "text": [
            "2025/03/06 08:19:00 INFO dspy.evaluate.evaluate: Average Metric: 37.14088928615047 / 60 (61.9%)\n",
            "WARNING:root:Failed to deep copy attribute 'retriever' of GuidedEducationalAssistant, falling back to shallow copy or reference copy.\n",
            "WARNING:root:Failed to deep copy attribute 'retriever' of GuidedEducationalAssistant, falling back to shallow copy or reference copy.\n",
            "WARNING:root:Failed to deep copy attribute 'retriever' of GuidedEducationalAssistant, falling back to shallow copy or reference copy.\n",
            "WARNING:root:Failed to deep copy attribute 'retriever' of GuidedEducationalAssistant, falling back to shallow copy or reference copy.\n"
          ]
        },
        {
          "output_type": "stream",
          "name": "stdout",
          "text": [
            "\n",
            "Scores so far: [61.9, 61.9]\n",
            "Best score so far: 61.9\n"
          ]
        },
        {
          "output_type": "stream",
          "name": "stderr",
          "text": [
            " 13%|█▎        | 8/60 [00:01<00:11,  4.71it/s]\n"
          ]
        },
        {
          "output_type": "stream",
          "name": "stdout",
          "text": [
            "Bootstrapped 4 full traces after 8 examples for up to 1 rounds, amounting to 8 attempts.\n",
            "Average Metric: 39.38 / 60 (65.6%): 100%|██████████| 60/60 [01:26<00:00,  1.44s/it]"
          ]
        },
        {
          "output_type": "stream",
          "name": "stderr",
          "text": [
            "2025/03/06 08:20:28 INFO dspy.evaluate.evaluate: Average Metric: 39.37815765992707 / 60 (65.6%)\n",
            "WARNING:root:Failed to deep copy attribute 'retriever' of GuidedEducationalAssistant, falling back to shallow copy or reference copy.\n",
            "WARNING:root:Failed to deep copy attribute 'retriever' of GuidedEducationalAssistant, falling back to shallow copy or reference copy.\n",
            "WARNING:root:Failed to deep copy attribute 'retriever' of GuidedEducationalAssistant, falling back to shallow copy or reference copy.\n",
            "WARNING:root:Failed to deep copy attribute 'retriever' of GuidedEducationalAssistant, falling back to shallow copy or reference copy.\n"
          ]
        },
        {
          "output_type": "stream",
          "name": "stdout",
          "text": [
            "\n",
            "New best score: 65.63 for seed -1\n",
            "Scores so far: [61.9, 61.9, 65.63]\n",
            "Best score so far: 65.63\n"
          ]
        },
        {
          "output_type": "stream",
          "name": "stderr",
          "text": [
            " 12%|█▏        | 7/60 [00:00<00:07,  7.35it/s]\n"
          ]
        },
        {
          "output_type": "stream",
          "name": "stdout",
          "text": [
            "Bootstrapped 4 full traces after 7 examples for up to 1 rounds, amounting to 7 attempts.\n",
            "Average Metric: 40.46 / 60 (67.4%): 100%|██████████| 60/60 [00:41<00:00,  1.45it/s]"
          ]
        },
        {
          "output_type": "stream",
          "name": "stderr",
          "text": [
            "2025/03/06 08:21:10 INFO dspy.evaluate.evaluate: Average Metric: 40.46187959042771 / 60 (67.4%)\n",
            "WARNING:root:Failed to deep copy attribute 'retriever' of GuidedEducationalAssistant, falling back to shallow copy or reference copy.\n",
            "WARNING:root:Failed to deep copy attribute 'retriever' of GuidedEducationalAssistant, falling back to shallow copy or reference copy.\n",
            "WARNING:root:Failed to deep copy attribute 'retriever' of GuidedEducationalAssistant, falling back to shallow copy or reference copy.\n",
            "WARNING:root:Failed to deep copy attribute 'retriever' of GuidedEducationalAssistant, falling back to shallow copy or reference copy.\n"
          ]
        },
        {
          "output_type": "stream",
          "name": "stdout",
          "text": [
            "\n",
            "New best score: 67.44 for seed 0\n",
            "Scores so far: [61.9, 61.9, 65.63, 67.44]\n",
            "Best score so far: 67.44\n"
          ]
        },
        {
          "output_type": "stream",
          "name": "stderr",
          "text": [
            "  7%|▋         | 4/60 [00:00<00:07,  7.31it/s]\n"
          ]
        },
        {
          "output_type": "stream",
          "name": "stdout",
          "text": [
            "Bootstrapped 2 full traces after 4 examples for up to 1 rounds, amounting to 4 attempts.\n",
            "Average Metric: 40.64 / 60 (67.7%): 100%|██████████| 60/60 [01:15<00:00,  1.27s/it]"
          ]
        },
        {
          "output_type": "stream",
          "name": "stderr",
          "text": [
            "2025/03/06 08:22:27 INFO dspy.evaluate.evaluate: Average Metric: 40.640160333451284 / 60 (67.7%)\n",
            "WARNING:root:Failed to deep copy attribute 'retriever' of GuidedEducationalAssistant, falling back to shallow copy or reference copy.\n",
            "WARNING:root:Failed to deep copy attribute 'retriever' of GuidedEducationalAssistant, falling back to shallow copy or reference copy.\n",
            "WARNING:root:Failed to deep copy attribute 'retriever' of GuidedEducationalAssistant, falling back to shallow copy or reference copy.\n",
            "WARNING:root:Failed to deep copy attribute 'retriever' of GuidedEducationalAssistant, falling back to shallow copy or reference copy.\n"
          ]
        },
        {
          "output_type": "stream",
          "name": "stdout",
          "text": [
            "\n",
            "New best score: 67.73 for seed 1\n",
            "Scores so far: [61.9, 61.9, 65.63, 67.44, 67.73]\n",
            "Best score so far: 67.73\n"
          ]
        },
        {
          "output_type": "stream",
          "name": "stderr",
          "text": [
            "  5%|▌         | 3/60 [00:00<00:07,  7.48it/s]\n"
          ]
        },
        {
          "output_type": "stream",
          "name": "stdout",
          "text": [
            "Bootstrapped 1 full traces after 3 examples for up to 1 rounds, amounting to 3 attempts.\n",
            "Average Metric: 38.39 / 60 (64.0%): 100%|██████████| 60/60 [01:15<00:00,  1.25s/it]"
          ]
        },
        {
          "output_type": "stream",
          "name": "stderr",
          "text": [
            "2025/03/06 08:23:42 INFO dspy.evaluate.evaluate: Average Metric: 38.391522336934194 / 60 (64.0%)\n"
          ]
        },
        {
          "output_type": "stream",
          "name": "stdout",
          "text": [
            "\n",
            "Scores so far: [61.9, 61.9, 65.63, 67.44, 67.73, 63.99]\n",
            "Best score so far: 67.73\n",
            "6 candidate programs found.\n"
          ]
        }
      ]
    },
    {
      "cell_type": "code",
      "source": [
        "optimized_program.candidate_programs[0]['program']"
      ],
      "metadata": {
        "colab": {
          "base_uri": "https://localhost:8080/"
        },
        "id": "Y-hCSCOcJ03b",
        "outputId": "caa3dbf7-35fe-4d9e-b196-a5523f0d0038"
      },
      "execution_count": 53,
      "outputs": [
        {
          "output_type": "execute_result",
          "data": {
            "text/plain": [
              "generate.predict = Predict(StringSignature(question, context -> reasoning, guided_answer, sources\n",
              "    instructions='Guide students through a critical thinking process to discover answers about textbook content.'\n",
              "    question = Field(annotation=str required=True json_schema_extra={'__dspy_field_type': 'input', 'prefix': 'Question:', 'desc': '${question}'})\n",
              "    context = Field(annotation=str required=True json_schema_extra={'desc': 'Retrieved passages from textbooks', '__dspy_field_type': 'input', 'prefix': 'Context:'})\n",
              "    reasoning = Field(annotation=str required=True json_schema_extra={'prefix': \"Reasoning: Let's think step by step in order to\", 'desc': '${reasoning}', '__dspy_field_type': 'output'})\n",
              "    guided_answer = Field(annotation=str required=True json_schema_extra={'desc': \"\\n        Formulate a response that guides the student's thinking rather than simply providing facts.\\n        Follow this structure:\\n        1. Acknowledge the question and its importance\\n        2. Offer a partial insight or starting point based on the context\\n        3. Pose 1-2 guiding questions that help the student think through the concept\\n        4. Provide connections to related concepts they might already understand\\n        5. Conclude with a concise summary of the key points while encouraging further exploration\\n        \\n        The goal is to prompt critical thinking rather than delivering a complete answer.\\n        Use a warm, encouraging tone appropriate for education.\\n    \", '__dspy_field_type': 'output', 'prefix': 'Guided Answer:'})\n",
              "    sources = Field(annotation=str required=True json_schema_extra={'desc': 'The sources used to answer the question', '__dspy_field_type': 'output', 'prefix': 'Sources:'})\n",
              "))"
            ]
          },
          "metadata": {},
          "execution_count": 53
        }
      ]
    },
    {
      "cell_type": "code",
      "source": [
        "optimized_program.save(os.path.join(project_dir_path, \"optimized_program.json\"))"
      ],
      "metadata": {
        "id": "RGAZK1DDKRs4"
      },
      "execution_count": 54,
      "outputs": []
    }
  ]
}
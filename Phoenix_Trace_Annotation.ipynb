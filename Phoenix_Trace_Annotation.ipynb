{
  "nbformat": 4,
  "nbformat_minor": 0,
  "metadata": {
    "colab": {
      "provenance": []
    },
    "kernelspec": {
      "name": "python3",
      "display_name": "Python 3"
    },
    "language_info": {
      "name": "python"
    },
    "widgets": {
      "application/vnd.jupyter.widget-state+json": {
        "f297ca81964c4c0c8e3ea74c0976ffe2": {
          "model_module": "@jupyter-widgets/controls",
          "model_name": "TextareaModel",
          "model_module_version": "1.5.0",
          "state": {
            "_dom_classes": [],
            "_model_module": "@jupyter-widgets/controls",
            "_model_module_version": "1.5.0",
            "_model_name": "TextareaModel",
            "_view_count": null,
            "_view_module": "@jupyter-widgets/controls",
            "_view_module_version": "1.5.0",
            "_view_name": "TextareaView",
            "continuous_update": true,
            "description": "Prompt:",
            "description_tooltip": null,
            "disabled": false,
            "layout": "IPY_MODEL_51da1d93691442ce8b9680266cd9dc0f",
            "placeholder": "Enter your prompt here...",
            "rows": null,
            "style": "IPY_MODEL_ffcf71b692fd4780ab9327159e963752",
            "value": "Harriet was my first grade teacher, but now she is my dad's wife and my half-sister's mom."
          }
        },
        "51da1d93691442ce8b9680266cd9dc0f": {
          "model_module": "@jupyter-widgets/base",
          "model_name": "LayoutModel",
          "model_module_version": "1.2.0",
          "state": {
            "_model_module": "@jupyter-widgets/base",
            "_model_module_version": "1.2.0",
            "_model_name": "LayoutModel",
            "_view_count": null,
            "_view_module": "@jupyter-widgets/base",
            "_view_module_version": "1.2.0",
            "_view_name": "LayoutView",
            "align_content": null,
            "align_items": null,
            "align_self": null,
            "border": null,
            "bottom": null,
            "display": null,
            "flex": null,
            "flex_flow": null,
            "grid_area": null,
            "grid_auto_columns": null,
            "grid_auto_flow": null,
            "grid_auto_rows": null,
            "grid_column": null,
            "grid_gap": null,
            "grid_row": null,
            "grid_template_areas": null,
            "grid_template_columns": null,
            "grid_template_rows": null,
            "height": "100px",
            "justify_content": null,
            "justify_items": null,
            "left": null,
            "margin": null,
            "max_height": null,
            "max_width": null,
            "min_height": null,
            "min_width": null,
            "object_fit": null,
            "object_position": null,
            "order": null,
            "overflow": null,
            "overflow_x": null,
            "overflow_y": null,
            "padding": null,
            "right": null,
            "top": null,
            "visibility": null,
            "width": "500px"
          }
        },
        "ffcf71b692fd4780ab9327159e963752": {
          "model_module": "@jupyter-widgets/controls",
          "model_name": "DescriptionStyleModel",
          "model_module_version": "1.5.0",
          "state": {
            "_model_module": "@jupyter-widgets/controls",
            "_model_module_version": "1.5.0",
            "_model_name": "DescriptionStyleModel",
            "_view_count": null,
            "_view_module": "@jupyter-widgets/base",
            "_view_module_version": "1.2.0",
            "_view_name": "StyleView",
            "description_width": ""
          }
        },
        "9094a937d99e4a2982a61d3777127447": {
          "model_module": "@jupyter-widgets/controls",
          "model_name": "ButtonModel",
          "model_module_version": "1.5.0",
          "state": {
            "_dom_classes": [],
            "_model_module": "@jupyter-widgets/controls",
            "_model_module_version": "1.5.0",
            "_model_name": "ButtonModel",
            "_view_count": null,
            "_view_module": "@jupyter-widgets/controls",
            "_view_module_version": "1.5.0",
            "_view_name": "ButtonView",
            "button_style": "",
            "description": "Get Response",
            "disabled": false,
            "icon": "",
            "layout": "IPY_MODEL_22664338f6144a669cbb243ad5f8e424",
            "style": "IPY_MODEL_0901eae18cbc41c79f9acd882d82c2bf",
            "tooltip": ""
          }
        },
        "22664338f6144a669cbb243ad5f8e424": {
          "model_module": "@jupyter-widgets/base",
          "model_name": "LayoutModel",
          "model_module_version": "1.2.0",
          "state": {
            "_model_module": "@jupyter-widgets/base",
            "_model_module_version": "1.2.0",
            "_model_name": "LayoutModel",
            "_view_count": null,
            "_view_module": "@jupyter-widgets/base",
            "_view_module_version": "1.2.0",
            "_view_name": "LayoutView",
            "align_content": null,
            "align_items": null,
            "align_self": null,
            "border": null,
            "bottom": null,
            "display": null,
            "flex": null,
            "flex_flow": null,
            "grid_area": null,
            "grid_auto_columns": null,
            "grid_auto_flow": null,
            "grid_auto_rows": null,
            "grid_column": null,
            "grid_gap": null,
            "grid_row": null,
            "grid_template_areas": null,
            "grid_template_columns": null,
            "grid_template_rows": null,
            "height": null,
            "justify_content": null,
            "justify_items": null,
            "left": null,
            "margin": null,
            "max_height": null,
            "max_width": null,
            "min_height": null,
            "min_width": null,
            "object_fit": null,
            "object_position": null,
            "order": null,
            "overflow": null,
            "overflow_x": null,
            "overflow_y": null,
            "padding": null,
            "right": null,
            "top": null,
            "visibility": null,
            "width": null
          }
        },
        "0901eae18cbc41c79f9acd882d82c2bf": {
          "model_module": "@jupyter-widgets/controls",
          "model_name": "ButtonStyleModel",
          "model_module_version": "1.5.0",
          "state": {
            "_model_module": "@jupyter-widgets/controls",
            "_model_module_version": "1.5.0",
            "_model_name": "ButtonStyleModel",
            "_view_count": null,
            "_view_module": "@jupyter-widgets/base",
            "_view_module_version": "1.2.0",
            "_view_name": "StyleView",
            "button_color": null,
            "font_weight": ""
          }
        },
        "18a19bd4c86f4a41a611634a6ac47157": {
          "model_module": "@jupyter-widgets/controls",
          "model_name": "VBoxModel",
          "model_module_version": "1.5.0",
          "state": {
            "_dom_classes": [],
            "_model_module": "@jupyter-widgets/controls",
            "_model_module_version": "1.5.0",
            "_model_name": "VBoxModel",
            "_view_count": null,
            "_view_module": "@jupyter-widgets/controls",
            "_view_module_version": "1.5.0",
            "_view_name": "VBoxView",
            "box_style": "",
            "children": [
              "IPY_MODEL_4b0360e4eba74ac88ea934e10b1dd449",
              "IPY_MODEL_8163be2f888d423c8d9aac2cd4c9e433"
            ],
            "layout": "IPY_MODEL_47cf3e0178384e52bc48af292c1797a7"
          }
        },
        "4b0360e4eba74ac88ea934e10b1dd449": {
          "model_module": "@jupyter-widgets/controls",
          "model_name": "IntSliderModel",
          "model_module_version": "1.5.0",
          "state": {
            "_dom_classes": [],
            "_model_module": "@jupyter-widgets/controls",
            "_model_module_version": "1.5.0",
            "_model_name": "IntSliderModel",
            "_view_count": null,
            "_view_module": "@jupyter-widgets/controls",
            "_view_module_version": "1.5.0",
            "_view_name": "IntSliderView",
            "continuous_update": true,
            "description": "Move slider:",
            "description_tooltip": null,
            "disabled": false,
            "layout": "IPY_MODEL_2e59b18c98484eeab9851d64fe9f9f9c",
            "max": 5,
            "min": 1,
            "orientation": "horizontal",
            "readout": true,
            "readout_format": "d",
            "step": 1,
            "style": "IPY_MODEL_87365f1a1aca4a27a56a643d4b14268f",
            "value": 3
          }
        },
        "8163be2f888d423c8d9aac2cd4c9e433": {
          "model_module": "@jupyter-widgets/controls",
          "model_name": "HTMLModel",
          "model_module_version": "1.5.0",
          "state": {
            "_dom_classes": [],
            "_model_module": "@jupyter-widgets/controls",
            "_model_module_version": "1.5.0",
            "_model_name": "HTMLModel",
            "_view_count": null,
            "_view_module": "@jupyter-widgets/controls",
            "_view_module_version": "1.5.0",
            "_view_name": "HTMLView",
            "description": "",
            "description_tooltip": null,
            "layout": "IPY_MODEL_df7dbfad3d844cca8f28cd0c157c2167",
            "placeholder": "​",
            "style": "IPY_MODEL_9afddc4e6ab044d4829e4d8d61ba3b75",
            "value": "Rating: ★★★☆☆"
          }
        },
        "47cf3e0178384e52bc48af292c1797a7": {
          "model_module": "@jupyter-widgets/base",
          "model_name": "LayoutModel",
          "model_module_version": "1.2.0",
          "state": {
            "_model_module": "@jupyter-widgets/base",
            "_model_module_version": "1.2.0",
            "_model_name": "LayoutModel",
            "_view_count": null,
            "_view_module": "@jupyter-widgets/base",
            "_view_module_version": "1.2.0",
            "_view_name": "LayoutView",
            "align_content": null,
            "align_items": null,
            "align_self": null,
            "border": null,
            "bottom": null,
            "display": null,
            "flex": null,
            "flex_flow": null,
            "grid_area": null,
            "grid_auto_columns": null,
            "grid_auto_flow": null,
            "grid_auto_rows": null,
            "grid_column": null,
            "grid_gap": null,
            "grid_row": null,
            "grid_template_areas": null,
            "grid_template_columns": null,
            "grid_template_rows": null,
            "height": null,
            "justify_content": null,
            "justify_items": null,
            "left": null,
            "margin": null,
            "max_height": null,
            "max_width": null,
            "min_height": null,
            "min_width": null,
            "object_fit": null,
            "object_position": null,
            "order": null,
            "overflow": null,
            "overflow_x": null,
            "overflow_y": null,
            "padding": null,
            "right": null,
            "top": null,
            "visibility": null,
            "width": null
          }
        },
        "2e59b18c98484eeab9851d64fe9f9f9c": {
          "model_module": "@jupyter-widgets/base",
          "model_name": "LayoutModel",
          "model_module_version": "1.2.0",
          "state": {
            "_model_module": "@jupyter-widgets/base",
            "_model_module_version": "1.2.0",
            "_model_name": "LayoutModel",
            "_view_count": null,
            "_view_module": "@jupyter-widgets/base",
            "_view_module_version": "1.2.0",
            "_view_name": "LayoutView",
            "align_content": null,
            "align_items": null,
            "align_self": null,
            "border": null,
            "bottom": null,
            "display": null,
            "flex": null,
            "flex_flow": null,
            "grid_area": null,
            "grid_auto_columns": null,
            "grid_auto_flow": null,
            "grid_auto_rows": null,
            "grid_column": null,
            "grid_gap": null,
            "grid_row": null,
            "grid_template_areas": null,
            "grid_template_columns": null,
            "grid_template_rows": null,
            "height": null,
            "justify_content": null,
            "justify_items": null,
            "left": null,
            "margin": null,
            "max_height": null,
            "max_width": null,
            "min_height": null,
            "min_width": null,
            "object_fit": null,
            "object_position": null,
            "order": null,
            "overflow": null,
            "overflow_x": null,
            "overflow_y": null,
            "padding": null,
            "right": null,
            "top": null,
            "visibility": null,
            "width": null
          }
        },
        "87365f1a1aca4a27a56a643d4b14268f": {
          "model_module": "@jupyter-widgets/controls",
          "model_name": "SliderStyleModel",
          "model_module_version": "1.5.0",
          "state": {
            "_model_module": "@jupyter-widgets/controls",
            "_model_module_version": "1.5.0",
            "_model_name": "SliderStyleModel",
            "_view_count": null,
            "_view_module": "@jupyter-widgets/base",
            "_view_module_version": "1.2.0",
            "_view_name": "StyleView",
            "description_width": "initial",
            "handle_color": null
          }
        },
        "df7dbfad3d844cca8f28cd0c157c2167": {
          "model_module": "@jupyter-widgets/base",
          "model_name": "LayoutModel",
          "model_module_version": "1.2.0",
          "state": {
            "_model_module": "@jupyter-widgets/base",
            "_model_module_version": "1.2.0",
            "_model_name": "LayoutModel",
            "_view_count": null,
            "_view_module": "@jupyter-widgets/base",
            "_view_module_version": "1.2.0",
            "_view_name": "LayoutView",
            "align_content": null,
            "align_items": null,
            "align_self": null,
            "border": null,
            "bottom": null,
            "display": null,
            "flex": null,
            "flex_flow": null,
            "grid_area": null,
            "grid_auto_columns": null,
            "grid_auto_flow": null,
            "grid_auto_rows": null,
            "grid_column": null,
            "grid_gap": null,
            "grid_row": null,
            "grid_template_areas": null,
            "grid_template_columns": null,
            "grid_template_rows": null,
            "height": null,
            "justify_content": null,
            "justify_items": null,
            "left": null,
            "margin": null,
            "max_height": null,
            "max_width": null,
            "min_height": null,
            "min_width": null,
            "object_fit": null,
            "object_position": null,
            "order": null,
            "overflow": null,
            "overflow_x": null,
            "overflow_y": null,
            "padding": null,
            "right": null,
            "top": null,
            "visibility": null,
            "width": null
          }
        },
        "9afddc4e6ab044d4829e4d8d61ba3b75": {
          "model_module": "@jupyter-widgets/controls",
          "model_name": "DescriptionStyleModel",
          "model_module_version": "1.5.0",
          "state": {
            "_model_module": "@jupyter-widgets/controls",
            "_model_module_version": "1.5.0",
            "_model_name": "DescriptionStyleModel",
            "_view_count": null,
            "_view_module": "@jupyter-widgets/base",
            "_view_module_version": "1.2.0",
            "_view_name": "StyleView",
            "description_width": ""
          }
        },
        "ed1fc16179944078a947003148f84cc8": {
          "model_module": "@jupyter-widgets/controls",
          "model_name": "TextareaModel",
          "model_module_version": "1.5.0",
          "state": {
            "_dom_classes": [],
            "_model_module": "@jupyter-widgets/controls",
            "_model_module_version": "1.5.0",
            "_model_name": "TextareaModel",
            "_view_count": null,
            "_view_module": "@jupyter-widgets/controls",
            "_view_module_version": "1.5.0",
            "_view_name": "TextareaView",
            "continuous_update": true,
            "description": "Feedback:",
            "description_tooltip": null,
            "disabled": false,
            "layout": "IPY_MODEL_2cbf947d97674089b10015f83ef38c6d",
            "placeholder": "Why did you give this rating?",
            "rows": null,
            "style": "IPY_MODEL_9fef39c6c7eb4756a12598b3baed6be2",
            "value": "ok"
          }
        },
        "2cbf947d97674089b10015f83ef38c6d": {
          "model_module": "@jupyter-widgets/base",
          "model_name": "LayoutModel",
          "model_module_version": "1.2.0",
          "state": {
            "_model_module": "@jupyter-widgets/base",
            "_model_module_version": "1.2.0",
            "_model_name": "LayoutModel",
            "_view_count": null,
            "_view_module": "@jupyter-widgets/base",
            "_view_module_version": "1.2.0",
            "_view_name": "LayoutView",
            "align_content": null,
            "align_items": null,
            "align_self": null,
            "border": null,
            "bottom": null,
            "display": null,
            "flex": null,
            "flex_flow": null,
            "grid_area": null,
            "grid_auto_columns": null,
            "grid_auto_flow": null,
            "grid_auto_rows": null,
            "grid_column": null,
            "grid_gap": null,
            "grid_row": null,
            "grid_template_areas": null,
            "grid_template_columns": null,
            "grid_template_rows": null,
            "height": "100px",
            "justify_content": null,
            "justify_items": null,
            "left": null,
            "margin": null,
            "max_height": null,
            "max_width": null,
            "min_height": null,
            "min_width": null,
            "object_fit": null,
            "object_position": null,
            "order": null,
            "overflow": null,
            "overflow_x": null,
            "overflow_y": null,
            "padding": null,
            "right": null,
            "top": null,
            "visibility": null,
            "width": "500px"
          }
        },
        "9fef39c6c7eb4756a12598b3baed6be2": {
          "model_module": "@jupyter-widgets/controls",
          "model_name": "DescriptionStyleModel",
          "model_module_version": "1.5.0",
          "state": {
            "_model_module": "@jupyter-widgets/controls",
            "_model_module_version": "1.5.0",
            "_model_name": "DescriptionStyleModel",
            "_view_count": null,
            "_view_module": "@jupyter-widgets/base",
            "_view_module_version": "1.2.0",
            "_view_name": "StyleView",
            "description_width": ""
          }
        },
        "b29f3c17b1d749ffafbd266a338de0b5": {
          "model_module": "@jupyter-widgets/controls",
          "model_name": "ButtonModel",
          "model_module_version": "1.5.0",
          "state": {
            "_dom_classes": [],
            "_model_module": "@jupyter-widgets/controls",
            "_model_module_version": "1.5.0",
            "_model_name": "ButtonModel",
            "_view_count": null,
            "_view_module": "@jupyter-widgets/controls",
            "_view_module_version": "1.5.0",
            "_view_name": "ButtonView",
            "button_style": "",
            "description": "Submit Feedback",
            "disabled": false,
            "icon": "",
            "layout": "IPY_MODEL_09869abfbc3b4db9aca8bbd212d4e88f",
            "style": "IPY_MODEL_9beda550531f4c20bf718909c45e3b64",
            "tooltip": ""
          }
        },
        "09869abfbc3b4db9aca8bbd212d4e88f": {
          "model_module": "@jupyter-widgets/base",
          "model_name": "LayoutModel",
          "model_module_version": "1.2.0",
          "state": {
            "_model_module": "@jupyter-widgets/base",
            "_model_module_version": "1.2.0",
            "_model_name": "LayoutModel",
            "_view_count": null,
            "_view_module": "@jupyter-widgets/base",
            "_view_module_version": "1.2.0",
            "_view_name": "LayoutView",
            "align_content": null,
            "align_items": null,
            "align_self": null,
            "border": null,
            "bottom": null,
            "display": null,
            "flex": null,
            "flex_flow": null,
            "grid_area": null,
            "grid_auto_columns": null,
            "grid_auto_flow": null,
            "grid_auto_rows": null,
            "grid_column": null,
            "grid_gap": null,
            "grid_row": null,
            "grid_template_areas": null,
            "grid_template_columns": null,
            "grid_template_rows": null,
            "height": null,
            "justify_content": null,
            "justify_items": null,
            "left": null,
            "margin": null,
            "max_height": null,
            "max_width": null,
            "min_height": null,
            "min_width": null,
            "object_fit": null,
            "object_position": null,
            "order": null,
            "overflow": null,
            "overflow_x": null,
            "overflow_y": null,
            "padding": null,
            "right": null,
            "top": null,
            "visibility": null,
            "width": null
          }
        },
        "9beda550531f4c20bf718909c45e3b64": {
          "model_module": "@jupyter-widgets/controls",
          "model_name": "ButtonStyleModel",
          "model_module_version": "1.5.0",
          "state": {
            "_model_module": "@jupyter-widgets/controls",
            "_model_module_version": "1.5.0",
            "_model_name": "ButtonStyleModel",
            "_view_count": null,
            "_view_module": "@jupyter-widgets/base",
            "_view_module_version": "1.2.0",
            "_view_name": "StyleView",
            "button_color": null,
            "font_weight": ""
          }
        },
        "e22f496a009d40f9920f9be234cc1af2": {
          "model_module": "@jupyter-widgets/controls",
          "model_name": "ButtonModel",
          "model_module_version": "1.5.0",
          "state": {
            "_dom_classes": [],
            "_model_module": "@jupyter-widgets/controls",
            "_model_module_version": "1.5.0",
            "_model_name": "ButtonModel",
            "_view_count": null,
            "_view_module": "@jupyter-widgets/controls",
            "_view_module_version": "1.5.0",
            "_view_name": "ButtonView",
            "button_style": "",
            "description": "Start New Prompt",
            "disabled": false,
            "icon": "",
            "layout": "IPY_MODEL_87cc624042c448bb89d133d9bd4b2a81",
            "style": "IPY_MODEL_f5a2f42905994d18b744baa420bfd06f",
            "tooltip": ""
          }
        },
        "87cc624042c448bb89d133d9bd4b2a81": {
          "model_module": "@jupyter-widgets/base",
          "model_name": "LayoutModel",
          "model_module_version": "1.2.0",
          "state": {
            "_model_module": "@jupyter-widgets/base",
            "_model_module_version": "1.2.0",
            "_model_name": "LayoutModel",
            "_view_count": null,
            "_view_module": "@jupyter-widgets/base",
            "_view_module_version": "1.2.0",
            "_view_name": "LayoutView",
            "align_content": null,
            "align_items": null,
            "align_self": null,
            "border": null,
            "bottom": null,
            "display": null,
            "flex": null,
            "flex_flow": null,
            "grid_area": null,
            "grid_auto_columns": null,
            "grid_auto_flow": null,
            "grid_auto_rows": null,
            "grid_column": null,
            "grid_gap": null,
            "grid_row": null,
            "grid_template_areas": null,
            "grid_template_columns": null,
            "grid_template_rows": null,
            "height": null,
            "justify_content": null,
            "justify_items": null,
            "left": null,
            "margin": null,
            "max_height": null,
            "max_width": null,
            "min_height": null,
            "min_width": null,
            "object_fit": null,
            "object_position": null,
            "order": null,
            "overflow": null,
            "overflow_x": null,
            "overflow_y": null,
            "padding": null,
            "right": null,
            "top": null,
            "visibility": null,
            "width": null
          }
        },
        "f5a2f42905994d18b744baa420bfd06f": {
          "model_module": "@jupyter-widgets/controls",
          "model_name": "ButtonStyleModel",
          "model_module_version": "1.5.0",
          "state": {
            "_model_module": "@jupyter-widgets/controls",
            "_model_module_version": "1.5.0",
            "_model_name": "ButtonStyleModel",
            "_view_count": null,
            "_view_module": "@jupyter-widgets/base",
            "_view_module_version": "1.2.0",
            "_view_name": "StyleView",
            "button_color": null,
            "font_weight": ""
          }
        },
        "c06723833c9e4493aa3d493dee5e6fb1": {
          "model_module": "@jupyter-widgets/controls",
          "model_name": "TextareaModel",
          "model_module_version": "1.5.0",
          "state": {
            "_dom_classes": [],
            "_model_module": "@jupyter-widgets/controls",
            "_model_module_version": "1.5.0",
            "_model_name": "TextareaModel",
            "_view_count": null,
            "_view_module": "@jupyter-widgets/controls",
            "_view_module_version": "1.5.0",
            "_view_name": "TextareaView",
            "continuous_update": true,
            "description": "Prompt:",
            "description_tooltip": null,
            "disabled": false,
            "layout": "IPY_MODEL_a637af0726d249d7b8d0707d25787a15",
            "placeholder": "Enter your prompt here...",
            "rows": null,
            "style": "IPY_MODEL_c6af17b6ae224d5688db8b97c87fe143",
            "value": ""
          }
        },
        "a637af0726d249d7b8d0707d25787a15": {
          "model_module": "@jupyter-widgets/base",
          "model_name": "LayoutModel",
          "model_module_version": "1.2.0",
          "state": {
            "_model_module": "@jupyter-widgets/base",
            "_model_module_version": "1.2.0",
            "_model_name": "LayoutModel",
            "_view_count": null,
            "_view_module": "@jupyter-widgets/base",
            "_view_module_version": "1.2.0",
            "_view_name": "LayoutView",
            "align_content": null,
            "align_items": null,
            "align_self": null,
            "border": null,
            "bottom": null,
            "display": null,
            "flex": null,
            "flex_flow": null,
            "grid_area": null,
            "grid_auto_columns": null,
            "grid_auto_flow": null,
            "grid_auto_rows": null,
            "grid_column": null,
            "grid_gap": null,
            "grid_row": null,
            "grid_template_areas": null,
            "grid_template_columns": null,
            "grid_template_rows": null,
            "height": "100px",
            "justify_content": null,
            "justify_items": null,
            "left": null,
            "margin": null,
            "max_height": null,
            "max_width": null,
            "min_height": null,
            "min_width": null,
            "object_fit": null,
            "object_position": null,
            "order": null,
            "overflow": null,
            "overflow_x": null,
            "overflow_y": null,
            "padding": null,
            "right": null,
            "top": null,
            "visibility": null,
            "width": "500px"
          }
        },
        "c6af17b6ae224d5688db8b97c87fe143": {
          "model_module": "@jupyter-widgets/controls",
          "model_name": "DescriptionStyleModel",
          "model_module_version": "1.5.0",
          "state": {
            "_model_module": "@jupyter-widgets/controls",
            "_model_module_version": "1.5.0",
            "_model_name": "DescriptionStyleModel",
            "_view_count": null,
            "_view_module": "@jupyter-widgets/base",
            "_view_module_version": "1.2.0",
            "_view_name": "StyleView",
            "description_width": ""
          }
        },
        "a9713760e58946b0ad3138ac181812fc": {
          "model_module": "@jupyter-widgets/controls",
          "model_name": "ButtonModel",
          "model_module_version": "1.5.0",
          "state": {
            "_dom_classes": [],
            "_model_module": "@jupyter-widgets/controls",
            "_model_module_version": "1.5.0",
            "_model_name": "ButtonModel",
            "_view_count": null,
            "_view_module": "@jupyter-widgets/controls",
            "_view_module_version": "1.5.0",
            "_view_name": "ButtonView",
            "button_style": "",
            "description": "Get Response",
            "disabled": false,
            "icon": "",
            "layout": "IPY_MODEL_279ec10b4ce9439fb338d31c3e8fdfb8",
            "style": "IPY_MODEL_50ba5ab12d8246d8b3ae367e319dbfd6",
            "tooltip": ""
          }
        },
        "279ec10b4ce9439fb338d31c3e8fdfb8": {
          "model_module": "@jupyter-widgets/base",
          "model_name": "LayoutModel",
          "model_module_version": "1.2.0",
          "state": {
            "_model_module": "@jupyter-widgets/base",
            "_model_module_version": "1.2.0",
            "_model_name": "LayoutModel",
            "_view_count": null,
            "_view_module": "@jupyter-widgets/base",
            "_view_module_version": "1.2.0",
            "_view_name": "LayoutView",
            "align_content": null,
            "align_items": null,
            "align_self": null,
            "border": null,
            "bottom": null,
            "display": null,
            "flex": null,
            "flex_flow": null,
            "grid_area": null,
            "grid_auto_columns": null,
            "grid_auto_flow": null,
            "grid_auto_rows": null,
            "grid_column": null,
            "grid_gap": null,
            "grid_row": null,
            "grid_template_areas": null,
            "grid_template_columns": null,
            "grid_template_rows": null,
            "height": null,
            "justify_content": null,
            "justify_items": null,
            "left": null,
            "margin": null,
            "max_height": null,
            "max_width": null,
            "min_height": null,
            "min_width": null,
            "object_fit": null,
            "object_position": null,
            "order": null,
            "overflow": null,
            "overflow_x": null,
            "overflow_y": null,
            "padding": null,
            "right": null,
            "top": null,
            "visibility": null,
            "width": null
          }
        },
        "50ba5ab12d8246d8b3ae367e319dbfd6": {
          "model_module": "@jupyter-widgets/controls",
          "model_name": "ButtonStyleModel",
          "model_module_version": "1.5.0",
          "state": {
            "_model_module": "@jupyter-widgets/controls",
            "_model_module_version": "1.5.0",
            "_model_name": "ButtonStyleModel",
            "_view_count": null,
            "_view_module": "@jupyter-widgets/base",
            "_view_module_version": "1.2.0",
            "_view_name": "StyleView",
            "button_color": null,
            "font_weight": ""
          }
        }
      }
    }
  },
  "cells": [
    {
      "cell_type": "markdown",
      "source": [
        "# Prerequisites\n",
        "\n",
        "To get the most value from this tutorial, you will need:\n",
        "\n",
        "**Phoenix Developer Account:**\n",
        "*  An active Phoenix Developer Edition account and API key\n",
        "*  Follow the instructions in our [quickstart guide](https://docs.arize.com/phoenix/quickstart) to set up your account\n",
        "\n",
        "**Technical Knowledge:**\n",
        "\n",
        "* Basic understanding of Generative AI and LLM concepts\n",
        "* Experience with Python programming\n",
        "* Familiarity with using LLM endpoints and integrating LLMs in Python applications\n",
        "\n",
        "**Python Environment:**\n",
        "* This notebook is intended to be run as a Google Colab Notebook using Python version 3.11.11\n"
      ],
      "metadata": {
        "id": "RSHOyZyYY1q6"
      }
    },
    {
      "cell_type": "markdown",
      "source": [
        "# Introduction\n",
        "\n",
        "When it comes to designing real-world applications using Large Language Models (LLMs), evaluation has emerged as one of the greatest challenges. With the stochastic, unstructured outputs of generative AI, traditional approaches to AI evaluation simply don't work in these scenarios.\n",
        "\n",
        "The obvious solution is for humans to evaluate generated responses. However, human evaluation is a long and laborious task, and it rather defeats the purpose of using an AI solution if evaluation must be done for every single generated response.\n",
        "\n",
        "Many AI application developers have instead turned to automated evaluators, ranging from rules-based systems to model-based approaches to using another LLM as an evaluator. These automated approaches scale up evaluation immensely; however, a key question remains: How can we be sure that we can trust these automated evaluators? This is particularly important for highly complex or high-risk use cases.\n",
        "\n",
        "An increasingly popular solution to this problem is for expert humans to annotate a small evaluation dataset, known as a **Golden Dataset**. This dataset consists of a carefully selected set of samples that can be reasonably annotated by humans and used for initial evaluation. Once the Golden Dataset is ready, it can be used to develop and validate reliable automated evaluators.\n",
        "\n",
        "**This notebook provides a tutorial on how to use Arize Phoenix to create and manage Golden Datasets for your GenAI application through annotation.**\n"
      ],
      "metadata": {
        "id": "szVcN9IbCu9V"
      }
    },
    {
      "cell_type": "markdown",
      "source": [
        "\n",
        "## What Will You Learn?\n",
        "In this tutorial, you'll learn how to:\n",
        "\n",
        "**Set Up Your Environment:**\n",
        "* Configure your API credentials\n",
        "* Connect to Phoenix\n",
        "\n",
        "**Design Your Evaluation Framework:**\n",
        "* Create evaluation prompt sets\n",
        "* Implement a Relationship Extraction application using DSPy\n",
        "*Track and analyze traces in Phoenix\n",
        "\n",
        "**Manage Annotations:**\n",
        "* Use the Phoenix UI for annotation\n",
        "* Programmatically annotate through the Python API\n",
        "* Implement user feedback collection\n",
        "\n",
        "**Create a Golden Dataset:**\n",
        "* Build a Golden Dataset using the Phoenix\n",
        "\n",
        "**What's Next:**\n",
        "* Review next steps and advanced features\n",
        "* Learn about additional evaluation strategies\n",
        "\n",
        "\n"
      ],
      "metadata": {
        "id": "LjwrCwoE_bXA"
      }
    },
    {
      "cell_type": "markdown",
      "source": [
        "## The Task: Relationship Extraction\n",
        "\n",
        "Relationship Extraction is a challenging AI task that often requires complex, multi-step reasoning, making it an increasingly popular use case for LLMs. The objective is to identify relationships between entities of interest within unstructured text. In real-world applications, it's used for tasks such as parsing relationships within lengthy legal documents to automate painstaking business processes.\n",
        "\n",
        "For this tutorial, we'll focus on a simplified version of the task: identifying person-to-person relationships within short text snippets.\n",
        "\n",
        "For example, consider this sentence: **\"Maria's friend John is her cousin Bert's ex-husband.\"**\n",
        "\n",
        "From this sentence, we can extract the following relationships:\n",
        "\n",
        "          {\n",
        "              \"subject\": \"Maria\",\n",
        "              \"relation\": \"friend\",\n",
        "              \"object\": \"John\"\n",
        "          }\n",
        "          {\n",
        "              \"subject\": \"John\",\n",
        "              \"relation\": \"friend\",\n",
        "              \"object\": \"Maria\"\n",
        "          }\n",
        "          {\n",
        "              \"subject\": \"Maria\",\n",
        "              \"relation\": \"cousin\",\n",
        "              \"object\": \"Bert\"\n",
        "          }\n",
        "          {\n",
        "              \"subject\": \"Bert\",\n",
        "              \"relation\": \"cousin\",\n",
        "              \"object\": \"Maria\"\n",
        "          }\n",
        "          {\n",
        "              \"subject\": \"Bert\",\n",
        "              \"relation\": \"ex-husband\",\n",
        "              \"object\": \"John\"\n",
        "          }\n",
        "          {\n",
        "              \"subject\": \"John\",\n",
        "              \"relation\": \"ex-husband\",\n",
        "              \"object\": \"Bert\"\n",
        "          }\n",
        "      "
      ],
      "metadata": {
        "id": "Tbb5xaeV_gkH"
      }
    },
    {
      "cell_type": "markdown",
      "source": [
        "# Set Up Your Environment"
      ],
      "metadata": {
        "id": "enJnEvACti3A"
      }
    },
    {
      "cell_type": "markdown",
      "source": [
        "## Install relevant libraries\n",
        "\n",
        "As part of this exercise, we'll be using two libraries as part of our GenAI development tool set:\n",
        "\n",
        "[**Arize-Phoenix**](https://docs.arize.com/phoenix)\n",
        "\n",
        "This is the primary tool we'll be using. Phoenix is a developer tool designed to help AI engineers and data scientists run experiments, evaluate, troubleshoot, and improve their AI applications.\n",
        "\n",
        "[**DSPy**](https://dspy.ai/)\n",
        "\n",
        " DSPy provides a \"prompts as code\" library, enabling AI developers to standardize, modularize, and optimize their AI applicatins.\n",
        "\n",
        "> Note: Deep DSPy knowledge isn't required for this tutorial\n",
        "\n",
        "\n"
      ],
      "metadata": {
        "id": "6ctR71kIIQ-M"
      }
    },
    {
      "cell_type": "code",
      "source": [
        "!pip install arize-phoenix \"dspy==2.5.43\" \"openinference-instrumentation-dspy>=0.1.13\" openinference-instrumentation-litellm opentelemetry-exporter-otlp 'httpx<0.28'"
      ],
      "metadata": {
        "id": "2p6aCU5BL-zZ",
        "colab": {
          "base_uri": "https://localhost:8080/"
        },
        "outputId": "2150bc12-9b12-46cb-f533-05f571f697ce"
      },
      "execution_count": null,
      "outputs": [
        {
          "output_type": "stream",
          "name": "stdout",
          "text": [
            "Requirement already satisfied: arize-phoenix in /usr/local/lib/python3.11/dist-packages (7.11.0)\n",
            "Requirement already satisfied: dspy==2.5.43 in /usr/local/lib/python3.11/dist-packages (2.5.43)\n",
            "Requirement already satisfied: openinference-instrumentation-dspy>=0.1.13 in /usr/local/lib/python3.11/dist-packages (0.1.16)\n",
            "Requirement already satisfied: openinference-instrumentation-litellm in /usr/local/lib/python3.11/dist-packages (0.1.8)\n",
            "Requirement already satisfied: opentelemetry-exporter-otlp in /usr/local/lib/python3.11/dist-packages (1.30.0)\n",
            "Requirement already satisfied: httpx<0.28 in /usr/local/lib/python3.11/dist-packages (0.27.2)\n",
            "Requirement already satisfied: anyio in /usr/local/lib/python3.11/dist-packages (from dspy==2.5.43) (3.7.1)\n",
            "Requirement already satisfied: asyncer==0.0.8 in /usr/local/lib/python3.11/dist-packages (from dspy==2.5.43) (0.0.8)\n",
            "Requirement already satisfied: backoff in /usr/local/lib/python3.11/dist-packages (from dspy==2.5.43) (2.2.1)\n",
            "Requirement already satisfied: cachetools in /usr/local/lib/python3.11/dist-packages (from dspy==2.5.43) (5.5.1)\n",
            "Requirement already satisfied: datasets in /usr/local/lib/python3.11/dist-packages (from dspy==2.5.43) (3.2.0)\n",
            "Requirement already satisfied: diskcache in /usr/local/lib/python3.11/dist-packages (from dspy==2.5.43) (5.6.3)\n",
            "Requirement already satisfied: joblib~=1.3 in /usr/local/lib/python3.11/dist-packages (from dspy==2.5.43) (1.4.2)\n",
            "Requirement already satisfied: json-repair in /usr/local/lib/python3.11/dist-packages (from dspy==2.5.43) (0.35.0)\n",
            "Requirement already satisfied: litellm==1.53.7 in /usr/local/lib/python3.11/dist-packages (from litellm[proxy]==1.53.7->dspy==2.5.43) (1.53.7)\n",
            "Requirement already satisfied: magicattr~=0.1.6 in /usr/local/lib/python3.11/dist-packages (from dspy==2.5.43) (0.1.6)\n",
            "Requirement already satisfied: openai in /usr/local/lib/python3.11/dist-packages (from dspy==2.5.43) (1.59.9)\n",
            "Requirement already satisfied: optuna in /usr/local/lib/python3.11/dist-packages (from dspy==2.5.43) (4.2.0)\n",
            "Requirement already satisfied: pandas in /usr/local/lib/python3.11/dist-packages (from dspy==2.5.43) (2.2.2)\n",
            "Requirement already satisfied: pydantic~=2.0 in /usr/local/lib/python3.11/dist-packages (from dspy==2.5.43) (2.10.6)\n",
            "Requirement already satisfied: regex in /usr/local/lib/python3.11/dist-packages (from dspy==2.5.43) (2024.11.6)\n",
            "Requirement already satisfied: requests in /usr/local/lib/python3.11/dist-packages (from dspy==2.5.43) (2.32.3)\n",
            "Requirement already satisfied: tenacity>=8.2.3 in /usr/local/lib/python3.11/dist-packages (from dspy==2.5.43) (9.0.0)\n",
            "Requirement already satisfied: tqdm in /usr/local/lib/python3.11/dist-packages (from dspy==2.5.43) (4.67.1)\n",
            "Requirement already satisfied: ujson in /usr/local/lib/python3.11/dist-packages (from dspy==2.5.43) (5.10.0)\n",
            "Requirement already satisfied: cloudpickle in /usr/local/lib/python3.11/dist-packages (from dspy==2.5.43) (3.1.1)\n",
            "Requirement already satisfied: jinja2 in /usr/local/lib/python3.11/dist-packages (from dspy==2.5.43) (3.1.5)\n",
            "Requirement already satisfied: aiohttp in /usr/local/lib/python3.11/dist-packages (from litellm==1.53.7->litellm[proxy]==1.53.7->dspy==2.5.43) (3.11.11)\n",
            "Requirement already satisfied: click in /usr/local/lib/python3.11/dist-packages (from litellm==1.53.7->litellm[proxy]==1.53.7->dspy==2.5.43) (8.1.8)\n",
            "Requirement already satisfied: importlib-metadata>=6.8.0 in /usr/local/lib/python3.11/dist-packages (from litellm==1.53.7->litellm[proxy]==1.53.7->dspy==2.5.43) (8.5.0)\n",
            "Requirement already satisfied: jsonschema<5.0.0,>=4.22.0 in /usr/local/lib/python3.11/dist-packages (from litellm==1.53.7->litellm[proxy]==1.53.7->dspy==2.5.43) (4.23.0)\n",
            "Requirement already satisfied: python-dotenv>=0.2.0 in /usr/local/lib/python3.11/dist-packages (from litellm==1.53.7->litellm[proxy]==1.53.7->dspy==2.5.43) (1.0.1)\n",
            "Requirement already satisfied: tiktoken>=0.7.0 in /usr/local/lib/python3.11/dist-packages (from litellm==1.53.7->litellm[proxy]==1.53.7->dspy==2.5.43) (0.8.0)\n",
            "Requirement already satisfied: tokenizers in /usr/local/lib/python3.11/dist-packages (from litellm==1.53.7->litellm[proxy]==1.53.7->dspy==2.5.43) (0.21.0)\n",
            "Requirement already satisfied: PyJWT<3.0.0,>=2.8.0 in /usr/local/lib/python3.11/dist-packages (from litellm[proxy]==1.53.7->dspy==2.5.43) (2.10.1)\n",
            "Requirement already satisfied: apscheduler<4.0.0,>=3.10.4 in /usr/local/lib/python3.11/dist-packages (from litellm[proxy]==1.53.7->dspy==2.5.43) (3.11.0)\n",
            "Requirement already satisfied: cryptography<43.0.0,>=42.0.5 in /usr/local/lib/python3.11/dist-packages (from litellm[proxy]==1.53.7->dspy==2.5.43) (42.0.8)\n",
            "Requirement already satisfied: fastapi<0.112.0,>=0.111.0 in /usr/local/lib/python3.11/dist-packages (from litellm[proxy]==1.53.7->dspy==2.5.43) (0.111.1)\n",
            "Requirement already satisfied: fastapi-sso<0.11.0,>=0.10.0 in /usr/local/lib/python3.11/dist-packages (from litellm[proxy]==1.53.7->dspy==2.5.43) (0.10.0)\n",
            "Requirement already satisfied: gunicorn<23.0.0,>=22.0.0 in /usr/local/lib/python3.11/dist-packages (from litellm[proxy]==1.53.7->dspy==2.5.43) (22.0.0)\n",
            "Requirement already satisfied: orjson<4.0.0,>=3.9.7 in /usr/local/lib/python3.11/dist-packages (from litellm[proxy]==1.53.7->dspy==2.5.43) (3.10.15)\n",
            "Requirement already satisfied: pynacl<2.0.0,>=1.5.0 in /usr/local/lib/python3.11/dist-packages (from litellm[proxy]==1.53.7->dspy==2.5.43) (1.5.0)\n",
            "Requirement already satisfied: python-multipart<0.0.10,>=0.0.9 in /usr/local/lib/python3.11/dist-packages (from litellm[proxy]==1.53.7->dspy==2.5.43) (0.0.9)\n",
            "Requirement already satisfied: pyyaml<7.0.0,>=6.0.1 in /usr/local/lib/python3.11/dist-packages (from litellm[proxy]==1.53.7->dspy==2.5.43) (6.0.2)\n",
            "Requirement already satisfied: rq in /usr/local/lib/python3.11/dist-packages (from litellm[proxy]==1.53.7->dspy==2.5.43) (2.1.0)\n",
            "Requirement already satisfied: uvicorn<0.23.0,>=0.22.0 in /usr/local/lib/python3.11/dist-packages (from litellm[proxy]==1.53.7->dspy==2.5.43) (0.22.0)\n",
            "Requirement already satisfied: aioitertools in /usr/local/lib/python3.11/dist-packages (from arize-phoenix) (0.12.0)\n",
            "Requirement already satisfied: aiosqlite in /usr/local/lib/python3.11/dist-packages (from arize-phoenix) (0.21.0)\n",
            "Requirement already satisfied: alembic<2,>=1.3.0 in /usr/local/lib/python3.11/dist-packages (from arize-phoenix) (1.14.1)\n",
            "Requirement already satisfied: arize-phoenix-evals>=0.13.1 in /usr/local/lib/python3.11/dist-packages (from arize-phoenix) (0.19.0)\n",
            "Requirement already satisfied: arize-phoenix-otel>=0.5.1 in /usr/local/lib/python3.11/dist-packages (from arize-phoenix) (0.7.1)\n",
            "Requirement already satisfied: authlib in /usr/local/lib/python3.11/dist-packages (from arize-phoenix) (1.4.1)\n",
            "Requirement already satisfied: grpc-interceptor in /usr/local/lib/python3.11/dist-packages (from arize-phoenix) (0.15.4)\n",
            "Requirement already satisfied: grpcio in /usr/local/lib/python3.11/dist-packages (from arize-phoenix) (1.70.0)\n",
            "Requirement already satisfied: numpy!=2.0.0 in /usr/local/lib/python3.11/dist-packages (from arize-phoenix) (1.26.4)\n",
            "Requirement already satisfied: openinference-instrumentation>=0.1.12 in /usr/local/lib/python3.11/dist-packages (from arize-phoenix) (0.1.22)\n",
            "Requirement already satisfied: openinference-semantic-conventions>=0.1.12 in /usr/local/lib/python3.11/dist-packages (from arize-phoenix) (0.1.14)\n",
            "Requirement already satisfied: opentelemetry-proto>=1.12.0 in /usr/local/lib/python3.11/dist-packages (from arize-phoenix) (1.30.0)\n",
            "Requirement already satisfied: opentelemetry-sdk in /usr/local/lib/python3.11/dist-packages (from arize-phoenix) (1.30.0)\n",
            "Requirement already satisfied: opentelemetry-semantic-conventions in /usr/local/lib/python3.11/dist-packages (from arize-phoenix) (0.51b0)\n",
            "Requirement already satisfied: protobuf<6.0,>=3.20.2 in /usr/local/lib/python3.11/dist-packages (from arize-phoenix) (5.29.3)\n",
            "Requirement already satisfied: psutil in /usr/local/lib/python3.11/dist-packages (from arize-phoenix) (5.9.5)\n",
            "Requirement already satisfied: pyarrow in /usr/local/lib/python3.11/dist-packages (from arize-phoenix) (17.0.0)\n",
            "Requirement already satisfied: scikit-learn in /usr/local/lib/python3.11/dist-packages (from arize-phoenix) (1.6.1)\n",
            "Requirement already satisfied: scipy in /usr/local/lib/python3.11/dist-packages (from arize-phoenix) (1.13.1)\n",
            "Requirement already satisfied: sqlalchemy<3,>=2.0.4 in /usr/local/lib/python3.11/dist-packages (from sqlalchemy[asyncio]<3,>=2.0.4->arize-phoenix) (2.0.37)\n",
            "Requirement already satisfied: sqlean-py>=3.45.1 in /usr/local/lib/python3.11/dist-packages (from arize-phoenix) (3.47.0)\n",
            "Requirement already satisfied: starlette in /usr/local/lib/python3.11/dist-packages (from arize-phoenix) (0.37.2)\n",
            "Requirement already satisfied: strawberry-graphql==0.253.1 in /usr/local/lib/python3.11/dist-packages (from arize-phoenix) (0.253.1)\n",
            "Requirement already satisfied: typing-extensions>=4.6 in /usr/local/lib/python3.11/dist-packages (from arize-phoenix) (4.12.2)\n",
            "Requirement already satisfied: websockets in /usr/local/lib/python3.11/dist-packages (from arize-phoenix) (14.2)\n",
            "Requirement already satisfied: wrapt>=1.17.2 in /usr/local/lib/python3.11/dist-packages (from arize-phoenix) (1.17.2)\n",
            "Requirement already satisfied: graphql-core<3.4.0,>=3.2.0 in /usr/local/lib/python3.11/dist-packages (from strawberry-graphql==0.253.1->arize-phoenix) (3.2.6)\n",
            "Requirement already satisfied: python-dateutil<3.0.0,>=2.7.0 in /usr/local/lib/python3.11/dist-packages (from strawberry-graphql==0.253.1->arize-phoenix) (2.8.2)\n",
            "Requirement already satisfied: opentelemetry-api in /usr/local/lib/python3.11/dist-packages (from openinference-instrumentation-dspy>=0.1.13) (1.30.0)\n",
            "Requirement already satisfied: opentelemetry-instrumentation in /usr/local/lib/python3.11/dist-packages (from openinference-instrumentation-dspy>=0.1.13) (0.51b0)\n",
            "Requirement already satisfied: setuptools in /usr/local/lib/python3.11/dist-packages (from openinference-instrumentation-litellm) (75.1.0)\n",
            "Requirement already satisfied: opentelemetry-exporter-otlp-proto-grpc==1.30.0 in /usr/local/lib/python3.11/dist-packages (from opentelemetry-exporter-otlp) (1.30.0)\n",
            "Requirement already satisfied: opentelemetry-exporter-otlp-proto-http==1.30.0 in /usr/local/lib/python3.11/dist-packages (from opentelemetry-exporter-otlp) (1.30.0)\n",
            "Requirement already satisfied: deprecated>=1.2.6 in /usr/local/lib/python3.11/dist-packages (from opentelemetry-exporter-otlp-proto-grpc==1.30.0->opentelemetry-exporter-otlp) (1.2.18)\n",
            "Requirement already satisfied: googleapis-common-protos~=1.52 in /usr/local/lib/python3.11/dist-packages (from opentelemetry-exporter-otlp-proto-grpc==1.30.0->opentelemetry-exporter-otlp) (1.66.0)\n",
            "Requirement already satisfied: opentelemetry-exporter-otlp-proto-common==1.30.0 in /usr/local/lib/python3.11/dist-packages (from opentelemetry-exporter-otlp-proto-grpc==1.30.0->opentelemetry-exporter-otlp) (1.30.0)\n",
            "Requirement already satisfied: certifi in /usr/local/lib/python3.11/dist-packages (from httpx<0.28) (2024.12.14)\n",
            "Requirement already satisfied: httpcore==1.* in /usr/local/lib/python3.11/dist-packages (from httpx<0.28) (1.0.7)\n",
            "Requirement already satisfied: idna in /usr/local/lib/python3.11/dist-packages (from httpx<0.28) (3.10)\n",
            "Requirement already satisfied: sniffio in /usr/local/lib/python3.11/dist-packages (from httpx<0.28) (1.3.1)\n",
            "Requirement already satisfied: h11<0.15,>=0.13 in /usr/local/lib/python3.11/dist-packages (from httpcore==1.*->httpx<0.28) (0.14.0)\n",
            "Requirement already satisfied: Mako in /usr/local/lib/python3.11/dist-packages (from alembic<2,>=1.3.0->arize-phoenix) (1.3.9)\n",
            "Requirement already satisfied: fastapi-cli>=0.0.2 in /usr/local/lib/python3.11/dist-packages (from fastapi<0.112.0,>=0.111.0->litellm[proxy]==1.53.7->dspy==2.5.43) (0.0.7)\n",
            "Requirement already satisfied: email_validator>=2.0.0 in /usr/local/lib/python3.11/dist-packages (from fastapi<0.112.0,>=0.111.0->litellm[proxy]==1.53.7->dspy==2.5.43) (2.2.0)\n",
            "Requirement already satisfied: MarkupSafe>=2.0 in /usr/local/lib/python3.11/dist-packages (from jinja2->dspy==2.5.43) (3.0.2)\n",
            "Requirement already satisfied: distro<2,>=1.7.0 in /usr/local/lib/python3.11/dist-packages (from openai->dspy==2.5.43) (1.9.0)\n",
            "Requirement already satisfied: jiter<1,>=0.4.0 in /usr/local/lib/python3.11/dist-packages (from openai->dspy==2.5.43) (0.8.2)\n",
            "Requirement already satisfied: pytz>=2020.1 in /usr/local/lib/python3.11/dist-packages (from pandas->dspy==2.5.43) (2024.2)\n",
            "Requirement already satisfied: tzdata>=2022.7 in /usr/local/lib/python3.11/dist-packages (from pandas->dspy==2.5.43) (2025.1)\n",
            "Requirement already satisfied: annotated-types>=0.6.0 in /usr/local/lib/python3.11/dist-packages (from pydantic~=2.0->dspy==2.5.43) (0.7.0)\n",
            "Requirement already satisfied: pydantic-core==2.27.2 in /usr/local/lib/python3.11/dist-packages (from pydantic~=2.0->dspy==2.5.43) (2.27.2)\n",
            "Requirement already satisfied: charset-normalizer<4,>=2 in /usr/local/lib/python3.11/dist-packages (from requests->dspy==2.5.43) (3.4.1)\n",
            "Requirement already satisfied: urllib3<3,>=1.21.1 in /usr/local/lib/python3.11/dist-packages (from requests->dspy==2.5.43) (2.3.0)\n",
            "Requirement already satisfied: greenlet!=0.4.17 in /usr/local/lib/python3.11/dist-packages (from sqlalchemy<3,>=2.0.4->sqlalchemy[asyncio]<3,>=2.0.4->arize-phoenix) (3.1.1)\n",
            "Requirement already satisfied: filelock in /usr/local/lib/python3.11/dist-packages (from datasets->dspy==2.5.43) (3.17.0)\n",
            "Requirement already satisfied: dill<0.3.9,>=0.3.0 in /usr/local/lib/python3.11/dist-packages (from datasets->dspy==2.5.43) (0.3.8)\n",
            "Requirement already satisfied: xxhash in /usr/local/lib/python3.11/dist-packages (from datasets->dspy==2.5.43) (3.5.0)\n",
            "Requirement already satisfied: multiprocess<0.70.17 in /usr/local/lib/python3.11/dist-packages (from datasets->dspy==2.5.43) (0.70.16)\n",
            "Requirement already satisfied: fsspec<=2024.9.0,>=2023.1.0 in /usr/local/lib/python3.11/dist-packages (from fsspec[http]<=2024.9.0,>=2023.1.0->datasets->dspy==2.5.43) (2024.9.0)\n",
            "Requirement already satisfied: huggingface-hub>=0.23.0 in /usr/local/lib/python3.11/dist-packages (from datasets->dspy==2.5.43) (0.27.1)\n",
            "Requirement already satisfied: packaging in /usr/local/lib/python3.11/dist-packages (from datasets->dspy==2.5.43) (24.2)\n",
            "Requirement already satisfied: colorlog in /usr/local/lib/python3.11/dist-packages (from optuna->dspy==2.5.43) (6.9.0)\n",
            "Requirement already satisfied: threadpoolctl>=3.1.0 in /usr/local/lib/python3.11/dist-packages (from scikit-learn->arize-phoenix) (3.5.0)\n",
            "Requirement already satisfied: tzlocal>=3.0 in /usr/local/lib/python3.11/dist-packages (from apscheduler<4.0.0,>=3.10.4->litellm[proxy]==1.53.7->dspy==2.5.43) (5.2)\n",
            "Requirement already satisfied: cffi>=1.12 in /usr/local/lib/python3.11/dist-packages (from cryptography<43.0.0,>=42.0.5->litellm[proxy]==1.53.7->dspy==2.5.43) (1.17.1)\n",
            "Requirement already satisfied: dnspython>=2.0.0 in /usr/local/lib/python3.11/dist-packages (from email_validator>=2.0.0->fastapi<0.112.0,>=0.111.0->litellm[proxy]==1.53.7->dspy==2.5.43) (2.7.0)\n",
            "Requirement already satisfied: typer>=0.12.3 in /usr/local/lib/python3.11/dist-packages (from fastapi-cli>=0.0.2->fastapi<0.112.0,>=0.111.0->litellm[proxy]==1.53.7->dspy==2.5.43) (0.15.1)\n",
            "Requirement already satisfied: rich-toolkit>=0.11.1 in /usr/local/lib/python3.11/dist-packages (from fastapi-cli>=0.0.2->fastapi<0.112.0,>=0.111.0->litellm[proxy]==1.53.7->dspy==2.5.43) (0.13.2)\n",
            "Requirement already satisfied: oauthlib>=3.1.0 in /usr/local/lib/python3.11/dist-packages (from fastapi-sso<0.11.0,>=0.10.0->litellm[proxy]==1.53.7->dspy==2.5.43) (3.2.2)\n",
            "Requirement already satisfied: aiohappyeyeballs>=2.3.0 in /usr/local/lib/python3.11/dist-packages (from aiohttp->litellm==1.53.7->litellm[proxy]==1.53.7->dspy==2.5.43) (2.4.4)\n",
            "Requirement already satisfied: aiosignal>=1.1.2 in /usr/local/lib/python3.11/dist-packages (from aiohttp->litellm==1.53.7->litellm[proxy]==1.53.7->dspy==2.5.43) (1.3.2)\n",
            "Requirement already satisfied: attrs>=17.3.0 in /usr/local/lib/python3.11/dist-packages (from aiohttp->litellm==1.53.7->litellm[proxy]==1.53.7->dspy==2.5.43) (25.1.0)\n",
            "Requirement already satisfied: frozenlist>=1.1.1 in /usr/local/lib/python3.11/dist-packages (from aiohttp->litellm==1.53.7->litellm[proxy]==1.53.7->dspy==2.5.43) (1.5.0)\n",
            "Requirement already satisfied: multidict<7.0,>=4.5 in /usr/local/lib/python3.11/dist-packages (from aiohttp->litellm==1.53.7->litellm[proxy]==1.53.7->dspy==2.5.43) (6.1.0)\n",
            "Requirement already satisfied: propcache>=0.2.0 in /usr/local/lib/python3.11/dist-packages (from aiohttp->litellm==1.53.7->litellm[proxy]==1.53.7->dspy==2.5.43) (0.2.1)\n",
            "Requirement already satisfied: yarl<2.0,>=1.17.0 in /usr/local/lib/python3.11/dist-packages (from aiohttp->litellm==1.53.7->litellm[proxy]==1.53.7->dspy==2.5.43) (1.18.3)\n",
            "Requirement already satisfied: zipp>=3.20 in /usr/local/lib/python3.11/dist-packages (from importlib-metadata>=6.8.0->litellm==1.53.7->litellm[proxy]==1.53.7->dspy==2.5.43) (3.21.0)\n",
            "Requirement already satisfied: jsonschema-specifications>=2023.03.6 in /usr/local/lib/python3.11/dist-packages (from jsonschema<5.0.0,>=4.22.0->litellm==1.53.7->litellm[proxy]==1.53.7->dspy==2.5.43) (2024.10.1)\n",
            "Requirement already satisfied: referencing>=0.28.4 in /usr/local/lib/python3.11/dist-packages (from jsonschema<5.0.0,>=4.22.0->litellm==1.53.7->litellm[proxy]==1.53.7->dspy==2.5.43) (0.36.2)\n",
            "Requirement already satisfied: rpds-py>=0.7.1 in /usr/local/lib/python3.11/dist-packages (from jsonschema<5.0.0,>=4.22.0->litellm==1.53.7->litellm[proxy]==1.53.7->dspy==2.5.43) (0.22.3)\n",
            "Requirement already satisfied: six>=1.5 in /usr/local/lib/python3.11/dist-packages (from python-dateutil<3.0.0,>=2.7.0->strawberry-graphql==0.253.1->arize-phoenix) (1.17.0)\n",
            "Requirement already satisfied: httptools>=0.5.0 in /usr/local/lib/python3.11/dist-packages (from uvicorn[standard]>=0.12.0->fastapi<0.112.0,>=0.111.0->litellm[proxy]==1.53.7->dspy==2.5.43) (0.6.4)\n",
            "Requirement already satisfied: uvloop!=0.15.0,!=0.15.1,>=0.14.0 in /usr/local/lib/python3.11/dist-packages (from uvicorn[standard]>=0.12.0->fastapi<0.112.0,>=0.111.0->litellm[proxy]==1.53.7->dspy==2.5.43) (0.21.0)\n",
            "Requirement already satisfied: watchfiles>=0.13 in /usr/local/lib/python3.11/dist-packages (from uvicorn[standard]>=0.12.0->fastapi<0.112.0,>=0.111.0->litellm[proxy]==1.53.7->dspy==2.5.43) (1.0.4)\n",
            "Requirement already satisfied: redis>=3.5 in /usr/local/lib/python3.11/dist-packages (from rq->litellm[proxy]==1.53.7->dspy==2.5.43) (5.2.1)\n",
            "Requirement already satisfied: pycparser in /usr/local/lib/python3.11/dist-packages (from cffi>=1.12->cryptography<43.0.0,>=42.0.5->litellm[proxy]==1.53.7->dspy==2.5.43) (2.22)\n",
            "Requirement already satisfied: rich>=13.7.1 in /usr/local/lib/python3.11/dist-packages (from rich-toolkit>=0.11.1->fastapi-cli>=0.0.2->fastapi<0.112.0,>=0.111.0->litellm[proxy]==1.53.7->dspy==2.5.43) (13.9.4)\n",
            "Requirement already satisfied: shellingham>=1.3.0 in /usr/local/lib/python3.11/dist-packages (from typer>=0.12.3->fastapi-cli>=0.0.2->fastapi<0.112.0,>=0.111.0->litellm[proxy]==1.53.7->dspy==2.5.43) (1.5.4)\n",
            "Requirement already satisfied: markdown-it-py>=2.2.0 in /usr/local/lib/python3.11/dist-packages (from rich>=13.7.1->rich-toolkit>=0.11.1->fastapi-cli>=0.0.2->fastapi<0.112.0,>=0.111.0->litellm[proxy]==1.53.7->dspy==2.5.43) (3.0.0)\n",
            "Requirement already satisfied: pygments<3.0.0,>=2.13.0 in /usr/local/lib/python3.11/dist-packages (from rich>=13.7.1->rich-toolkit>=0.11.1->fastapi-cli>=0.0.2->fastapi<0.112.0,>=0.111.0->litellm[proxy]==1.53.7->dspy==2.5.43) (2.18.0)\n",
            "Requirement already satisfied: mdurl~=0.1 in /usr/local/lib/python3.11/dist-packages (from markdown-it-py>=2.2.0->rich>=13.7.1->rich-toolkit>=0.11.1->fastapi-cli>=0.0.2->fastapi<0.112.0,>=0.111.0->litellm[proxy]==1.53.7->dspy==2.5.43) (0.1.2)\n"
          ]
        }
      ]
    },
    {
      "cell_type": "code",
      "source": [
        "import os\n",
        "import pandas as pd"
      ],
      "metadata": {
        "id": "LzTLLEDlRodt"
      },
      "execution_count": null,
      "outputs": []
    },
    {
      "cell_type": "markdown",
      "source": [
        "## Model set up\n",
        "In this tutorial I'll be accessing models thorugh [Mistral](https://mistral.ai/) and through Huggingface's ([ Serverless inference API](https://huggingface.co/docs/api-inference/index), both of which can be used for free, with some limitiations. The API calls will be made through **DSPy**, which [integrates with a wide range of model providers](https://dspy.ai/)"
      ],
      "metadata": {
        "id": "oKbOyMZv6xRE"
      }
    },
    {
      "cell_type": "markdown",
      "source": [
        "Set Model provider API keys as environment variables."
      ],
      "metadata": {
        "id": "u7DV1JoRyFOe"
      }
    },
    {
      "cell_type": "code",
      "source": [
        "# Comment out if API keys are not saved in your google colab userdata\n",
        "from google.colab import userdata\n",
        "os.environ[\"MISTRAL_API_KEY\"] = userdata.get('MISTRAL_API_KEY')\n",
        "os.environ[\"HUGGINGFACE_API_KEY\"] = userdata.get('HUGGINGFACE_API_KEY')\n",
        "\n",
        "## Uncomment and add API keys here if they are not saved in your google colab userdata\n",
        "# os.environ[\"MISTRAL_API_KEY\"] = 'YOUR_MISTRAL_API_KEY'\n",
        "# os.environ[\"HUGGINGFACE_API_KEY\"] = 'YOUR_HUGGINGFACE_API_KEY"
      ],
      "metadata": {
        "id": "4kcTkbYOyCR9"
      },
      "execution_count": null,
      "outputs": []
    },
    {
      "cell_type": "markdown",
      "source": [
        "Access the LLM endpoint with with DSPy."
      ],
      "metadata": {
        "id": "Vx78m6CH5W1T"
      }
    },
    {
      "cell_type": "code",
      "source": [
        "import dspy\n",
        "\n",
        "lm = dspy.LM('mistral/mistral-small-latest', api_key=os.environ[\"MISTRAL_API_KEY\"])\n",
        "dspy.configure(lm=lm)"
      ],
      "metadata": {
        "id": "s4zfgXMJ29W7"
      },
      "execution_count": null,
      "outputs": []
    },
    {
      "cell_type": "markdown",
      "source": [
        "Test the endpoint.\n"
      ],
      "metadata": {
        "id": "BNvZE-3J3dvW"
      }
    },
    {
      "cell_type": "code",
      "source": [
        "\n",
        "lm(messages=[{\"role\": \"user\", \"content\": \"Say this is a test!\"}])"
      ],
      "metadata": {
        "colab": {
          "base_uri": "https://localhost:8080/"
        },
        "id": "XiyaMttr3iqZ",
        "outputId": "a115075e-72d1-400b-db88-8714ca920e0e"
      },
      "execution_count": null,
      "outputs": [
        {
          "output_type": "execute_result",
          "data": {
            "text/plain": [
              "[\"This is a test! How can I assist you today? Let's make sure everything is working perfectly.\"]"
            ]
          },
          "metadata": {},
          "execution_count": 5
        }
      ]
    },
    {
      "cell_type": "markdown",
      "source": [
        "## Connect to Phoenix"
      ],
      "metadata": {
        "id": "Q7aLpKk9xUQ3"
      }
    },
    {
      "cell_type": "markdown",
      "source": [
        "Set environment variables as shown in the Phoenix UI. Once you have created an account and logged in, find your API key under **`keys`**.\n",
        "\n",
        "<img src=\"https://drive.google.com/uc?id=12NmDf0JAdIyWAqy102AcHA3z3Frbe7to\" width=\"75%\">"
      ],
      "metadata": {
        "id": "4CVeoMCExhhX"
      }
    },
    {
      "cell_type": "code",
      "source": [
        "API_KEY=\"YOUR_PHOENIX_API_KEY\"\n",
        "\n",
        "os.environ[\"OTEL_EXPORTER_OTLP_HEADERS\"] = \"api_key=\" + API_KEY\n",
        "os.environ[\"PHOENIX_CLIENT_HEADERS\"] = \"api_key=\" + API_KEY\n",
        "os.environ[\"PHOENIX_COLLECTOR_ENDPOINT\"] = \"https://app.phoenix.arize.com\"\n",
        "\n",
        "os.environ[\"PHOENIX_API_KEY\"] = API_KEY"
      ],
      "metadata": {
        "id": "lPlU7ZSEwrwB"
      },
      "execution_count": null,
      "outputs": []
    },
    {
      "cell_type": "markdown",
      "source": [
        "Register your phoenix enpoint as the tracer_provider."
      ],
      "metadata": {
        "id": "7Vfwh0KqxnvY"
      }
    },
    {
      "cell_type": "code",
      "source": [
        "from phoenix.otel import register\n",
        "\n",
        "tracer_provider = register(\n",
        "  endpoint=\"https://app.phoenix.arize.com/v1/traces\"\n",
        ")"
      ],
      "metadata": {
        "colab": {
          "base_uri": "https://localhost:8080/"
        },
        "id": "aNh_97Epxgpt",
        "outputId": "c1ee274d-bfa9-4126-df3b-ed20585baebf"
      },
      "execution_count": null,
      "outputs": [
        {
          "output_type": "stream",
          "name": "stdout",
          "text": [
            "🔭 OpenTelemetry Tracing Details 🔭\n",
            "|  Phoenix Project: default\n",
            "|  Span Processor: SimpleSpanProcessor\n",
            "|  Collector Endpoint: https://app.phoenix.arize.com/v1/traces\n",
            "|  Transport: HTTP + protobuf\n",
            "|  Transport Headers: {'api_key': '****', 'authorization': '****'}\n",
            "|  \n",
            "|  Using a default SpanProcessor. `add_span_processor` will overwrite this default.\n",
            "|  \n",
            "|  `register` has set this TracerProvider as the global OpenTelemetry default.\n",
            "|  To disable this behavior, call `register` with `set_global_tracer_provider=False`.\n",
            "\n"
          ]
        }
      ]
    },
    {
      "cell_type": "markdown",
      "source": [
        "### Instrument the application\n",
        "This enables us to send traces to Phoenix.  Since we'll be using DSPY to make calls to models, we'll be using the **DSPyInstrumentor**.  We'll also use the **LiteLLMInstrumentor** since DSPy is built on top of LiteLLM. Phoenix provides integrations with a variety of [common libraries ](https://docs.arize.com/phoenix/tracing/integrations-tracing)as well.\n"
      ],
      "metadata": {
        "id": "klnPwEx0y61T"
      }
    },
    {
      "cell_type": "code",
      "source": [
        "from openinference.instrumentation.dspy import DSPyInstrumentor\n",
        "from openinference.instrumentation.litellm import LiteLLMInstrumentor\n",
        "\n",
        "DSPyInstrumentor().instrument(tracer_provider=tracer_provider, skip_dep_check=True)\n",
        "\n",
        "LiteLLMInstrumentor().instrument(tracer_provider=tracer_provider, skip_dep_check=True)"
      ],
      "metadata": {
        "id": "a7JtL7Vk0SdF"
      },
      "execution_count": null,
      "outputs": []
    },
    {
      "cell_type": "markdown",
      "source": [
        "### Test the connection"
      ],
      "metadata": {
        "id": "VhghH5c_6F-R"
      }
    },
    {
      "cell_type": "code",
      "source": [
        "lm(messages=[{\"role\": \"user\", \"content\": \"Say this is a test!\"}])"
      ],
      "metadata": {
        "colab": {
          "base_uri": "https://localhost:8080/"
        },
        "id": "jVo_pgHc0UNS",
        "outputId": "d38cd1fe-63a6-4bf8-ba77-b2d96d255166"
      },
      "execution_count": null,
      "outputs": [
        {
          "output_type": "execute_result",
          "data": {
            "text/plain": [
              "[\"This is a test! How can I assist you today? Let's make sure everything is working perfectly.\"]"
            ]
          },
          "metadata": {},
          "execution_count": 9
        }
      ]
    },
    {
      "cell_type": "markdown",
      "source": [
        "Now that we've instrumented DSPy the LLM call we made above should send a trace to Phoenix. We didn't specify a project name when se set up our trace provider, so we'll see the [trace](https://docs.arize.com/phoenix/tracing/llm-traces/what-are-traces) appear in the default project.\n",
        "\n",
        "In Phoenix, [**tracing** ](https://docs.arize.com/phoenix/tracing/llm-traces)is the processes of tracking the individual steps taking through an LLM application as a request is made.  This involves tracking individual operations as **spans**, recording inputs,outputs, and additional data at each step.\n",
        "\n",
        "<img src=\"https://raw.githubusercontent.com/SarahOstermeier/Tutorial_Figures/refs/heads/main/REC-20250204224037.GIF\" />"
      ],
      "metadata": {
        "id": "-1QW-DYRJvu1"
      }
    },
    {
      "cell_type": "markdown",
      "source": [
        "# Design Your Evaluation Framework"
      ],
      "metadata": {
        "id": "gwF1g6ChPM0s"
      }
    },
    {
      "cell_type": "markdown",
      "source": [
        "## Prepare a set of evaluation prompts\n",
        "\n",
        "Here I created a list of prompts to challenge my application in the relationship extraction task. These are synthetic examples generated by Claude 3.5 Sonnet. Ideally, in a real use case, examples should be taken from historic data or prepared with the help of end users or subject matter experts."
      ],
      "metadata": {
        "id": "JV_NgsXuMDcm"
      }
    },
    {
      "cell_type": "code",
      "source": [
        "relation_dataset= [\n",
        "    \"John, who was previously married to Sarah, now works under her at Tech Corp. Their daughter Emma was recently hired by Sarah's new husband Tom as his research assistant.\",\n",
        "\n",
        "    \"Dr. Adams mentors resident Jessica Chen, unaware that she was his wife's daughter from a previous marriage, given up for adoption twenty years ago.\",\n",
        "\n",
        "    \"Tom started dating his son's ex-wife Maria six months after their divorce, creating tension when they all attend his daughter's soccer games.\",\n",
        "\n",
        "    \"Professor Williams discovered his star student Mark is actually his biological son from a college relationship, while Mark's adoptive mother serves as department chair.\",\n",
        "\n",
        "    \"Robert coaches his daughter Emma's basketball team, where she plays alongside his ex-wife's daughter from her second marriage, making them step-sisters and teammates.\",\n",
        "\n",
        "    \"Senior partner James dated Rachel's mother in law school before marrying her sister, making family dinners awkward since Rachel became his legal protégé.\",\n",
        "\n",
        "    \"Michael hired his former stepbrother David as head chef in his restaurant, unaware that David was now engaged to Michael's ex-wife Jenny.\",\n",
        "\n",
        "    \"Amy babysits for the Smiths, whose daughter is actually her half-sister from her father's secret relationship with Mrs. Smith during college.\",\n",
        "\n",
        "    \"Daniel discovered his apprentice Steve is actually his half-brother, not his nephew, after finding out his father had a second family.\",\n",
        "\n",
        "    \"Lisa's step-sister Maria turned out to be her biological sister, as they shared the same mother who had given Maria up for adoption years before marrying Lisa's father.\",\n",
        "\n",
        "    \"Chris manages the IT department where his twin brother Peter works, while hiding that they're both secretly dating their supervisor Sarah.\",\n",
        "\n",
        "    \"Emma's piano teacher Ms. Thompson was briefly married to Emma's father before he met her mother, a fact they all pretend to ignore during lessons.\",\n",
        "\n",
        "    \"Dr. Brown treats both Mark and his daughter Sophie, unaware that Sophie is actually his biological granddaughter from a teenage pregnancy.\",\n",
        "\n",
        "    \"Coach Tim discovered his star player Jack was his biological son from a college relationship, while Jack's cousin (Tim's niece) Amy serves as team manager.\",\n",
        "\n",
        "    \"Carol hired her former college roommate Beth, who had previously been engaged to Carol's brother before he married their mutual friend Diana.\",\n",
        "\n",
        "    \"Principal Stevens hired his niece Jennifer as art teacher, not knowing she was secretly dating his daughter's ex-husband who teaches music.\",\n",
        "\n",
        "    \"Ryan's stepbrother Matt is actually his biological brother, a fact their parents kept secret until they decided to open a gym together.\",\n",
        "\n",
        "    \"Detective Wilson investigates a case involving his son-in-law Officer Carter, whose wife (Wilson's daughter) is prosecuting the same case.\",\n",
        "\n",
        "    \"Anna's dance instructor Marina had a child with Anna's father before he married her mother, making Anna and her dance partner half-siblings.\",\n",
        "\n",
        "    \"Sam manages his sister-in-law Rebecca at the coffee shop, while hiding his past relationship with her from his brother Tom, who does their accounting.\"\n",
        "]"
      ],
      "metadata": {
        "id": "F78lZIL7FtHw"
      },
      "execution_count": null,
      "outputs": []
    },
    {
      "cell_type": "markdown",
      "source": [
        "## Application design\n",
        "We'll use the DSPy to structure a relation extraction application with the desired output structure.  DSPy helps automates prompt stucturing to make the application easy to set up."
      ],
      "metadata": {
        "id": "9zbVFZSts0hi"
      }
    },
    {
      "cell_type": "code",
      "source": [
        "class ExtractInfo(dspy.Signature):\n",
        "    \"\"\"Extract each person to person relationship from the text in the stuctured format.\n",
        "    For each relationship format the output as:\n",
        "    subject: str\n",
        "    relation: str\n",
        "    object: str\n",
        "\n",
        "    For example, for the sentence, 'Maria, who was previously married to John before his tragic accident, is now engaged to David, her late husband's best friend from college.',\n",
        "    the output relashipts should be:\n",
        "    [\n",
        "        {\n",
        "            \"subject\": \"Maria\",\n",
        "            \"relation\": \"engaged to\",\n",
        "            \"object\": \"David\"\n",
        "        },\n",
        "          {\n",
        "            \"subject\": \"David\",\n",
        "            \"relation\": \"engaged to\",\n",
        "            \"object\": \"Maria\"\n",
        "        },\n",
        "        {\n",
        "            \"subject\": \"Maria\",\n",
        "            \"relation\": \"ex-spouse\",\n",
        "            \"object\": \"John\n",
        "        },\n",
        "        {\n",
        "            \"subject\": \"John\",\n",
        "            \"relation\": \"ex-spouse\",\n",
        "            \"object\": \"Maria\"\n",
        "        },\n",
        "        {\n",
        "            \"subject\": \"David\",\n",
        "            \"relation\": \"best friend\",\n",
        "            \"object\": \"John\"\n",
        "        },\n",
        "        ]\n",
        "\n",
        "    \"\"\"\n",
        "    text: str = dspy.InputField()\n",
        "    relationships: list[dict[str, str]] = dspy.OutputField(desc=\"a list of all person to person relatioship in the text\")\n",
        "module = dspy.Predict(ExtractInfo)\n"
      ],
      "metadata": {
        "id": "NTTdrBg1C0lM"
      },
      "execution_count": null,
      "outputs": []
    },
    {
      "cell_type": "markdown",
      "source": [
        "## Track LLM Traces in Phoenix"
      ],
      "metadata": {
        "id": "mt2p9DyE5rf6"
      }
    },
    {
      "cell_type": "markdown",
      "source": [
        "Let's try submitting a request.  Here's the first prompt in our dataset."
      ],
      "metadata": {
        "id": "yfNiCyMMrq7v"
      }
    },
    {
      "cell_type": "code",
      "source": [
        "relation_dataset[0]"
      ],
      "metadata": {
        "colab": {
          "base_uri": "https://localhost:8080/",
          "height": 53
        },
        "id": "msRw_OKQITNS",
        "outputId": "59bce113-e068-46dc-ad6e-c284beb1251f"
      },
      "execution_count": null,
      "outputs": [
        {
          "output_type": "execute_result",
          "data": {
            "text/plain": [
              "\"John, who was previously married to Sarah, now works under her at Tech Corp. Their daughter Emma was recently hired by Sarah's new husband Tom as his research assistant.\""
            ],
            "application/vnd.google.colaboratory.intrinsic+json": {
              "type": "string"
            }
          },
          "metadata": {},
          "execution_count": 12
        }
      ]
    },
    {
      "cell_type": "code",
      "source": [
        "text = relation_dataset[0]\n",
        "response = module(text=text)\n",
        "\n",
        "response"
      ],
      "metadata": {
        "colab": {
          "base_uri": "https://localhost:8080/"
        },
        "id": "EqmWjqbt5jsW",
        "outputId": "29eca72e-c156-4839-f855-d53c6b063c0b"
      },
      "execution_count": null,
      "outputs": [
        {
          "output_type": "execute_result",
          "data": {
            "text/plain": [
              "Prediction(\n",
              "    relationships=[{'subject': 'John', 'relation': 'ex-spouse', 'object': 'Sarah'}, {'subject': 'Sarah', 'relation': 'ex-spouse', 'object': 'John'}, {'subject': 'John', 'relation': 'works under', 'object': 'Sarah'}, {'subject': 'Sarah', 'relation': 'boss of', 'object': 'John'}, {'subject': 'Sarah', 'relation': 'mother', 'object': 'Emma'}, {'subject': 'Emma', 'relation': 'daughter', 'object': 'Sarah'}, {'subject': 'Tom', 'relation': 'husband', 'object': 'Sarah'}, {'subject': 'Sarah', 'relation': 'wife', 'object': 'Tom'}, {'subject': 'Tom', 'relation': 'boss of', 'object': 'Emma'}, {'subject': 'Emma', 'relation': 'works for', 'object': 'Tom'}]\n",
              ")"
            ]
          },
          "metadata": {},
          "execution_count": 13
        }
      ]
    },
    {
      "cell_type": "markdown",
      "source": [
        "Let's take a look at the Phoenix UI to see if this trace shows up.\n",
        "\n",
        "You should see the trace at the top of the list in your default project. Clicking into it reveals the requests that were made under the hood within the `dspy.Predict` function, where we can see the full prompt that was sent to the underlying Mistral LLM, along with the responses at each step.\n",
        "\n",
        "<img src=\"https://github.com/SarahOstermeier/Tutorial_Figures/blob/main/REC-20250205005941.GIF?raw=true\" />\n"
      ],
      "metadata": {
        "id": "m5Ih6L1FtOog"
      }
    },
    {
      "cell_type": "markdown",
      "source": [
        "So far, I've been using a small [Mistral](https://auth.mistral.ai/ui/login?flow=e37561f9-fbd9-4123-b6d0-094233435689) Modal.  Let's see how things look when I try a model that is designed for reasoning. Here I'm using the DeepSeek-R1-distilled Qwen model, accessed through [HuggingFace](https://huggingface.co/docs/api-inference/index)."
      ],
      "metadata": {
        "id": "c9djsZTcu-79"
      }
    },
    {
      "cell_type": "code",
      "source": [
        "# Optional Cell - Comment out to Skip\n",
        "lm2 = dspy.LM('huggingface/deepseek-ai/DeepSeek-R1-Distill-Qwen-32B', api_key=os.environ[\"HUGGINGFACE_API_KEY\"], max_tokens=2000)\n",
        "dspy.configure(lm=lm2)\n",
        "module2 = dspy.Predict(ExtractInfo)\n",
        "\n",
        "text = relation_dataset[0]\n",
        "response = module2(text=text)\n",
        "\n",
        "response\n"
      ],
      "metadata": {
        "id": "epVhTk_y3L43",
        "colab": {
          "base_uri": "https://localhost:8080/"
        },
        "outputId": "9038f5d8-a0df-4a8b-dbda-700b6f810084"
      },
      "execution_count": null,
      "outputs": [
        {
          "output_type": "execute_result",
          "data": {
            "text/plain": [
              "Prediction(\n",
              "    relationships=[{'subject': 'John', 'relation': 'ex-spouse', 'object': 'Sarah'}, {'subject': 'Sarah', 'relation': 'ex-spouse', 'object': 'John'}, {'subject': 'John', 'relation': 'works under', 'object': 'Sarah'}, {'subject': 'Sarah', 'relation': 'employs', 'object': 'John'}, {'subject': 'John', 'relation': 'father of', 'object': 'Emma'}, {'subject': 'Sarah', 'relation': 'mother of', 'object': 'Emma'}, {'subject': 'Emma', 'relation': 'hired by', 'object': 'Tom'}, {'subject': 'Tom', 'relation': 'hires', 'object': 'Emma'}, {'subject': 'Sarah', 'relation': 'husband', 'object': 'Tom'}, {'subject': 'Tom', 'relation': 'wife', 'object': 'Sarah'}]\n",
              ")"
            ]
          },
          "metadata": {},
          "execution_count": 14
        }
      ]
    },
    {
      "cell_type": "markdown",
      "source": [
        "Note that we can view the chain of reasoning that happened under the hood in Phoenix. In this case, the DeepSeek model took longer and went through more reasoning steps, but it still made some mistakes around the directionality of relationships.\n",
        "\n",
        "<img src=\"https://github.com/SarahOstermeier/Tutorial_Figures/blob/main/REC-20250205022643%203.GIF?raw=true\" />\n",
        "\n",
        "\n"
      ],
      "metadata": {
        "id": "zPI9UuddB6af"
      }
    },
    {
      "cell_type": "markdown",
      "source": [
        "Let's go back to the faster Mistral model and send the rest of our prompt dataset. You should see each of these appear in the UI."
      ],
      "metadata": {
        "id": "SLFFZ_Tm8_Hv"
      }
    },
    {
      "cell_type": "code",
      "source": [
        "dspy.configure(lm=lm)\n",
        "module = dspy.Predict(ExtractInfo)\n",
        "\n",
        "for text in relation_dataset:\n",
        "  try:\n",
        "    response = module(text=text)\n",
        "  except AttributeError as e:\n",
        "    print('Error during structuring of sample:', text)\n",
        "    print(e)\n",
        "    continue"
      ],
      "metadata": {
        "id": "I_YESouh9U_5"
      },
      "execution_count": null,
      "outputs": []
    },
    {
      "cell_type": "markdown",
      "source": [
        "\n",
        "# Annotating Traces\n",
        "Phoenix provides [several options for human annotation](https://docs.arize.com/phoenix/tracing/how-to-tracing/capture-feedback), using either the Phoenix UI or by sending annotations through the python API"
      ],
      "metadata": {
        "id": "UEzdx9UPkzkL"
      }
    },
    {
      "cell_type": "markdown",
      "source": [
        "## Use the Phoenix UI for annotation\n",
        "\n",
        "The Phoenix UI offers an easy annotation interface. It's a good option when you, the developer, are also the person annotating responses.\n",
        "\n",
        "<img src=\"https://github.com/SarahOstermeier/Tutorial_Figures/blob/main/REC-20250205012012.GIF?raw=true\" />\n"
      ],
      "metadata": {
        "id": "KcZUEshK9-E2"
      }
    },
    {
      "cell_type": "markdown",
      "source": [
        "## Programmatically annotate through the Python API\n",
        "\n",
        "To add an annotation through the API, we'll need a span_id to identify which span the annotation should be assigned to.\n",
        "\n",
        "Let's take a look at the traces we've sent to Phoenix so far."
      ],
      "metadata": {
        "id": "daUOzlES3Y_z"
      }
    },
    {
      "cell_type": "code",
      "source": [
        "import phoenix as px\n",
        "\n",
        "dataset = px.Client().get_trace_dataset(project_name=\"default\")\n",
        "span_df = dataset.get_spans_dataframe()\n",
        "span_df = span_df.query(\"name == 'Predict(ExtractInfo).forward' and status_code == 'OK'\")\n",
        "span_df"
      ],
      "metadata": {
        "id": "5rk6EMOsAtFV",
        "colab": {
          "base_uri": "https://localhost:8080/",
          "height": 720
        },
        "outputId": "b00934b5-6c04-4141-df59-3914fd13c814"
      },
      "execution_count": null,
      "outputs": [
        {
          "output_type": "stream",
          "name": "stderr",
          "text": [
            "/usr/local/lib/python3.11/dist-packages/phoenix/utilities/client.py:34: UserWarning: The Phoenix server has an unknown version and may have compatibility issues.\n",
            "  warnings.warn(\n",
            "/usr/local/lib/python3.11/dist-packages/phoenix/utilities/client.py:54: UserWarning: The Phoenix server (7.10.3) and client (7.11.0) versions are mismatched and may have compatibility issues.\n",
            "  warnings.warn(\n"
          ]
        },
        {
          "output_type": "execute_result",
          "data": {
            "text/plain": [
              "                                          name span_kind parent_id  \\\n",
              "context.span_id                                                      \n",
              "713037dfe328196f  Predict(ExtractInfo).forward     CHAIN      None   \n",
              "05cb89b8cd62ccdc  Predict(ExtractInfo).forward     CHAIN      None   \n",
              "2f455b2d6541e086  Predict(ExtractInfo).forward     CHAIN      None   \n",
              "77b644bdff08e7a9  Predict(ExtractInfo).forward     CHAIN      None   \n",
              "6a15b05189e15a1f  Predict(ExtractInfo).forward     CHAIN      None   \n",
              "...                                        ...       ...       ...   \n",
              "ba5cab709c780936  Predict(ExtractInfo).forward     CHAIN      None   \n",
              "4759323ec0d2ba8e  Predict(ExtractInfo).forward     CHAIN      None   \n",
              "39c39a40e2213c35  Predict(ExtractInfo).forward     CHAIN      None   \n",
              "9d27e6b6d75edc98  Predict(ExtractInfo).forward     CHAIN      None   \n",
              "c6718aa6c57801d2  Predict(ExtractInfo).forward     CHAIN      None   \n",
              "\n",
              "                                       start_time  \\\n",
              "context.span_id                                     \n",
              "713037dfe328196f 2025-02-05 05:57:33.573063+00:00   \n",
              "05cb89b8cd62ccdc 2025-02-05 05:58:14.201006+00:00   \n",
              "2f455b2d6541e086 2025-02-05 06:11:00.717673+00:00   \n",
              "77b644bdff08e7a9 2025-02-05 06:11:00.872298+00:00   \n",
              "6a15b05189e15a1f 2025-02-05 06:11:02.187044+00:00   \n",
              "...                                           ...   \n",
              "ba5cab709c780936 2025-02-05 08:49:25.462735+00:00   \n",
              "4759323ec0d2ba8e 2025-02-05 08:49:25.610358+00:00   \n",
              "39c39a40e2213c35 2025-02-05 08:49:25.755631+00:00   \n",
              "9d27e6b6d75edc98 2025-02-05 08:49:25.902495+00:00   \n",
              "c6718aa6c57801d2 2025-02-05 08:49:26.371649+00:00   \n",
              "\n",
              "                                         end_time status_code status_message  \\\n",
              "context.span_id                                                                \n",
              "713037dfe328196f 2025-02-05 05:57:36.298396+00:00          OK                  \n",
              "05cb89b8cd62ccdc 2025-02-05 05:58:14.291518+00:00          OK                  \n",
              "2f455b2d6541e086 2025-02-05 06:11:00.836809+00:00          OK                  \n",
              "77b644bdff08e7a9 2025-02-05 06:11:02.151536+00:00          OK                  \n",
              "6a15b05189e15a1f 2025-02-05 06:11:03.428261+00:00          OK                  \n",
              "...                                           ...         ...            ...   \n",
              "ba5cab709c780936 2025-02-05 08:49:25.577579+00:00          OK                  \n",
              "4759323ec0d2ba8e 2025-02-05 08:49:25.722303+00:00          OK                  \n",
              "39c39a40e2213c35 2025-02-05 08:49:25.867460+00:00          OK                  \n",
              "9d27e6b6d75edc98 2025-02-05 08:49:26.335770+00:00          OK                  \n",
              "c6718aa6c57801d2 2025-02-05 08:49:26.478001+00:00          OK                  \n",
              "\n",
              "                 events   context.span_id                  context.trace_id  \\\n",
              "context.span_id                                                               \n",
              "713037dfe328196f     []  713037dfe328196f  d0995faa081ba065cf4709d5aa1fde83   \n",
              "05cb89b8cd62ccdc     []  05cb89b8cd62ccdc  5f1b07853997e32f2693df89f9507c56   \n",
              "2f455b2d6541e086     []  2f455b2d6541e086  b3fcbdb73d66b9188b90fe56b5f91dac   \n",
              "77b644bdff08e7a9     []  77b644bdff08e7a9  6e545e1ff144db3a88ad38fd07dd327e   \n",
              "6a15b05189e15a1f     []  6a15b05189e15a1f  77da556b87e5ac0e031a3c2b33aa597d   \n",
              "...                 ...               ...                               ...   \n",
              "ba5cab709c780936     []  ba5cab709c780936  c6c01256e9c28fa2c1ab3789843ddff0   \n",
              "4759323ec0d2ba8e     []  4759323ec0d2ba8e  b764354071b073ec2fe657c71bcf8634   \n",
              "39c39a40e2213c35     []  39c39a40e2213c35  1a7b1945b7ef22bd5c30913e8e8db8fe   \n",
              "9d27e6b6d75edc98     []  9d27e6b6d75edc98  c2f2e681724026b92f55a85116417b36   \n",
              "c6718aa6c57801d2     []  c6718aa6c57801d2  4228e33157430d7f9be2297aad13981b   \n",
              "\n",
              "                  ... attributes.llm.invocation_parameters  \\\n",
              "context.span_id   ...                                        \n",
              "713037dfe328196f  ...                                 None   \n",
              "05cb89b8cd62ccdc  ...                                 None   \n",
              "2f455b2d6541e086  ...                                 None   \n",
              "77b644bdff08e7a9  ...                                 None   \n",
              "6a15b05189e15a1f  ...                                 None   \n",
              "...               ...                                  ...   \n",
              "ba5cab709c780936  ...                                 None   \n",
              "4759323ec0d2ba8e  ...                                 None   \n",
              "39c39a40e2213c35  ...                                 None   \n",
              "9d27e6b6d75edc98  ...                                 None   \n",
              "c6718aa6c57801d2  ...                                 None   \n",
              "\n",
              "                 attributes.output.mime_type  \\\n",
              "context.span_id                                \n",
              "713037dfe328196f            application/json   \n",
              "05cb89b8cd62ccdc            application/json   \n",
              "2f455b2d6541e086            application/json   \n",
              "77b644bdff08e7a9            application/json   \n",
              "6a15b05189e15a1f            application/json   \n",
              "...                                      ...   \n",
              "ba5cab709c780936            application/json   \n",
              "4759323ec0d2ba8e            application/json   \n",
              "39c39a40e2213c35            application/json   \n",
              "9d27e6b6d75edc98            application/json   \n",
              "c6718aa6c57801d2            application/json   \n",
              "\n",
              "                                            attributes.output.value  \\\n",
              "context.span_id                                                       \n",
              "713037dfe328196f  {\"relationships\": [{\"subject\": \"John\", \"relati...   \n",
              "05cb89b8cd62ccdc  {\"relationships\": [{\"subject\": \"John\", \"relati...   \n",
              "2f455b2d6541e086  {\"relationships\": [{\"subject\": \"John\", \"relati...   \n",
              "77b644bdff08e7a9  {\"relationships\": [{\"subject\": \"Dr. Adams\", \"r...   \n",
              "6a15b05189e15a1f  {\"relationships\": [{\"subject\": \"Tom\", \"relatio...   \n",
              "...                                                             ...   \n",
              "ba5cab709c780936  {\"relationships\": [{\"subject\": \"Principal Stev...   \n",
              "4759323ec0d2ba8e  {\"relationships\": [{\"subject\": \"Ryan\", \"relati...   \n",
              "39c39a40e2213c35  {\"relationships\": [{\"subject\": \"Detective Wils...   \n",
              "9d27e6b6d75edc98  {\"relationships\": [{\"subject\": \"Anna\", \"relati...   \n",
              "c6718aa6c57801d2  {\"relationships\": [{\"subject\": \"Sam\", \"relatio...   \n",
              "\n",
              "                 attributes.llm.input_messages attributes.llm.output_messages  \\\n",
              "context.span_id                                                                 \n",
              "713037dfe328196f                          None                           None   \n",
              "05cb89b8cd62ccdc                          None                           None   \n",
              "2f455b2d6541e086                          None                           None   \n",
              "77b644bdff08e7a9                          None                           None   \n",
              "6a15b05189e15a1f                          None                           None   \n",
              "...                                        ...                            ...   \n",
              "ba5cab709c780936                          None                           None   \n",
              "4759323ec0d2ba8e                          None                           None   \n",
              "39c39a40e2213c35                          None                           None   \n",
              "9d27e6b6d75edc98                          None                           None   \n",
              "c6718aa6c57801d2                          None                           None   \n",
              "\n",
              "                 attributes.input.mime_type attributes.llm.token_count.prompt  \\\n",
              "context.span_id                                                                 \n",
              "713037dfe328196f           application/json                              None   \n",
              "05cb89b8cd62ccdc           application/json                              None   \n",
              "2f455b2d6541e086           application/json                              None   \n",
              "77b644bdff08e7a9           application/json                              None   \n",
              "6a15b05189e15a1f           application/json                              None   \n",
              "...                                     ...                               ...   \n",
              "ba5cab709c780936           application/json                              None   \n",
              "4759323ec0d2ba8e           application/json                              None   \n",
              "39c39a40e2213c35           application/json                              None   \n",
              "9d27e6b6d75edc98           application/json                              None   \n",
              "c6718aa6c57801d2           application/json                              None   \n",
              "\n",
              "                 attributes.llm.token_count.completion  \\\n",
              "context.span_id                                          \n",
              "713037dfe328196f                                  None   \n",
              "05cb89b8cd62ccdc                                  None   \n",
              "2f455b2d6541e086                                  None   \n",
              "77b644bdff08e7a9                                  None   \n",
              "6a15b05189e15a1f                                  None   \n",
              "...                                                ...   \n",
              "ba5cab709c780936                                  None   \n",
              "4759323ec0d2ba8e                                  None   \n",
              "39c39a40e2213c35                                  None   \n",
              "9d27e6b6d75edc98                                  None   \n",
              "c6718aa6c57801d2                                  None   \n",
              "\n",
              "                 attributes.llm.model_name attributes.llm.token_count.total  \n",
              "context.span_id                                                              \n",
              "713037dfe328196f                      None                             None  \n",
              "05cb89b8cd62ccdc                      None                             None  \n",
              "2f455b2d6541e086                      None                             None  \n",
              "77b644bdff08e7a9                      None                             None  \n",
              "6a15b05189e15a1f                      None                             None  \n",
              "...                                    ...                              ...  \n",
              "ba5cab709c780936                      None                             None  \n",
              "4759323ec0d2ba8e                      None                             None  \n",
              "39c39a40e2213c35                      None                             None  \n",
              "9d27e6b6d75edc98                      None                             None  \n",
              "c6718aa6c57801d2                      None                             None  \n",
              "\n",
              "[71 rows x 22 columns]"
            ],
            "text/html": [
              "\n",
              "  <div id=\"df-c0969ad8-90a8-4e53-ad26-88dd735c1990\" class=\"colab-df-container\">\n",
              "    <div>\n",
              "<style scoped>\n",
              "    .dataframe tbody tr th:only-of-type {\n",
              "        vertical-align: middle;\n",
              "    }\n",
              "\n",
              "    .dataframe tbody tr th {\n",
              "        vertical-align: top;\n",
              "    }\n",
              "\n",
              "    .dataframe thead th {\n",
              "        text-align: right;\n",
              "    }\n",
              "</style>\n",
              "<table border=\"1\" class=\"dataframe\">\n",
              "  <thead>\n",
              "    <tr style=\"text-align: right;\">\n",
              "      <th></th>\n",
              "      <th>name</th>\n",
              "      <th>span_kind</th>\n",
              "      <th>parent_id</th>\n",
              "      <th>start_time</th>\n",
              "      <th>end_time</th>\n",
              "      <th>status_code</th>\n",
              "      <th>status_message</th>\n",
              "      <th>events</th>\n",
              "      <th>context.span_id</th>\n",
              "      <th>context.trace_id</th>\n",
              "      <th>...</th>\n",
              "      <th>attributes.llm.invocation_parameters</th>\n",
              "      <th>attributes.output.mime_type</th>\n",
              "      <th>attributes.output.value</th>\n",
              "      <th>attributes.llm.input_messages</th>\n",
              "      <th>attributes.llm.output_messages</th>\n",
              "      <th>attributes.input.mime_type</th>\n",
              "      <th>attributes.llm.token_count.prompt</th>\n",
              "      <th>attributes.llm.token_count.completion</th>\n",
              "      <th>attributes.llm.model_name</th>\n",
              "      <th>attributes.llm.token_count.total</th>\n",
              "    </tr>\n",
              "    <tr>\n",
              "      <th>context.span_id</th>\n",
              "      <th></th>\n",
              "      <th></th>\n",
              "      <th></th>\n",
              "      <th></th>\n",
              "      <th></th>\n",
              "      <th></th>\n",
              "      <th></th>\n",
              "      <th></th>\n",
              "      <th></th>\n",
              "      <th></th>\n",
              "      <th></th>\n",
              "      <th></th>\n",
              "      <th></th>\n",
              "      <th></th>\n",
              "      <th></th>\n",
              "      <th></th>\n",
              "      <th></th>\n",
              "      <th></th>\n",
              "      <th></th>\n",
              "      <th></th>\n",
              "      <th></th>\n",
              "    </tr>\n",
              "  </thead>\n",
              "  <tbody>\n",
              "    <tr>\n",
              "      <th>713037dfe328196f</th>\n",
              "      <td>Predict(ExtractInfo).forward</td>\n",
              "      <td>CHAIN</td>\n",
              "      <td>None</td>\n",
              "      <td>2025-02-05 05:57:33.573063+00:00</td>\n",
              "      <td>2025-02-05 05:57:36.298396+00:00</td>\n",
              "      <td>OK</td>\n",
              "      <td></td>\n",
              "      <td>[]</td>\n",
              "      <td>713037dfe328196f</td>\n",
              "      <td>d0995faa081ba065cf4709d5aa1fde83</td>\n",
              "      <td>...</td>\n",
              "      <td>None</td>\n",
              "      <td>application/json</td>\n",
              "      <td>{\"relationships\": [{\"subject\": \"John\", \"relati...</td>\n",
              "      <td>None</td>\n",
              "      <td>None</td>\n",
              "      <td>application/json</td>\n",
              "      <td>None</td>\n",
              "      <td>None</td>\n",
              "      <td>None</td>\n",
              "      <td>None</td>\n",
              "    </tr>\n",
              "    <tr>\n",
              "      <th>05cb89b8cd62ccdc</th>\n",
              "      <td>Predict(ExtractInfo).forward</td>\n",
              "      <td>CHAIN</td>\n",
              "      <td>None</td>\n",
              "      <td>2025-02-05 05:58:14.201006+00:00</td>\n",
              "      <td>2025-02-05 05:58:14.291518+00:00</td>\n",
              "      <td>OK</td>\n",
              "      <td></td>\n",
              "      <td>[]</td>\n",
              "      <td>05cb89b8cd62ccdc</td>\n",
              "      <td>5f1b07853997e32f2693df89f9507c56</td>\n",
              "      <td>...</td>\n",
              "      <td>None</td>\n",
              "      <td>application/json</td>\n",
              "      <td>{\"relationships\": [{\"subject\": \"John\", \"relati...</td>\n",
              "      <td>None</td>\n",
              "      <td>None</td>\n",
              "      <td>application/json</td>\n",
              "      <td>None</td>\n",
              "      <td>None</td>\n",
              "      <td>None</td>\n",
              "      <td>None</td>\n",
              "    </tr>\n",
              "    <tr>\n",
              "      <th>2f455b2d6541e086</th>\n",
              "      <td>Predict(ExtractInfo).forward</td>\n",
              "      <td>CHAIN</td>\n",
              "      <td>None</td>\n",
              "      <td>2025-02-05 06:11:00.717673+00:00</td>\n",
              "      <td>2025-02-05 06:11:00.836809+00:00</td>\n",
              "      <td>OK</td>\n",
              "      <td></td>\n",
              "      <td>[]</td>\n",
              "      <td>2f455b2d6541e086</td>\n",
              "      <td>b3fcbdb73d66b9188b90fe56b5f91dac</td>\n",
              "      <td>...</td>\n",
              "      <td>None</td>\n",
              "      <td>application/json</td>\n",
              "      <td>{\"relationships\": [{\"subject\": \"John\", \"relati...</td>\n",
              "      <td>None</td>\n",
              "      <td>None</td>\n",
              "      <td>application/json</td>\n",
              "      <td>None</td>\n",
              "      <td>None</td>\n",
              "      <td>None</td>\n",
              "      <td>None</td>\n",
              "    </tr>\n",
              "    <tr>\n",
              "      <th>77b644bdff08e7a9</th>\n",
              "      <td>Predict(ExtractInfo).forward</td>\n",
              "      <td>CHAIN</td>\n",
              "      <td>None</td>\n",
              "      <td>2025-02-05 06:11:00.872298+00:00</td>\n",
              "      <td>2025-02-05 06:11:02.151536+00:00</td>\n",
              "      <td>OK</td>\n",
              "      <td></td>\n",
              "      <td>[]</td>\n",
              "      <td>77b644bdff08e7a9</td>\n",
              "      <td>6e545e1ff144db3a88ad38fd07dd327e</td>\n",
              "      <td>...</td>\n",
              "      <td>None</td>\n",
              "      <td>application/json</td>\n",
              "      <td>{\"relationships\": [{\"subject\": \"Dr. Adams\", \"r...</td>\n",
              "      <td>None</td>\n",
              "      <td>None</td>\n",
              "      <td>application/json</td>\n",
              "      <td>None</td>\n",
              "      <td>None</td>\n",
              "      <td>None</td>\n",
              "      <td>None</td>\n",
              "    </tr>\n",
              "    <tr>\n",
              "      <th>6a15b05189e15a1f</th>\n",
              "      <td>Predict(ExtractInfo).forward</td>\n",
              "      <td>CHAIN</td>\n",
              "      <td>None</td>\n",
              "      <td>2025-02-05 06:11:02.187044+00:00</td>\n",
              "      <td>2025-02-05 06:11:03.428261+00:00</td>\n",
              "      <td>OK</td>\n",
              "      <td></td>\n",
              "      <td>[]</td>\n",
              "      <td>6a15b05189e15a1f</td>\n",
              "      <td>77da556b87e5ac0e031a3c2b33aa597d</td>\n",
              "      <td>...</td>\n",
              "      <td>None</td>\n",
              "      <td>application/json</td>\n",
              "      <td>{\"relationships\": [{\"subject\": \"Tom\", \"relatio...</td>\n",
              "      <td>None</td>\n",
              "      <td>None</td>\n",
              "      <td>application/json</td>\n",
              "      <td>None</td>\n",
              "      <td>None</td>\n",
              "      <td>None</td>\n",
              "      <td>None</td>\n",
              "    </tr>\n",
              "    <tr>\n",
              "      <th>...</th>\n",
              "      <td>...</td>\n",
              "      <td>...</td>\n",
              "      <td>...</td>\n",
              "      <td>...</td>\n",
              "      <td>...</td>\n",
              "      <td>...</td>\n",
              "      <td>...</td>\n",
              "      <td>...</td>\n",
              "      <td>...</td>\n",
              "      <td>...</td>\n",
              "      <td>...</td>\n",
              "      <td>...</td>\n",
              "      <td>...</td>\n",
              "      <td>...</td>\n",
              "      <td>...</td>\n",
              "      <td>...</td>\n",
              "      <td>...</td>\n",
              "      <td>...</td>\n",
              "      <td>...</td>\n",
              "      <td>...</td>\n",
              "      <td>...</td>\n",
              "    </tr>\n",
              "    <tr>\n",
              "      <th>ba5cab709c780936</th>\n",
              "      <td>Predict(ExtractInfo).forward</td>\n",
              "      <td>CHAIN</td>\n",
              "      <td>None</td>\n",
              "      <td>2025-02-05 08:49:25.462735+00:00</td>\n",
              "      <td>2025-02-05 08:49:25.577579+00:00</td>\n",
              "      <td>OK</td>\n",
              "      <td></td>\n",
              "      <td>[]</td>\n",
              "      <td>ba5cab709c780936</td>\n",
              "      <td>c6c01256e9c28fa2c1ab3789843ddff0</td>\n",
              "      <td>...</td>\n",
              "      <td>None</td>\n",
              "      <td>application/json</td>\n",
              "      <td>{\"relationships\": [{\"subject\": \"Principal Stev...</td>\n",
              "      <td>None</td>\n",
              "      <td>None</td>\n",
              "      <td>application/json</td>\n",
              "      <td>None</td>\n",
              "      <td>None</td>\n",
              "      <td>None</td>\n",
              "      <td>None</td>\n",
              "    </tr>\n",
              "    <tr>\n",
              "      <th>4759323ec0d2ba8e</th>\n",
              "      <td>Predict(ExtractInfo).forward</td>\n",
              "      <td>CHAIN</td>\n",
              "      <td>None</td>\n",
              "      <td>2025-02-05 08:49:25.610358+00:00</td>\n",
              "      <td>2025-02-05 08:49:25.722303+00:00</td>\n",
              "      <td>OK</td>\n",
              "      <td></td>\n",
              "      <td>[]</td>\n",
              "      <td>4759323ec0d2ba8e</td>\n",
              "      <td>b764354071b073ec2fe657c71bcf8634</td>\n",
              "      <td>...</td>\n",
              "      <td>None</td>\n",
              "      <td>application/json</td>\n",
              "      <td>{\"relationships\": [{\"subject\": \"Ryan\", \"relati...</td>\n",
              "      <td>None</td>\n",
              "      <td>None</td>\n",
              "      <td>application/json</td>\n",
              "      <td>None</td>\n",
              "      <td>None</td>\n",
              "      <td>None</td>\n",
              "      <td>None</td>\n",
              "    </tr>\n",
              "    <tr>\n",
              "      <th>39c39a40e2213c35</th>\n",
              "      <td>Predict(ExtractInfo).forward</td>\n",
              "      <td>CHAIN</td>\n",
              "      <td>None</td>\n",
              "      <td>2025-02-05 08:49:25.755631+00:00</td>\n",
              "      <td>2025-02-05 08:49:25.867460+00:00</td>\n",
              "      <td>OK</td>\n",
              "      <td></td>\n",
              "      <td>[]</td>\n",
              "      <td>39c39a40e2213c35</td>\n",
              "      <td>1a7b1945b7ef22bd5c30913e8e8db8fe</td>\n",
              "      <td>...</td>\n",
              "      <td>None</td>\n",
              "      <td>application/json</td>\n",
              "      <td>{\"relationships\": [{\"subject\": \"Detective Wils...</td>\n",
              "      <td>None</td>\n",
              "      <td>None</td>\n",
              "      <td>application/json</td>\n",
              "      <td>None</td>\n",
              "      <td>None</td>\n",
              "      <td>None</td>\n",
              "      <td>None</td>\n",
              "    </tr>\n",
              "    <tr>\n",
              "      <th>9d27e6b6d75edc98</th>\n",
              "      <td>Predict(ExtractInfo).forward</td>\n",
              "      <td>CHAIN</td>\n",
              "      <td>None</td>\n",
              "      <td>2025-02-05 08:49:25.902495+00:00</td>\n",
              "      <td>2025-02-05 08:49:26.335770+00:00</td>\n",
              "      <td>OK</td>\n",
              "      <td></td>\n",
              "      <td>[]</td>\n",
              "      <td>9d27e6b6d75edc98</td>\n",
              "      <td>c2f2e681724026b92f55a85116417b36</td>\n",
              "      <td>...</td>\n",
              "      <td>None</td>\n",
              "      <td>application/json</td>\n",
              "      <td>{\"relationships\": [{\"subject\": \"Anna\", \"relati...</td>\n",
              "      <td>None</td>\n",
              "      <td>None</td>\n",
              "      <td>application/json</td>\n",
              "      <td>None</td>\n",
              "      <td>None</td>\n",
              "      <td>None</td>\n",
              "      <td>None</td>\n",
              "    </tr>\n",
              "    <tr>\n",
              "      <th>c6718aa6c57801d2</th>\n",
              "      <td>Predict(ExtractInfo).forward</td>\n",
              "      <td>CHAIN</td>\n",
              "      <td>None</td>\n",
              "      <td>2025-02-05 08:49:26.371649+00:00</td>\n",
              "      <td>2025-02-05 08:49:26.478001+00:00</td>\n",
              "      <td>OK</td>\n",
              "      <td></td>\n",
              "      <td>[]</td>\n",
              "      <td>c6718aa6c57801d2</td>\n",
              "      <td>4228e33157430d7f9be2297aad13981b</td>\n",
              "      <td>...</td>\n",
              "      <td>None</td>\n",
              "      <td>application/json</td>\n",
              "      <td>{\"relationships\": [{\"subject\": \"Sam\", \"relatio...</td>\n",
              "      <td>None</td>\n",
              "      <td>None</td>\n",
              "      <td>application/json</td>\n",
              "      <td>None</td>\n",
              "      <td>None</td>\n",
              "      <td>None</td>\n",
              "      <td>None</td>\n",
              "    </tr>\n",
              "  </tbody>\n",
              "</table>\n",
              "<p>71 rows × 22 columns</p>\n",
              "</div>\n",
              "    <div class=\"colab-df-buttons\">\n",
              "\n",
              "  <div class=\"colab-df-container\">\n",
              "    <button class=\"colab-df-convert\" onclick=\"convertToInteractive('df-c0969ad8-90a8-4e53-ad26-88dd735c1990')\"\n",
              "            title=\"Convert this dataframe to an interactive table.\"\n",
              "            style=\"display:none;\">\n",
              "\n",
              "  <svg xmlns=\"http://www.w3.org/2000/svg\" height=\"24px\" viewBox=\"0 -960 960 960\">\n",
              "    <path d=\"M120-120v-720h720v720H120Zm60-500h600v-160H180v160Zm220 220h160v-160H400v160Zm0 220h160v-160H400v160ZM180-400h160v-160H180v160Zm440 0h160v-160H620v160ZM180-180h160v-160H180v160Zm440 0h160v-160H620v160Z\"/>\n",
              "  </svg>\n",
              "    </button>\n",
              "\n",
              "  <style>\n",
              "    .colab-df-container {\n",
              "      display:flex;\n",
              "      gap: 12px;\n",
              "    }\n",
              "\n",
              "    .colab-df-convert {\n",
              "      background-color: #E8F0FE;\n",
              "      border: none;\n",
              "      border-radius: 50%;\n",
              "      cursor: pointer;\n",
              "      display: none;\n",
              "      fill: #1967D2;\n",
              "      height: 32px;\n",
              "      padding: 0 0 0 0;\n",
              "      width: 32px;\n",
              "    }\n",
              "\n",
              "    .colab-df-convert:hover {\n",
              "      background-color: #E2EBFA;\n",
              "      box-shadow: 0px 1px 2px rgba(60, 64, 67, 0.3), 0px 1px 3px 1px rgba(60, 64, 67, 0.15);\n",
              "      fill: #174EA6;\n",
              "    }\n",
              "\n",
              "    .colab-df-buttons div {\n",
              "      margin-bottom: 4px;\n",
              "    }\n",
              "\n",
              "    [theme=dark] .colab-df-convert {\n",
              "      background-color: #3B4455;\n",
              "      fill: #D2E3FC;\n",
              "    }\n",
              "\n",
              "    [theme=dark] .colab-df-convert:hover {\n",
              "      background-color: #434B5C;\n",
              "      box-shadow: 0px 1px 3px 1px rgba(0, 0, 0, 0.15);\n",
              "      filter: drop-shadow(0px 1px 2px rgba(0, 0, 0, 0.3));\n",
              "      fill: #FFFFFF;\n",
              "    }\n",
              "  </style>\n",
              "\n",
              "    <script>\n",
              "      const buttonEl =\n",
              "        document.querySelector('#df-c0969ad8-90a8-4e53-ad26-88dd735c1990 button.colab-df-convert');\n",
              "      buttonEl.style.display =\n",
              "        google.colab.kernel.accessAllowed ? 'block' : 'none';\n",
              "\n",
              "      async function convertToInteractive(key) {\n",
              "        const element = document.querySelector('#df-c0969ad8-90a8-4e53-ad26-88dd735c1990');\n",
              "        const dataTable =\n",
              "          await google.colab.kernel.invokeFunction('convertToInteractive',\n",
              "                                                    [key], {});\n",
              "        if (!dataTable) return;\n",
              "\n",
              "        const docLinkHtml = 'Like what you see? Visit the ' +\n",
              "          '<a target=\"_blank\" href=https://colab.research.google.com/notebooks/data_table.ipynb>data table notebook</a>'\n",
              "          + ' to learn more about interactive tables.';\n",
              "        element.innerHTML = '';\n",
              "        dataTable['output_type'] = 'display_data';\n",
              "        await google.colab.output.renderOutput(dataTable, element);\n",
              "        const docLink = document.createElement('div');\n",
              "        docLink.innerHTML = docLinkHtml;\n",
              "        element.appendChild(docLink);\n",
              "      }\n",
              "    </script>\n",
              "  </div>\n",
              "\n",
              "\n",
              "<div id=\"df-126b7494-151a-4b08-a422-229898419ba5\">\n",
              "  <button class=\"colab-df-quickchart\" onclick=\"quickchart('df-126b7494-151a-4b08-a422-229898419ba5')\"\n",
              "            title=\"Suggest charts\"\n",
              "            style=\"display:none;\">\n",
              "\n",
              "<svg xmlns=\"http://www.w3.org/2000/svg\" height=\"24px\"viewBox=\"0 0 24 24\"\n",
              "     width=\"24px\">\n",
              "    <g>\n",
              "        <path d=\"M19 3H5c-1.1 0-2 .9-2 2v14c0 1.1.9 2 2 2h14c1.1 0 2-.9 2-2V5c0-1.1-.9-2-2-2zM9 17H7v-7h2v7zm4 0h-2V7h2v10zm4 0h-2v-4h2v4z\"/>\n",
              "    </g>\n",
              "</svg>\n",
              "  </button>\n",
              "\n",
              "<style>\n",
              "  .colab-df-quickchart {\n",
              "      --bg-color: #E8F0FE;\n",
              "      --fill-color: #1967D2;\n",
              "      --hover-bg-color: #E2EBFA;\n",
              "      --hover-fill-color: #174EA6;\n",
              "      --disabled-fill-color: #AAA;\n",
              "      --disabled-bg-color: #DDD;\n",
              "  }\n",
              "\n",
              "  [theme=dark] .colab-df-quickchart {\n",
              "      --bg-color: #3B4455;\n",
              "      --fill-color: #D2E3FC;\n",
              "      --hover-bg-color: #434B5C;\n",
              "      --hover-fill-color: #FFFFFF;\n",
              "      --disabled-bg-color: #3B4455;\n",
              "      --disabled-fill-color: #666;\n",
              "  }\n",
              "\n",
              "  .colab-df-quickchart {\n",
              "    background-color: var(--bg-color);\n",
              "    border: none;\n",
              "    border-radius: 50%;\n",
              "    cursor: pointer;\n",
              "    display: none;\n",
              "    fill: var(--fill-color);\n",
              "    height: 32px;\n",
              "    padding: 0;\n",
              "    width: 32px;\n",
              "  }\n",
              "\n",
              "  .colab-df-quickchart:hover {\n",
              "    background-color: var(--hover-bg-color);\n",
              "    box-shadow: 0 1px 2px rgba(60, 64, 67, 0.3), 0 1px 3px 1px rgba(60, 64, 67, 0.15);\n",
              "    fill: var(--button-hover-fill-color);\n",
              "  }\n",
              "\n",
              "  .colab-df-quickchart-complete:disabled,\n",
              "  .colab-df-quickchart-complete:disabled:hover {\n",
              "    background-color: var(--disabled-bg-color);\n",
              "    fill: var(--disabled-fill-color);\n",
              "    box-shadow: none;\n",
              "  }\n",
              "\n",
              "  .colab-df-spinner {\n",
              "    border: 2px solid var(--fill-color);\n",
              "    border-color: transparent;\n",
              "    border-bottom-color: var(--fill-color);\n",
              "    animation:\n",
              "      spin 1s steps(1) infinite;\n",
              "  }\n",
              "\n",
              "  @keyframes spin {\n",
              "    0% {\n",
              "      border-color: transparent;\n",
              "      border-bottom-color: var(--fill-color);\n",
              "      border-left-color: var(--fill-color);\n",
              "    }\n",
              "    20% {\n",
              "      border-color: transparent;\n",
              "      border-left-color: var(--fill-color);\n",
              "      border-top-color: var(--fill-color);\n",
              "    }\n",
              "    30% {\n",
              "      border-color: transparent;\n",
              "      border-left-color: var(--fill-color);\n",
              "      border-top-color: var(--fill-color);\n",
              "      border-right-color: var(--fill-color);\n",
              "    }\n",
              "    40% {\n",
              "      border-color: transparent;\n",
              "      border-right-color: var(--fill-color);\n",
              "      border-top-color: var(--fill-color);\n",
              "    }\n",
              "    60% {\n",
              "      border-color: transparent;\n",
              "      border-right-color: var(--fill-color);\n",
              "    }\n",
              "    80% {\n",
              "      border-color: transparent;\n",
              "      border-right-color: var(--fill-color);\n",
              "      border-bottom-color: var(--fill-color);\n",
              "    }\n",
              "    90% {\n",
              "      border-color: transparent;\n",
              "      border-bottom-color: var(--fill-color);\n",
              "    }\n",
              "  }\n",
              "</style>\n",
              "\n",
              "  <script>\n",
              "    async function quickchart(key) {\n",
              "      const quickchartButtonEl =\n",
              "        document.querySelector('#' + key + ' button');\n",
              "      quickchartButtonEl.disabled = true;  // To prevent multiple clicks.\n",
              "      quickchartButtonEl.classList.add('colab-df-spinner');\n",
              "      try {\n",
              "        const charts = await google.colab.kernel.invokeFunction(\n",
              "            'suggestCharts', [key], {});\n",
              "      } catch (error) {\n",
              "        console.error('Error during call to suggestCharts:', error);\n",
              "      }\n",
              "      quickchartButtonEl.classList.remove('colab-df-spinner');\n",
              "      quickchartButtonEl.classList.add('colab-df-quickchart-complete');\n",
              "    }\n",
              "    (() => {\n",
              "      let quickchartButtonEl =\n",
              "        document.querySelector('#df-126b7494-151a-4b08-a422-229898419ba5 button');\n",
              "      quickchartButtonEl.style.display =\n",
              "        google.colab.kernel.accessAllowed ? 'block' : 'none';\n",
              "    })();\n",
              "  </script>\n",
              "</div>\n",
              "\n",
              "  <div id=\"id_2097f3cb-3873-42eb-ba6e-edcecc87df64\">\n",
              "    <style>\n",
              "      .colab-df-generate {\n",
              "        background-color: #E8F0FE;\n",
              "        border: none;\n",
              "        border-radius: 50%;\n",
              "        cursor: pointer;\n",
              "        display: none;\n",
              "        fill: #1967D2;\n",
              "        height: 32px;\n",
              "        padding: 0 0 0 0;\n",
              "        width: 32px;\n",
              "      }\n",
              "\n",
              "      .colab-df-generate:hover {\n",
              "        background-color: #E2EBFA;\n",
              "        box-shadow: 0px 1px 2px rgba(60, 64, 67, 0.3), 0px 1px 3px 1px rgba(60, 64, 67, 0.15);\n",
              "        fill: #174EA6;\n",
              "      }\n",
              "\n",
              "      [theme=dark] .colab-df-generate {\n",
              "        background-color: #3B4455;\n",
              "        fill: #D2E3FC;\n",
              "      }\n",
              "\n",
              "      [theme=dark] .colab-df-generate:hover {\n",
              "        background-color: #434B5C;\n",
              "        box-shadow: 0px 1px 3px 1px rgba(0, 0, 0, 0.15);\n",
              "        filter: drop-shadow(0px 1px 2px rgba(0, 0, 0, 0.3));\n",
              "        fill: #FFFFFF;\n",
              "      }\n",
              "    </style>\n",
              "    <button class=\"colab-df-generate\" onclick=\"generateWithVariable('span_df')\"\n",
              "            title=\"Generate code using this dataframe.\"\n",
              "            style=\"display:none;\">\n",
              "\n",
              "  <svg xmlns=\"http://www.w3.org/2000/svg\" height=\"24px\"viewBox=\"0 0 24 24\"\n",
              "       width=\"24px\">\n",
              "    <path d=\"M7,19H8.4L18.45,9,17,7.55,7,17.6ZM5,21V16.75L18.45,3.32a2,2,0,0,1,2.83,0l1.4,1.43a1.91,1.91,0,0,1,.58,1.4,1.91,1.91,0,0,1-.58,1.4L9.25,21ZM18.45,9,17,7.55Zm-12,3A5.31,5.31,0,0,0,4.9,8.1,5.31,5.31,0,0,0,1,6.5,5.31,5.31,0,0,0,4.9,4.9,5.31,5.31,0,0,0,6.5,1,5.31,5.31,0,0,0,8.1,4.9,5.31,5.31,0,0,0,12,6.5,5.46,5.46,0,0,0,6.5,12Z\"/>\n",
              "  </svg>\n",
              "    </button>\n",
              "    <script>\n",
              "      (() => {\n",
              "      const buttonEl =\n",
              "        document.querySelector('#id_2097f3cb-3873-42eb-ba6e-edcecc87df64 button.colab-df-generate');\n",
              "      buttonEl.style.display =\n",
              "        google.colab.kernel.accessAllowed ? 'block' : 'none';\n",
              "\n",
              "      buttonEl.onclick = () => {\n",
              "        google.colab.notebook.generateWithVariable('span_df');\n",
              "      }\n",
              "      })();\n",
              "    </script>\n",
              "  </div>\n",
              "\n",
              "    </div>\n",
              "  </div>\n"
            ],
            "application/vnd.google.colaboratory.intrinsic+json": {
              "type": "dataframe",
              "variable_name": "span_df"
            }
          },
          "metadata": {},
          "execution_count": 16
        }
      ]
    },
    {
      "cell_type": "markdown",
      "source": [
        "To make things easy, we'll add an annotation to the first span on the list."
      ],
      "metadata": {
        "id": "1FVRsP3vznN2"
      }
    },
    {
      "cell_type": "code",
      "source": [
        "pd.set_option('display.max_colwidth', None)\n",
        "span_df.loc[span_df.index[0], ['attributes.input.value', 'attributes.output.value']]"
      ],
      "metadata": {
        "colab": {
          "base_uri": "https://localhost:8080/",
          "height": 216
        },
        "id": "QxE7Aso34-vb",
        "outputId": "78911838-1df4-4f5e-927f-37a6fee420f8"
      },
      "execution_count": null,
      "outputs": [
        {
          "output_type": "execute_result",
          "data": {
            "text/plain": [
              "attributes.input.value                                                                                                                                                                                                                                                                                                                                                                                                                                                                                          {\"text\": \"John, who was previously married to Sarah, now works under her at Tech Corp. Their daughter Emma was recently hired by Sarah's new husband Tom as his research assistant.\"}\n",
              "attributes.output.value    {\"relationships\": [{\"subject\": \"John\", \"relation\": \"ex-spouse\", \"object\": \"Sarah\"}, {\"subject\": \"Sarah\", \"relation\": \"ex-spouse\", \"object\": \"John\"}, {\"subject\": \"John\", \"relation\": \"works under\", \"object\": \"Sarah\"}, {\"subject\": \"Sarah\", \"relation\": \"boss of\", \"object\": \"John\"}, {\"subject\": \"Sarah\", \"relation\": \"mother\", \"object\": \"Emma\"}, {\"subject\": \"Emma\", \"relation\": \"daughter\", \"object\": \"Sarah\"}, {\"subject\": \"Tom\", \"relation\": \"husband\", \"object\": \"Sarah\"}, {\"subject\": \"Sarah\", \"relation\": \"wife\", \"object\": \"Tom\"}, {\"subject\": \"Tom\", \"relation\": \"boss of\", \"object\": \"Emma\"}, {\"subject\": \"Emma\", \"relation\": \"works for\", \"object\": \"Tom\"}]}\n",
              "Name: 713037dfe328196f, dtype: object"
            ],
            "text/html": [
              "<div>\n",
              "<style scoped>\n",
              "    .dataframe tbody tr th:only-of-type {\n",
              "        vertical-align: middle;\n",
              "    }\n",
              "\n",
              "    .dataframe tbody tr th {\n",
              "        vertical-align: top;\n",
              "    }\n",
              "\n",
              "    .dataframe thead th {\n",
              "        text-align: right;\n",
              "    }\n",
              "</style>\n",
              "<table border=\"1\" class=\"dataframe\">\n",
              "  <thead>\n",
              "    <tr style=\"text-align: right;\">\n",
              "      <th></th>\n",
              "      <th>713037dfe328196f</th>\n",
              "    </tr>\n",
              "  </thead>\n",
              "  <tbody>\n",
              "    <tr>\n",
              "      <th>attributes.input.value</th>\n",
              "      <td>{\"text\": \"John, who was previously married to Sarah, now works under her at Tech Corp. Their daughter Emma was recently hired by Sarah's new husband Tom as his research assistant.\"}</td>\n",
              "    </tr>\n",
              "    <tr>\n",
              "      <th>attributes.output.value</th>\n",
              "      <td>{\"relationships\": [{\"subject\": \"John\", \"relation\": \"ex-spouse\", \"object\": \"Sarah\"}, {\"subject\": \"Sarah\", \"relation\": \"ex-spouse\", \"object\": \"John\"}, {\"subject\": \"John\", \"relation\": \"works under\", \"object\": \"Sarah\"}, {\"subject\": \"Sarah\", \"relation\": \"boss of\", \"object\": \"John\"}, {\"subject\": \"Sarah\", \"relation\": \"mother\", \"object\": \"Emma\"}, {\"subject\": \"Emma\", \"relation\": \"daughter\", \"object\": \"Sarah\"}, {\"subject\": \"Tom\", \"relation\": \"husband\", \"object\": \"Sarah\"}, {\"subject\": \"Sarah\", \"relation\": \"wife\", \"object\": \"Tom\"}, {\"subject\": \"Tom\", \"relation\": \"boss of\", \"object\": \"Emma\"}, {\"subject\": \"Emma\", \"relation\": \"works for\", \"object\": \"Tom\"}]}</td>\n",
              "    </tr>\n",
              "  </tbody>\n",
              "</table>\n",
              "</div><br><label><b>dtype:</b> object</label>"
            ]
          },
          "metadata": {},
          "execution_count": 17
        }
      ]
    },
    {
      "cell_type": "markdown",
      "source": [
        "The function below takes a span_id, score, feedback and posts the annotation to Phoenix. Note the structure of the annotation payload."
      ],
      "metadata": {
        "id": "QUBEbMfk0AsN"
      }
    },
    {
      "cell_type": "code",
      "source": [
        "import httpx\n",
        "headers = {'api_key': os.environ[\"PHOENIX_API_KEY\"]}\n",
        "annotation_endpoint = \"https://app.phoenix.arize.com/v1/span_annotations?sync=false\"\n",
        "\n",
        "client = httpx.Client()\n",
        "\n",
        "def upload_feedback(span_id, score, feedback):\n",
        "  # format for annoatation payload\n",
        "  annotation_payload = {\n",
        "    \"data\": [\n",
        "        {\n",
        "            \"span_id\": span_id,\n",
        "            \"name\": \"correctness score out of 5\",\n",
        "            \"annotator_kind\": \"HUMAN\",\n",
        "            \"result\": {\n",
        "                       \"score\": score,\n",
        "                       \"explanation\": feedback\n",
        "                       }\n",
        "        }]}\n",
        "  client.post(\n",
        "      annotation_endpoint,\n",
        "      json=annotation_payload,\n",
        "      headers=headers\n",
        "      )\n"
      ],
      "metadata": {
        "id": "eoHNrpnKz4ik"
      },
      "execution_count": null,
      "outputs": []
    },
    {
      "cell_type": "markdown",
      "source": [
        "Sent the annotation and check that it appears in the UI."
      ],
      "metadata": {
        "id": "MfUduVwI2di2"
      }
    },
    {
      "cell_type": "code",
      "source": [
        "upload_feedback(span_id=span_df.index[0], score=5, feedback=\"This is completely correct\")"
      ],
      "metadata": {
        "id": "VWNT7iJ005xz"
      },
      "execution_count": null,
      "outputs": []
    },
    {
      "cell_type": "markdown",
      "source": [
        "## Capture feedback at inference time\n",
        "To capture feedback at inference time, we'll need to save the span_id we want to attach the annotation to. To enable this, I set up a wrapper function, `call_llm`, which returns the list of relationships and the span_id."
      ],
      "metadata": {
        "id": "0u0yE2vs-DSw"
      }
    },
    {
      "cell_type": "code",
      "source": [
        "from opentelemetry import trace\n",
        "tracer = trace.get_tracer(__name__)\n",
        "\n",
        "@tracer.start_as_current_span(name=\"UI Interaction\") # decorator to start a new span\n",
        "def call_llm(prompt):\n",
        "  \"\"\"Wrapper function to handle LLM call\"\"\"\n",
        "  span = trace.get_current_span()\n",
        "  span.set_attribute(\"openinference.span.kind\", \"chain\")\n",
        "  span.set_attribute(\"input.value\", prompt)\n",
        "  span_id = span.get_span_context().span_id.to_bytes(8, \"big\").hex()\n",
        "  response = module(text=prompt)\n",
        "  span.set_attribute(\"output.value\", str(response.relationships))\n",
        "  return response.relationships, span_id, span.set_status(trace.Status(trace.StatusCode.OK))\n"
      ],
      "metadata": {
        "id": "rtQz6WQHFwGK"
      },
      "execution_count": null,
      "outputs": []
    },
    {
      "cell_type": "code",
      "source": [
        "prompt = \"Eloise is Bob's sister and she's married to his nemesis George's brother in law.\"\n",
        "\n",
        "relationships, span_id, _ = call_llm(prompt)\n",
        "relationships"
      ],
      "metadata": {
        "colab": {
          "base_uri": "https://localhost:8080/"
        },
        "id": "1wbfwbgF4fSe",
        "outputId": "852e64b4-d3f0-46b0-a1ed-ce9a3a38b1c6"
      },
      "execution_count": null,
      "outputs": [
        {
          "output_type": "execute_result",
          "data": {
            "text/plain": [
              "[{'subject': 'Eloise', 'relation': 'sister', 'object': 'Bob'},\n",
              " {'subject': 'Bob', 'relation': 'sister', 'object': 'Eloise'},\n",
              " {'subject': 'Eloise',\n",
              "  'relation': 'married to',\n",
              "  'object': \"George's brother in law\"},\n",
              " {'subject': \"George's brother in law\",\n",
              "  'relation': 'married to',\n",
              "  'object': 'Eloise'},\n",
              " {'subject': 'Bob', 'relation': 'nemesis', 'object': 'George'},\n",
              " {'subject': 'George', 'relation': 'nemesis', 'object': 'Bob'}]"
            ]
          },
          "metadata": {},
          "execution_count": 21
        }
      ]
    },
    {
      "cell_type": "code",
      "source": [
        "upload_feedback(span_id, score=4, feedback=\"Mostly correct, except that Bob is Eloise's brother, not her sister\")"
      ],
      "metadata": {
        "id": "WSlKyua85fjH"
      },
      "execution_count": null,
      "outputs": []
    },
    {
      "cell_type": "markdown",
      "source": [
        "Here I utilised the decorator `tracer.start_as_current_span()` to start a new span when the function is called.  This enables me to capture the span_id and add attributes before the new span closes.  Note that the spans we have been seeing in previous steps will now appear as **child spans** to this new span, titled **UI interaction**.\n",
        "\n",
        "<img src=\"https://github.com/SarahOstermeier/Tutorial_Figures/blob/main/Screenshot_2.jpg?raw=true\" width=\"100%\">\n"
      ],
      "metadata": {
        "id": "_OvwS2Ms7c3M"
      }
    },
    {
      "cell_type": "markdown",
      "source": [
        "## Implement user feedback collection (Optional)\n",
        "\n",
        "More often than not, the complex AI use cases that require human feedback require expert annotation or feedback from end-users.\n",
        "\n",
        "This feedback is best collected directly from an interface when the user is interacting directly with the application.  This optional example demonstrates how one might structure such an applications to send traces and feedback to Phoenix.\n",
        "\n",
        "Run this cell and scroll down to the bottom to see the interface. Try creating your own prompts and give feedback on the responses."
      ],
      "metadata": {
        "id": "-bf05DY28fE5"
      }
    },
    {
      "cell_type": "code",
      "source": [
        "# Optional Cell\n",
        "\n",
        "import ipywidgets as widgets\n",
        "from IPython.display import display, HTML, clear_output\n",
        "\n",
        "# Store feedback in a list\n",
        "feedback_history = []\n",
        "current_response = None\n",
        "current_span_id = None\n",
        "\n",
        "def handle_prompt_submission(button):\n",
        "    \"\"\"Handle the initial prompt submission and show the LLM response\"\"\"\n",
        "    global current_response\n",
        "    global current_span_id\n",
        "\n",
        "    prompt = prompt_box.value\n",
        "    if not prompt:\n",
        "        display(HTML(\"<p style='color: red'>Please enter a prompt first.</p>\"))\n",
        "        return\n",
        "\n",
        "    # Get LLM response (replace with actual LLM call)\n",
        "    current_response, current_span_id, _ = call_llm(prompt)\n",
        "\n",
        "    # Clear output and show response with feedback options\n",
        "    clear_output()\n",
        "    setup_response_view(prompt, current_response)\n",
        "\n",
        "def handle_feedback_submission(button):\n",
        "    \"\"\"Handle the feedback submission\"\"\"\n",
        "    global current_response\n",
        "    global current_span_id\n",
        "\n",
        "    # Get values from form widgets\n",
        "    rating = rating_slider.value\n",
        "    feedback = feedback_box.value\n",
        "\n",
        "    # if not feedback:\n",
        "    #     display(HTML(\"<p style='color: red'>Please provide feedback before submitting.</p>\"))\n",
        "    #     return\n",
        "\n",
        "    # Save feedback\n",
        "    feedback_history.append({\n",
        "        'span_id': current_span_id,\n",
        "        'prompt': prompt_box.value,\n",
        "        'response': current_response,\n",
        "        'rating': rating,\n",
        "        'feedback': feedback\n",
        "    })\n",
        "\n",
        "    # Upload feedback to phoenix\n",
        "    upload_feedback(current_span_id, rating, feedback)\n",
        "\n",
        "    # Clear form and show confirmation\n",
        "    clear_output()\n",
        "    setup_initial_form()\n",
        "    display(HTML(\"<p style='color: green'>Feedback submitted successfully!</p>\"))\n",
        "    display_history()\n",
        "\n",
        "def get_star_display(rating):\n",
        "    \"\"\"Convert numeric rating to star display\"\"\"\n",
        "    return '★' * rating + '☆' * (5 - rating)\n",
        "\n",
        "def update_star_display(change):\n",
        "    \"\"\"Update the star display when slider value changes\"\"\"\n",
        "    rating_display.value = f\"Rating: {get_star_display(change.new)}\"\n",
        "\n",
        "def setup_initial_form():\n",
        "    \"\"\"Setup the initial prompt input form\"\"\"\n",
        "    global prompt_box, submit_prompt_button\n",
        "\n",
        "    print(\"Response & Feedback\")\n",
        "    print(\"-\" * 30)\n",
        "\n",
        "    # Create form elements\n",
        "    prompt_box = widgets.Textarea(\n",
        "        description='Prompt:',\n",
        "        placeholder='Enter your prompt here...',\n",
        "        layout={'width': '500px', 'height': '100px'}\n",
        "    )\n",
        "\n",
        "    submit_prompt_button = widgets.Button(description='Get Response')\n",
        "    submit_prompt_button.on_click(handle_prompt_submission)\n",
        "\n",
        "    # Display initial form\n",
        "    display(prompt_box)\n",
        "    display(submit_prompt_button)\n",
        "\n",
        "def setup_response_view(prompt, response):\n",
        "    \"\"\"Setup the response view with feedback options\"\"\"\n",
        "    global prompt_box, rating_slider, rating_display, feedback_box, submit_feedback_button\n",
        "\n",
        "    print(\"LLM Interaction & Feedback\")\n",
        "    print(\"-\" * 30)\n",
        "\n",
        "    # Show original prompt (read-only)\n",
        "    display(HTML(f\"<p><b>Your Prompt:</b><br>{prompt}</p>\"))\n",
        "\n",
        "    # Show LLM response\n",
        "    display(HTML(f\"<p><b>LLM Response:</b><br>{response}</p>\"))\n",
        "\n",
        "    print(\"\\nProvide Feedback:\")\n",
        "\n",
        "    # Create star rating widgets\n",
        "    rating_slider = widgets.IntSlider(\n",
        "        value=3,\n",
        "        min=1,\n",
        "        max=5,\n",
        "        step=1,\n",
        "        description='Move slider:',\n",
        "        style={'description_width': 'initial'}\n",
        "    )\n",
        "\n",
        "    rating_display = widgets.HTML(\n",
        "        value=f\"Rating: {get_star_display(rating_slider.value)}\"\n",
        "    )\n",
        "\n",
        "    # Connect the slider to the star display\n",
        "    rating_slider.observe(update_star_display, names='value')\n",
        "\n",
        "    feedback_box = widgets.Textarea(\n",
        "        description='Feedback:',\n",
        "        placeholder='Why did you give this rating?',\n",
        "        layout={'width': '500px', 'height': '100px'}\n",
        "    )\n",
        "\n",
        "    submit_feedback_button = widgets.Button(description='Submit Feedback')\n",
        "    submit_feedback_button.on_click(handle_feedback_submission)\n",
        "\n",
        "    # Store original prompt for feedback submission\n",
        "    prompt_box = widgets.Textarea(\n",
        "        value=prompt,\n",
        "        layout={'display': 'none'}\n",
        "    )\n",
        "\n",
        "    # Display feedback form\n",
        "    display(widgets.VBox([rating_slider, rating_display]))\n",
        "    display(feedback_box)\n",
        "    display(submit_feedback_button)\n",
        "\n",
        "    # Add option to start over without submitting feedback\n",
        "    new_prompt_button = widgets.Button(description='Start New Prompt')\n",
        "    new_prompt_button.on_click(lambda x: (clear_output(), setup_initial_form()))\n",
        "    display(new_prompt_button)\n",
        "\n",
        "def display_history():\n",
        "    \"\"\"Display feedback history\"\"\"\n",
        "    if feedback_history:\n",
        "        print(\"\\nFeedback History:\")\n",
        "        print(\"-\" * 30)\n",
        "        for i, entry in enumerate(feedback_history, 1):\n",
        "            print(f\"\\nEntry {i}:\")\n",
        "            print(f\"Prompt: {entry['prompt']}\")\n",
        "            print(f\"Response: {entry['response']}\")\n",
        "            print(f\"Rating: {get_star_display(entry['rating'])}\")\n",
        "            print(f\"Feedback: {entry['feedback']}\")\n",
        "            print(\"-\" * 30)\n",
        "\n",
        "# Initial setup\n",
        "setup_initial_form()"
      ],
      "metadata": {
        "colab": {
          "base_uri": "https://localhost:8080/",
          "height": 417,
          "referenced_widgets": [
            "f297ca81964c4c0c8e3ea74c0976ffe2",
            "51da1d93691442ce8b9680266cd9dc0f",
            "ffcf71b692fd4780ab9327159e963752",
            "9094a937d99e4a2982a61d3777127447",
            "22664338f6144a669cbb243ad5f8e424",
            "0901eae18cbc41c79f9acd882d82c2bf",
            "18a19bd4c86f4a41a611634a6ac47157",
            "4b0360e4eba74ac88ea934e10b1dd449",
            "8163be2f888d423c8d9aac2cd4c9e433",
            "47cf3e0178384e52bc48af292c1797a7",
            "2e59b18c98484eeab9851d64fe9f9f9c",
            "87365f1a1aca4a27a56a643d4b14268f",
            "df7dbfad3d844cca8f28cd0c157c2167",
            "9afddc4e6ab044d4829e4d8d61ba3b75",
            "ed1fc16179944078a947003148f84cc8",
            "2cbf947d97674089b10015f83ef38c6d",
            "9fef39c6c7eb4756a12598b3baed6be2",
            "b29f3c17b1d749ffafbd266a338de0b5",
            "09869abfbc3b4db9aca8bbd212d4e88f",
            "9beda550531f4c20bf718909c45e3b64",
            "e22f496a009d40f9920f9be234cc1af2",
            "87cc624042c448bb89d133d9bd4b2a81",
            "f5a2f42905994d18b744baa420bfd06f",
            "c06723833c9e4493aa3d493dee5e6fb1",
            "a637af0726d249d7b8d0707d25787a15",
            "c6af17b6ae224d5688db8b97c87fe143",
            "a9713760e58946b0ad3138ac181812fc",
            "279ec10b4ce9439fb338d31c3e8fdfb8",
            "50ba5ab12d8246d8b3ae367e319dbfd6"
          ]
        },
        "id": "qGSDVQh6jlvA",
        "outputId": "d3c9dd43-b052-4ba9-c021-006ded52e2fd"
      },
      "execution_count": null,
      "outputs": [
        {
          "output_type": "stream",
          "name": "stdout",
          "text": [
            "Response & Feedback\n",
            "------------------------------\n"
          ]
        },
        {
          "output_type": "display_data",
          "data": {
            "text/plain": [
              "Textarea(value='', description='Prompt:', layout=Layout(height='100px', width='500px'), placeholder='Enter you…"
            ],
            "application/vnd.jupyter.widget-view+json": {
              "version_major": 2,
              "version_minor": 0,
              "model_id": "c06723833c9e4493aa3d493dee5e6fb1"
            }
          },
          "metadata": {}
        },
        {
          "output_type": "display_data",
          "data": {
            "text/plain": [
              "Button(description='Get Response', style=ButtonStyle())"
            ],
            "application/vnd.jupyter.widget-view+json": {
              "version_major": 2,
              "version_minor": 0,
              "model_id": "a9713760e58946b0ad3138ac181812fc"
            }
          },
          "metadata": {}
        },
        {
          "output_type": "display_data",
          "data": {
            "text/plain": [
              "<IPython.core.display.HTML object>"
            ],
            "text/html": [
              "<p style='color: green'>Feedback submitted successfully!</p>"
            ]
          },
          "metadata": {}
        },
        {
          "output_type": "stream",
          "name": "stdout",
          "text": [
            "\n",
            "Feedback History:\n",
            "------------------------------\n",
            "\n",
            "Entry 1:\n",
            "Prompt: Harriet was my first grade teacher, but now she is my dad's wife and my half-sister's mom.\n",
            "Response: [{'subject': 'Harriet', 'relation': 'teacher', 'object': 'me'}, {'subject': 'me', 'relation': 'student', 'object': 'Harriet'}, {'subject': 'Harriet', 'relation': 'wife', 'object': 'my dad'}, {'subject': 'my dad', 'relation': 'husband', 'object': 'Harriet'}, {'subject': 'Harriet', 'relation': 'mother', 'object': 'my half-sister'}, {'subject': 'my half-sister', 'relation': 'daughter', 'object': 'Harriet'}]\n",
            "Rating: ★★★☆☆\n",
            "Feedback: ok\n",
            "------------------------------\n"
          ]
        }
      ]
    },
    {
      "cell_type": "markdown",
      "source": [
        "# Create a Golden Dataset in the Phoenix UI"
      ],
      "metadata": {
        "id": "tqp-f_ahZNci"
      }
    },
    {
      "cell_type": "markdown",
      "source": [
        "Create a new dataset in the Phoenix UI. This is where you will add samples to create your golden dataset.\n",
        "\n",
        "<img src=\"https://github.com/SarahOstermeier/Tutorial_Figures/blob/main/REC-20250205025945.GIF?raw=true\" />\n"
      ],
      "metadata": {
        "id": "McCh7jdDIjJ6"
      }
    },
    {
      "cell_type": "markdown",
      "source": [
        "Back in the default project, we can select some annotated samples to add to our golden dataset. After clicking into the dataset and selecting a sample, note that we can still link back to the original trace.\n",
        "\n",
        "<img src=\"https://github.com/SarahOstermeier/Tutorial_Figures/blob/main/REC-20250205031001.GIF?raw=true\"/>\n"
      ],
      "metadata": {
        "id": "v4TYKZyOLEg-"
      }
    },
    {
      "cell_type": "markdown",
      "source": [
        "# Next Steps\n",
        "\n",
        "Congratulations on completing this tutorial! Here's how you can further leverage Phoenix to improve your GenAI applications:\n",
        "\n",
        "**Enhance Your Evaluation Pipeline**\n",
        "* Implement Phoenix [Evals](https://docs.arize.com/phoenix/evaluation/llm-evals) to assess model performance\n",
        "* Design and deploy [custom evaluation metrics](https://docs.arize.com/phoenix/evaluation/concepts-evals/building-your-own-evals)\n",
        "* Compare automated evaluation scores with human annotations on the Phoenix UI\n",
        "* Validate evaluator reliability and accuracy\n",
        "\n",
        "**Experiment with Models and Prompts**\n",
        "\n",
        "* Use your Golden Dataset to benchmark different models (try benchmarking the Mistral Model and the DeepSeek Model used in this tutorial)\n",
        "* Test various prompt engineering strategies (try leveraging DSPy for systematic prompt optimization)\n",
        "* Challenge your models with more complex scenarios (start with the harder relation dataset in the cell below)\n",
        "* Run [Experiments](https://docs.arize.com/phoenix/datasets-and-experiments/how-to-experiments/) on Phoenix to track and analyze performance variations\n",
        "\n"
      ],
      "metadata": {
        "id": "D2-cTTq9MrQN"
      }
    },
    {
      "cell_type": "code",
      "source": [
        "relation_dataset_hard = [\n",
        "    \"At the prestigious ballet academy, principal dancer Isabella mentors young prodigy Oliver, unaware that he is her biological son whom her twin sister gave up for adoption. Oliver's adoptive mother Margaret is the academy's benefactor and Isabella's former understudy, while his adoptive sister Lily studies under Isabella's daughter from her first marriage, creating an intricate web of personal and professional relationships.\"\n",
        "\n",
        "    \"In the competitive world of academia, Dr. Chen mentors both Dr. Williams and Dr. Rodriguez, despite the fact that Dr. Williams was originally Dr. Chen's advisor during her early PhD years. Dr. Rodriguez, who is married to Dr. Chen's former research partner Dr. Kim, frequently collaborates with both of them on groundbreaking papers.\",\n",
        "\n",
        "    \"After James discovered he was adopted, he learned that his biological father Thomas was actually his adoptive mother Patricia's first cousin, making his childhood friend Emma - Thomas's daughter from another marriage - his half-sister. Patricia's current husband Robert has always treated James as his own son, even after the revelation.\",\n",
        "\n",
        "    \"During the company merger, Alice found herself reporting to Bob, who used to be her intern five years ago. The situation became more complex when Bob's wife Carol, Alice's college roommate, joined the same department as a senior consultant, while their daughter Diana started as a summer intern under Alice's supervision.\",\n",
        "\n",
        "    \"At the family reunion, Emily introduced her stepbrother Mike's ex-wife Jessica, who is now dating Emily's biological brother Tom, to her half-sister Sarah's adopted daughter Rachel. Rachel, as it turns out, is the biological niece of Jessica's first husband.\",\n",
        "\n",
        "    \"Professor Thompson works closely with his former student Dr. Anderson on quantum physics research, while simultaneously serving as the thesis advisor to Dr. Anderson's wife, Lisa. Their academic collaboration became more intricate when Professor Thompson's daughter Katie joined Dr. Anderson's research team as a postdoctoral fellow.\",\n",
        "\n",
        "    \"In the small theater company, director Mark cast his ex-wife Jennifer as the lead, opposite her current fiancé Steve, who happens to be Mark's cousin. The stage manager, Paula, who is Steve's sister and Jennifer's soon-to-be sister-in-law, tries to maintain professional relationships with all parties involved.\",\n",
        "\n",
        "    \"Detective Johnson is investigating a complex case where the victim, Richard, was found in the home of his business partner's wife Susan, who is also his ex-fiancée. The prime suspect is Susan's current husband Michael, who recently discovered that his own brother James had been secretly dating Richard's daughter from his first marriage.\",\n",
        "\n",
        "    \"At the law firm, senior partner David mentors associate Emma, unaware that she is his biological daughter given up for adoption thirty years ago by his college girlfriend Sarah, who is now the firm's biggest client. Emma's adoptive brother Jack recently joined the firm as a junior partner, reporting directly to Sarah.\",\n",
        "\n",
        "    \"In the hospital hierarchy, Dr. Patel supervises Dr. Thompson, whose wife Dr. Chen is actually Dr. Patel's attending physician. The situation becomes more complicated when Dr. Patel's son joins the hospital as a resident under Dr. Chen's supervision, while dating Dr. Thompson's sister, a nurse in the same ward.\",\n",
        "\n",
        "    \"Laura discovers that her mother's new husband James is the father of her childhood best friend Alex, making them step-siblings. Meanwhile, Alex's maternal cousin Sophie is engaged to Laura's biological father's son from his second marriage, creating an intricate web of future in-law relationships.\",\n",
        "\n",
        "    \"In the startup incubator, mentor Kevin guides entrepreneurs Maya and Raj, unaware that Maya is his half-sister from his father's secret second family. Raj, who is Kevin's former college roommate, is now co-parenting with Maya's cousin Elena after their recent divorce, while Elena works as Kevin's executive assistant.\",\n",
        "\n",
        "    \"During the charity gala, board member Victoria introduced her surrogate mother Sarah to her biological mother Rachel, who serves as the organization's legal counsel. Sarah's daughter Emma, who was raised alongside Victoria, recently married Rachel's nephew Nicholas, making the already complex family dynamics even more intertwined.\",\n",
        "\n",
        "    \"Coach Anderson trains both the Wilson twins, whose mother Janet used to be his doubles partner before marrying his brother. Janet's new stepdaughter from her second marriage, Melissa, joined the tennis academy as an assistant coach, working directly under Coach Anderson while dating his son.\",\n",
        "\n",
        "    \"In the political campaign office, campaign manager Peter works with his former mentor Sandra, who is now his stepdaughter's mother-in-law. Sandra's son Michael, who is married to Peter's stepdaughter, runs the social media team, while his ex-wife Rebecca serves as the candidate's chief strategist.\",\n",
        "\n",
        "    \"The documentary follows filmmaker Hannah as she uncovers that her subject, renowned artist Marcus, is actually her biological father's identical twin, making him her uncle. Marcus's protégé Claire, who is engaged to Hannah's half-brother from her mother's second marriage, helps navigate the complex family dynamics during filming.\",\n",
        "\n",
        "    \"At the family-owned restaurant, head chef Antonio works alongside his former stepson Marco, whose mother Lisa was Antonio's second wife. Marco's new sous chef is his step-cousin Emma, Antonio's current wife's niece, who is dating Antonio's biological son from his first marriage.\",\n",
        "\n",
        "    \"Graduate student Sophia collaborates on research with Professor Yang, unaware that he was her late mother's fiancé before she married Sophia's father. The project team includes Professor Yang's current wife's daughter from her first marriage, who is also Sophia's childhood friend and soon-to-be sister-in-law.\",\n",
        "\n",
        "    \"In the symphony orchestra, conductor Richard mentors young violinist Amy, whose mother was Richard's first love before she married his best friend Thomas. Amy's stepbrother from her father's second marriage is the orchestra's new concert master, creating tension as he dates Richard's daughter from his current marriage.\",\n",
        "\n",
        "    \"Social worker Helen counsels troubled teen Jake, only to discover he is her adopted brother's biological son with her husband's sister, making him both her nephew and brother-in-law's nephew. Jake's current foster mother is Helen's cousin, who was previously married to Helen's adoptive father, adding another layer to their professional relationship.\"\n",
        "]"
      ],
      "metadata": {
        "id": "aeG5oju2qnQ5"
      },
      "execution_count": null,
      "outputs": []
    },
    {
      "cell_type": "markdown",
      "source": [
        "# LLM Usage Disclosure\n",
        "\n",
        "The following LLM-based assistants were used in the development of this notebook:\n",
        "\n",
        "* Claude 3.5 Sonnet\n",
        "*In-notebook Gemini code assistant\n",
        "\n",
        "These LLMs contributed to:\n",
        "\n",
        "* Generation of prompt lists\n",
        "* Development of the Response & Feedback interface\n",
        "* Code debugging assistance\n",
        "* Proofreading, minor text editing and formatting\n",
        "\n",
        "## Authorship\n",
        "All core components, concepts, and technical implementation of this notebook were authored by Sarah Ostermeier. LLM assistance was limited to the specific tasks listed above.\n"
      ],
      "metadata": {
        "id": "KdZzVVlDL0m4"
      }
    }
  ]
}